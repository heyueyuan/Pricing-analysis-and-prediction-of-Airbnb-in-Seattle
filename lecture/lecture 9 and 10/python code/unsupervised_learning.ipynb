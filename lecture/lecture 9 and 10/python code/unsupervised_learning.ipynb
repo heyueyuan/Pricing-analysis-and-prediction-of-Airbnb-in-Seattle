{
 "cells": [
  {
   "cell_type": "markdown",
   "metadata": {},
   "source": [
    "# Unsupervised learning"
   ]
  },
  {
   "cell_type": "code",
   "execution_count": 1,
   "metadata": {},
   "outputs": [],
   "source": [
    "from pyspark.ml import feature\n",
    "from pyspark.ml import clustering\n",
    "from pyspark.ml import Pipeline\n",
    "from pyspark.sql import functions as fn\n",
    "import numpy as np\n",
    "from pyspark.sql import SparkSession\n",
    "from pyspark.ml import feature, regression, evaluation, Pipeline\n",
    "from pyspark.sql import functions as fn, Row\n",
    "import matplotlib.pyplot as plt\n",
    "import pandas as pd\n",
    "\n",
    "# seting master(\"local[*]\") enables multicore processing on all available logical cores on your machine\n",
    "spark = SparkSession.builder.master(\"local[*]\").getOrCreate()\n",
    "sc = spark.sparkContext"
   ]
  },
  {
   "cell_type": "markdown",
   "metadata": {},
   "source": [
    "# PCA example with diabetes dataset"
   ]
  },
  {
   "cell_type": "code",
   "execution_count": 3,
   "metadata": {},
   "outputs": [],
   "source": [
    "# we will use pandas to display the data nicely\n",
    "datasource = pd.read_csv('http://www4.stat.ncsu.edu/~boos/var.select/diabetes.tab.txt', delimiter='\\t')\n",
    "datasource.columns = ['age', 'sex', 'bmi', 'map', 'tc', 'ldl', 'hdl', 'tch', 'ltg', 'glu', 'disease_progression']\n",
    "diabetes_df = spark.createDataFrame(datasource)"
   ]
  },
  {
   "cell_type": "code",
   "execution_count": 4,
   "metadata": {},
   "outputs": [
    {
     "name": "stdout",
     "output_type": "stream",
     "text": [
      "datasource: (442, 11)\n"
     ]
    },
    {
     "data": {
      "text/plain": [
       "DataFrame[age: bigint, sex: bigint, bmi: double, map: double, tc: bigint, ldl: double, hdl: double, tch: double, ltg: double, glu: bigint, disease_progression: bigint]"
      ]
     },
     "execution_count": 4,
     "metadata": {},
     "output_type": "execute_result"
    }
   ],
   "source": [
    "print(\"datasource:\", datasource.shape)\n",
    "diabetes_df"
   ]
  },
  {
   "cell_type": "markdown",
   "metadata": {},
   "source": [
    "## Build a pipeline"
   ]
  },
  {
   "cell_type": "code",
   "execution_count": 5,
   "metadata": {},
   "outputs": [],
   "source": [
    "pipeline_diabetes = Pipeline(stages=[\n",
    "    # vector assembler concatenates the specified input cols into vectors in the specified output col \n",
    "    feature.VectorAssembler(inputCols=['age', 'sex', 'bmi', 'map', 'tc', 'ldl', 'hdl', 'tch', 'ltg', 'glu'],\n",
    "                           outputCol='features'),\n",
    "    feature.StandardScaler(withMean=True,\n",
    "                           inputCol='features', outputCol='zfeatures'),\n",
    "    # build a principal component object with the same number of components as features (10)\n",
    "    feature.PCA(k=10, inputCol='zfeatures', outputCol='scores')\n",
    "]).fit(diabetes_df)"
   ]
  },
  {
   "cell_type": "markdown",
   "metadata": {},
   "source": [
    "The `loadings` array are the loadings in ISLR equation 10.1.  The loadings are the coefficients in equation 10.1 that are used to perform the linear combination of column vectors in the dataset.  The linear combination of column vectors forms a principal component where each principal component captures a degree of variance in the data.  The first principal component captures the highest degree of variance, the 2nd principal component captures the next highest degree of variance in an orthoganal direction, etc.  <br> <br>\n",
    "Each loading vector represents a specific direction in the data set's p dimensional space (where p is the number of features) which captures variance.  The direction of the loading vector associated with the first principal component represents the direction which captures the most variance in the data.  The loading vector associated with the 2nd principal component is orthogonal to the 1st component and captures the 2nd most varinace, etc."
   ]
  },
  {
   "cell_type": "code",
   "execution_count": 6,
   "metadata": {},
   "outputs": [],
   "source": [
    "loadings = pipeline_diabetes.stages[-1].pc.toArray()"
   ]
  },
  {
   "cell_type": "code",
   "execution_count": 83,
   "metadata": {
    "scrolled": true
   },
   "outputs": [
    {
     "name": "stdout",
     "output_type": "stream",
     "text": [
      "loadings.shape (10, 10)\n",
      "[-0.2164309  -0.18696688 -0.30316216 -0.27173773 -0.34325511 -0.35186068\n",
      "  0.28243681 -0.4288337  -0.37861802 -0.32218296]\n"
     ]
    }
   ],
   "source": [
    "print(\"loadings.shape\", loadings.shape)\n",
    "\n",
    "# print the first column of the loading array - the first principal component\n",
    "print(loadings[:,0])"
   ]
  },
  {
   "cell_type": "markdown",
   "metadata": {},
   "source": [
    "The proportion of explained variance associated with each of the principal components is found in the explainedVariance attribute of the PCA object.  The explained variance shows the percentage of variance captured by each of the principal components.  For example, the first component captures 40.24 percent of the total variance in the diabetes dataset.  The 2nd component captures 14.92 percent of the total variance."
   ]
  },
  {
   "cell_type": "code",
   "execution_count": 8,
   "metadata": {
    "scrolled": true
   },
   "outputs": [
    {
     "data": {
      "text/plain": [
       "DenseVector([0.4024, 0.1492, 0.1206, 0.0955, 0.0662, 0.0603, 0.0537, 0.0434, 0.0078, 0.0009])"
      ]
     },
     "execution_count": 8,
     "metadata": {},
     "output_type": "execute_result"
    }
   ],
   "source": [
    "pipeline_diabetes.stages[-1].explainedVariance"
   ]
  },
  {
   "cell_type": "markdown",
   "metadata": {},
   "source": [
    "Note that if we sum the explained variance vector that it sums to 1 (or 100%, or very very close to 100%)."
   ]
  },
  {
   "cell_type": "code",
   "execution_count": 9,
   "metadata": {},
   "outputs": [
    {
     "data": {
      "text/plain": [
       "0.9999999999999998"
      ]
     },
     "execution_count": 9,
     "metadata": {},
     "output_type": "execute_result"
    }
   ],
   "source": [
    "sum(pipeline_diabetes.stages[-1].explainedVariance)"
   ]
  },
  {
   "cell_type": "markdown",
   "metadata": {},
   "source": [
    "The cell below generates a \"scree polot\" using the explainedVariance attribute.  See ISLR figure 10.4."
   ]
  },
  {
   "cell_type": "code",
   "execution_count": 10,
   "metadata": {},
   "outputs": [
    {
     "data": {
      "text/plain": [
       "Text(0, 0.5, 'Proportion Variance Explained')"
      ]
     },
     "execution_count": 10,
     "metadata": {},
     "output_type": "execute_result"
    },
    {
     "data": {
      "image/png": "[encoded data removed]",
      "text/plain": [
       "<Figure size 432x288 with 1 Axes>"
      ]
     },
     "metadata": {
      "needs_background": "light"
     },
     "output_type": "display_data"
    }
   ],
   "source": [
    "plt.figure()\n",
    "explained_var = pipeline_diabetes.stages[-1].explainedVariance\n",
    "plt.plot(np.arange(1, len(explained_var)+1), explained_var)\n",
    "plt.title(\"Diabetes Dataset Scree Plot\")\n",
    "plt.xlabel(\"Principal Component\")\n",
    "plt.ylabel(\"Proportion Variance Explained\")"
   ]
  },
  {
   "cell_type": "raw",
   "metadata": {},
   "source": [
    "Here is another way of looking at the explained variance - plot the cumulative variance vs. the principal components.  See ISLR figure 10.4."
   ]
  },
  {
   "cell_type": "code",
   "execution_count": 11,
   "metadata": {},
   "outputs": [
    {
     "data": {
      "text/plain": [
       "Text(0, 0.5, 'Cumulative Sum of Variance Explained')"
      ]
     },
     "execution_count": 11,
     "metadata": {},
     "output_type": "execute_result"
    },
    {
     "data": {
      "image/png": "[encoded data removed]",
      "text/plain": [
       "<Figure size 432x288 with 1 Axes>"
      ]
     },
     "metadata": {
      "needs_background": "light"
     },
     "output_type": "display_data"
    }
   ],
   "source": [
    "cum_sum = np.cumsum(explained_var)\n",
    "plt.figure()\n",
    "plt.plot(np.arange(1, len(explained_var)+1), cum_sum)\n",
    "plt.title(\"Diabetes Dataset Cumulative Sum of Variance Explained\")\n",
    "plt.xlabel(\"Cumulative Components\")\n",
    "plt.ylabel(\"Cumulative Sum of Variance Explained\")"
   ]
  },
  {
   "cell_type": "markdown",
   "metadata": {},
   "source": [
    "Execute the diabetes pipeline and show the first row of standardized features and PCA scores.  The \"scores\" are like ISLR equation 10.2.  The scores are produced by projecting the data observations onto the loading vectors.  A projection is performed by multiplying the loading vector by the data observations which \"projects\" the observation in the direction of the loading vector. "
   ]
  },
  {
   "cell_type": "code",
   "execution_count": 12,
   "metadata": {
    "scrolled": false
   },
   "outputs": [
    {
     "name": "stdout",
     "output_type": "stream",
     "text": [
      "[Row(zfeatures=DenseVector([0.7996, 1.0643, 1.2956, 0.4593, -0.9287, -0.7312, -0.9114, -0.0544, 0.4181, -0.3706]), scores=DenseVector([-0.5865, -1.9446, 0.5885, 0.0827, 0.2564, -1.0101, -0.1796, 0.7566, 0.1809, 0.0489]))]\n"
     ]
    },
    {
     "data": {
      "text/html": [
       "<div>\n",
       "<style scoped>\n",
       "    .dataframe tbody tr th:only-of-type {\n",
       "        vertical-align: middle;\n",
       "    }\n",
       "\n",
       "    .dataframe tbody tr th {\n",
       "        vertical-align: top;\n",
       "    }\n",
       "\n",
       "    .dataframe thead th {\n",
       "        text-align: right;\n",
       "    }\n",
       "</style>\n",
       "<table border=\"1\" class=\"dataframe\">\n",
       "  <thead>\n",
       "    <tr style=\"text-align: right;\">\n",
       "      <th></th>\n",
       "      <th>age</th>\n",
       "      <th>sex</th>\n",
       "      <th>bmi</th>\n",
       "      <th>map</th>\n",
       "      <th>tc</th>\n",
       "      <th>ldl</th>\n",
       "      <th>hdl</th>\n",
       "      <th>tch</th>\n",
       "      <th>ltg</th>\n",
       "      <th>glu</th>\n",
       "      <th>disease_progression</th>\n",
       "      <th>features</th>\n",
       "      <th>zfeatures</th>\n",
       "      <th>scores</th>\n",
       "    </tr>\n",
       "  </thead>\n",
       "  <tbody>\n",
       "    <tr>\n",
       "      <td>0</td>\n",
       "      <td>59</td>\n",
       "      <td>2</td>\n",
       "      <td>32.1</td>\n",
       "      <td>101.0</td>\n",
       "      <td>157</td>\n",
       "      <td>93.2</td>\n",
       "      <td>38.0</td>\n",
       "      <td>4.0</td>\n",
       "      <td>4.8598</td>\n",
       "      <td>87</td>\n",
       "      <td>151</td>\n",
       "      <td>[59.0, 2.0, 32.1, 101.0, 157.0, 93.2, 38.0, 4....</td>\n",
       "      <td>[0.7995940351018838, 1.0642824935361896, 1.295...</td>\n",
       "      <td>[-0.5865345004628008, -1.9446286568771163, 0.5...</td>\n",
       "    </tr>\n",
       "    <tr>\n",
       "      <td>1</td>\n",
       "      <td>48</td>\n",
       "      <td>1</td>\n",
       "      <td>21.6</td>\n",
       "      <td>87.0</td>\n",
       "      <td>183</td>\n",
       "      <td>103.2</td>\n",
       "      <td>70.0</td>\n",
       "      <td>3.0</td>\n",
       "      <td>3.8918</td>\n",
       "      <td>69</td>\n",
       "      <td>75</td>\n",
       "      <td>[48.0, 1.0, 21.6, 87.0, 183.0, 103.2, 70.0, 3....</td>\n",
       "      <td>[-0.039522347083602145, -0.937474366646771, -1...</td>\n",
       "      <td>[2.8284203725740173, 1.3705287266001895, 0.027...</td>\n",
       "    </tr>\n",
       "    <tr>\n",
       "      <td>2</td>\n",
       "      <td>72</td>\n",
       "      <td>2</td>\n",
       "      <td>30.5</td>\n",
       "      <td>93.0</td>\n",
       "      <td>156</td>\n",
       "      <td>93.6</td>\n",
       "      <td>41.0</td>\n",
       "      <td>4.0</td>\n",
       "      <td>4.6728</td>\n",
       "      <td>85</td>\n",
       "      <td>141</td>\n",
       "      <td>[72.0, 2.0, 30.5, 93.0, 156.0, 93.6, 41.0, 4.0...</td>\n",
       "      <td>[1.7912770322301852, 1.0642824935361896, 0.933...</td>\n",
       "      <td>[-0.2718205368550441, -1.6330507612915226, 0.7...</td>\n",
       "    </tr>\n",
       "    <tr>\n",
       "      <td>3</td>\n",
       "      <td>24</td>\n",
       "      <td>1</td>\n",
       "      <td>25.3</td>\n",
       "      <td>84.0</td>\n",
       "      <td>198</td>\n",
       "      <td>131.4</td>\n",
       "      <td>40.0</td>\n",
       "      <td>5.0</td>\n",
       "      <td>4.8903</td>\n",
       "      <td>89</td>\n",
       "      <td>206</td>\n",
       "      <td>[24.0, 1.0, 25.3, 84.0, 198.0, 131.4, 40.0, 5....</td>\n",
       "      <td>[-1.8703217263973897, -0.937474366646771, -0.2...</td>\n",
       "      <td>[-0.04922536519991402, 0.3818453424540574, -2....</td>\n",
       "    </tr>\n",
       "    <tr>\n",
       "      <td>4</td>\n",
       "      <td>50</td>\n",
       "      <td>1</td>\n",
       "      <td>23.0</td>\n",
       "      <td>101.0</td>\n",
       "      <td>192</td>\n",
       "      <td>125.4</td>\n",
       "      <td>52.0</td>\n",
       "      <td>4.0</td>\n",
       "      <td>4.2905</td>\n",
       "      <td>80</td>\n",
       "      <td>135</td>\n",
       "      <td>[50.0, 1.0, 23.0, 101.0, 192.0, 125.4, 52.0, 4...</td>\n",
       "      <td>[0.11304426785921348, -0.937474366646771, -0.7...</td>\n",
       "      <td>[0.7555651902794538, 0.8110412184450315, -0.05...</td>\n",
       "    </tr>\n",
       "  </tbody>\n",
       "</table>\n",
       "</div>"
      ],
      "text/plain": [
       "   age  sex   bmi    map   tc    ldl   hdl  tch     ltg  glu  \\\n",
       "0   59    2  32.1  101.0  157   93.2  38.0  4.0  4.8598   87   \n",
       "1   48    1  21.6   87.0  183  103.2  70.0  3.0  3.8918   69   \n",
       "2   72    2  30.5   93.0  156   93.6  41.0  4.0  4.6728   85   \n",
       "3   24    1  25.3   84.0  198  131.4  40.0  5.0  4.8903   89   \n",
       "4   50    1  23.0  101.0  192  125.4  52.0  4.0  4.2905   80   \n",
       "\n",
       "   disease_progression                                           features  \\\n",
       "0                  151  [59.0, 2.0, 32.1, 101.0, 157.0, 93.2, 38.0, 4....   \n",
       "1                   75  [48.0, 1.0, 21.6, 87.0, 183.0, 103.2, 70.0, 3....   \n",
       "2                  141  [72.0, 2.0, 30.5, 93.0, 156.0, 93.6, 41.0, 4.0...   \n",
       "3                  206  [24.0, 1.0, 25.3, 84.0, 198.0, 131.4, 40.0, 5....   \n",
       "4                  135  [50.0, 1.0, 23.0, 101.0, 192.0, 125.4, 52.0, 4...   \n",
       "\n",
       "                                           zfeatures  \\\n",
       "0  [0.7995940351018838, 1.0642824935361896, 1.295...   \n",
       "1  [-0.039522347083602145, -0.937474366646771, -1...   \n",
       "2  [1.7912770322301852, 1.0642824935361896, 0.933...   \n",
       "3  [-1.8703217263973897, -0.937474366646771, -0.2...   \n",
       "4  [0.11304426785921348, -0.937474366646771, -0.7...   \n",
       "\n",
       "                                              scores  \n",
       "0  [-0.5865345004628008, -1.9446286568771163, 0.5...  \n",
       "1  [2.8284203725740173, 1.3705287266001895, 0.027...  \n",
       "2  [-0.2718205368550441, -1.6330507612915226, 0.7...  \n",
       "3  [-0.04922536519991402, 0.3818453424540574, -2....  \n",
       "4  [0.7555651902794538, 0.8110412184450315, -0.05...  "
      ]
     },
     "metadata": {},
     "output_type": "display_data"
    }
   ],
   "source": [
    "print(pipeline_diabetes.transform(diabetes_df).select('zfeatures', 'scores').take(1))\n",
    "display(pipeline_diabetes.transform(diabetes_df).toPandas().head())"
   ]
  },
  {
   "cell_type": "markdown",
   "metadata": {},
   "source": [
    "Assign the first row of standardized features to the variable `z`. "
   ]
  },
  {
   "cell_type": "code",
   "execution_count": 13,
   "metadata": {},
   "outputs": [
    {
     "name": "stdout",
     "output_type": "stream",
     "text": [
      "[0.7995940351018838,1.0642824935361896,1.2956203368923545,0.4593200957947719,-0.9286934669133657,-0.7312360195916786,-0.911417758692523,-0.054437501961848156,0.41805720957971554,-0.37056862835587934]\n"
     ]
    }
   ],
   "source": [
    "z = pipeline_diabetes.transform(diabetes_df).select('zfeatures', 'scores').first()['zfeatures']\n",
    "print(z)"
   ]
  },
  {
   "cell_type": "markdown",
   "metadata": {},
   "source": [
    "The purpose of the next cell is to show that if we multiply the first loading vector by the first observation row we will obtain the same score which we extracted from the pipeline above.  The matrix dot product of a standardized observation with the loadings vector projects the observation onto the loading vector (see equation 10.2 in ISLR).  Also note that the resulting score is equal to the score for the first row computed by the pipeline above."
   ]
  },
  {
   "cell_type": "code",
   "execution_count": 14,
   "metadata": {
    "scrolled": false
   },
   "outputs": [
    {
     "name": "stdout",
     "output_type": "stream",
     "text": [
      "-0.5865345004628009\n"
     ]
    }
   ],
   "source": [
    "scores = z.dot(loadings[:,0])\n",
    "print(scores)"
   ]
  },
  {
   "cell_type": "markdown",
   "metadata": {},
   "source": [
    "In the next cell, we multiply the first observation row of the data by all of the loading vectors producing a score for each of the 10 principal components.  Note that the resulting array of scores is equal to the scores for the first row computed by the pipeline above."
   ]
  },
  {
   "cell_type": "code",
   "execution_count": 15,
   "metadata": {},
   "outputs": [
    {
     "name": "stdout",
     "output_type": "stream",
     "text": [
      "[-0.5865345  -1.94462866  0.58853858  0.08272184  0.25638973 -1.01006557\n",
      " -0.17964046  0.75657348  0.18087041  0.04889746]\n"
     ]
    }
   ],
   "source": [
    "scores = z.dot(loadings)\n",
    "print(scores)"
   ]
  },
  {
   "cell_type": "raw",
   "metadata": {},
   "source": [
    "The purpose of the following cell is the show that we can do an inverse transform which transforms the scores from the projection space back to the original data.  The The dot product of the loading vectors with the scores produces an approximation of the original observation row held in variable `z` (see equation 10.5 in ISLR).  The more loadings we use for the inverse transform, the closer the approximation to the original observation row.  The cell below computes the original data using from between 4 and 10 loading vectors.  Notice how the resulting transformed data gets closer to the original data held in 'z' above as the number of loading vectors increases."
   ]
  },
  {
   "cell_type": "code",
   "execution_count": 16,
   "metadata": {
    "scrolled": false
   },
   "outputs": [
    {
     "name": "stdout",
     "output_type": "stream",
     "text": [
      "num_loadings: 4\n",
      "[ 0.36604541  0.85469882  0.53897377  0.73214235 -0.94769719 -0.82510297\n",
      " -0.91662271  0.15941187  0.28857141  0.50989389]\n",
      "num_loadings: 5\n",
      "[ 0.54215325  0.75894648  0.5058142   0.60731275 -0.98081759 -0.85502933\n",
      " -0.97943845  0.19624122  0.32745007  0.50183738]\n",
      "num_loadings: 6\n",
      "[ 0.77024155  0.71682127  0.91302331  0.88284174 -0.98627012 -0.72042643\n",
      " -1.08686299  0.23051869  0.14692016 -0.31133202]\n",
      "num_loadings: 7\n",
      "[ 0.78991759  0.72896895  1.00641379  0.82523917 -0.99949948 -0.6790131\n",
      " -1.08550707  0.21772038  0.03063855 -0.24715244]\n",
      "num_loadings: 8\n",
      "[ 0.80121861  1.06408061  1.30368837  0.46408114 -0.90159063 -0.82376452\n",
      " -0.83989672  0.08109313  0.37085778 -0.37320364]\n",
      "num_loadings: 9\n",
      "[ 0.79975356  1.06446148  1.29602361  0.45916254 -0.89398727 -0.75877482\n",
      " -0.92694003 -0.05886742  0.40512549 -0.37044098]\n",
      "num_loadings: 10\n",
      "[ 0.79959404  1.06428249  1.29562034  0.4593201  -0.92869347 -0.73123602\n",
      " -0.91141776 -0.0544375   0.41805721 -0.37056863]\n"
     ]
    }
   ],
   "source": [
    "num_loadings = loadings.shape[1]\n",
    "for i in np.arange(4, num_loadings+1):\n",
    "    print(\"num_loadings:\", i)\n",
    "    print(loadings[:,:i].dot(scores[:i]))"
   ]
  },
  {
   "cell_type": "markdown",
   "metadata": {},
   "source": [
    "The cell below shows the dot product of all 10 loading vectors with the scores and is equivalent to when i == 10 above."
   ]
  },
  {
   "cell_type": "code",
   "execution_count": 17,
   "metadata": {},
   "outputs": [
    {
     "name": "stdout",
     "output_type": "stream",
     "text": [
      "[ 0.79959404  1.06428249  1.29562034  0.4593201  -0.92869347 -0.73123602\n",
      " -0.91141776 -0.0544375   0.41805721 -0.37056863]\n",
      "(10, 10)\n",
      "(10,)\n"
     ]
    }
   ],
   "source": [
    "print(loadings.dot(scores))\n",
    "print(loadings.shape)\n",
    "print(scores.shape)"
   ]
  },
  {
   "cell_type": "markdown",
   "metadata": {},
   "source": [
    "Note that the sum of the squares of the loading columns equal 1 as per ISLR equation 10.3."
   ]
  },
  {
   "cell_type": "code",
   "execution_count": 18,
   "metadata": {},
   "outputs": [
    {
     "data": {
      "text/plain": [
       "array([1., 1., 1., 1., 1., 1., 1., 1., 1., 1.])"
      ]
     },
     "execution_count": 18,
     "metadata": {},
     "output_type": "execute_result"
    }
   ],
   "source": [
    "np.sum(np.square(loadings), axis=0)"
   ]
  },
  {
   "cell_type": "markdown",
   "metadata": {},
   "source": [
    "## Examine the principal components"
   ]
  },
  {
   "cell_type": "code",
   "execution_count": 19,
   "metadata": {
    "scrolled": true
   },
   "outputs": [
    {
     "data": {
      "text/plain": [
       "[('age', -0.2164308964889745, 0.04436721239323424),\n",
       " ('sex', -0.18696687908602558, -0.38654720385516306),\n",
       " ('bmi', -0.30316216313887745, -0.15628128429437424),\n",
       " ('map', -0.2717377304844056, -0.13826600177995452),\n",
       " ('tc', -0.3432551083789176, 0.573026908841581),\n",
       " ('ldl', -0.3518606824177599, 0.45594185472401333),\n",
       " ('hdl', 0.28243681319974895, 0.5062390689011846),\n",
       " ('tch', -0.42883369801333127, -0.06818071604589006),\n",
       " ('ltg', -0.37861801599069916, -0.026186995954152716),\n",
       " ('glu', -0.32218295508497025, -0.08494884202867264)]"
      ]
     },
     "execution_count": 19,
     "metadata": {},
     "output_type": "execute_result"
    }
   ],
   "source": [
    "list(zip(['age', 'sex', 'bmi', 'map', 'tc', 'ldl', 'hdl', 'tch', 'ltg', 'glu'], \n",
    "         loadings[:, 0], loadings[:, 1]))"
   ]
  },
  {
   "cell_type": "markdown",
   "metadata": {},
   "source": [
    "# Analysis of IM courses"
   ]
  },
  {
   "cell_type": "code",
   "execution_count": 20,
   "metadata": {},
   "outputs": [],
   "source": [
    "im_courses = spark.createDataFrame(pd.read_csv('https://github.com/daniel-acuna/data_science_programs/raw/master/data/im_masters_ischool.csv'))"
   ]
  },
  {
   "cell_type": "code",
   "execution_count": 21,
   "metadata": {},
   "outputs": [
    {
     "name": "stdout",
     "output_type": "stream",
     "text": [
      "+-------+----+-------+--------------------+--------------------+\n",
      "| course|core|credits|               title|         description|\n",
      "+-------+----+-------+--------------------+--------------------+\n",
      "|IST 553|  IM|      3|Information Archi...|Building and mana...|\n",
      "|IST 558| CAS|      3|Technologies in W...|Concepts and tech...|\n",
      "|IST 565| CAS|      3|         Data Mining|Introduction to d...|\n",
      "|IST 601|  IM|      3|Information and I...|A broad overview ...|\n",
      "|IST 614|  IM|      3|Management Princi...|Basic ideas, conc...|\n",
      "|IST 617|  IM|      3|Motivational Aspe...|Theories of motiv...|\n",
      "|IST 618|  IM|      3|  Information Policy|Public policy iss...|\n",
      "|IST 619|  IM|      3|Applied Economics...|Economic principl...|\n",
      "|IST 621|  IM|      3|Introduction to I...|Overview of gener...|\n",
      "|IST 631|  IM|      3|Theory of Classif...|Classification is...|\n",
      "|IST 639|  IM|      3|Enterprise Techno...|Coverage of manag...|\n",
      "|IST 641|  IM|      3|   User-Based Design|System design bas...|\n",
      "|IST 645|  IM|      3|Managing Informat...|Project managemen...|\n",
      "|IST 649|  IM|      3|Human Interaction...|Human performance...|\n",
      "|IST 653|  IM|      3|Telecommunication...|A survey of telec...|\n",
      "|IST 654|  IM|      3|Information Syste...|Concepts and meth...|\n",
      "|IST 656|  IM|      3|Telecommunication...|Hardware and soft...|\n",
      "|IST 657| CAS|      3|Basics of Informa...|Design, developme...|\n",
      "|IST 659|  IM|      3|Data Administrati...|Definition, devel...|\n",
      "|IST 662|  IM|      3|Instructional Str...|Introduction to i...|\n",
      "+-------+----+-------+--------------------+--------------------+\n",
      "only showing top 20 rows\n",
      "\n"
     ]
    }
   ],
   "source": [
    "im_courses.show()"
   ]
  },
  {
   "cell_type": "markdown",
   "metadata": {},
   "source": [
    "## Let's transform course descriptions into vectors"
   ]
  },
  {
   "cell_type": "code",
   "execution_count": 22,
   "metadata": {},
   "outputs": [],
   "source": [
    "tokenizer = feature.RegexTokenizer(minTokenLength=2)\\\n",
    "  .setGaps(False)\\\n",
    "  .setPattern(\"\\\\p{L}+\")\\\n",
    "  .setInputCol(\"description\")\\\n",
    "  .setOutputCol(\"words\")\n",
    "\n",
    "import requests\n",
    "stop_words = requests.get('http://ir.dcs.gla.ac.uk/resources/linguistic_utils/stop_words').text.split()\n",
    "\n",
    "sw_filter = feature.StopWordsRemover()\\\n",
    "  .setStopWords(stop_words)\\\n",
    "  .setCaseSensitive(False)\\\n",
    "  .setInputCol(\"words\")\\\n",
    "  .setOutputCol(\"filtered\")\n",
    "\n",
    "cv = feature.CountVectorizer(inputCol='filtered', outputCol='tf')\n",
    "idf = feature.IDF(inputCol='tf', outputCol='tfidf')"
   ]
  },
  {
   "cell_type": "markdown",
   "metadata": {},
   "source": [
    "The rest of the functions do not work with Sparse vectors. We need to create a UDF that performs a sparse to dense transformation"
   ]
  },
  {
   "cell_type": "markdown",
   "metadata": {},
   "source": [
    "Let's create a pipeline that transforms descriptions into TFIDF:"
   ]
  },
  {
   "cell_type": "code",
   "execution_count": 23,
   "metadata": {},
   "outputs": [],
   "source": [
    "tfidf = Pipeline(stages=[tokenizer, sw_filter, cv, idf]).fit(im_courses)"
   ]
  },
  {
   "cell_type": "code",
   "execution_count": 24,
   "metadata": {},
   "outputs": [
    {
     "data": {
      "text/html": [
       "<div>\n",
       "<style scoped>\n",
       "    .dataframe tbody tr th:only-of-type {\n",
       "        vertical-align: middle;\n",
       "    }\n",
       "\n",
       "    .dataframe tbody tr th {\n",
       "        vertical-align: top;\n",
       "    }\n",
       "\n",
       "    .dataframe thead th {\n",
       "        text-align: right;\n",
       "    }\n",
       "</style>\n",
       "<table border=\"1\" class=\"dataframe\">\n",
       "  <thead>\n",
       "    <tr style=\"text-align: right;\">\n",
       "      <th></th>\n",
       "      <th>course</th>\n",
       "      <th>core</th>\n",
       "      <th>credits</th>\n",
       "      <th>title</th>\n",
       "      <th>description</th>\n",
       "      <th>words</th>\n",
       "      <th>filtered</th>\n",
       "      <th>tf</th>\n",
       "      <th>tfidf</th>\n",
       "    </tr>\n",
       "  </thead>\n",
       "  <tbody>\n",
       "    <tr>\n",
       "      <td>0</td>\n",
       "      <td>IST 553</td>\n",
       "      <td>IM</td>\n",
       "      <td>3</td>\n",
       "      <td>Information Architecture for Internet Services</td>\n",
       "      <td>Building and management of Internet informatio...</td>\n",
       "      <td>[building, and, management, of, internet, info...</td>\n",
       "      <td>[building, management, internet, information, ...</td>\n",
       "      <td>(4.0, 2.0, 0.0, 0.0, 0.0, 0.0, 0.0, 0.0, 0.0, ...</td>\n",
       "      <td>(1.8572224325243911, 1.444269434866395, 0.0, 0...</td>\n",
       "    </tr>\n",
       "    <tr>\n",
       "      <td>1</td>\n",
       "      <td>IST 558</td>\n",
       "      <td>CAS</td>\n",
       "      <td>3</td>\n",
       "      <td>Technologies in Web Content Management</td>\n",
       "      <td>Concepts and techniques in web content represe...</td>\n",
       "      <td>[concepts, and, techniques, in, web, content, ...</td>\n",
       "      <td>[concepts, techniques, web, content, represent...</td>\n",
       "      <td>(0.0, 1.0, 1.0, 1.0, 1.0, 0.0, 0.0, 0.0, 0.0, ...</td>\n",
       "      <td>(0.0, 0.7221347174331975, 1.252762968495368, 1...</td>\n",
       "    </tr>\n",
       "    <tr>\n",
       "      <td>2</td>\n",
       "      <td>IST 565</td>\n",
       "      <td>CAS</td>\n",
       "      <td>3</td>\n",
       "      <td>Data Mining</td>\n",
       "      <td>Introduction to data mining techniques, famili...</td>\n",
       "      <td>[introduction, to, data, mining, techniques, f...</td>\n",
       "      <td>[introduction, data, mining, techniques, famil...</td>\n",
       "      <td>(0.0, 0.0, 1.0, 1.0, 0.0, 0.0, 0.0, 0.0, 1.0, ...</td>\n",
       "      <td>(0.0, 0.0, 1.252762968495368, 1.07044141170141...</td>\n",
       "    </tr>\n",
       "    <tr>\n",
       "      <td>3</td>\n",
       "      <td>IST 601</td>\n",
       "      <td>IM</td>\n",
       "      <td>3</td>\n",
       "      <td>Information and Information Environments</td>\n",
       "      <td>A broad overview of the field and an orientati...</td>\n",
       "      <td>[broad, overview, of, the, field, and, an, ori...</td>\n",
       "      <td>[broad, overview, field, orientation, school, ...</td>\n",
       "      <td>(2.0, 0.0, 0.0, 0.0, 0.0, 0.0, 0.0, 0.0, 0.0, ...</td>\n",
       "      <td>(0.9286112162621956, 0.0, 0.0, 0.0, 0.0, 0.0, ...</td>\n",
       "    </tr>\n",
       "    <tr>\n",
       "      <td>4</td>\n",
       "      <td>IST 614</td>\n",
       "      <td>IM</td>\n",
       "      <td>3</td>\n",
       "      <td>Management Principles for Information Professi...</td>\n",
       "      <td>Basic ideas, concepts and perspectives of mana...</td>\n",
       "      <td>[basic, ideas, concepts, and, perspectives, of...</td>\n",
       "      <td>[basic, ideas, concepts, perspectives, managem...</td>\n",
       "      <td>(1.0, 1.0, 0.0, 1.0, 1.0, 0.0, 0.0, 1.0, 0.0, ...</td>\n",
       "      <td>(0.4643056081310978, 0.7221347174331975, 0.0, ...</td>\n",
       "    </tr>\n",
       "  </tbody>\n",
       "</table>\n",
       "</div>"
      ],
      "text/plain": [
       "    course core  credits                                              title  \\\n",
       "0  IST 553   IM        3     Information Architecture for Internet Services   \n",
       "1  IST 558  CAS        3             Technologies in Web Content Management   \n",
       "2  IST 565  CAS        3                                        Data Mining   \n",
       "3  IST 601   IM        3           Information and Information Environments   \n",
       "4  IST 614   IM        3  Management Principles for Information Professi...   \n",
       "\n",
       "                                         description  \\\n",
       "0  Building and management of Internet informatio...   \n",
       "1  Concepts and techniques in web content represe...   \n",
       "2  Introduction to data mining techniques, famili...   \n",
       "3  A broad overview of the field and an orientati...   \n",
       "4  Basic ideas, concepts and perspectives of mana...   \n",
       "\n",
       "                                               words  \\\n",
       "0  [building, and, management, of, internet, info...   \n",
       "1  [concepts, and, techniques, in, web, content, ...   \n",
       "2  [introduction, to, data, mining, techniques, f...   \n",
       "3  [broad, overview, of, the, field, and, an, ori...   \n",
       "4  [basic, ideas, concepts, and, perspectives, of...   \n",
       "\n",
       "                                            filtered  \\\n",
       "0  [building, management, internet, information, ...   \n",
       "1  [concepts, techniques, web, content, represent...   \n",
       "2  [introduction, data, mining, techniques, famil...   \n",
       "3  [broad, overview, field, orientation, school, ...   \n",
       "4  [basic, ideas, concepts, perspectives, managem...   \n",
       "\n",
       "                                                  tf  \\\n",
       "0  (4.0, 2.0, 0.0, 0.0, 0.0, 0.0, 0.0, 0.0, 0.0, ...   \n",
       "1  (0.0, 1.0, 1.0, 1.0, 1.0, 0.0, 0.0, 0.0, 0.0, ...   \n",
       "2  (0.0, 0.0, 1.0, 1.0, 0.0, 0.0, 0.0, 0.0, 1.0, ...   \n",
       "3  (2.0, 0.0, 0.0, 0.0, 0.0, 0.0, 0.0, 0.0, 0.0, ...   \n",
       "4  (1.0, 1.0, 0.0, 1.0, 1.0, 0.0, 0.0, 1.0, 0.0, ...   \n",
       "\n",
       "                                               tfidf  \n",
       "0  (1.8572224325243911, 1.444269434866395, 0.0, 0...  \n",
       "1  (0.0, 0.7221347174331975, 1.252762968495368, 1...  \n",
       "2  (0.0, 0.0, 1.252762968495368, 1.07044141170141...  \n",
       "3  (0.9286112162621956, 0.0, 0.0, 0.0, 0.0, 0.0, ...  \n",
       "4  (0.4643056081310978, 0.7221347174331975, 0.0, ...  "
      ]
     },
     "execution_count": 24,
     "metadata": {},
     "output_type": "execute_result"
    }
   ],
   "source": [
    "tfidf.transform(im_courses).toPandas().head()"
   ]
  },
  {
   "cell_type": "markdown",
   "metadata": {},
   "source": [
    "We need to define a *Python* function that takes as input a `tfidf` column and then returns the dense version of it.\n",
    "If we get the first row of the transformation, we can examine the type of `tfidf`"
   ]
  },
  {
   "cell_type": "code",
   "execution_count": 25,
   "metadata": {},
   "outputs": [
    {
     "data": {
      "text/plain": [
       "SparseVector(357, {0: 1.8572, 1: 1.4443, 9: 3.2189, 10: 1.6094, 14: 1.7636, 18: 1.7636, 43: 2.1691, 52: 2.1691, 54: 2.1691, 97: 2.4567, 120: 2.4567, 131: 5.7244, 283: 2.8622, 288: 2.8622, 302: 2.8622})"
      ]
     },
     "execution_count": 25,
     "metadata": {},
     "output_type": "execute_result"
    }
   ],
   "source": [
    "tfidf_sample = tfidf.transform(im_courses).first().tfidf\n",
    "tfidf_sample"
   ]
  },
  {
   "cell_type": "code",
   "execution_count": 26,
   "metadata": {},
   "outputs": [
    {
     "data": {
      "text/plain": [
       "pyspark.ml.linalg.SparseVector"
      ]
     },
     "execution_count": 26,
     "metadata": {},
     "output_type": "execute_result"
    }
   ],
   "source": [
    "type(tfidf_sample)"
   ]
  },
  {
   "cell_type": "markdown",
   "metadata": {},
   "source": [
    "We need to define a function that returns a dense version. For that, we will make use of the Vectors class"
   ]
  },
  {
   "cell_type": "code",
   "execution_count": 27,
   "metadata": {},
   "outputs": [],
   "source": [
    "from pyspark.ml.linalg import Vectors"
   ]
  },
  {
   "cell_type": "code",
   "execution_count": 28,
   "metadata": {},
   "outputs": [
    {
     "data": {
      "text/plain": [
       "DenseVector([1.8572, 1.4443, 0.0, 0.0, 0.0, 0.0, 0.0, 0.0, 0.0, 3.2189, 1.6094, 0.0, 0.0, 0.0, 1.7636, 0.0, 0.0, 0.0, 1.7636, 0.0, 0.0, 0.0, 0.0, 0.0, 0.0, 0.0, 0.0, 0.0, 0.0, 0.0, 0.0, 0.0, 0.0, 0.0, 0.0, 0.0, 0.0, 0.0, 0.0, 0.0, 0.0, 0.0, 0.0, 2.1691, 0.0, 0.0, 0.0, 0.0, 0.0, 0.0, 0.0, 0.0, 2.1691, 0.0, 2.1691, 0.0, 0.0, 0.0, 0.0, 0.0, 0.0, 0.0, 0.0, 0.0, 0.0, 0.0, 0.0, 0.0, 0.0, 0.0, 0.0, 0.0, 0.0, 0.0, 0.0, 0.0, 0.0, 0.0, 0.0, 0.0, 0.0, 0.0, 0.0, 0.0, 0.0, 0.0, 0.0, 0.0, 0.0, 0.0, 0.0, 0.0, 0.0, 0.0, 0.0, 0.0, 0.0, 2.4567, 0.0, 0.0, 0.0, 0.0, 0.0, 0.0, 0.0, 0.0, 0.0, 0.0, 0.0, 0.0, 0.0, 0.0, 0.0, 0.0, 0.0, 0.0, 0.0, 0.0, 0.0, 0.0, 2.4567, 0.0, 0.0, 0.0, 0.0, 0.0, 0.0, 0.0, 0.0, 0.0, 0.0, 5.7244, 0.0, 0.0, 0.0, 0.0, 0.0, 0.0, 0.0, 0.0, 0.0, 0.0, 0.0, 0.0, 0.0, 0.0, 0.0, 0.0, 0.0, 0.0, 0.0, 0.0, 0.0, 0.0, 0.0, 0.0, 0.0, 0.0, 0.0, 0.0, 0.0, 0.0, 0.0, 0.0, 0.0, 0.0, 0.0, 0.0, 0.0, 0.0, 0.0, 0.0, 0.0, 0.0, 0.0, 0.0, 0.0, 0.0, 0.0, 0.0, 0.0, 0.0, 0.0, 0.0, 0.0, 0.0, 0.0, 0.0, 0.0, 0.0, 0.0, 0.0, 0.0, 0.0, 0.0, 0.0, 0.0, 0.0, 0.0, 0.0, 0.0, 0.0, 0.0, 0.0, 0.0, 0.0, 0.0, 0.0, 0.0, 0.0, 0.0, 0.0, 0.0, 0.0, 0.0, 0.0, 0.0, 0.0, 0.0, 0.0, 0.0, 0.0, 0.0, 0.0, 0.0, 0.0, 0.0, 0.0, 0.0, 0.0, 0.0, 0.0, 0.0, 0.0, 0.0, 0.0, 0.0, 0.0, 0.0, 0.0, 0.0, 0.0, 0.0, 0.0, 0.0, 0.0, 0.0, 0.0, 0.0, 0.0, 0.0, 0.0, 0.0, 0.0, 0.0, 0.0, 0.0, 0.0, 0.0, 0.0, 0.0, 0.0, 0.0, 0.0, 0.0, 0.0, 0.0, 0.0, 0.0, 0.0, 0.0, 0.0, 0.0, 0.0, 0.0, 0.0, 0.0, 0.0, 0.0, 0.0, 0.0, 0.0, 0.0, 2.8622, 0.0, 0.0, 0.0, 0.0, 2.8622, 0.0, 0.0, 0.0, 0.0, 0.0, 0.0, 0.0, 0.0, 0.0, 0.0, 0.0, 0.0, 0.0, 2.8622, 0.0, 0.0, 0.0, 0.0, 0.0, 0.0, 0.0, 0.0, 0.0, 0.0, 0.0, 0.0, 0.0, 0.0, 0.0, 0.0, 0.0, 0.0, 0.0, 0.0, 0.0, 0.0, 0.0, 0.0, 0.0, 0.0, 0.0, 0.0, 0.0, 0.0, 0.0, 0.0, 0.0, 0.0, 0.0, 0.0, 0.0, 0.0, 0.0, 0.0, 0.0, 0.0, 0.0, 0.0, 0.0, 0.0, 0.0, 0.0, 0.0, 0.0, 0.0, 0.0, 0.0, 0.0])"
      ]
     },
     "execution_count": 28,
     "metadata": {},
     "output_type": "execute_result"
    }
   ],
   "source": [
    "Vectors.dense(tfidf_sample)"
   ]
  },
  {
   "cell_type": "code",
   "execution_count": 29,
   "metadata": {},
   "outputs": [
    {
     "data": {
      "text/plain": [
       "pyspark.ml.linalg.DenseVector"
      ]
     },
     "execution_count": 29,
     "metadata": {},
     "output_type": "execute_result"
    }
   ],
   "source": [
    "type(Vectors.dense(tfidf_sample))"
   ]
  },
  {
   "cell_type": "markdown",
   "metadata": {},
   "source": [
    "We need to work with `pyspark.ml.linalg.DenseVector` because that's what Spark ML expects (as opposed to a Numpy array or a pyspark sparse vector)"
   ]
  },
  {
   "cell_type": "markdown",
   "metadata": {},
   "source": [
    "So, let's define the function:"
   ]
  },
  {
   "cell_type": "code",
   "execution_count": 30,
   "metadata": {},
   "outputs": [],
   "source": [
    "def to_dense(sparse_vector):\n",
    "    return Vectors.dense(sparse_vector)"
   ]
  },
  {
   "cell_type": "code",
   "execution_count": 31,
   "metadata": {},
   "outputs": [
    {
     "data": {
      "text/plain": [
       "DenseVector([1.8572, 1.4443, 0.0, 0.0, 0.0, 0.0, 0.0, 0.0, 0.0, 3.2189, 1.6094, 0.0, 0.0, 0.0, 1.7636, 0.0, 0.0, 0.0, 1.7636, 0.0, 0.0, 0.0, 0.0, 0.0, 0.0, 0.0, 0.0, 0.0, 0.0, 0.0, 0.0, 0.0, 0.0, 0.0, 0.0, 0.0, 0.0, 0.0, 0.0, 0.0, 0.0, 0.0, 0.0, 2.1691, 0.0, 0.0, 0.0, 0.0, 0.0, 0.0, 0.0, 0.0, 2.1691, 0.0, 2.1691, 0.0, 0.0, 0.0, 0.0, 0.0, 0.0, 0.0, 0.0, 0.0, 0.0, 0.0, 0.0, 0.0, 0.0, 0.0, 0.0, 0.0, 0.0, 0.0, 0.0, 0.0, 0.0, 0.0, 0.0, 0.0, 0.0, 0.0, 0.0, 0.0, 0.0, 0.0, 0.0, 0.0, 0.0, 0.0, 0.0, 0.0, 0.0, 0.0, 0.0, 0.0, 0.0, 2.4567, 0.0, 0.0, 0.0, 0.0, 0.0, 0.0, 0.0, 0.0, 0.0, 0.0, 0.0, 0.0, 0.0, 0.0, 0.0, 0.0, 0.0, 0.0, 0.0, 0.0, 0.0, 0.0, 2.4567, 0.0, 0.0, 0.0, 0.0, 0.0, 0.0, 0.0, 0.0, 0.0, 0.0, 5.7244, 0.0, 0.0, 0.0, 0.0, 0.0, 0.0, 0.0, 0.0, 0.0, 0.0, 0.0, 0.0, 0.0, 0.0, 0.0, 0.0, 0.0, 0.0, 0.0, 0.0, 0.0, 0.0, 0.0, 0.0, 0.0, 0.0, 0.0, 0.0, 0.0, 0.0, 0.0, 0.0, 0.0, 0.0, 0.0, 0.0, 0.0, 0.0, 0.0, 0.0, 0.0, 0.0, 0.0, 0.0, 0.0, 0.0, 0.0, 0.0, 0.0, 0.0, 0.0, 0.0, 0.0, 0.0, 0.0, 0.0, 0.0, 0.0, 0.0, 0.0, 0.0, 0.0, 0.0, 0.0, 0.0, 0.0, 0.0, 0.0, 0.0, 0.0, 0.0, 0.0, 0.0, 0.0, 0.0, 0.0, 0.0, 0.0, 0.0, 0.0, 0.0, 0.0, 0.0, 0.0, 0.0, 0.0, 0.0, 0.0, 0.0, 0.0, 0.0, 0.0, 0.0, 0.0, 0.0, 0.0, 0.0, 0.0, 0.0, 0.0, 0.0, 0.0, 0.0, 0.0, 0.0, 0.0, 0.0, 0.0, 0.0, 0.0, 0.0, 0.0, 0.0, 0.0, 0.0, 0.0, 0.0, 0.0, 0.0, 0.0, 0.0, 0.0, 0.0, 0.0, 0.0, 0.0, 0.0, 0.0, 0.0, 0.0, 0.0, 0.0, 0.0, 0.0, 0.0, 0.0, 0.0, 0.0, 0.0, 0.0, 0.0, 0.0, 0.0, 0.0, 0.0, 0.0, 0.0, 0.0, 0.0, 0.0, 0.0, 2.8622, 0.0, 0.0, 0.0, 0.0, 2.8622, 0.0, 0.0, 0.0, 0.0, 0.0, 0.0, 0.0, 0.0, 0.0, 0.0, 0.0, 0.0, 0.0, 2.8622, 0.0, 0.0, 0.0, 0.0, 0.0, 0.0, 0.0, 0.0, 0.0, 0.0, 0.0, 0.0, 0.0, 0.0, 0.0, 0.0, 0.0, 0.0, 0.0, 0.0, 0.0, 0.0, 0.0, 0.0, 0.0, 0.0, 0.0, 0.0, 0.0, 0.0, 0.0, 0.0, 0.0, 0.0, 0.0, 0.0, 0.0, 0.0, 0.0, 0.0, 0.0, 0.0, 0.0, 0.0, 0.0, 0.0, 0.0, 0.0, 0.0, 0.0, 0.0, 0.0, 0.0, 0.0])"
      ]
     },
     "execution_count": 31,
     "metadata": {},
     "output_type": "execute_result"
    }
   ],
   "source": [
    "to_dense(tfidf_sample)"
   ]
  },
  {
   "cell_type": "markdown",
   "metadata": {},
   "source": [
    "Now, to define a user defined custom function (UDF) for Spark SQL, we need to provide the **return** type of the function to the constructor in `functions.udf`. The return type of `to_dense` is `VectorUDT` defined in `pyspark.ml.linalg.VectorUDT`"
   ]
  },
  {
   "cell_type": "code",
   "execution_count": 32,
   "metadata": {},
   "outputs": [],
   "source": [
    "from pyspark.ml.linalg import VectorUDT"
   ]
  },
  {
   "cell_type": "code",
   "execution_count": 33,
   "metadata": {},
   "outputs": [],
   "source": [
    "to_dense_udf = fn.udf(to_dense, VectorUDT())"
   ]
  },
  {
   "cell_type": "markdown",
   "metadata": {},
   "source": [
    "Now we can use this function as part of our transformations"
   ]
  },
  {
   "cell_type": "code",
   "execution_count": 34,
   "metadata": {},
   "outputs": [
    {
     "name": "stdout",
     "output_type": "stream",
     "text": [
      "+--------------------+--------------------+\n",
      "|               tfidf|         dense_tfidf|\n",
      "+--------------------+--------------------+\n",
      "|(357,[0,1,9,10,14...|[1.85722243252439...|\n",
      "|(357,[1,2,3,4,14,...|[0.0,0.7221347174...|\n",
      "|(357,[2,3,8,21,26...|[0.0,0.0,1.252762...|\n",
      "|(357,[0,20,45,56,...|[0.92861121626219...|\n",
      "|(357,[0,1,3,4,7,1...|[0.46430560813109...|\n",
      "|(357,[0,1,6,10,24...|[1.39291682439329...|\n",
      "|(357,[0,4,11,12,2...|[0.92861121626219...|\n",
      "|(357,[0,1,4,5,16,...|[1.39291682439329...|\n",
      "|(357,[0,1,4,56,59...|[0.46430560813109...|\n",
      "|(357,[0,19,31,65,...|[0.46430560813109...|\n",
      "|(357,[1,5,11,23,2...|[0.0,0.7221347174...|\n",
      "|(357,[0,6,7,10,14...|[0.92861121626219...|\n",
      "|(357,[0,1,7,8,16,...|[0.46430560813109...|\n",
      "|(357,[0,6,15,17,1...|[0.46430560813109...|\n",
      "|(357,[1,5,11,21,3...|[0.0,0.7221347174...|\n",
      "|(357,[1,3,4,5,8,9...|[0.0,0.7221347174...|\n",
      "|(357,[0,1,6,9,33,...|[0.46430560813109...|\n",
      "|(357,[0,5,6,23,26...|[0.92861121626219...|\n",
      "|(357,[0,1,2,3,4,5...|[0.46430560813109...|\n",
      "|(357,[0,3,8,29,53...|[1.39291682439329...|\n",
      "+--------------------+--------------------+\n",
      "only showing top 20 rows\n",
      "\n"
     ]
    }
   ],
   "source": [
    "tfidf.transform(im_courses).select('tfidf', to_dense_udf('tfidf').alias('dense_tfidf')).show()"
   ]
  },
  {
   "cell_type": "markdown",
   "metadata": {},
   "source": [
    "Moreover, we want to make this as part of a Pipeline. This is somewhat obscure and undocumented Spark functionality. We will now define a simple `Transformer` object that will apply the `to_dense_udf` to an input column as part of a Transformer object."
   ]
  },
  {
   "cell_type": "code",
   "execution_count": 35,
   "metadata": {},
   "outputs": [],
   "source": [
    "from pyspark import keyword_only\n",
    "from pyspark.ml import Transformer\n",
    "from pyspark.ml.param.shared import HasInputCol, HasOutputCol, Param\n",
    "\n",
    "class Densify(Transformer, HasInputCol, HasOutputCol):\n",
    "    @keyword_only\n",
    "    def __init__(self, inputCol=None, outputCol=None, stopwords=None):\n",
    "        super(Densify, self).__init__()\n",
    "        self._setDefault()\n",
    "#         print(self._input_kwargs)\n",
    "        kwargs = self._input_kwargs\n",
    "        self.setParams(**kwargs)\n",
    "\n",
    "    @keyword_only\n",
    "    def setParams(self, inputCol=None, outputCol=None):\n",
    "        kwargs = self._input_kwargs\n",
    "        return self._set(**kwargs)\n",
    "\n",
    "    def _transform(self, dataset):\n",
    "        out_col = self.getOutputCol()\n",
    "        in_col = dataset[self.getInputCol()]\n",
    "        return dataset.withColumn(out_col, to_dense_udf(in_col))"
   ]
  },
  {
   "cell_type": "markdown",
   "metadata": {},
   "source": [
    "The cell below creates a `Densify` transformer object that can be used in a Spark pipeline."
   ]
  },
  {
   "cell_type": "code",
   "execution_count": 36,
   "metadata": {},
   "outputs": [],
   "source": [
    "dense_tfidf = Densify(inputCol='tfidf', outputCol='dense_tfidf')"
   ]
  },
  {
   "cell_type": "markdown",
   "metadata": {},
   "source": [
    "The cell below uses the `dense_tfidf` transformer in a pipeline."
   ]
  },
  {
   "cell_type": "code",
   "execution_count": 37,
   "metadata": {
    "scrolled": true
   },
   "outputs": [
    {
     "name": "stdout",
     "output_type": "stream",
     "text": [
      "+--------------------+--------------------+\n",
      "|               tfidf|         dense_tfidf|\n",
      "+--------------------+--------------------+\n",
      "|(357,[0,1,8,12,14...|[1.85722243252439...|\n",
      "|(357,[1,2,3,5,14,...|[0.0,0.7221347174...|\n",
      "|(357,[2,3,9,22,24...|[0.0,0.0,1.252762...|\n",
      "|(357,[0,26,42,61,...|[0.92861121626219...|\n",
      "|(357,[0,1,3,5,6,1...|[0.46430560813109...|\n",
      "|(357,[0,1,7,12,20...|[1.39291682439329...|\n",
      "|(357,[0,5,10,11,3...|[0.92861121626219...|\n",
      "|(357,[0,1,4,5,16,...|[1.39291682439329...|\n",
      "|(357,[0,1,5,42,45...|[0.46430560813109...|\n",
      "|(357,[0,19,33,89,...|[0.46430560813109...|\n",
      "|(357,[1,4,11,22,2...|[0.0,0.7221347174...|\n",
      "|(357,[0,6,7,12,14...|[0.92861121626219...|\n",
      "|(357,[0,1,6,9,13,...|[0.46430560813109...|\n",
      "|(357,[0,7,13,15,1...|[0.46430560813109...|\n",
      "|(357,[1,4,11,25,3...|[0.0,0.7221347174...|\n",
      "|(357,[1,3,4,5,8,9...|[0.0,0.7221347174...|\n",
      "|(357,[0,1,7,8,35,...|[0.46430560813109...|\n",
      "|(357,[0,4,7,22,24...|[0.92861121626219...|\n",
      "|(357,[0,1,2,3,4,5...|[0.46430560813109...|\n",
      "|(357,[0,3,9,30,43...|[1.39291682439329...|\n",
      "+--------------------+--------------------+\n",
      "only showing top 20 rows\n",
      "\n"
     ]
    }
   ],
   "source": [
    "pipeline2_model = Pipeline(stages=[tokenizer, sw_filter, cv, idf, dense_tfidf]).fit(im_courses)\n",
    "pipeline2_model.transform(im_courses).select('tfidf', 'dense_tfidf').show()"
   ]
  },
  {
   "cell_type": "markdown",
   "metadata": {},
   "source": [
    "The cell below defines a standard scaler object which will be used to standardize data before applying unsupervised learning algorithms."
   ]
  },
  {
   "cell_type": "code",
   "execution_count": 38,
   "metadata": {},
   "outputs": [],
   "source": [
    "# standardize features - it doesn't work in Spark 2.1\n",
    "center = feature.StandardScaler(withMean=True, withStd=False, inputCol='dense_tfidf', outputCol='centered_tfidf')"
   ]
  },
  {
   "cell_type": "markdown",
   "metadata": {},
   "source": [
    "In the cell below we define a PCA transformer.  PCA needs the number of principal components to be learned `k`:"
   ]
  },
  {
   "cell_type": "code",
   "execution_count": 39,
   "metadata": {},
   "outputs": [],
   "source": [
    "pca = feature.PCA(k=10, inputCol='centered_tfidf', outputCol='pca_feat')"
   ]
  },
  {
   "cell_type": "markdown",
   "metadata": {},
   "source": [
    "For KMeans, we need to provide the number of clusters, but we will normalize the vectors so that they have unit length.  The cell below defines a `Normalizer` transformer which will normalize vectors to unit length."
   ]
  },
  {
   "cell_type": "code",
   "execution_count": 40,
   "metadata": {},
   "outputs": [],
   "source": [
    "norm = feature.Normalizer(inputCol=\"centered_tfidf\", outputCol=\"norm_tfidf\", p=2.0)"
   ]
  },
  {
   "cell_type": "markdown",
   "metadata": {},
   "source": [
    "The cell below defines a Spark KMeans clustering object."
   ]
  },
  {
   "cell_type": "code",
   "execution_count": 41,
   "metadata": {},
   "outputs": [],
   "source": [
    "kmeans = clustering.KMeans(k=5, featuresCol='norm_tfidf', predictionCol='kmeans_feat')"
   ]
  },
  {
   "cell_type": "markdown",
   "metadata": {},
   "source": [
    "#### Note - we will not be covering Latent Dirichlet Allocation (LDA) this semester - LDA can be skipped"
   ]
  },
  {
   "cell_type": "markdown",
   "metadata": {},
   "source": [
    "Latent Dirichlet Allocation needs the number of topics and acts on raw tfidf:"
   ]
  },
  {
   "cell_type": "code",
   "execution_count": 42,
   "metadata": {},
   "outputs": [],
   "source": [
    "lda = clustering.LDA(k=5, featuresCol='tfidf', topicDistributionCol='lda_feat')"
   ]
  },
  {
   "cell_type": "code",
   "execution_count": 43,
   "metadata": {},
   "outputs": [],
   "source": [
    "pipeline = Pipeline(stages=[tokenizer, sw_filter, cv, idf, dense_tfidf, center, norm, kmeans, lda, pca])"
   ]
  },
  {
   "cell_type": "code",
   "execution_count": 44,
   "metadata": {},
   "outputs": [],
   "source": [
    "pipeline_model = pipeline.fit(im_courses)"
   ]
  },
  {
   "cell_type": "code",
   "execution_count": 45,
   "metadata": {
    "scrolled": false
   },
   "outputs": [
    {
     "data": {
      "text/html": [
       "<div>\n",
       "<style scoped>\n",
       "    .dataframe tbody tr th:only-of-type {\n",
       "        vertical-align: middle;\n",
       "    }\n",
       "\n",
       "    .dataframe tbody tr th {\n",
       "        vertical-align: top;\n",
       "    }\n",
       "\n",
       "    .dataframe thead th {\n",
       "        text-align: right;\n",
       "    }\n",
       "</style>\n",
       "<table border=\"1\" class=\"dataframe\">\n",
       "  <thead>\n",
       "    <tr style=\"text-align: right;\">\n",
       "      <th></th>\n",
       "      <th>course</th>\n",
       "      <th>core</th>\n",
       "      <th>credits</th>\n",
       "      <th>title</th>\n",
       "      <th>description</th>\n",
       "      <th>words</th>\n",
       "      <th>filtered</th>\n",
       "      <th>tf</th>\n",
       "      <th>tfidf</th>\n",
       "      <th>dense_tfidf</th>\n",
       "      <th>centered_tfidf</th>\n",
       "      <th>norm_tfidf</th>\n",
       "      <th>kmeans_feat</th>\n",
       "      <th>lda_feat</th>\n",
       "      <th>pca_feat</th>\n",
       "    </tr>\n",
       "  </thead>\n",
       "  <tbody>\n",
       "    <tr>\n",
       "      <td>0</td>\n",
       "      <td>IST 553</td>\n",
       "      <td>IM</td>\n",
       "      <td>3</td>\n",
       "      <td>Information Architecture for Internet Services</td>\n",
       "      <td>Building and management of Internet informatio...</td>\n",
       "      <td>[building, and, management, of, internet, info...</td>\n",
       "      <td>[building, management, internet, information, ...</td>\n",
       "      <td>(4.0, 2.0, 0.0, 0.0, 0.0, 0.0, 0.0, 0.0, 2.0, ...</td>\n",
       "      <td>(1.8572224325243911, 1.444269434866395, 0.0, 0...</td>\n",
       "      <td>[1.8572224325243911, 1.444269434866395, 0.0, 0...</td>\n",
       "      <td>[1.3929168243932932, 1.0407235633596081, -0.55...</td>\n",
       "      <td>[0.13872833235603055, 0.10365144699245783, -0....</td>\n",
       "      <td>2</td>\n",
       "      <td>[0.004123210676472138, 0.004221699712775576, 0...</td>\n",
       "      <td>[-0.6752213340342722, -0.578543526841376, 0.07...</td>\n",
       "    </tr>\n",
       "    <tr>\n",
       "      <td>1</td>\n",
       "      <td>IST 558</td>\n",
       "      <td>CAS</td>\n",
       "      <td>3</td>\n",
       "      <td>Technologies in Web Content Management</td>\n",
       "      <td>Concepts and techniques in web content represe...</td>\n",
       "      <td>[concepts, and, techniques, in, web, content, ...</td>\n",
       "      <td>[concepts, techniques, web, content, represent...</td>\n",
       "      <td>(0.0, 1.0, 1.0, 1.0, 1.0, 0.0, 0.0, 0.0, 0.0, ...</td>\n",
       "      <td>(0.0, 0.7221347174331975, 1.252762968495368, 1...</td>\n",
       "      <td>[0.0, 0.7221347174331975, 1.252762968495368, 1...</td>\n",
       "      <td>[-0.46430560813109784, 0.3185888459264106, 0.7...</td>\n",
       "      <td>[-0.0366053111174823, 0.025117172007974302, 0....</td>\n",
       "      <td>0</td>\n",
       "      <td>[0.10911970806649235, 0.0026184934238192826, 0...</td>\n",
       "      <td>[-1.05600921972319, -0.16173650604120124, -1.7...</td>\n",
       "    </tr>\n",
       "    <tr>\n",
       "      <td>2</td>\n",
       "      <td>IST 565</td>\n",
       "      <td>CAS</td>\n",
       "      <td>3</td>\n",
       "      <td>Data Mining</td>\n",
       "      <td>Introduction to data mining techniques, famili...</td>\n",
       "      <td>[introduction, to, data, mining, techniques, f...</td>\n",
       "      <td>[introduction, data, mining, techniques, famil...</td>\n",
       "      <td>(0.0, 0.0, 1.0, 1.0, 0.0, 0.0, 0.0, 0.0, 0.0, ...</td>\n",
       "      <td>(0.0, 0.0, 1.252762968495368, 1.07044141170141...</td>\n",
       "      <td>[0.0, 0.0, 1.252762968495368, 1.07044141170141...</td>\n",
       "      <td>[-0.46430560813109784, -0.40354587150678684, 0...</td>\n",
       "      <td>[-0.039878871417135926, -0.03466026177351561, ...</td>\n",
       "      <td>4</td>\n",
       "      <td>[0.34385937728479166, 0.0030246822808073863, 0...</td>\n",
       "      <td>[0.19618219422530014, -0.3954758666709434, -0....</td>\n",
       "    </tr>\n",
       "    <tr>\n",
       "      <td>3</td>\n",
       "      <td>IST 601</td>\n",
       "      <td>IM</td>\n",
       "      <td>3</td>\n",
       "      <td>Information and Information Environments</td>\n",
       "      <td>A broad overview of the field and an orientati...</td>\n",
       "      <td>[broad, overview, of, the, field, and, an, ori...</td>\n",
       "      <td>[broad, overview, field, orientation, school, ...</td>\n",
       "      <td>(2.0, 0.0, 0.0, 0.0, 0.0, 0.0, 0.0, 0.0, 0.0, ...</td>\n",
       "      <td>(0.9286112162621956, 0.0, 0.0, 0.0, 0.0, 0.0, ...</td>\n",
       "      <td>[0.9286112162621956, 0.0, 0.0, 0.0, 0.0, 0.0, ...</td>\n",
       "      <td>[0.4643056081310977, -0.40354587150678684, -0....</td>\n",
       "      <td>[0.05153103151601464, -0.04478760251567384, -0...</td>\n",
       "      <td>2</td>\n",
       "      <td>[0.9773807751717845, 0.005439320982915274, 0.0...</td>\n",
       "      <td>[-0.682379184988884, -0.07779816332342586, -0....</td>\n",
       "    </tr>\n",
       "    <tr>\n",
       "      <td>4</td>\n",
       "      <td>IST 614</td>\n",
       "      <td>IM</td>\n",
       "      <td>3</td>\n",
       "      <td>Management Principles for Information Professi...</td>\n",
       "      <td>Basic ideas, concepts and perspectives of mana...</td>\n",
       "      <td>[basic, ideas, concepts, and, perspectives, of...</td>\n",
       "      <td>[basic, ideas, concepts, perspectives, managem...</td>\n",
       "      <td>(1.0, 1.0, 0.0, 1.0, 1.0, 0.0, 1.0, 0.0, 0.0, ...</td>\n",
       "      <td>(0.4643056081310978, 0.7221347174331975, 0.0, ...</td>\n",
       "      <td>[0.4643056081310978, 0.7221347174331975, 0.0, ...</td>\n",
       "      <td>[-5.551115123125783e-17, 0.3185888459264106, -...</td>\n",
       "      <td>[-4.7440082817341044e-18, 0.027226747960001838...</td>\n",
       "      <td>0</td>\n",
       "      <td>[0.0030948447421712075, 0.003169136065015298, ...</td>\n",
       "      <td>[-1.3508184757797228, -0.2786365081125683, -0....</td>\n",
       "    </tr>\n",
       "  </tbody>\n",
       "</table>\n",
       "</div>"
      ],
      "text/plain": [
       "    course core  credits                                              title  \\\n",
       "0  IST 553   IM        3     Information Architecture for Internet Services   \n",
       "1  IST 558  CAS        3             Technologies in Web Content Management   \n",
       "2  IST 565  CAS        3                                        Data Mining   \n",
       "3  IST 601   IM        3           Information and Information Environments   \n",
       "4  IST 614   IM        3  Management Principles for Information Professi...   \n",
       "\n",
       "                                         description  \\\n",
       "0  Building and management of Internet informatio...   \n",
       "1  Concepts and techniques in web content represe...   \n",
       "2  Introduction to data mining techniques, famili...   \n",
       "3  A broad overview of the field and an orientati...   \n",
       "4  Basic ideas, concepts and perspectives of mana...   \n",
       "\n",
       "                                               words  \\\n",
       "0  [building, and, management, of, internet, info...   \n",
       "1  [concepts, and, techniques, in, web, content, ...   \n",
       "2  [introduction, to, data, mining, techniques, f...   \n",
       "3  [broad, overview, of, the, field, and, an, ori...   \n",
       "4  [basic, ideas, concepts, and, perspectives, of...   \n",
       "\n",
       "                                            filtered  \\\n",
       "0  [building, management, internet, information, ...   \n",
       "1  [concepts, techniques, web, content, represent...   \n",
       "2  [introduction, data, mining, techniques, famil...   \n",
       "3  [broad, overview, field, orientation, school, ...   \n",
       "4  [basic, ideas, concepts, perspectives, managem...   \n",
       "\n",
       "                                                  tf  \\\n",
       "0  (4.0, 2.0, 0.0, 0.0, 0.0, 0.0, 0.0, 0.0, 2.0, ...   \n",
       "1  (0.0, 1.0, 1.0, 1.0, 1.0, 0.0, 0.0, 0.0, 0.0, ...   \n",
       "2  (0.0, 0.0, 1.0, 1.0, 0.0, 0.0, 0.0, 0.0, 0.0, ...   \n",
       "3  (2.0, 0.0, 0.0, 0.0, 0.0, 0.0, 0.0, 0.0, 0.0, ...   \n",
       "4  (1.0, 1.0, 0.0, 1.0, 1.0, 0.0, 1.0, 0.0, 0.0, ...   \n",
       "\n",
       "                                               tfidf  \\\n",
       "0  (1.8572224325243911, 1.444269434866395, 0.0, 0...   \n",
       "1  (0.0, 0.7221347174331975, 1.252762968495368, 1...   \n",
       "2  (0.0, 0.0, 1.252762968495368, 1.07044141170141...   \n",
       "3  (0.9286112162621956, 0.0, 0.0, 0.0, 0.0, 0.0, ...   \n",
       "4  (0.4643056081310978, 0.7221347174331975, 0.0, ...   \n",
       "\n",
       "                                         dense_tfidf  \\\n",
       "0  [1.8572224325243911, 1.444269434866395, 0.0, 0...   \n",
       "1  [0.0, 0.7221347174331975, 1.252762968495368, 1...   \n",
       "2  [0.0, 0.0, 1.252762968495368, 1.07044141170141...   \n",
       "3  [0.9286112162621956, 0.0, 0.0, 0.0, 0.0, 0.0, ...   \n",
       "4  [0.4643056081310978, 0.7221347174331975, 0.0, ...   \n",
       "\n",
       "                                      centered_tfidf  \\\n",
       "0  [1.3929168243932932, 1.0407235633596081, -0.55...   \n",
       "1  [-0.46430560813109784, 0.3185888459264106, 0.7...   \n",
       "2  [-0.46430560813109784, -0.40354587150678684, 0...   \n",
       "3  [0.4643056081310977, -0.40354587150678684, -0....   \n",
       "4  [-5.551115123125783e-17, 0.3185888459264106, -...   \n",
       "\n",
       "                                          norm_tfidf  kmeans_feat  \\\n",
       "0  [0.13872833235603055, 0.10365144699245783, -0....            2   \n",
       "1  [-0.0366053111174823, 0.025117172007974302, 0....            0   \n",
       "2  [-0.039878871417135926, -0.03466026177351561, ...            4   \n",
       "3  [0.05153103151601464, -0.04478760251567384, -0...            2   \n",
       "4  [-4.7440082817341044e-18, 0.027226747960001838...            0   \n",
       "\n",
       "                                            lda_feat  \\\n",
       "0  [0.004123210676472138, 0.004221699712775576, 0...   \n",
       "1  [0.10911970806649235, 0.0026184934238192826, 0...   \n",
       "2  [0.34385937728479166, 0.0030246822808073863, 0...   \n",
       "3  [0.9773807751717845, 0.005439320982915274, 0.0...   \n",
       "4  [0.0030948447421712075, 0.003169136065015298, ...   \n",
       "\n",
       "                                            pca_feat  \n",
       "0  [-0.6752213340342722, -0.578543526841376, 0.07...  \n",
       "1  [-1.05600921972319, -0.16173650604120124, -1.7...  \n",
       "2  [0.19618219422530014, -0.3954758666709434, -0....  \n",
       "3  [-0.682379184988884, -0.07779816332342586, -0....  \n",
       "4  [-1.3508184757797228, -0.2786365081125683, -0....  "
      ]
     },
     "execution_count": 45,
     "metadata": {},
     "output_type": "execute_result"
    }
   ],
   "source": [
    "pipeline_model.transform(im_courses).toPandas().head()"
   ]
  },
  {
   "cell_type": "code",
   "execution_count": 46,
   "metadata": {
    "scrolled": false
   },
   "outputs": [
    {
     "name": "stdout",
     "output_type": "stream",
     "text": [
      "+-------+--------------------+-----------+--------------------+\n",
      "| course|            pca_feat|kmeans_feat|            lda_feat|\n",
      "+-------+--------------------+-----------+--------------------+\n",
      "|IST 553|[-0.6752213340342...|          2|[0.00412321067647...|\n",
      "|IST 558|[-1.0560092197231...|          0|[0.10911970806649...|\n",
      "|IST 565|[0.19618219422530...|          4|[0.34385937728479...|\n",
      "|IST 601|[-0.6823791849888...|          2|[0.97738077517178...|\n",
      "|IST 614|[-1.3508184757797...|          0|[0.00309484474217...|\n",
      "|IST 617|[-1.0011668423934...|          2|[0.00315293935360...|\n",
      "|IST 618|[0.07015134336408...|          1|[0.00225739615110...|\n",
      "|IST 619|[-0.8783462827126...|          0|[0.00309537201420...|\n",
      "|IST 621|[-0.6168769630890...|          2|[0.00462955145624...|\n",
      "|IST 631|[-1.1184062933773...|          2|[0.98482819545141...|\n",
      "|IST 639|[8.23698193178384...|          2|[0.00227679153441...|\n",
      "|IST 641|[-2.1217616801297...|          2|[0.00280494324485...|\n",
      "|IST 645|[-1.6269837851599...|          1|[0.00354686511507...|\n",
      "|IST 649|[-0.5970215061387...|          2|[0.13798976125046...|\n",
      "|IST 653|[0.19330027837030...|          2|[0.00440169639677...|\n",
      "|IST 654|[-0.0474336068345...|          1|[0.00327760537681...|\n",
      "|IST 656|[-0.6389243479083...|          2|[0.00591902958457...|\n",
      "|IST 657|[-0.4549230319204...|          2|[0.34007304954143...|\n",
      "|IST 659|[2.48017259580619...|          2|[0.00262599739182...|\n",
      "|IST 662|[-0.9587498592994...|          4|[0.00340171220381...|\n",
      "+-------+--------------------+-----------+--------------------+\n",
      "only showing top 20 rows\n",
      "\n"
     ]
    }
   ],
   "source": [
    "# note: pca_feat col is the PCA loadings\n",
    "pipeline_model.transform(im_courses).select('course', 'pca_feat', 'kmeans_feat', 'lda_feat').show()"
   ]
  },
  {
   "cell_type": "markdown",
   "metadata": {},
   "source": [
    "# Interpreation\n",
    "\n",
    "We can examine the PCA loadings:"
   ]
  },
  {
   "cell_type": "code",
   "execution_count": 47,
   "metadata": {},
   "outputs": [],
   "source": [
    "import pandas as pd"
   ]
  },
  {
   "cell_type": "code",
   "execution_count": 48,
   "metadata": {},
   "outputs": [
    {
     "data": {
      "text/plain": [
       "[RegexTokenizer_9e77c18c31e8,\n",
       " StopWordsRemover_881ef9af5ce8,\n",
       " CountVectorizer_1070039780d5,\n",
       " IDF_fafeeebf42c0,\n",
       " Densify_e4856e9a16b4,\n",
       " StandardScaler_27050ce4d0da,\n",
       " Normalizer_c118dbbeb5a1,\n",
       " KMeans_c7ce074906be,\n",
       " LDA_43c67c47959b,\n",
       " PCA_64cd20ca0cf4]"
      ]
     },
     "execution_count": 48,
     "metadata": {},
     "output_type": "execute_result"
    }
   ],
   "source": [
    "pipeline_model.stages"
   ]
  },
  {
   "cell_type": "code",
   "execution_count": 49,
   "metadata": {},
   "outputs": [],
   "source": [
    "pca_model = pipeline_model.stages[-1]"
   ]
  },
  {
   "cell_type": "code",
   "execution_count": 50,
   "metadata": {},
   "outputs": [],
   "source": [
    "pc1 = pca_model.pc.toArray()[:, 0].tolist()\n",
    "pc2 = pca_model.pc.toArray()[:, 1].tolist()\n",
    "pc3 = pca_model.pc.toArray()[:, 2].tolist()"
   ]
  },
  {
   "cell_type": "code",
   "execution_count": 51,
   "metadata": {},
   "outputs": [],
   "source": [
    "vocabulary = pipeline_model.stages[2].vocabulary"
   ]
  },
  {
   "cell_type": "code",
   "execution_count": 52,
   "metadata": {
    "scrolled": true
   },
   "outputs": [
    {
     "name": "stdout",
     "output_type": "stream",
     "text": [
      "(357, 4)\n"
     ]
    }
   ],
   "source": [
    "pc_loadings = pd.DataFrame([vocabulary, pc1, pc2, pc3]).T.rename(columns={0: 'word', \n",
    "                                                                          1: 'load_pc1',\n",
    "                                                                          2: 'load_pc2',\n",
    "                                                                          3: 'load_pc3',})\n",
    "print(pc_loadings.shape)"
   ]
  },
  {
   "cell_type": "markdown",
   "metadata": {},
   "source": [
    "Show the smallest and largest loadings"
   ]
  },
  {
   "cell_type": "code",
   "execution_count": 53,
   "metadata": {},
   "outputs": [
    {
     "data": {
      "text/html": [
       "<div>\n",
       "<style scoped>\n",
       "    .dataframe tbody tr th:only-of-type {\n",
       "        vertical-align: middle;\n",
       "    }\n",
       "\n",
       "    .dataframe tbody tr th {\n",
       "        vertical-align: top;\n",
       "    }\n",
       "\n",
       "    .dataframe thead th {\n",
       "        text-align: right;\n",
       "    }\n",
       "</style>\n",
       "<table border=\"1\" class=\"dataframe\">\n",
       "  <thead>\n",
       "    <tr style=\"text-align: right;\">\n",
       "      <th></th>\n",
       "      <th>word</th>\n",
       "      <th>load_pc1</th>\n",
       "      <th>load_pc2</th>\n",
       "      <th>load_pc3</th>\n",
       "    </tr>\n",
       "  </thead>\n",
       "  <tbody>\n",
       "    <tr>\n",
       "      <td>51</td>\n",
       "      <td>required</td>\n",
       "      <td>-0.067063</td>\n",
       "      <td>-0.0054385</td>\n",
       "      <td>-0.0715218</td>\n",
       "    </tr>\n",
       "    <tr>\n",
       "      <td>32</td>\n",
       "      <td>processing</td>\n",
       "      <td>-0.0654304</td>\n",
       "      <td>-0.00737648</td>\n",
       "      <td>-0.0743025</td>\n",
       "    </tr>\n",
       "    <tr>\n",
       "      <td>62</td>\n",
       "      <td>linguistic</td>\n",
       "      <td>-0.0613542</td>\n",
       "      <td>-0.00504601</td>\n",
       "      <td>-0.0764562</td>\n",
       "    </tr>\n",
       "    <tr>\n",
       "      <td>69</td>\n",
       "      <td>computational</td>\n",
       "      <td>-0.0613542</td>\n",
       "      <td>-0.00504601</td>\n",
       "      <td>-0.0764562</td>\n",
       "    </tr>\n",
       "    <tr>\n",
       "      <td>6</td>\n",
       "      <td>students</td>\n",
       "      <td>-0.0579638</td>\n",
       "      <td>-0.00405441</td>\n",
       "      <td>-0.0680286</td>\n",
       "    </tr>\n",
       "    <tr>\n",
       "      <td>79</td>\n",
       "      <td>architecture</td>\n",
       "      <td>0.188491</td>\n",
       "      <td>0.051103</td>\n",
       "      <td>-0.00445523</td>\n",
       "    </tr>\n",
       "    <tr>\n",
       "      <td>106</td>\n",
       "      <td>complex</td>\n",
       "      <td>0.188491</td>\n",
       "      <td>0.051103</td>\n",
       "      <td>-0.00445523</td>\n",
       "    </tr>\n",
       "    <tr>\n",
       "      <td>46</td>\n",
       "      <td>enterprise</td>\n",
       "      <td>0.254813</td>\n",
       "      <td>0.453853</td>\n",
       "      <td>0.0290984</td>\n",
       "    </tr>\n",
       "    <tr>\n",
       "      <td>28</td>\n",
       "      <td>databases</td>\n",
       "      <td>0.275076</td>\n",
       "      <td>-0.199085</td>\n",
       "      <td>-0.0735311</td>\n",
       "    </tr>\n",
       "    <tr>\n",
       "      <td>22</td>\n",
       "      <td>database</td>\n",
       "      <td>0.538651</td>\n",
       "      <td>-0.366988</td>\n",
       "      <td>-0.0595601</td>\n",
       "    </tr>\n",
       "  </tbody>\n",
       "</table>\n",
       "</div>"
      ],
      "text/plain": [
       "              word   load_pc1    load_pc2    load_pc3\n",
       "51        required  -0.067063  -0.0054385  -0.0715218\n",
       "32      processing -0.0654304 -0.00737648  -0.0743025\n",
       "62      linguistic -0.0613542 -0.00504601  -0.0764562\n",
       "69   computational -0.0613542 -0.00504601  -0.0764562\n",
       "6         students -0.0579638 -0.00405441  -0.0680286\n",
       "79    architecture   0.188491    0.051103 -0.00445523\n",
       "106        complex   0.188491    0.051103 -0.00445523\n",
       "46      enterprise   0.254813    0.453853   0.0290984\n",
       "28       databases   0.275076   -0.199085  -0.0735311\n",
       "22        database   0.538651   -0.366988  -0.0595601"
      ]
     },
     "execution_count": 53,
     "metadata": {},
     "output_type": "execute_result"
    }
   ],
   "source": [
    "# smallest and biggest loadings of pc1\n",
    "pd.concat((pc_loadings.sort_values('load_pc1').head(), \n",
    "           pc_loadings.sort_values('load_pc1').tail()))"
   ]
  },
  {
   "cell_type": "code",
   "execution_count": 54,
   "metadata": {},
   "outputs": [
    {
     "data": {
      "text/html": [
       "<div>\n",
       "<style scoped>\n",
       "    .dataframe tbody tr th:only-of-type {\n",
       "        vertical-align: middle;\n",
       "    }\n",
       "\n",
       "    .dataframe tbody tr th {\n",
       "        vertical-align: top;\n",
       "    }\n",
       "\n",
       "    .dataframe thead th {\n",
       "        text-align: right;\n",
       "    }\n",
       "</style>\n",
       "<table border=\"1\" class=\"dataframe\">\n",
       "  <thead>\n",
       "    <tr style=\"text-align: right;\">\n",
       "      <th></th>\n",
       "      <th>word</th>\n",
       "      <th>load_pc1</th>\n",
       "      <th>load_pc2</th>\n",
       "      <th>load_pc3</th>\n",
       "    </tr>\n",
       "  </thead>\n",
       "  <tbody>\n",
       "    <tr>\n",
       "      <td>22</td>\n",
       "      <td>database</td>\n",
       "      <td>0.538651</td>\n",
       "      <td>-0.366988</td>\n",
       "      <td>-0.0595601</td>\n",
       "    </tr>\n",
       "    <tr>\n",
       "      <td>28</td>\n",
       "      <td>databases</td>\n",
       "      <td>0.275076</td>\n",
       "      <td>-0.199085</td>\n",
       "      <td>-0.0735311</td>\n",
       "    </tr>\n",
       "    <tr>\n",
       "      <td>116</td>\n",
       "      <td>warehouses</td>\n",
       "      <td>0.116554</td>\n",
       "      <td>-0.097372</td>\n",
       "      <td>-0.0149755</td>\n",
       "    </tr>\n",
       "    <tr>\n",
       "      <td>130</td>\n",
       "      <td>security</td>\n",
       "      <td>0.116207</td>\n",
       "      <td>-0.094556</td>\n",
       "      <td>0.129068</td>\n",
       "    </tr>\n",
       "    <tr>\n",
       "      <td>178</td>\n",
       "      <td>forms</td>\n",
       "      <td>0.134663</td>\n",
       "      <td>-0.091747</td>\n",
       "      <td>-0.01489</td>\n",
       "    </tr>\n",
       "    <tr>\n",
       "      <td>204</td>\n",
       "      <td>comprise</td>\n",
       "      <td>0.0849375</td>\n",
       "      <td>0.151284</td>\n",
       "      <td>0.00969948</td>\n",
       "    </tr>\n",
       "    <tr>\n",
       "      <td>5</td>\n",
       "      <td>systems</td>\n",
       "      <td>0.0903704</td>\n",
       "      <td>0.160692</td>\n",
       "      <td>-0.0276732</td>\n",
       "    </tr>\n",
       "    <tr>\n",
       "      <td>31</td>\n",
       "      <td>large</td>\n",
       "      <td>0.144783</td>\n",
       "      <td>0.263025</td>\n",
       "      <td>0.0181318</td>\n",
       "    </tr>\n",
       "    <tr>\n",
       "      <td>110</td>\n",
       "      <td>computing</td>\n",
       "      <td>0.169875</td>\n",
       "      <td>0.302568</td>\n",
       "      <td>0.019399</td>\n",
       "    </tr>\n",
       "    <tr>\n",
       "      <td>46</td>\n",
       "      <td>enterprise</td>\n",
       "      <td>0.254813</td>\n",
       "      <td>0.453853</td>\n",
       "      <td>0.0290984</td>\n",
       "    </tr>\n",
       "  </tbody>\n",
       "</table>\n",
       "</div>"
      ],
      "text/plain": [
       "           word   load_pc1  load_pc2    load_pc3\n",
       "22     database   0.538651 -0.366988  -0.0595601\n",
       "28    databases   0.275076 -0.199085  -0.0735311\n",
       "116  warehouses   0.116554 -0.097372  -0.0149755\n",
       "130    security   0.116207 -0.094556    0.129068\n",
       "178       forms   0.134663 -0.091747    -0.01489\n",
       "204    comprise  0.0849375  0.151284  0.00969948\n",
       "5       systems  0.0903704  0.160692  -0.0276732\n",
       "31        large   0.144783  0.263025   0.0181318\n",
       "110   computing   0.169875  0.302568    0.019399\n",
       "46   enterprise   0.254813  0.453853   0.0290984"
      ]
     },
     "execution_count": 54,
     "metadata": {},
     "output_type": "execute_result"
    }
   ],
   "source": [
    "# smallest and biggest loadings of pc2\n",
    "pd.concat((pc_loadings.sort_values('load_pc2').head(), \n",
    "           pc_loadings.sort_values('load_pc2').tail()))"
   ]
  },
  {
   "cell_type": "code",
   "execution_count": 55,
   "metadata": {
    "scrolled": false
   },
   "outputs": [
    {
     "data": {
      "text/html": [
       "<div>\n",
       "<style scoped>\n",
       "    .dataframe tbody tr th:only-of-type {\n",
       "        vertical-align: middle;\n",
       "    }\n",
       "\n",
       "    .dataframe tbody tr th {\n",
       "        vertical-align: top;\n",
       "    }\n",
       "\n",
       "    .dataframe thead th {\n",
       "        text-align: right;\n",
       "    }\n",
       "</style>\n",
       "<table border=\"1\" class=\"dataframe\">\n",
       "  <thead>\n",
       "    <tr style=\"text-align: right;\">\n",
       "      <th></th>\n",
       "      <th>word</th>\n",
       "      <th>load_pc1</th>\n",
       "      <th>load_pc2</th>\n",
       "      <th>load_pc3</th>\n",
       "    </tr>\n",
       "  </thead>\n",
       "  <tbody>\n",
       "    <tr>\n",
       "      <td>42</td>\n",
       "      <td>metadata</td>\n",
       "      <td>-0.0223883</td>\n",
       "      <td>0.0428104</td>\n",
       "      <td>-0.194214</td>\n",
       "    </tr>\n",
       "    <tr>\n",
       "      <td>2</td>\n",
       "      <td>data</td>\n",
       "      <td>0.0864014</td>\n",
       "      <td>-0.0851734</td>\n",
       "      <td>-0.133236</td>\n",
       "    </tr>\n",
       "    <tr>\n",
       "      <td>50</td>\n",
       "      <td>projects</td>\n",
       "      <td>-0.0324584</td>\n",
       "      <td>0.0187311</td>\n",
       "      <td>-0.0871006</td>\n",
       "    </tr>\n",
       "    <tr>\n",
       "      <td>25</td>\n",
       "      <td>modeling</td>\n",
       "      <td>0.00457799</td>\n",
       "      <td>-0.00875369</td>\n",
       "      <td>-0.0798089</td>\n",
       "    </tr>\n",
       "    <tr>\n",
       "      <td>128</td>\n",
       "      <td>administration</td>\n",
       "      <td>0.0155463</td>\n",
       "      <td>-0.00854415</td>\n",
       "      <td>-0.079552</td>\n",
       "    </tr>\n",
       "    <tr>\n",
       "      <td>200</td>\n",
       "      <td>expression</td>\n",
       "      <td>0.000723382</td>\n",
       "      <td>-0.0184146</td>\n",
       "      <td>0.165259</td>\n",
       "    </tr>\n",
       "    <tr>\n",
       "      <td>313</td>\n",
       "      <td>library</td>\n",
       "      <td>0.000723382</td>\n",
       "      <td>-0.0184146</td>\n",
       "      <td>0.165259</td>\n",
       "    </tr>\n",
       "    <tr>\n",
       "      <td>38</td>\n",
       "      <td>economic</td>\n",
       "      <td>-0.0149275</td>\n",
       "      <td>-0.0125956</td>\n",
       "      <td>0.184823</td>\n",
       "    </tr>\n",
       "    <tr>\n",
       "      <td>94</td>\n",
       "      <td>public</td>\n",
       "      <td>0.00144676</td>\n",
       "      <td>-0.0368293</td>\n",
       "      <td>0.330519</td>\n",
       "    </tr>\n",
       "    <tr>\n",
       "      <td>82</td>\n",
       "      <td>policy</td>\n",
       "      <td>0.00144676</td>\n",
       "      <td>-0.0368293</td>\n",
       "      <td>0.330519</td>\n",
       "    </tr>\n",
       "  </tbody>\n",
       "</table>\n",
       "</div>"
      ],
      "text/plain": [
       "               word     load_pc1    load_pc2   load_pc3\n",
       "42         metadata   -0.0223883   0.0428104  -0.194214\n",
       "2              data    0.0864014  -0.0851734  -0.133236\n",
       "50         projects   -0.0324584   0.0187311 -0.0871006\n",
       "25         modeling   0.00457799 -0.00875369 -0.0798089\n",
       "128  administration    0.0155463 -0.00854415  -0.079552\n",
       "200      expression  0.000723382  -0.0184146   0.165259\n",
       "313         library  0.000723382  -0.0184146   0.165259\n",
       "38         economic   -0.0149275  -0.0125956   0.184823\n",
       "94           public   0.00144676  -0.0368293   0.330519\n",
       "82           policy   0.00144676  -0.0368293   0.330519"
      ]
     },
     "execution_count": 55,
     "metadata": {},
     "output_type": "execute_result"
    }
   ],
   "source": [
    "# smallest and biggest loadings of pc3\n",
    "pd.concat((pc_loadings.sort_values('load_pc3').head(), \n",
    "           pc_loadings.sort_values('load_pc3').tail()))"
   ]
  },
  {
   "cell_type": "markdown",
   "metadata": {},
   "source": [
    "# Visualize fit with 2 dimensional PCA"
   ]
  },
  {
   "cell_type": "code",
   "execution_count": 56,
   "metadata": {},
   "outputs": [],
   "source": [
    "pipeline2_model = Pipeline(stages=[tokenizer, sw_filter, cv, idf, dense_tfidf, \n",
    "                                   feature.Normalizer(inputCol='dense_tfidf', outputCol='norm_tfidf'), \n",
    "                                   feature.StandardScaler(withMean=True, withStd=False, \n",
    "                                                          inputCol='norm_tfidf',\n",
    "                                                          outputCol='centered_tfidf'),\n",
    "                                   feature.PCA(k=2, inputCol='centered_tfidf', outputCol='pca_feat2')])\\\n",
    "    .fit(im_courses)"
   ]
  },
  {
   "cell_type": "code",
   "execution_count": 57,
   "metadata": {},
   "outputs": [],
   "source": [
    "course_names = np.array(im_courses.select('course').rdd.map(lambda x: x['course']).collect())\n",
    "X = np.array(pipeline2_model.transform(im_courses).select('pca_feat2').rdd.map(lambda x: x['pca_feat2']).collect())"
   ]
  },
  {
   "cell_type": "code",
   "execution_count": 58,
   "metadata": {},
   "outputs": [],
   "source": [
    "idx = np.abs(X[:, 0]) < 0.2\n",
    "X = X[idx]\n",
    "course_names = course_names[idx]"
   ]
  },
  {
   "cell_type": "code",
   "execution_count": 59,
   "metadata": {},
   "outputs": [
    {
     "data": {
      "image/png": "[encoded data removed]",
      "text/plain": [
       "<Figure size 432x288 with 1 Axes>"
      ]
     },
     "metadata": {
      "needs_background": "light"
     },
     "output_type": "display_data"
    }
   ],
   "source": [
    "fig, ax = plt.subplots()\n",
    "ax.scatter(X[:,0], X[:,1])\n",
    "\n",
    "for i, txt in enumerate(course_names):\n",
    "    ax.annotate(txt, (X[i,0], X[i,1]))"
   ]
  },
  {
   "cell_type": "code",
   "execution_count": 60,
   "metadata": {},
   "outputs": [],
   "source": [
    "pca_model = pipeline2_model.stages[-1]"
   ]
  },
  {
   "cell_type": "code",
   "execution_count": 61,
   "metadata": {},
   "outputs": [],
   "source": [
    "pc1 = pca_model.pc.toArray()[:, 0].tolist()\n",
    "pc2 = pca_model.pc.toArray()[:, 1].tolist()"
   ]
  },
  {
   "cell_type": "code",
   "execution_count": 62,
   "metadata": {},
   "outputs": [],
   "source": [
    "vocabulary = pipeline2_model.stages[2].vocabulary"
   ]
  },
  {
   "cell_type": "code",
   "execution_count": 63,
   "metadata": {},
   "outputs": [],
   "source": [
    "pc_loadings = pd.DataFrame([vocabulary, pc1, pc2]).T.rename(columns={0: 'word', \n",
    "                                                                     1: 'load_pc1',\n",
    "                                                                     2: 'load_pc2'})"
   ]
  },
  {
   "cell_type": "code",
   "execution_count": 64,
   "metadata": {},
   "outputs": [
    {
     "data": {
      "text/html": [
       "<div>\n",
       "<style scoped>\n",
       "    .dataframe tbody tr th:only-of-type {\n",
       "        vertical-align: middle;\n",
       "    }\n",
       "\n",
       "    .dataframe tbody tr th {\n",
       "        vertical-align: top;\n",
       "    }\n",
       "\n",
       "    .dataframe thead th {\n",
       "        text-align: right;\n",
       "    }\n",
       "</style>\n",
       "<table border=\"1\" class=\"dataframe\">\n",
       "  <thead>\n",
       "    <tr style=\"text-align: right;\">\n",
       "      <th></th>\n",
       "      <th>word</th>\n",
       "      <th>load_pc1</th>\n",
       "    </tr>\n",
       "  </thead>\n",
       "  <tbody>\n",
       "    <tr>\n",
       "      <td>16</td>\n",
       "      <td>research</td>\n",
       "      <td>0.11137</td>\n",
       "    </tr>\n",
       "    <tr>\n",
       "      <td>13</td>\n",
       "      <td>digital</td>\n",
       "      <td>0.0683895</td>\n",
       "    </tr>\n",
       "    <tr>\n",
       "      <td>6</td>\n",
       "      <td>design</td>\n",
       "      <td>0.0668912</td>\n",
       "    </tr>\n",
       "    <tr>\n",
       "      <td>11</td>\n",
       "      <td>issues</td>\n",
       "      <td>0.0572029</td>\n",
       "    </tr>\n",
       "    <tr>\n",
       "      <td>36</td>\n",
       "      <td>networks</td>\n",
       "      <td>0.0537774</td>\n",
       "    </tr>\n",
       "  </tbody>\n",
       "</table>\n",
       "</div>"
      ],
      "text/plain": [
       "        word   load_pc1\n",
       "16  research    0.11137\n",
       "13   digital  0.0683895\n",
       "6     design  0.0668912\n",
       "11    issues  0.0572029\n",
       "36  networks  0.0537774"
      ]
     },
     "execution_count": 64,
     "metadata": {},
     "output_type": "execute_result"
    }
   ],
   "source": [
    "pc_loadings.sort_values('load_pc1').\\\n",
    "    apply({'word': lambda x: x, 'load_pc1': np.abs}, axis=0).head(5)"
   ]
  },
  {
   "cell_type": "code",
   "execution_count": 65,
   "metadata": {
    "scrolled": true
   },
   "outputs": [
    {
     "data": {
      "text/html": [
       "<div>\n",
       "<style scoped>\n",
       "    .dataframe tbody tr th:only-of-type {\n",
       "        vertical-align: middle;\n",
       "    }\n",
       "\n",
       "    .dataframe tbody tr th {\n",
       "        vertical-align: top;\n",
       "    }\n",
       "\n",
       "    .dataframe thead th {\n",
       "        text-align: right;\n",
       "    }\n",
       "</style>\n",
       "<table border=\"1\" class=\"dataframe\">\n",
       "  <thead>\n",
       "    <tr style=\"text-align: right;\">\n",
       "      <th></th>\n",
       "      <th>word</th>\n",
       "      <th>load_pc2</th>\n",
       "    </tr>\n",
       "  </thead>\n",
       "  <tbody>\n",
       "    <tr>\n",
       "      <td>16</td>\n",
       "      <td>research</td>\n",
       "      <td>0.346353</td>\n",
       "    </tr>\n",
       "    <tr>\n",
       "      <td>51</td>\n",
       "      <td>user</td>\n",
       "      <td>0.175591</td>\n",
       "    </tr>\n",
       "    <tr>\n",
       "      <td>68</td>\n",
       "      <td>transfer</td>\n",
       "      <td>0.16139</td>\n",
       "    </tr>\n",
       "    <tr>\n",
       "      <td>125</td>\n",
       "      <td>procedures</td>\n",
       "      <td>0.154404</td>\n",
       "    </tr>\n",
       "    <tr>\n",
       "      <td>77</td>\n",
       "      <td>practices</td>\n",
       "      <td>0.141174</td>\n",
       "    </tr>\n",
       "  </tbody>\n",
       "</table>\n",
       "</div>"
      ],
      "text/plain": [
       "           word  load_pc2\n",
       "16     research  0.346353\n",
       "51         user  0.175591\n",
       "68     transfer   0.16139\n",
       "125  procedures  0.154404\n",
       "77    practices  0.141174"
      ]
     },
     "execution_count": 65,
     "metadata": {},
     "output_type": "execute_result"
    }
   ],
   "source": [
    "pc_loadings.sort_values('load_pc2').\\\n",
    "    apply({'word': lambda x: x, 'load_pc2': np.abs}, axis=0).head(5)"
   ]
  },
  {
   "cell_type": "markdown",
   "metadata": {
    "collapsed": true
   },
   "source": [
    "# Examine LDA"
   ]
  },
  {
   "cell_type": "code",
   "execution_count": 66,
   "metadata": {},
   "outputs": [],
   "source": [
    "lda_model = pipeline_model.stages[-2]"
   ]
  },
  {
   "cell_type": "code",
   "execution_count": 67,
   "metadata": {},
   "outputs": [
    {
     "name": "stdout",
     "output_type": "stream",
     "text": [
      "+-----+-----------+--------------------+\n",
      "|topic|termIndices|         termWeights|\n",
      "+-----+-----------+--------------------+\n",
      "|    0|  [30, 125]|[0.02220123351045...|\n",
      "|    1|  [112, 11]|[0.01422692714712...|\n",
      "|    2|    [5, 57]|[0.01304006828722...|\n",
      "|    3|    [97, 8]|[0.01955937503657...|\n",
      "|    4|   [70, 36]|[0.02560311340179...|\n",
      "+-----+-----------+--------------------+\n",
      "\n"
     ]
    }
   ],
   "source": [
    "lda_model.describeTopics(maxTermsPerTopic=2).show()"
   ]
  },
  {
   "cell_type": "code",
   "execution_count": 68,
   "metadata": {},
   "outputs": [],
   "source": [
    "# get the terms\n",
    "terms_matrix = np.array(lda_model.describeTopics(2).rdd.map(lambda x: x['termIndices']).collect())"
   ]
  },
  {
   "cell_type": "code",
   "execution_count": 69,
   "metadata": {},
   "outputs": [
    {
     "data": {
      "text/plain": [
       "array([['experience', 'procedures'],\n",
       "       ['internet', 'issues'],\n",
       "       ['concepts', 'principles'],\n",
       "       ['quality', 'introduction'],\n",
       "       ['models', 'networks']], dtype='<U18')"
      ]
     },
     "execution_count": 69,
     "metadata": {},
     "output_type": "execute_result"
    }
   ],
   "source": [
    "np.array(vocabulary)[terms_matrix]"
   ]
  },
  {
   "cell_type": "code",
   "execution_count": 70,
   "metadata": {},
   "outputs": [
    {
     "data": {
      "text/plain": [
       "DenseVector([0.0042, 0.0043, 0.0045, 0.0047, 0.9823])"
      ]
     },
     "execution_count": 70,
     "metadata": {},
     "output_type": "execute_result"
    }
   ],
   "source": [
    "# which topic best describes IST 718\n",
    "pipeline_model.transform(im_courses).where(\"course == 'IST 718'\").first()['lda_feat']"
   ]
  },
  {
   "cell_type": "markdown",
   "metadata": {},
   "source": [
    "# Examine K-means"
   ]
  },
  {
   "cell_type": "code",
   "execution_count": 71,
   "metadata": {},
   "outputs": [
    {
     "data": {
      "text/plain": [
       "array([[1,\n",
       "        list(['IST 618-Information Policy', 'IST 645-Managing Information Systems Projects', 'IST 654-Information Systems Analysis', 'IST 664-Natural Language Processing', 'IST 722-Data Warehouse', 'IST 736-Text Mining'])],\n",
       "       [3, list(['IST 681-Metadata'])],\n",
       "       [4,\n",
       "        list(['IST 565-Data Mining', 'IST 662-Instructional Strategies and Techniques for Information Professionals', 'IST 718-Advanced Information Analytics', 'IST 719-Information Visualization'])],\n",
       "       [2,\n",
       "        list(['IST 553-Information Architecture for Internet Services', 'IST 601-Information and Information Environments', 'IST 617-Motivational Aspects of Information Use', 'IST 621-Introduction to Information Management', 'IST 631-Theory of Classification and Subject Representation', 'IST 639-Enterprise Technologies', 'IST 641-User-Based Design', 'IST 649-Human Interaction with Computers', 'IST 653-Telecommunications and Enterprise Network Management I', 'IST 656-Telecommunications and Enterprise Network Management II', 'IST 657-Basics of Information Retrieval Systems', 'IST 659-Data Administration Concepts and Database Management', 'IST 676-Foundations of Digital Data', 'IST 677-Creating, Managing, and Preserving Digital Assets', 'IST 687-Applied Data Science', 'IST 755-Strategic Management of Information Resources', 'IST 769-Advanced Database Administration Concepts and Database Management', 'IST 776-Research Methods in Information Science and Technology', 'IST 777-Statistical Methods in Information Science and Technology', 'IST 971-Internship in Information Studies'])],\n",
       "       [0,\n",
       "        list(['IST 558-Technologies in Web Content Management', 'IST 614-Management Principles for Information Professionals', 'IST 619-Applied Economics for Information Managers'])]],\n",
       "      dtype=object)"
      ]
     },
     "execution_count": 71,
     "metadata": {},
     "output_type": "execute_result"
    }
   ],
   "source": [
    "pipeline_model.transform(im_courses).\\\n",
    "    groupBy('kmeans_feat').agg(fn.collect_list(\n",
    "    fn.concat_ws('-', fn.col('course'), fn.col('title'))).alias('courses')).toPandas().values"
   ]
  },
  {
   "cell_type": "markdown",
   "metadata": {},
   "source": [
    "\n",
    "# Make recommendations"
   ]
  },
  {
   "cell_type": "markdown",
   "metadata": {},
   "source": [
    "To make recommendations, we need compute the distance between a vector and all the other courses in our dataset. To do this, we need to define a User Defined Function (UDF) that takes as input two column vectors and returns the distance between them."
   ]
  },
  {
   "cell_type": "code",
   "execution_count": 72,
   "metadata": {},
   "outputs": [],
   "source": [
    "from pyspark.sql import types"
   ]
  },
  {
   "cell_type": "code",
   "execution_count": 73,
   "metadata": {},
   "outputs": [],
   "source": [
    "import numpy as np\n",
    "def l2_dist(c1, c2):    \n",
    "    return float(np.sqrt((c1 - c2).T.dot((c1 - c2))))"
   ]
  },
  {
   "cell_type": "markdown",
   "metadata": {},
   "source": [
    "Let's take the PCA features of IST 718."
   ]
  },
  {
   "cell_type": "code",
   "execution_count": 74,
   "metadata": {},
   "outputs": [],
   "source": [
    "l2_dist_udf = fn.udf(l2_dist, types.FloatType())"
   ]
  },
  {
   "cell_type": "markdown",
   "metadata": {},
   "source": [
    "Spark doesn't allow a join without a condition because it could be too computationally expensive. We have to enable it by running the following command"
   ]
  },
  {
   "cell_type": "code",
   "execution_count": 75,
   "metadata": {},
   "outputs": [
    {
     "name": "stdout",
     "output_type": "stream",
     "text": [
      "+--------------------+-----+\n",
      "|                 key|value|\n",
      "+--------------------+-----+\n",
      "|spark.sql.crossJo...| TRUE|\n",
      "+--------------------+-----+\n",
      "\n"
     ]
    }
   ],
   "source": [
    "spark.sql(\"SET spark.sql.crossJoin.enabled=TRUE\").show()"
   ]
  },
  {
   "cell_type": "code",
   "execution_count": 76,
   "metadata": {
    "scrolled": true
   },
   "outputs": [
    {
     "data": {
      "text/html": [
       "<div>\n",
       "<style scoped>\n",
       "    .dataframe tbody tr th:only-of-type {\n",
       "        vertical-align: middle;\n",
       "    }\n",
       "\n",
       "    .dataframe tbody tr th {\n",
       "        vertical-align: top;\n",
       "    }\n",
       "\n",
       "    .dataframe thead th {\n",
       "        text-align: right;\n",
       "    }\n",
       "</style>\n",
       "<table border=\"1\" class=\"dataframe\">\n",
       "  <thead>\n",
       "    <tr style=\"text-align: right;\">\n",
       "      <th></th>\n",
       "      <th>course</th>\n",
       "      <th>description</th>\n",
       "      <th>dist</th>\n",
       "    </tr>\n",
       "  </thead>\n",
       "  <tbody>\n",
       "    <tr>\n",
       "      <td>0</td>\n",
       "      <td>IST 718</td>\n",
       "      <td>A broad introduction to analytical processing ...</td>\n",
       "      <td>0.000000</td>\n",
       "    </tr>\n",
       "    <tr>\n",
       "      <td>1</td>\n",
       "      <td>IST 719</td>\n",
       "      <td>A broad introduction to data visualization for...</td>\n",
       "      <td>1.466475</td>\n",
       "    </tr>\n",
       "    <tr>\n",
       "      <td>2</td>\n",
       "      <td>IST 565</td>\n",
       "      <td>Introduction to data mining techniques, famili...</td>\n",
       "      <td>4.206517</td>\n",
       "    </tr>\n",
       "    <tr>\n",
       "      <td>3</td>\n",
       "      <td>IST 662</td>\n",
       "      <td>Introduction to information literacy models fo...</td>\n",
       "      <td>4.281012</td>\n",
       "    </tr>\n",
       "    <tr>\n",
       "      <td>4</td>\n",
       "      <td>IST 601</td>\n",
       "      <td>A broad overview of the field and an orientati...</td>\n",
       "      <td>4.523474</td>\n",
       "    </tr>\n",
       "  </tbody>\n",
       "</table>\n",
       "</div>"
      ],
      "text/plain": [
       "    course                                        description      dist\n",
       "0  IST 718  A broad introduction to analytical processing ...  0.000000\n",
       "1  IST 719  A broad introduction to data visualization for...  1.466475\n",
       "2  IST 565  Introduction to data mining techniques, famili...  4.206517\n",
       "3  IST 662  Introduction to information literacy models fo...  4.281012\n",
       "4  IST 601  A broad overview of the field and an orientati...  4.523474"
      ]
     },
     "execution_count": 76,
     "metadata": {},
     "output_type": "execute_result"
    }
   ],
   "source": [
    "pipeline_model.transform(im_courses).\\\n",
    "    where('course == \"IST 718\"').\\\n",
    "    select(fn.col(\"pca_feat\").alias('query_feat')).\\\n",
    "    join(pipeline_model.transform(im_courses)).\\\n",
    "    withColumn('dist', l2_dist_udf('pca_feat', 'query_feat')).\\\n",
    "    select(\"course\", \"description\", \"dist\").\\\n",
    "    orderBy(fn.asc(\"dist\")).\\\n",
    "    limit(5).\\\n",
    "    toPandas()"
   ]
  },
  {
   "cell_type": "markdown",
   "metadata": {},
   "source": [
    "To Do:  Create a biplot as part of this notebook"
   ]
  },
  {
   "cell_type": "code",
   "execution_count": 77,
   "metadata": {},
   "outputs": [],
   "source": [
    "def biplot(score,coeff,score_labels=None, col_labels=None):\n",
    "    xs = score[:,0]\n",
    "    ys = score[:,1]\n",
    "    n = coeff.shape[0]\n",
    "    scalex = 1.0/(xs.max() - xs.min())\n",
    "    scaley = 1.0/(ys.max() - ys.min())\n",
    "    \n",
    "    plt.scatter(xs * scalex, ys * scaley, c = score_labels)\n",
    "    for i in range(n):\n",
    "        plt.arrow(0, 0, coeff[i,0], coeff[i,1],color = 'r',alpha = 0.5)\n",
    "        if col_labels is None:\n",
    "            plt.text(coeff[i,0]* 1.15, coeff[i,1] * 1.15, \"Var\"+str(i+1), color = 'g', ha = 'center', va = 'center')\n",
    "        else:\n",
    "            plt.text(coeff[i,0]* 1.15, coeff[i,1] * 1.15, col_labels[i], color = 'g', ha = 'center', va = 'center')\n",
    "    plt.xlim(-1,1)\n",
    "    plt.ylim(-1,1)\n",
    "    plt.xlabel(\"PC{}\".format(1))\n",
    "    plt.ylabel(\"PC{}\".format(2))\n",
    "    plt.grid()"
   ]
  }
 ],
 "metadata": {
  "anaconda-cloud": {},
  "kernelspec": {
   "display_name": "Python 3",
   "language": "python",
   "name": "python3"
  },
  "language_info": {
   "codemirror_mode": {
    "name": "ipython",
    "version": 3
   },
   "file_extension": ".py",
   "mimetype": "text/x-python",
   "name": "python",
   "nbconvert_exporter": "python",
   "pygments_lexer": "ipython3",
   "version": "3.7.6"
  },
  "name": "unit+08-unsupervised+learning",
  "notebookId": 2171802735104084
 },
 "nbformat": 4,
 "nbformat_minor": 1
}
