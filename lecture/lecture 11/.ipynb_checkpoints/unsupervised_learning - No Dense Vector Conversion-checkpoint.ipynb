{
 "cells": [
  {
   "cell_type": "markdown",
   "metadata": {},
   "source": [
    "# Unsupervised learning"
   ]
  },
  {
   "cell_type": "code",
   "execution_count": 65,
   "metadata": {},
   "outputs": [],
   "source": [
    "from pyspark.ml import feature\n",
    "from pyspark.ml import clustering\n",
    "from pyspark.ml import Pipeline\n",
    "from pyspark.sql import functions as fn\n",
    "import numpy as np\n",
    "from pyspark.sql import SparkSession\n",
    "from pyspark.ml import feature, regression, evaluation, Pipeline\n",
    "from pyspark.sql import functions as fn, Row\n",
    "import matplotlib.pyplot as plt\n",
    "import pandas as pd\n",
    "\n",
    "# seting master(\"local[*]\") enables multicore processing on all available logical cores on your machine\n",
    "spark = SparkSession.builder.master(\"local[*]\").getOrCreate()\n",
    "sc = spark.sparkContext"
   ]
  },
  {
   "cell_type": "code",
   "execution_count": 66,
   "metadata": {},
   "outputs": [],
   "source": [
    "import os\n",
    "\n",
    "# Define a function to determine if we are running on data bricks\n",
    "# Return true if running in the data bricks environment, false otherwise\n",
    "def is_databricks():\n",
    "    # get the databricks runtime version\n",
    "    db_env = os.getenv(\"DATABRICKS_RUNTIME_VERSION\")\n",
    "    \n",
    "    # if running on data bricks\n",
    "    if db_env != None:\n",
    "        return True\n",
    "    else:\n",
    "        return False"
   ]
  },
  {
   "cell_type": "markdown",
   "metadata": {},
   "source": [
    "# PCA example with diabetes dataset"
   ]
  },
  {
   "cell_type": "code",
   "execution_count": 67,
   "metadata": {},
   "outputs": [],
   "source": [
    "# we will use pandas to display the data nicely\n",
    "datasource = pd.read_csv('http://www4.stat.ncsu.edu/~boos/var.select/diabetes.tab.txt', delimiter='\\t')\n",
    "datasource.columns = ['age', 'sex', 'bmi', 'map', 'tc', 'ldl', 'hdl', 'tch', 'ltg', 'glu', 'disease_progression']\n",
    "diabetes_df = spark.createDataFrame(datasource)"
   ]
  },
  {
   "cell_type": "code",
   "execution_count": 68,
   "metadata": {},
   "outputs": [
    {
     "name": "stdout",
     "output_type": "stream",
     "text": [
      "datasource: (442, 11)\n"
     ]
    },
    {
     "data": {
      "text/plain": [
       "DataFrame[age: bigint, sex: bigint, bmi: double, map: double, tc: bigint, ldl: double, hdl: double, tch: double, ltg: double, glu: bigint, disease_progression: bigint]"
      ]
     },
     "execution_count": 68,
     "metadata": {},
     "output_type": "execute_result"
    }
   ],
   "source": [
    "print(\"datasource:\", datasource.shape)\n",
    "diabetes_df"
   ]
  },
  {
   "cell_type": "markdown",
   "metadata": {},
   "source": [
    "## Build a pipeline"
   ]
  },
  {
   "cell_type": "code",
   "execution_count": 69,
   "metadata": {},
   "outputs": [],
   "source": [
    "pipeline_diabetes = Pipeline(stages=[\n",
    "    # vector assembler concatenates the specified input cols into vectors in the specified output col \n",
    "    feature.VectorAssembler(inputCols=['age', 'sex', 'bmi', 'map', 'tc', 'ldl', 'hdl', 'tch', 'ltg', 'glu'],\n",
    "                           outputCol='features'),\n",
    "    feature.StandardScaler(withMean=True,\n",
    "                           inputCol='features', outputCol='zfeatures'),\n",
    "    # build a principal component object with the same number of components as features (10)\n",
    "    feature.PCA(k=10, inputCol='zfeatures', outputCol='scores')\n",
    "]).fit(diabetes_df)"
   ]
  },
  {
   "cell_type": "markdown",
   "metadata": {},
   "source": [
    "The `loadings` array are the loadings in ISLR equation 10.1.  The loadings are the coefficients in equation 10.1 that are used to perform the linear combination of column vectors in the dataset.  The linear combination of column vectors forms a principal component where each principal component captures a degree of variance in the data.  The first principal component captures the highest degree of variance, the 2nd principal component captures the next highest degree of variance in an orthoganal direction, etc.  <br> <br>\n",
    "Each loading vector represents a specific direction in the data set's p dimensional space (where p is the number of features) which captures variance.  The direction of the loading vector associated with the first principal component represents the direction which captures the most variance in the data.  The loading vector associated with the 2nd principal component is orthogonal to the 1st component and captures the 2nd most varinace, etc."
   ]
  },
  {
   "cell_type": "code",
   "execution_count": 70,
   "metadata": {},
   "outputs": [],
   "source": [
    "loadings = pipeline_diabetes.stages[-1].pc.toArray()"
   ]
  },
  {
   "cell_type": "code",
   "execution_count": 71,
   "metadata": {
    "scrolled": true
   },
   "outputs": [
    {
     "name": "stdout",
     "output_type": "stream",
     "text": [
      "loadings.shape (10, 10)\n",
      "[-0.2164309  -0.18696688 -0.30316216 -0.27173773 -0.34325511 -0.35186068\n",
      "  0.28243681 -0.4288337  -0.37861802 -0.32218296]\n"
     ]
    }
   ],
   "source": [
    "print(\"loadings.shape\", loadings.shape)\n",
    "\n",
    "# print the first column of the loading matrix - the first principal component\n",
    "print(loadings[:,0])"
   ]
  },
  {
   "cell_type": "markdown",
   "metadata": {},
   "source": [
    "The proportion of explained variance associated with each of the principal components is found in the explainedVariance attribute of the PCA object.  The explained variance shows the percentage of variance captured by each of the principal components.  For example, the first component captures 40.24 percent of the total variance in the diabetes dataset.  The 2nd component captures 14.92 percent of the total variance."
   ]
  },
  {
   "cell_type": "code",
   "execution_count": 72,
   "metadata": {
    "scrolled": true
   },
   "outputs": [
    {
     "data": {
      "text/plain": [
       "DenseVector([0.4024, 0.1492, 0.1206, 0.0955, 0.0662, 0.0603, 0.0537, 0.0434, 0.0078, 0.0009])"
      ]
     },
     "execution_count": 72,
     "metadata": {},
     "output_type": "execute_result"
    }
   ],
   "source": [
    "pipeline_diabetes.stages[-1].explainedVariance"
   ]
  },
  {
   "cell_type": "markdown",
   "metadata": {},
   "source": [
    "Note that if we sum the explained variance vector that it sums to 1 (or 100%, or very very close to 100%)."
   ]
  },
  {
   "cell_type": "code",
   "execution_count": 73,
   "metadata": {},
   "outputs": [
    {
     "data": {
      "text/plain": [
       "0.9999999999999998"
      ]
     },
     "execution_count": 73,
     "metadata": {},
     "output_type": "execute_result"
    }
   ],
   "source": [
    "sum(pipeline_diabetes.stages[-1].explainedVariance)"
   ]
  },
  {
   "cell_type": "markdown",
   "metadata": {},
   "source": [
    "The cell below generates a \"scree polot\" using the explainedVariance attribute.  See ISLR figure 10.4."
   ]
  },
  {
   "cell_type": "code",
   "execution_count": 74,
   "metadata": {},
   "outputs": [
    {
     "data": {
      "text/plain": [
       "Text(0, 0.5, 'Proportion Variance Explained')"
      ]
     },
     "execution_count": 74,
     "metadata": {},
     "output_type": "execute_result"
    },
    {
     "data": {
      "image/png": "[encoded data removed]",
      "text/plain": [
       "<Figure size 432x288 with 1 Axes>"
      ]
     },
     "metadata": {
      "needs_background": "light"
     },
     "output_type": "display_data"
    }
   ],
   "source": [
    "plt.figure()\n",
    "explained_var = pipeline_diabetes.stages[-1].explainedVariance\n",
    "plt.plot(np.arange(1, len(explained_var)+1), explained_var)\n",
    "plt.title(\"Diabetes Dataset Scree Plot\")\n",
    "plt.xlabel(\"Principal Component\")\n",
    "plt.ylabel(\"Proportion Variance Explained\")"
   ]
  },
  {
   "cell_type": "markdown",
   "metadata": {},
   "source": [
    "Here is another way of looking at the explained variance - plot the cumulative variance vs. the principal components.  See ISLR figure 10.4."
   ]
  },
  {
   "cell_type": "code",
   "execution_count": 75,
   "metadata": {},
   "outputs": [
    {
     "data": {
      "text/plain": [
       "Text(0, 0.5, 'Cumulative Sum of Variance Explained')"
      ]
     },
     "execution_count": 75,
     "metadata": {},
     "output_type": "execute_result"
    },
    {
     "data": {
      "image/png": "[encoded data removed]",
      "text/plain": [
       "<Figure size 432x288 with 1 Axes>"
      ]
     },
     "metadata": {
      "needs_background": "light"
     },
     "output_type": "display_data"
    }
   ],
   "source": [
    "cum_sum = np.cumsum(explained_var)\n",
    "plt.figure()\n",
    "plt.plot(np.arange(1, len(explained_var)+1), cum_sum)\n",
    "plt.title(\"Diabetes Dataset Cumulative Sum of Variance Explained\")\n",
    "plt.xlabel(\"Cumulative Components\")\n",
    "plt.ylabel(\"Cumulative Sum of Variance Explained\")"
   ]
  },
  {
   "cell_type": "markdown",
   "metadata": {},
   "source": [
    "Execute the diabetes pipeline and show the first row of standardized features and PCA scores.  The \"scores\" are like ISLR equation 10.2.  The scores are produced by projecting the data observations onto the loading vectors.  A projection is performed by multiplying the loading vector by the data observations which \"projects\" the observation in the direction of the loading vector."
   ]
  },
  {
   "cell_type": "code",
   "execution_count": 76,
   "metadata": {
    "scrolled": false
   },
   "outputs": [
    {
     "name": "stdout",
     "output_type": "stream",
     "text": [
      "[Row(zfeatures=DenseVector([0.7996, 1.0643, 1.2956, 0.4593, -0.9287, -0.7312, -0.9114, -0.0544, 0.4181, -0.3706]), scores=DenseVector([-0.5865, -1.9446, 0.5885, 0.0827, 0.2564, -1.0101, -0.1796, 0.7566, 0.1809, 0.0489]))]\n"
     ]
    },
    {
     "data": {
      "text/html": [
       "<div>\n",
       "<style scoped>\n",
       "    .dataframe tbody tr th:only-of-type {\n",
       "        vertical-align: middle;\n",
       "    }\n",
       "\n",
       "    .dataframe tbody tr th {\n",
       "        vertical-align: top;\n",
       "    }\n",
       "\n",
       "    .dataframe thead th {\n",
       "        text-align: right;\n",
       "    }\n",
       "</style>\n",
       "<table border=\"1\" class=\"dataframe\">\n",
       "  <thead>\n",
       "    <tr style=\"text-align: right;\">\n",
       "      <th></th>\n",
       "      <th>age</th>\n",
       "      <th>sex</th>\n",
       "      <th>bmi</th>\n",
       "      <th>map</th>\n",
       "      <th>tc</th>\n",
       "      <th>ldl</th>\n",
       "      <th>hdl</th>\n",
       "      <th>tch</th>\n",
       "      <th>ltg</th>\n",
       "      <th>glu</th>\n",
       "      <th>disease_progression</th>\n",
       "      <th>features</th>\n",
       "      <th>zfeatures</th>\n",
       "      <th>scores</th>\n",
       "    </tr>\n",
       "  </thead>\n",
       "  <tbody>\n",
       "    <tr>\n",
       "      <td>0</td>\n",
       "      <td>59</td>\n",
       "      <td>2</td>\n",
       "      <td>32.1</td>\n",
       "      <td>101.0</td>\n",
       "      <td>157</td>\n",
       "      <td>93.2</td>\n",
       "      <td>38.0</td>\n",
       "      <td>4.0</td>\n",
       "      <td>4.8598</td>\n",
       "      <td>87</td>\n",
       "      <td>151</td>\n",
       "      <td>[59.0, 2.0, 32.1, 101.0, 157.0, 93.2, 38.0, 4.0, 4.8598, 87.0]</td>\n",
       "      <td>[0.7995940351018838, 1.0642824935361896, 1.2956203368923545, 0.4593200957947719, -0.9286934669133657, -0.7312360195916786, -0.911417758692523, -0.054437501961848156, 0.41805720957971554, -0.37056862835587934]</td>\n",
       "      <td>[-0.5865345004628008, -1.9446286568771163, 0.5885385822773391, 0.08272184000589833, 0.25638973015942057, -1.01006556830413, -0.17964046398342473, 0.7565734789753054, 0.1808704127968728, 0.04889745662250157]</td>\n",
       "    </tr>\n",
       "    <tr>\n",
       "      <td>1</td>\n",
       "      <td>48</td>\n",
       "      <td>1</td>\n",
       "      <td>21.6</td>\n",
       "      <td>87.0</td>\n",
       "      <td>183</td>\n",
       "      <td>103.2</td>\n",
       "      <td>70.0</td>\n",
       "      <td>3.0</td>\n",
       "      <td>3.8918</td>\n",
       "      <td>69</td>\n",
       "      <td>75</td>\n",
       "      <td>[48.0, 1.0, 21.6, 87.0, 183.0, 103.2, 70.0, 3.0, 3.8918, 69.0]</td>\n",
       "      <td>[-0.039522347083602145, -0.937474366646771, -1.0809552860148093, -0.5528780911049113, -0.17742320633555317, -0.4024301347126671, 1.5626428456539025, -0.8293610403559584, -1.4349624889734371, -1.9362850421633024]</td>\n",
       "      <td>[2.8284203725740173, 1.3705287266001895, 0.02789825293130943, 0.4694764273892683, 0.14310718139790288, -1.0118688438815724, 0.22414356855169726, -0.1882230580999913, -0.5045562308482942, -0.043549267281752554]</td>\n",
       "    </tr>\n",
       "    <tr>\n",
       "      <td>2</td>\n",
       "      <td>72</td>\n",
       "      <td>2</td>\n",
       "      <td>30.5</td>\n",
       "      <td>93.0</td>\n",
       "      <td>156</td>\n",
       "      <td>93.6</td>\n",
       "      <td>41.0</td>\n",
       "      <td>4.0</td>\n",
       "      <td>4.6728</td>\n",
       "      <td>85</td>\n",
       "      <td>141</td>\n",
       "      <td>[72.0, 2.0, 30.5, 93.0, 156.0, 93.6, 41.0, 4.0, 4.6728, 85.0]</td>\n",
       "      <td>[1.7912770322301852, 1.0642824935361896, 0.9334754800684053, -0.11907886814790421, -0.9575884769355892, -0.7180837841965184, -0.6794745770350455, -0.054437501961848156, 0.0600874950864923, -0.5445371187789263]</td>\n",
       "      <td>[-0.2718205368550441, -1.6330507612915226, 0.7384070197965493, 0.7905964088659286, 1.1625529919061006, -1.1115030518064313, -0.46192812623204194, 0.8422485897646419, 0.02532452629581726, 0.05411385348062586]</td>\n",
       "    </tr>\n",
       "    <tr>\n",
       "      <td>3</td>\n",
       "      <td>24</td>\n",
       "      <td>1</td>\n",
       "      <td>25.3</td>\n",
       "      <td>84.0</td>\n",
       "      <td>198</td>\n",
       "      <td>131.4</td>\n",
       "      <td>40.0</td>\n",
       "      <td>5.0</td>\n",
       "      <td>4.8903</td>\n",
       "      <td>89</td>\n",
       "      <td>206</td>\n",
       "      <td>[24.0, 1.0, 25.3, 84.0, 198.0, 131.4, 40.0, 5.0, 4.8903, 89.0]</td>\n",
       "      <td>[-1.8703217263973897, -0.937474366646771, -0.24349530460942795, -0.7697777025834148, 0.2560019439978002, 0.5248024606461454, -0.7567889709208713, 0.7204860364322621, 0.47644264429652455, -0.19660013793283232]</td>\n",
       "      <td>[-0.04922536519991402, 0.3818453424540574, -2.010753160163291, -1.3716621074280093, -0.2552807400982159, 0.4447844932561747, 0.48155598133078814, -0.3674545221749749, 0.13770135970813036, 0.0744738779679798]</td>\n",
       "    </tr>\n",
       "    <tr>\n",
       "      <td>4</td>\n",
       "      <td>50</td>\n",
       "      <td>1</td>\n",
       "      <td>23.0</td>\n",
       "      <td>101.0</td>\n",
       "      <td>192</td>\n",
       "      <td>125.4</td>\n",
       "      <td>52.0</td>\n",
       "      <td>4.0</td>\n",
       "      <td>4.2905</td>\n",
       "      <td>80</td>\n",
       "      <td>135</td>\n",
       "      <td>[50.0, 1.0, 23.0, 101.0, 192.0, 125.4, 52.0, 4.0, 4.2905, 80.0]</td>\n",
       "      <td>[0.11304426785921348, -0.937474366646771, -0.7640785362938545, 0.4593200957947719, 0.08263188386445885, 0.3275189297187386, 0.17098375570903823, -0.054437501961848156, -0.6717404292491173, -0.9794583448365439]</td>\n",
       "      <td>[0.7555651902794538, 0.8110412184450315, -0.05717338868807276, 0.13733946654946544, 0.13325084110560537, -0.8136373169839043, 0.4360414706461321, -1.0585513315417305, -0.04423374447793292, 0.010901919044017239]</td>\n",
       "    </tr>\n",
       "  </tbody>\n",
       "</table>\n",
       "</div>"
      ],
      "text/plain": [
       "   age  sex   bmi    map   tc    ldl   hdl  tch     ltg  glu  \\\n",
       "0  59   2    32.1  101.0  157  93.2   38.0  4.0  4.8598  87    \n",
       "1  48   1    21.6  87.0   183  103.2  70.0  3.0  3.8918  69    \n",
       "2  72   2    30.5  93.0   156  93.6   41.0  4.0  4.6728  85    \n",
       "3  24   1    25.3  84.0   198  131.4  40.0  5.0  4.8903  89    \n",
       "4  50   1    23.0  101.0  192  125.4  52.0  4.0  4.2905  80    \n",
       "\n",
       "   disease_progression  \\\n",
       "0  151                   \n",
       "1  75                    \n",
       "2  141                   \n",
       "3  206                   \n",
       "4  135                   \n",
       "\n",
       "                                                          features  \\\n",
       "0  [59.0, 2.0, 32.1, 101.0, 157.0, 93.2, 38.0, 4.0, 4.8598, 87.0]    \n",
       "1  [48.0, 1.0, 21.6, 87.0, 183.0, 103.2, 70.0, 3.0, 3.8918, 69.0]    \n",
       "2  [72.0, 2.0, 30.5, 93.0, 156.0, 93.6, 41.0, 4.0, 4.6728, 85.0]     \n",
       "3  [24.0, 1.0, 25.3, 84.0, 198.0, 131.4, 40.0, 5.0, 4.8903, 89.0]    \n",
       "4  [50.0, 1.0, 23.0, 101.0, 192.0, 125.4, 52.0, 4.0, 4.2905, 80.0]   \n",
       "\n",
       "                                                                                                                                                                                                             zfeatures  \\\n",
       "0  [0.7995940351018838, 1.0642824935361896, 1.2956203368923545, 0.4593200957947719, -0.9286934669133657, -0.7312360195916786, -0.911417758692523, -0.054437501961848156, 0.41805720957971554, -0.37056862835587934]      \n",
       "1  [-0.039522347083602145, -0.937474366646771, -1.0809552860148093, -0.5528780911049113, -0.17742320633555317, -0.4024301347126671, 1.5626428456539025, -0.8293610403559584, -1.4349624889734371, -1.9362850421633024]   \n",
       "2  [1.7912770322301852, 1.0642824935361896, 0.9334754800684053, -0.11907886814790421, -0.9575884769355892, -0.7180837841965184, -0.6794745770350455, -0.054437501961848156, 0.0600874950864923, -0.5445371187789263]     \n",
       "3  [-1.8703217263973897, -0.937474366646771, -0.24349530460942795, -0.7697777025834148, 0.2560019439978002, 0.5248024606461454, -0.7567889709208713, 0.7204860364322621, 0.47644264429652455, -0.19660013793283232]      \n",
       "4  [0.11304426785921348, -0.937474366646771, -0.7640785362938545, 0.4593200957947719, 0.08263188386445885, 0.3275189297187386, 0.17098375570903823, -0.054437501961848156, -0.6717404292491173, -0.9794583448365439]     \n",
       "\n",
       "                                                                                                                                                                                                               scores  \n",
       "0  [-0.5865345004628008, -1.9446286568771163, 0.5885385822773391, 0.08272184000589833, 0.25638973015942057, -1.01006556830413, -0.17964046398342473, 0.7565734789753054, 0.1808704127968728, 0.04889745662250157]      \n",
       "1  [2.8284203725740173, 1.3705287266001895, 0.02789825293130943, 0.4694764273892683, 0.14310718139790288, -1.0118688438815724, 0.22414356855169726, -0.1882230580999913, -0.5045562308482942, -0.043549267281752554]   \n",
       "2  [-0.2718205368550441, -1.6330507612915226, 0.7384070197965493, 0.7905964088659286, 1.1625529919061006, -1.1115030518064313, -0.46192812623204194, 0.8422485897646419, 0.02532452629581726, 0.05411385348062586]     \n",
       "3  [-0.04922536519991402, 0.3818453424540574, -2.010753160163291, -1.3716621074280093, -0.2552807400982159, 0.4447844932561747, 0.48155598133078814, -0.3674545221749749, 0.13770135970813036, 0.0744738779679798]     \n",
       "4  [0.7555651902794538, 0.8110412184450315, -0.05717338868807276, 0.13733946654946544, 0.13325084110560537, -0.8136373169839043, 0.4360414706461321, -1.0585513315417305, -0.04423374447793292, 0.010901919044017239]  "
      ]
     },
     "metadata": {},
     "output_type": "display_data"
    }
   ],
   "source": [
    "first_row_scores = pipeline_diabetes.transform(diabetes_df).select('zfeatures', 'scores').take(1)\n",
    "print(first_row_scores)\n",
    "display(pipeline_diabetes.transform(diabetes_df).toPandas().head())"
   ]
  },
  {
   "cell_type": "markdown",
   "metadata": {},
   "source": [
    "Assign the first row of standardized features to the variable `z`."
   ]
  },
  {
   "cell_type": "code",
   "execution_count": 77,
   "metadata": {},
   "outputs": [
    {
     "name": "stdout",
     "output_type": "stream",
     "text": [
      "[0.7995940351018838,1.0642824935361896,1.2956203368923545,0.4593200957947719,-0.9286934669133657,-0.7312360195916786,-0.911417758692523,-0.054437501961848156,0.41805720957971554,-0.37056862835587934]\n"
     ]
    }
   ],
   "source": [
    "z = pipeline_diabetes.transform(diabetes_df).select('zfeatures', 'scores').first()['zfeatures']\n",
    "print(z)"
   ]
  },
  {
   "cell_type": "markdown",
   "metadata": {},
   "source": [
    "The purpose of the next cell is to show that if we multiply the first loading vector by the first observation row we will obtain the same score which we extracted from the pipeline above.  The matrix dot product of a standardized observation with the loadings vector projects the observation onto the loading vector (see equation 10.2 in ISLR).  Also note that the resulting score is equal to the score for the first row computed by the pipeline above."
   ]
  },
  {
   "cell_type": "code",
   "execution_count": 78,
   "metadata": {
    "scrolled": false
   },
   "outputs": [
    {
     "name": "stdout",
     "output_type": "stream",
     "text": [
      "-0.5865345004628009\n"
     ]
    }
   ],
   "source": [
    "scores = z.dot(loadings[:,0])\n",
    "print(scores)"
   ]
  },
  {
   "cell_type": "markdown",
   "metadata": {},
   "source": [
    "In the next cell, we multiply the first observation row of the data by all of the loading vectors producing a score for each of the 10 principal components.  Note that the resulting array of scores is equal to the scores for the first row computed by the pipeline above."
   ]
  },
  {
   "cell_type": "code",
   "execution_count": 79,
   "metadata": {},
   "outputs": [
    {
     "name": "stdout",
     "output_type": "stream",
     "text": [
      "[-0.5865345  -1.94462866  0.58853858  0.08272184  0.25638973 -1.01006557\n",
      " -0.17964046  0.75657348  0.18087041  0.04889746]\n"
     ]
    }
   ],
   "source": [
    "scores = z.dot(loadings)\n",
    "print(scores)"
   ]
  },
  {
   "cell_type": "markdown",
   "metadata": {},
   "source": [
    "The purpose of the following cell is the show that we can do an inverse transform which transforms the scores from the projection space back to the original data.  The The dot product of the loading vectors with the scores produces an approximation of the original observation row held in variable `z` (see equation 10.5 in ISLR).  The more loadings we use for the inverse transform, the closer the approximation to the original observation row.  The cell below computes the original data using from between 4 and 10 loading vectors.  Notice how the resulting transformed data gets closer to the original data held in 'z' above as the number of loading vectors increases."
   ]
  },
  {
   "cell_type": "code",
   "execution_count": 80,
   "metadata": {
    "scrolled": false
   },
   "outputs": [
    {
     "name": "stdout",
     "output_type": "stream",
     "text": [
      "all loadings shape: (10, 10)\n",
      "all scores shape: (10,)\n",
      "\n",
      "num_loadings: 4\n",
      "loadings shape: (10, 4)\n",
      "scores shape: (4,)\n",
      "inverse xform shape: (10,)\n",
      "inverse_xform: [ 0.36604541  0.85469882  0.53897377  0.73214235 -0.94769719 -0.82510297\n",
      " -0.91662271  0.15941187  0.28857141  0.50989389]\n",
      "\n",
      "num_loadings: 5\n",
      "loadings shape: (10, 5)\n",
      "scores shape: (5,)\n",
      "inverse xform shape: (10,)\n",
      "inverse_xform: [ 0.54215325  0.75894648  0.5058142   0.60731275 -0.98081759 -0.85502933\n",
      " -0.97943845  0.19624122  0.32745007  0.50183738]\n",
      "\n",
      "num_loadings: 6\n",
      "loadings shape: (10, 6)\n",
      "scores shape: (6,)\n",
      "inverse xform shape: (10,)\n",
      "inverse_xform: [ 0.77024155  0.71682127  0.91302331  0.88284174 -0.98627012 -0.72042643\n",
      " -1.08686299  0.23051869  0.14692016 -0.31133202]\n",
      "\n",
      "num_loadings: 7\n",
      "loadings shape: (10, 7)\n",
      "scores shape: (7,)\n",
      "inverse xform shape: (10,)\n",
      "inverse_xform: [ 0.78991759  0.72896895  1.00641379  0.82523917 -0.99949948 -0.6790131\n",
      " -1.08550707  0.21772038  0.03063855 -0.24715244]\n",
      "\n",
      "num_loadings: 8\n",
      "loadings shape: (10, 8)\n",
      "scores shape: (8,)\n",
      "inverse xform shape: (10,)\n",
      "inverse_xform: [ 0.80121861  1.06408061  1.30368837  0.46408114 -0.90159063 -0.82376452\n",
      " -0.83989672  0.08109313  0.37085778 -0.37320364]\n",
      "\n",
      "num_loadings: 9\n",
      "loadings shape: (10, 9)\n",
      "scores shape: (9,)\n",
      "inverse xform shape: (10,)\n",
      "inverse_xform: [ 0.79975356  1.06446148  1.29602361  0.45916254 -0.89398727 -0.75877482\n",
      " -0.92694003 -0.05886742  0.40512549 -0.37044098]\n",
      "\n",
      "num_loadings: 10\n",
      "loadings shape: (10, 10)\n",
      "scores shape: (10,)\n",
      "inverse xform shape: (10,)\n",
      "inverse_xform: [ 0.79959404  1.06428249  1.29562034  0.4593201  -0.92869347 -0.73123602\n",
      " -0.91141776 -0.0544375   0.41805721 -0.37056863]\n",
      "\n"
     ]
    }
   ],
   "source": [
    "print(\"all loadings shape:\", loadings.shape)\n",
    "print(\"all scores shape:\", scores.shape)\n",
    "print()\n",
    "\n",
    "num_loadings = loadings.shape[1]\n",
    "for i in np.arange(4, num_loadings+1):\n",
    "    print(\"num_loadings:\", i)\n",
    "    print(\"loadings shape:\", loadings[:,:i].shape)\n",
    "    print(\"scores shape:\", scores[:i].shape)\n",
    "    inverse_xform = loadings[:,:i].dot(scores[:i])\n",
    "    print(\"inverse xform shape:\", inverse_xform.shape)\n",
    "    print(\"inverse_xform:\", inverse_xform)\n",
    "    print()"
   ]
  },
  {
   "cell_type": "markdown",
   "metadata": {},
   "source": [
    "The cell below prints the first row scores from the original transormation we did above.  Note that the zfeatures in the cell below match very closely with the inverse_xform in the cell above using 10 loadings.  Also note that as the number of loading vectors used in the inverse xform in the call above reduces from 10, the inverse xform becomes less and less accurate."
   ]
  },
  {
   "cell_type": "code",
   "execution_count": 81,
   "metadata": {},
   "outputs": [
    {
     "name": "stdout",
     "output_type": "stream",
     "text": [
      "first_row_scores from above:\n",
      " [Row(zfeatures=DenseVector([0.7996, 1.0643, 1.2956, 0.4593, -0.9287, -0.7312, -0.9114, -0.0544, 0.4181, -0.3706]), scores=DenseVector([-0.5865, -1.9446, 0.5885, 0.0827, 0.2564, -1.0101, -0.1796, 0.7566, 0.1809, 0.0489]))]\n"
     ]
    }
   ],
   "source": [
    "print(\"first_row_scores from above:\\n\", first_row_scores)"
   ]
  },
  {
   "cell_type": "markdown",
   "metadata": {},
   "source": [
    "Note that the sum of the squares of the loading columns equal 1 as per ISLR equation 10.3."
   ]
  },
  {
   "cell_type": "code",
   "execution_count": 82,
   "metadata": {},
   "outputs": [
    {
     "data": {
      "text/plain": [
       "array([1., 1., 1., 1., 1., 1., 1., 1., 1., 1.])"
      ]
     },
     "execution_count": 82,
     "metadata": {},
     "output_type": "execute_result"
    }
   ],
   "source": [
    "np.sum(np.square(loadings), axis=0)"
   ]
  },
  {
   "cell_type": "markdown",
   "metadata": {},
   "source": [
    "## Examine the principal components"
   ]
  },
  {
   "cell_type": "code",
   "execution_count": 83,
   "metadata": {
    "scrolled": true
   },
   "outputs": [
    {
     "data": {
      "text/plain": [
       "[('age', -0.2164308964889745, 0.04436721239323424),\n",
       " ('sex', -0.18696687908602558, -0.38654720385516306),\n",
       " ('bmi', -0.30316216313887745, -0.15628128429437424),\n",
       " ('map', -0.2717377304844056, -0.13826600177995452),\n",
       " ('tc', -0.3432551083789176, 0.573026908841581),\n",
       " ('ldl', -0.3518606824177599, 0.45594185472401333),\n",
       " ('hdl', 0.28243681319974895, 0.5062390689011846),\n",
       " ('tch', -0.42883369801333127, -0.06818071604589006),\n",
       " ('ltg', -0.37861801599069916, -0.026186995954152716),\n",
       " ('glu', -0.32218295508497025, -0.08494884202867264)]"
      ]
     },
     "execution_count": 83,
     "metadata": {},
     "output_type": "execute_result"
    }
   ],
   "source": [
    "list(zip(['age', 'sex', 'bmi', 'map', 'tc', 'ldl', 'hdl', 'tch', 'ltg', 'glu'], \n",
    "         loadings[:, 0], loadings[:, 1]))"
   ]
  },
  {
   "cell_type": "markdown",
   "metadata": {},
   "source": [
    "# Analysis of IM courses"
   ]
  },
  {
   "cell_type": "code",
   "execution_count": 84,
   "metadata": {},
   "outputs": [],
   "source": [
    "im_courses = spark.createDataFrame(pd.read_csv('https://github.com/daniel-acuna/data_science_programs/raw/master/data/im_masters_ischool.csv'))"
   ]
  },
  {
   "cell_type": "code",
   "execution_count": 85,
   "metadata": {},
   "outputs": [
    {
     "name": "stdout",
     "output_type": "stream",
     "text": [
      "+-------+----+-------+--------------------+--------------------+\n",
      "| course|core|credits|               title|         description|\n",
      "+-------+----+-------+--------------------+--------------------+\n",
      "|IST 553|  IM|      3|Information Archi...|Building and mana...|\n",
      "|IST 558| CAS|      3|Technologies in W...|Concepts and tech...|\n",
      "|IST 565| CAS|      3|         Data Mining|Introduction to d...|\n",
      "|IST 601|  IM|      3|Information and I...|A broad overview ...|\n",
      "|IST 614|  IM|      3|Management Princi...|Basic ideas, conc...|\n",
      "|IST 617|  IM|      3|Motivational Aspe...|Theories of motiv...|\n",
      "|IST 618|  IM|      3|  Information Policy|Public policy iss...|\n",
      "|IST 619|  IM|      3|Applied Economics...|Economic principl...|\n",
      "|IST 621|  IM|      3|Introduction to I...|Overview of gener...|\n",
      "|IST 631|  IM|      3|Theory of Classif...|Classification is...|\n",
      "|IST 639|  IM|      3|Enterprise Techno...|Coverage of manag...|\n",
      "|IST 641|  IM|      3|   User-Based Design|System design bas...|\n",
      "|IST 645|  IM|      3|Managing Informat...|Project managemen...|\n",
      "|IST 649|  IM|      3|Human Interaction...|Human performance...|\n",
      "|IST 653|  IM|      3|Telecommunication...|A survey of telec...|\n",
      "|IST 654|  IM|      3|Information Syste...|Concepts and meth...|\n",
      "|IST 656|  IM|      3|Telecommunication...|Hardware and soft...|\n",
      "|IST 657| CAS|      3|Basics of Informa...|Design, developme...|\n",
      "|IST 659|  IM|      3|Data Administrati...|Definition, devel...|\n",
      "|IST 662|  IM|      3|Instructional Str...|Introduction to i...|\n",
      "+-------+----+-------+--------------------+--------------------+\n",
      "only showing top 20 rows\n",
      "\n"
     ]
    }
   ],
   "source": [
    "im_courses.show()"
   ]
  },
  {
   "cell_type": "markdown",
   "metadata": {},
   "source": [
    "## Let's transform course descriptions into vectors"
   ]
  },
  {
   "cell_type": "code",
   "execution_count": 86,
   "metadata": {},
   "outputs": [],
   "source": [
    "tokenizer = feature.RegexTokenizer(minTokenLength=2)\\\n",
    "  .setGaps(False)\\\n",
    "  .setPattern(\"\\\\p{L}+\")\\\n",
    "  .setInputCol(\"description\")\\\n",
    "  .setOutputCol(\"words\")\n",
    "\n",
    "import requests\n",
    "stop_words = requests.get('http://ir.dcs.gla.ac.uk/resources/linguistic_utils/stop_words').text.split()\n",
    "\n",
    "sw_filter = feature.StopWordsRemover()\\\n",
    "  .setStopWords(stop_words)\\\n",
    "  .setCaseSensitive(False)\\\n",
    "  .setInputCol(\"words\")\\\n",
    "  .setOutputCol(\"filtered\")\n",
    "\n",
    "cv = feature.CountVectorizer(inputCol='filtered', outputCol='tf')\n",
    "idf = feature.IDF(inputCol='tf', outputCol='tfidf')"
   ]
  },
  {
   "cell_type": "markdown",
   "metadata": {},
   "source": [
    "Let's create a pipeline that transforms descriptions into TFIDF:"
   ]
  },
  {
   "cell_type": "code",
   "execution_count": 87,
   "metadata": {},
   "outputs": [],
   "source": [
    "tfidf = Pipeline(stages=[tokenizer, sw_filter, cv, idf]).fit(im_courses)"
   ]
  },
  {
   "cell_type": "code",
   "execution_count": 88,
   "metadata": {},
   "outputs": [
    {
     "data": {
      "text/html": [
       "<div>\n",
       "<style scoped>\n",
       "    .dataframe tbody tr th:only-of-type {\n",
       "        vertical-align: middle;\n",
       "    }\n",
       "\n",
       "    .dataframe tbody tr th {\n",
       "        vertical-align: top;\n",
       "    }\n",
       "\n",
       "    .dataframe thead th {\n",
       "        text-align: right;\n",
       "    }\n",
       "</style>\n",
       "<table border=\"1\" class=\"dataframe\">\n",
       "  <thead>\n",
       "    <tr style=\"text-align: right;\">\n",
       "      <th></th>\n",
       "      <th>course</th>\n",
       "      <th>core</th>\n",
       "      <th>credits</th>\n",
       "      <th>title</th>\n",
       "      <th>description</th>\n",
       "      <th>words</th>\n",
       "      <th>filtered</th>\n",
       "      <th>tf</th>\n",
       "      <th>tfidf</th>\n",
       "    </tr>\n",
       "  </thead>\n",
       "  <tbody>\n",
       "    <tr>\n",
       "      <td>0</td>\n",
       "      <td>IST 553</td>\n",
       "      <td>IM</td>\n",
       "      <td>3</td>\n",
       "      <td>Information Architecture for Internet Services</td>\n",
       "      <td>Building and management of Internet information services, including information organization, information management, and information dissemination. Understanding of the use of Internet technologies within an organizational context. Practice with current technologies.</td>\n",
       "      <td>[building, and, management, of, internet, information, services, including, information, organization, information, management, and, information, dissemination, understanding, of, the, use, of, internet, technologies, within, an, organizational, context, practice, with, current, technologies]</td>\n",
       "      <td>[building, management, internet, information, services, including, information, organization, information, management, information, dissemination, understanding, use, internet, technologies, organizational, context, practice, current, technologies]</td>\n",
       "      <td>(4.0, 2.0, 0.0, 0.0, 0.0, 0.0, 0.0, 0.0, 2.0, 0.0, 0.0, 0.0, 1.0, 1.0, 0.0, 0.0, 0.0, 0.0, 1.0, 0.0, 0.0, 0.0, 0.0, 0.0, 0.0, 0.0, 0.0, 0.0, 0.0, 0.0, 0.0, 0.0, 0.0, 0.0, 0.0, 0.0, 1.0, 0.0, 0.0, 0.0, 0.0, 1.0, 0.0, 0.0, 0.0, 0.0, 0.0, 0.0, 0.0, 0.0, 0.0, 0.0, 1.0, 0.0, 0.0, 0.0, 0.0, 0.0, 0.0, 0.0, 0.0, 0.0, 0.0, 0.0, 0.0, 0.0, 0.0, 0.0, 0.0, 0.0, 0.0, 0.0, 0.0, 0.0, 0.0, 0.0, 0.0, 0.0, 0.0, 0.0, 0.0, 0.0, 0.0, 0.0, 0.0, 0.0, 0.0, 0.0, 0.0, 0.0, 0.0, 0.0, 0.0, 0.0, 0.0, 0.0, 0.0, 0.0, 0.0, 0.0, ...)</td>\n",
       "      <td>(1.8572224325243911, 1.444269434866395, 0.0, 0.0, 0.0, 0.0, 0.0, 0.0, 3.2188758248682006, 0.0, 0.0, 0.0, 1.6094379124341003, 1.7635885922613586, 0.0, 0.0, 0.0, 0.0, 1.7635885922613586, 0.0, 0.0, 0.0, 0.0, 0.0, 0.0, 0.0, 0.0, 0.0, 0.0, 0.0, 0.0, 0.0, 0.0, 0.0, 0.0, 0.0, 2.169053700369523, 0.0, 0.0, 0.0, 0.0, 2.169053700369523, 0.0, 0.0, 0.0, 0.0, 0.0, 0.0, 0.0, 0.0, 0.0, 0.0, 2.169053700369523, 0.0, 0.0, 0.0, 0.0, 0.0, 0.0, 0.0, 0.0, 0.0, 0.0, 0.0, 0.0, 0.0, 0.0, 0.0, 0.0, 0.0, 0.0, 0.0, 0.0, 0.0, 0.0, 0.0, 0.0, 0.0, 0.0, 0.0, 0.0, 0.0, 0.0, 0.0, 0.0, 0.0, 0.0, 0.0, 0.0, 0.0, 0.0, 0.0, 0.0, 0.0, 0.0, 0.0, 0.0, 0.0, 0.0, 0.0, ...)</td>\n",
       "    </tr>\n",
       "    <tr>\n",
       "      <td>1</td>\n",
       "      <td>IST 558</td>\n",
       "      <td>CAS</td>\n",
       "      <td>3</td>\n",
       "      <td>Technologies in Web Content Management</td>\n",
       "      <td>Concepts and techniques in web content representation, organization, presentation, development, and management with the eXtensible Markup Language (XML), including basic XML syntax, vocabulary specification, data modeling, transformation, and Document Object Model (DOM).</td>\n",
       "      <td>[concepts, and, techniques, in, web, content, representation, organization, presentation, development, and, management, with, the, extensible, markup, language, xml, including, basic, xml, syntax, vocabulary, specification, data, modeling, transformation, and, document, object, model, dom]</td>\n",
       "      <td>[concepts, techniques, web, content, representation, organization, presentation, development, management, extensible, markup, language, xml, including, basic, xml, syntax, vocabulary, specification, data, modeling, transformation, document, object, model, dom]</td>\n",
       "      <td>(0.0, 1.0, 1.0, 1.0, 1.0, 0.0, 0.0, 0.0, 0.0, 0.0, 0.0, 0.0, 0.0, 1.0, 0.0, 0.0, 0.0, 0.0, 0.0, 0.0, 0.0, 0.0, 0.0, 1.0, 0.0, 1.0, 0.0, 0.0, 0.0, 1.0, 0.0, 0.0, 0.0, 0.0, 0.0, 0.0, 0.0, 0.0, 0.0, 0.0, 0.0, 0.0, 0.0, 0.0, 0.0, 0.0, 0.0, 0.0, 0.0, 0.0, 0.0, 0.0, 1.0, 0.0, 0.0, 0.0, 0.0, 0.0, 1.0, 0.0, 0.0, 0.0, 0.0, 0.0, 1.0, 0.0, 0.0, 0.0, 0.0, 0.0, 0.0, 0.0, 0.0, 0.0, 0.0, 0.0, 0.0, 0.0, 0.0, 0.0, 0.0, 0.0, 0.0, 0.0, 0.0, 0.0, 0.0, 0.0, 0.0, 0.0, 0.0, 0.0, 0.0, 0.0, 0.0, 0.0, 0.0, 0.0, 0.0, 0.0, ...)</td>\n",
       "      <td>(0.0, 0.7221347174331975, 1.252762968495368, 1.0704414117014134, 1.252762968495368, 0.0, 0.0, 0.0, 0.0, 0.0, 0.0, 0.0, 0.0, 1.7635885922613586, 0.0, 0.0, 0.0, 0.0, 0.0, 0.0, 0.0, 0.0, 0.0, 2.169053700369523, 0.0, 1.9459101490553132, 0.0, 0.0, 0.0, 1.9459101490553132, 0.0, 0.0, 0.0, 0.0, 0.0, 0.0, 0.0, 0.0, 0.0, 0.0, 0.0, 0.0, 0.0, 0.0, 0.0, 0.0, 0.0, 0.0, 0.0, 0.0, 0.0, 0.0, 2.169053700369523, 0.0, 0.0, 0.0, 0.0, 0.0, 2.456735772821304, 0.0, 0.0, 0.0, 0.0, 0.0, 2.456735772821304, 0.0, 0.0, 0.0, 0.0, 0.0, 0.0, 0.0, 0.0, 0.0, 0.0, 0.0, 0.0, 0.0, 0.0, 0.0, 0.0, 0.0, 0.0, 0.0, 0.0, 0.0, 0.0, 0.0, 0.0, 0.0, 0.0, 0.0, 0.0, 0.0, 0.0, 0.0, 0.0, 0.0, 0.0, 0.0, ...)</td>\n",
       "    </tr>\n",
       "    <tr>\n",
       "      <td>2</td>\n",
       "      <td>IST 565</td>\n",
       "      <td>CAS</td>\n",
       "      <td>3</td>\n",
       "      <td>Data Mining</td>\n",
       "      <td>Introduction to data mining techniques, familiarity with particular real-world applications, challenges involved in these applications, and future directions of the field. Optional hands-on experience with commercially available software packages.</td>\n",
       "      <td>[introduction, to, data, mining, techniques, familiarity, with, particular, real, world, applications, challenges, involved, in, these, applications, and, future, directions, of, the, field, optional, hands, on, experience, with, commercially, available, software, packages]</td>\n",
       "      <td>[introduction, data, mining, techniques, familiarity, particular, real, world, applications, challenges, involved, applications, future, directions, field, optional, hands, experience, commercially, available, software, packages]</td>\n",
       "      <td>(0.0, 0.0, 1.0, 1.0, 0.0, 0.0, 0.0, 0.0, 0.0, 1.0, 0.0, 0.0, 0.0, 0.0, 0.0, 0.0, 0.0, 0.0, 0.0, 0.0, 0.0, 0.0, 2.0, 0.0, 0.0, 0.0, 1.0, 0.0, 1.0, 0.0, 0.0, 0.0, 0.0, 0.0, 0.0, 0.0, 0.0, 0.0, 0.0, 0.0, 0.0, 0.0, 0.0, 0.0, 0.0, 0.0, 0.0, 0.0, 0.0, 0.0, 0.0, 0.0, 0.0, 0.0, 0.0, 0.0, 0.0, 0.0, 0.0, 0.0, 0.0, 0.0, 0.0, 0.0, 0.0, 0.0, 0.0, 0.0, 0.0, 0.0, 0.0, 0.0, 0.0, 0.0, 0.0, 0.0, 0.0, 0.0, 0.0, 0.0, 0.0, 0.0, 0.0, 0.0, 1.0, 1.0, 0.0, 0.0, 0.0, 0.0, 1.0, 0.0, 0.0, 0.0, 0.0, 0.0, 0.0, 0.0, 0.0, 0.0, ...)</td>\n",
       "      <td>(0.0, 0.0, 1.252762968495368, 1.0704414117014134, 0.0, 0.0, 0.0, 0.0, 0.0, 1.4759065198095778, 0.0, 0.0, 0.0, 0.0, 0.0, 0.0, 0.0, 0.0, 0.0, 0.0, 0.0, 0.0, 4.338107400739046, 0.0, 0.0, 0.0, 1.9459101490553132, 0.0, 1.9459101490553132, 0.0, 0.0, 0.0, 0.0, 0.0, 0.0, 0.0, 0.0, 0.0, 0.0, 0.0, 0.0, 0.0, 0.0, 0.0, 0.0, 0.0, 0.0, 0.0, 0.0, 0.0, 0.0, 0.0, 0.0, 0.0, 0.0, 0.0, 0.0, 0.0, 0.0, 0.0, 0.0, 0.0, 0.0, 0.0, 0.0, 0.0, 0.0, 0.0, 0.0, 0.0, 0.0, 0.0, 0.0, 0.0, 0.0, 0.0, 0.0, 0.0, 0.0, 0.0, 0.0, 0.0, 0.0, 0.0, 2.456735772821304, 2.456735772821304, 0.0, 0.0, 0.0, 0.0, 2.456735772821304, 0.0, 0.0, 0.0, 0.0, 0.0, 0.0, 0.0, 0.0, 0.0, ...)</td>\n",
       "    </tr>\n",
       "    <tr>\n",
       "      <td>3</td>\n",
       "      <td>IST 601</td>\n",
       "      <td>IM</td>\n",
       "      <td>3</td>\n",
       "      <td>Information and Information Environments</td>\n",
       "      <td>A broad overview of the field and an orientation to the School of Information Studies. Describes the past, present, and future of information studies.</td>\n",
       "      <td>[broad, overview, of, the, field, and, an, orientation, to, the, school, of, information, studies, describes, the, past, present, and, future, of, information, studies]</td>\n",
       "      <td>[broad, overview, field, orientation, school, information, studies, describes, past, present, future, information, studies]</td>\n",
       "      <td>(2.0, 0.0, 0.0, 0.0, 0.0, 0.0, 0.0, 0.0, 0.0, 0.0, 0.0, 0.0, 0.0, 0.0, 0.0, 0.0, 0.0, 0.0, 0.0, 0.0, 0.0, 0.0, 0.0, 0.0, 0.0, 0.0, 0.0, 0.0, 0.0, 0.0, 2.0, 0.0, 0.0, 0.0, 0.0, 0.0, 0.0, 0.0, 0.0, 0.0, 0.0, 0.0, 0.0, 0.0, 0.0, 0.0, 0.0, 1.0, 0.0, 0.0, 0.0, 0.0, 0.0, 0.0, 0.0, 0.0, 0.0, 0.0, 0.0, 0.0, 1.0, 0.0, 0.0, 0.0, 0.0, 0.0, 0.0, 0.0, 0.0, 0.0, 0.0, 0.0, 0.0, 0.0, 0.0, 0.0, 0.0, 0.0, 0.0, 0.0, 0.0, 0.0, 0.0, 0.0, 1.0, 1.0, 0.0, 0.0, 0.0, 0.0, 0.0, 0.0, 0.0, 0.0, 0.0, 0.0, 0.0, 0.0, 0.0, 0.0, ...)</td>\n",
       "      <td>(0.9286112162621956, 0.0, 0.0, 0.0, 0.0, 0.0, 0.0, 0.0, 0.0, 0.0, 0.0, 0.0, 0.0, 0.0, 0.0, 0.0, 0.0, 0.0, 0.0, 0.0, 0.0, 0.0, 0.0, 0.0, 0.0, 0.0, 0.0, 0.0, 0.0, 0.0, 4.338107400739046, 0.0, 0.0, 0.0, 0.0, 0.0, 0.0, 0.0, 0.0, 0.0, 0.0, 0.0, 0.0, 0.0, 0.0, 0.0, 0.0, 2.169053700369523, 0.0, 0.0, 0.0, 0.0, 0.0, 0.0, 0.0, 0.0, 0.0, 0.0, 0.0, 0.0, 2.169053700369523, 0.0, 0.0, 0.0, 0.0, 0.0, 0.0, 0.0, 0.0, 0.0, 0.0, 0.0, 0.0, 0.0, 0.0, 0.0, 0.0, 0.0, 0.0, 0.0, 0.0, 0.0, 0.0, 0.0, 2.456735772821304, 2.456735772821304, 0.0, 0.0, 0.0, 0.0, 0.0, 0.0, 0.0, 0.0, 0.0, 0.0, 0.0, 0.0, 0.0, 0.0, ...)</td>\n",
       "    </tr>\n",
       "    <tr>\n",
       "      <td>4</td>\n",
       "      <td>IST 614</td>\n",
       "      <td>IM</td>\n",
       "      <td>3</td>\n",
       "      <td>Management Principles for Information Professionals</td>\n",
       "      <td>Basic ideas, concepts and perspectives of management as they apply to the information professions. Students learn to understand and apply basic principles of organization theory and behavior and managerial techniques needed to improve organizational effectiveness.</td>\n",
       "      <td>[basic, ideas, concepts, and, perspectives, of, management, as, they, apply, to, the, information, professions, students, learn, to, understand, and, apply, basic, principles, of, organization, theory, and, behavior, and, managerial, techniques, needed, to, improve, organizational, effectiveness]</td>\n",
       "      <td>[basic, ideas, concepts, perspectives, management, apply, information, professions, students, learn, understand, apply, basic, principles, organization, theory, behavior, managerial, techniques, needed, improve, organizational, effectiveness]</td>\n",
       "      <td>(1.0, 1.0, 0.0, 1.0, 1.0, 0.0, 1.0, 0.0, 0.0, 0.0, 0.0, 0.0, 0.0, 1.0, 0.0, 0.0, 0.0, 0.0, 1.0, 0.0, 1.0, 0.0, 0.0, 0.0, 0.0, 0.0, 0.0, 0.0, 0.0, 0.0, 0.0, 0.0, 0.0, 0.0, 0.0, 0.0, 0.0, 0.0, 0.0, 0.0, 0.0, 0.0, 0.0, 0.0, 0.0, 0.0, 0.0, 0.0, 0.0, 0.0, 0.0, 0.0, 0.0, 0.0, 0.0, 1.0, 2.0, 0.0, 2.0, 0.0, 0.0, 0.0, 0.0, 0.0, 0.0, 0.0, 0.0, 0.0, 0.0, 0.0, 0.0, 0.0, 0.0, 0.0, 0.0, 0.0, 0.0, 0.0, 0.0, 1.0, 0.0, 0.0, 0.0, 0.0, 0.0, 0.0, 0.0, 0.0, 0.0, 0.0, 0.0, 0.0, 0.0, 0.0, 0.0, 0.0, 0.0, 0.0, 0.0, 0.0, ...)</td>\n",
       "      <td>(0.4643056081310978, 0.7221347174331975, 0.0, 1.0704414117014134, 1.252762968495368, 0.0, 1.3581234841531944, 0.0, 0.0, 0.0, 0.0, 0.0, 0.0, 1.7635885922613586, 0.0, 0.0, 0.0, 0.0, 1.7635885922613586, 0.0, 1.9459101490553132, 0.0, 0.0, 0.0, 0.0, 0.0, 0.0, 0.0, 0.0, 0.0, 0.0, 0.0, 0.0, 0.0, 0.0, 0.0, 0.0, 0.0, 0.0, 0.0, 0.0, 0.0, 0.0, 0.0, 0.0, 0.0, 0.0, 0.0, 0.0, 0.0, 0.0, 0.0, 0.0, 0.0, 0.0, 2.169053700369523, 4.913471545642608, 0.0, 4.913471545642608, 0.0, 0.0, 0.0, 0.0, 0.0, 0.0, 0.0, 0.0, 0.0, 0.0, 0.0, 0.0, 0.0, 0.0, 0.0, 0.0, 0.0, 0.0, 0.0, 0.0, 2.456735772821304, 0.0, 0.0, 0.0, 0.0, 0.0, 0.0, 0.0, 0.0, 0.0, 0.0, 0.0, 0.0, 0.0, 0.0, 0.0, 0.0, 0.0, 0.0, 0.0, 0.0, ...)</td>\n",
       "    </tr>\n",
       "  </tbody>\n",
       "</table>\n",
       "</div>"
      ],
      "text/plain": [
       "    course core  credits                                                title  \\\n",
       "0  IST 553  IM   3        Information Architecture for Internet Services        \n",
       "1  IST 558  CAS  3        Technologies in Web Content Management                \n",
       "2  IST 565  CAS  3        Data Mining                                           \n",
       "3  IST 601  IM   3        Information and Information Environments              \n",
       "4  IST 614  IM   3        Management Principles for Information Professionals   \n",
       "\n",
       "                                                                                                                                                                                                                                                                       description  \\\n",
       "0  Building and management of Internet information services, including information organization, information management, and information dissemination. Understanding of the use of Internet technologies within an organizational context. Practice with current technologies.      \n",
       "1  Concepts and techniques in web content representation, organization, presentation, development, and management with the eXtensible Markup Language (XML), including basic XML syntax, vocabulary specification, data modeling, transformation, and Document Object Model (DOM).   \n",
       "2  Introduction to data mining techniques, familiarity with particular real-world applications, challenges involved in these applications, and future directions of the field. Optional hands-on experience with commercially available software packages.                           \n",
       "3  A broad overview of the field and an orientation to the School of Information Studies. Describes the past, present, and future of information studies.                                                                                                                            \n",
       "4  Basic ideas, concepts and perspectives of management as they apply to the information professions. Students learn to understand and apply basic principles of organization theory and behavior and managerial techniques needed to improve organizational effectiveness.          \n",
       "\n",
       "                                                                                                                                                                                                                                                                                                       words  \\\n",
       "0  [building, and, management, of, internet, information, services, including, information, organization, information, management, and, information, dissemination, understanding, of, the, use, of, internet, technologies, within, an, organizational, context, practice, with, current, technologies]       \n",
       "1  [concepts, and, techniques, in, web, content, representation, organization, presentation, development, and, management, with, the, extensible, markup, language, xml, including, basic, xml, syntax, vocabulary, specification, data, modeling, transformation, and, document, object, model, dom]          \n",
       "2  [introduction, to, data, mining, techniques, familiarity, with, particular, real, world, applications, challenges, involved, in, these, applications, and, future, directions, of, the, field, optional, hands, on, experience, with, commercially, available, software, packages]                          \n",
       "3  [broad, overview, of, the, field, and, an, orientation, to, the, school, of, information, studies, describes, the, past, present, and, future, of, information, studies]                                                                                                                                    \n",
       "4  [basic, ideas, concepts, and, perspectives, of, management, as, they, apply, to, the, information, professions, students, learn, to, understand, and, apply, basic, principles, of, organization, theory, and, behavior, and, managerial, techniques, needed, to, improve, organizational, effectiveness]   \n",
       "\n",
       "                                                                                                                                                                                                                                                               filtered  \\\n",
       "0  [building, management, internet, information, services, including, information, organization, information, management, information, dissemination, understanding, use, internet, technologies, organizational, context, practice, current, technologies]               \n",
       "1  [concepts, techniques, web, content, representation, organization, presentation, development, management, extensible, markup, language, xml, including, basic, xml, syntax, vocabulary, specification, data, modeling, transformation, document, object, model, dom]   \n",
       "2  [introduction, data, mining, techniques, familiarity, particular, real, world, applications, challenges, involved, applications, future, directions, field, optional, hands, experience, commercially, available, software, packages]                                  \n",
       "3  [broad, overview, field, orientation, school, information, studies, describes, past, present, future, information, studies]                                                                                                                                            \n",
       "4  [basic, ideas, concepts, perspectives, management, apply, information, professions, students, learn, understand, apply, basic, principles, organization, theory, behavior, managerial, techniques, needed, improve, organizational, effectiveness]                     \n",
       "\n",
       "                                                                                                                                                                                                                                                                                                                                                                                                                                                                                                                          tf  \\\n",
       "0  (4.0, 2.0, 0.0, 0.0, 0.0, 0.0, 0.0, 0.0, 2.0, 0.0, 0.0, 0.0, 1.0, 1.0, 0.0, 0.0, 0.0, 0.0, 1.0, 0.0, 0.0, 0.0, 0.0, 0.0, 0.0, 0.0, 0.0, 0.0, 0.0, 0.0, 0.0, 0.0, 0.0, 0.0, 0.0, 0.0, 1.0, 0.0, 0.0, 0.0, 0.0, 1.0, 0.0, 0.0, 0.0, 0.0, 0.0, 0.0, 0.0, 0.0, 0.0, 0.0, 1.0, 0.0, 0.0, 0.0, 0.0, 0.0, 0.0, 0.0, 0.0, 0.0, 0.0, 0.0, 0.0, 0.0, 0.0, 0.0, 0.0, 0.0, 0.0, 0.0, 0.0, 0.0, 0.0, 0.0, 0.0, 0.0, 0.0, 0.0, 0.0, 0.0, 0.0, 0.0, 0.0, 0.0, 0.0, 0.0, 0.0, 0.0, 0.0, 0.0, 0.0, 0.0, 0.0, 0.0, 0.0, 0.0, 0.0, 0.0, ...)   \n",
       "1  (0.0, 1.0, 1.0, 1.0, 1.0, 0.0, 0.0, 0.0, 0.0, 0.0, 0.0, 0.0, 0.0, 1.0, 0.0, 0.0, 0.0, 0.0, 0.0, 0.0, 0.0, 0.0, 0.0, 1.0, 0.0, 1.0, 0.0, 0.0, 0.0, 1.0, 0.0, 0.0, 0.0, 0.0, 0.0, 0.0, 0.0, 0.0, 0.0, 0.0, 0.0, 0.0, 0.0, 0.0, 0.0, 0.0, 0.0, 0.0, 0.0, 0.0, 0.0, 0.0, 1.0, 0.0, 0.0, 0.0, 0.0, 0.0, 1.0, 0.0, 0.0, 0.0, 0.0, 0.0, 1.0, 0.0, 0.0, 0.0, 0.0, 0.0, 0.0, 0.0, 0.0, 0.0, 0.0, 0.0, 0.0, 0.0, 0.0, 0.0, 0.0, 0.0, 0.0, 0.0, 0.0, 0.0, 0.0, 0.0, 0.0, 0.0, 0.0, 0.0, 0.0, 0.0, 0.0, 0.0, 0.0, 0.0, 0.0, 0.0, ...)   \n",
       "2  (0.0, 0.0, 1.0, 1.0, 0.0, 0.0, 0.0, 0.0, 0.0, 1.0, 0.0, 0.0, 0.0, 0.0, 0.0, 0.0, 0.0, 0.0, 0.0, 0.0, 0.0, 0.0, 2.0, 0.0, 0.0, 0.0, 1.0, 0.0, 1.0, 0.0, 0.0, 0.0, 0.0, 0.0, 0.0, 0.0, 0.0, 0.0, 0.0, 0.0, 0.0, 0.0, 0.0, 0.0, 0.0, 0.0, 0.0, 0.0, 0.0, 0.0, 0.0, 0.0, 0.0, 0.0, 0.0, 0.0, 0.0, 0.0, 0.0, 0.0, 0.0, 0.0, 0.0, 0.0, 0.0, 0.0, 0.0, 0.0, 0.0, 0.0, 0.0, 0.0, 0.0, 0.0, 0.0, 0.0, 0.0, 0.0, 0.0, 0.0, 0.0, 0.0, 0.0, 0.0, 1.0, 1.0, 0.0, 0.0, 0.0, 0.0, 1.0, 0.0, 0.0, 0.0, 0.0, 0.0, 0.0, 0.0, 0.0, 0.0, ...)   \n",
       "3  (2.0, 0.0, 0.0, 0.0, 0.0, 0.0, 0.0, 0.0, 0.0, 0.0, 0.0, 0.0, 0.0, 0.0, 0.0, 0.0, 0.0, 0.0, 0.0, 0.0, 0.0, 0.0, 0.0, 0.0, 0.0, 0.0, 0.0, 0.0, 0.0, 0.0, 2.0, 0.0, 0.0, 0.0, 0.0, 0.0, 0.0, 0.0, 0.0, 0.0, 0.0, 0.0, 0.0, 0.0, 0.0, 0.0, 0.0, 1.0, 0.0, 0.0, 0.0, 0.0, 0.0, 0.0, 0.0, 0.0, 0.0, 0.0, 0.0, 0.0, 1.0, 0.0, 0.0, 0.0, 0.0, 0.0, 0.0, 0.0, 0.0, 0.0, 0.0, 0.0, 0.0, 0.0, 0.0, 0.0, 0.0, 0.0, 0.0, 0.0, 0.0, 0.0, 0.0, 0.0, 1.0, 1.0, 0.0, 0.0, 0.0, 0.0, 0.0, 0.0, 0.0, 0.0, 0.0, 0.0, 0.0, 0.0, 0.0, 0.0, ...)   \n",
       "4  (1.0, 1.0, 0.0, 1.0, 1.0, 0.0, 1.0, 0.0, 0.0, 0.0, 0.0, 0.0, 0.0, 1.0, 0.0, 0.0, 0.0, 0.0, 1.0, 0.0, 1.0, 0.0, 0.0, 0.0, 0.0, 0.0, 0.0, 0.0, 0.0, 0.0, 0.0, 0.0, 0.0, 0.0, 0.0, 0.0, 0.0, 0.0, 0.0, 0.0, 0.0, 0.0, 0.0, 0.0, 0.0, 0.0, 0.0, 0.0, 0.0, 0.0, 0.0, 0.0, 0.0, 0.0, 0.0, 1.0, 2.0, 0.0, 2.0, 0.0, 0.0, 0.0, 0.0, 0.0, 0.0, 0.0, 0.0, 0.0, 0.0, 0.0, 0.0, 0.0, 0.0, 0.0, 0.0, 0.0, 0.0, 0.0, 0.0, 1.0, 0.0, 0.0, 0.0, 0.0, 0.0, 0.0, 0.0, 0.0, 0.0, 0.0, 0.0, 0.0, 0.0, 0.0, 0.0, 0.0, 0.0, 0.0, 0.0, 0.0, ...)   \n",
       "\n",
       "                                                                                                                                                                                                                                                                                                                                                                                                                                                                                                                                                                                                                                                                                                      tfidf  \n",
       "0  (1.8572224325243911, 1.444269434866395, 0.0, 0.0, 0.0, 0.0, 0.0, 0.0, 3.2188758248682006, 0.0, 0.0, 0.0, 1.6094379124341003, 1.7635885922613586, 0.0, 0.0, 0.0, 0.0, 1.7635885922613586, 0.0, 0.0, 0.0, 0.0, 0.0, 0.0, 0.0, 0.0, 0.0, 0.0, 0.0, 0.0, 0.0, 0.0, 0.0, 0.0, 0.0, 2.169053700369523, 0.0, 0.0, 0.0, 0.0, 2.169053700369523, 0.0, 0.0, 0.0, 0.0, 0.0, 0.0, 0.0, 0.0, 0.0, 0.0, 2.169053700369523, 0.0, 0.0, 0.0, 0.0, 0.0, 0.0, 0.0, 0.0, 0.0, 0.0, 0.0, 0.0, 0.0, 0.0, 0.0, 0.0, 0.0, 0.0, 0.0, 0.0, 0.0, 0.0, 0.0, 0.0, 0.0, 0.0, 0.0, 0.0, 0.0, 0.0, 0.0, 0.0, 0.0, 0.0, 0.0, 0.0, 0.0, 0.0, 0.0, 0.0, 0.0, 0.0, 0.0, 0.0, 0.0, 0.0, 0.0, ...)                                              \n",
       "1  (0.0, 0.7221347174331975, 1.252762968495368, 1.0704414117014134, 1.252762968495368, 0.0, 0.0, 0.0, 0.0, 0.0, 0.0, 0.0, 0.0, 1.7635885922613586, 0.0, 0.0, 0.0, 0.0, 0.0, 0.0, 0.0, 0.0, 0.0, 2.169053700369523, 0.0, 1.9459101490553132, 0.0, 0.0, 0.0, 1.9459101490553132, 0.0, 0.0, 0.0, 0.0, 0.0, 0.0, 0.0, 0.0, 0.0, 0.0, 0.0, 0.0, 0.0, 0.0, 0.0, 0.0, 0.0, 0.0, 0.0, 0.0, 0.0, 0.0, 2.169053700369523, 0.0, 0.0, 0.0, 0.0, 0.0, 2.456735772821304, 0.0, 0.0, 0.0, 0.0, 0.0, 2.456735772821304, 0.0, 0.0, 0.0, 0.0, 0.0, 0.0, 0.0, 0.0, 0.0, 0.0, 0.0, 0.0, 0.0, 0.0, 0.0, 0.0, 0.0, 0.0, 0.0, 0.0, 0.0, 0.0, 0.0, 0.0, 0.0, 0.0, 0.0, 0.0, 0.0, 0.0, 0.0, 0.0, 0.0, 0.0, 0.0, ...)                  \n",
       "2  (0.0, 0.0, 1.252762968495368, 1.0704414117014134, 0.0, 0.0, 0.0, 0.0, 0.0, 1.4759065198095778, 0.0, 0.0, 0.0, 0.0, 0.0, 0.0, 0.0, 0.0, 0.0, 0.0, 0.0, 0.0, 4.338107400739046, 0.0, 0.0, 0.0, 1.9459101490553132, 0.0, 1.9459101490553132, 0.0, 0.0, 0.0, 0.0, 0.0, 0.0, 0.0, 0.0, 0.0, 0.0, 0.0, 0.0, 0.0, 0.0, 0.0, 0.0, 0.0, 0.0, 0.0, 0.0, 0.0, 0.0, 0.0, 0.0, 0.0, 0.0, 0.0, 0.0, 0.0, 0.0, 0.0, 0.0, 0.0, 0.0, 0.0, 0.0, 0.0, 0.0, 0.0, 0.0, 0.0, 0.0, 0.0, 0.0, 0.0, 0.0, 0.0, 0.0, 0.0, 0.0, 0.0, 0.0, 0.0, 0.0, 0.0, 2.456735772821304, 2.456735772821304, 0.0, 0.0, 0.0, 0.0, 2.456735772821304, 0.0, 0.0, 0.0, 0.0, 0.0, 0.0, 0.0, 0.0, 0.0, ...)                                               \n",
       "3  (0.9286112162621956, 0.0, 0.0, 0.0, 0.0, 0.0, 0.0, 0.0, 0.0, 0.0, 0.0, 0.0, 0.0, 0.0, 0.0, 0.0, 0.0, 0.0, 0.0, 0.0, 0.0, 0.0, 0.0, 0.0, 0.0, 0.0, 0.0, 0.0, 0.0, 0.0, 4.338107400739046, 0.0, 0.0, 0.0, 0.0, 0.0, 0.0, 0.0, 0.0, 0.0, 0.0, 0.0, 0.0, 0.0, 0.0, 0.0, 0.0, 2.169053700369523, 0.0, 0.0, 0.0, 0.0, 0.0, 0.0, 0.0, 0.0, 0.0, 0.0, 0.0, 0.0, 2.169053700369523, 0.0, 0.0, 0.0, 0.0, 0.0, 0.0, 0.0, 0.0, 0.0, 0.0, 0.0, 0.0, 0.0, 0.0, 0.0, 0.0, 0.0, 0.0, 0.0, 0.0, 0.0, 0.0, 0.0, 2.456735772821304, 2.456735772821304, 0.0, 0.0, 0.0, 0.0, 0.0, 0.0, 0.0, 0.0, 0.0, 0.0, 0.0, 0.0, 0.0, 0.0, ...)                                                                                            \n",
       "4  (0.4643056081310978, 0.7221347174331975, 0.0, 1.0704414117014134, 1.252762968495368, 0.0, 1.3581234841531944, 0.0, 0.0, 0.0, 0.0, 0.0, 0.0, 1.7635885922613586, 0.0, 0.0, 0.0, 0.0, 1.7635885922613586, 0.0, 1.9459101490553132, 0.0, 0.0, 0.0, 0.0, 0.0, 0.0, 0.0, 0.0, 0.0, 0.0, 0.0, 0.0, 0.0, 0.0, 0.0, 0.0, 0.0, 0.0, 0.0, 0.0, 0.0, 0.0, 0.0, 0.0, 0.0, 0.0, 0.0, 0.0, 0.0, 0.0, 0.0, 0.0, 0.0, 0.0, 2.169053700369523, 4.913471545642608, 0.0, 4.913471545642608, 0.0, 0.0, 0.0, 0.0, 0.0, 0.0, 0.0, 0.0, 0.0, 0.0, 0.0, 0.0, 0.0, 0.0, 0.0, 0.0, 0.0, 0.0, 0.0, 0.0, 2.456735772821304, 0.0, 0.0, 0.0, 0.0, 0.0, 0.0, 0.0, 0.0, 0.0, 0.0, 0.0, 0.0, 0.0, 0.0, 0.0, 0.0, 0.0, 0.0, 0.0, 0.0, ...)  "
      ]
     },
     "execution_count": 88,
     "metadata": {},
     "output_type": "execute_result"
    }
   ],
   "source": [
    "tfidf.transform(im_courses).toPandas().head()"
   ]
  },
  {
   "cell_type": "markdown",
   "metadata": {},
   "source": [
    "The cell below defines a standard scaler object which will be used to standardize data before applying unsupervised learning algorithms."
   ]
  },
  {
   "cell_type": "code",
   "execution_count": 89,
   "metadata": {},
   "outputs": [],
   "source": [
    "# standardize features\n",
    "center = feature.StandardScaler(withMean=True, withStd=False, inputCol='tfidf', outputCol='centered_tfidf')"
   ]
  },
  {
   "cell_type": "markdown",
   "metadata": {},
   "source": [
    "In the cell below we define a PCA transformer.  PCA needs the number of principal components to be learned `k`:"
   ]
  },
  {
   "cell_type": "code",
   "execution_count": 90,
   "metadata": {},
   "outputs": [],
   "source": [
    "pca = feature.PCA(k=10, inputCol='centered_tfidf', outputCol='scores')"
   ]
  },
  {
   "cell_type": "markdown",
   "metadata": {},
   "source": [
    "For KMeans, we need to provide the number of clusters, but we will normalize the vectors so that they have unit length.  The cell below defines a `Normalizer` transformer which will normalize vectors to unit length."
   ]
  },
  {
   "cell_type": "code",
   "execution_count": 91,
   "metadata": {},
   "outputs": [],
   "source": [
    "norm = feature.Normalizer(inputCol=\"centered_tfidf\", outputCol=\"norm_tfidf\", p=2.0)"
   ]
  },
  {
   "cell_type": "markdown",
   "metadata": {},
   "source": [
    "The cell below defines a Spark KMeans clustering object."
   ]
  },
  {
   "cell_type": "code",
   "execution_count": 92,
   "metadata": {},
   "outputs": [],
   "source": [
    "kmeans = clustering.KMeans(k=5, featuresCol='norm_tfidf', predictionCol='kmeans_feat')"
   ]
  },
  {
   "cell_type": "code",
   "execution_count": 93,
   "metadata": {},
   "outputs": [],
   "source": [
    "pipeline = Pipeline(stages=[tokenizer, sw_filter, cv, idf, center, norm, kmeans, pca])"
   ]
  },
  {
   "cell_type": "code",
   "execution_count": 94,
   "metadata": {},
   "outputs": [],
   "source": [
    "pipeline_model = pipeline.fit(im_courses)"
   ]
  },
  {
   "cell_type": "code",
   "execution_count": 95,
   "metadata": {
    "scrolled": false
   },
   "outputs": [
    {
     "data": {
      "text/html": [
       "<div>\n",
       "<style scoped>\n",
       "    .dataframe tbody tr th:only-of-type {\n",
       "        vertical-align: middle;\n",
       "    }\n",
       "\n",
       "    .dataframe tbody tr th {\n",
       "        vertical-align: top;\n",
       "    }\n",
       "\n",
       "    .dataframe thead th {\n",
       "        text-align: right;\n",
       "    }\n",
       "</style>\n",
       "<table border=\"1\" class=\"dataframe\">\n",
       "  <thead>\n",
       "    <tr style=\"text-align: right;\">\n",
       "      <th></th>\n",
       "      <th>course</th>\n",
       "      <th>core</th>\n",
       "      <th>credits</th>\n",
       "      <th>title</th>\n",
       "      <th>description</th>\n",
       "      <th>words</th>\n",
       "      <th>filtered</th>\n",
       "      <th>tf</th>\n",
       "      <th>tfidf</th>\n",
       "      <th>centered_tfidf</th>\n",
       "      <th>norm_tfidf</th>\n",
       "      <th>kmeans_feat</th>\n",
       "      <th>scores</th>\n",
       "    </tr>\n",
       "  </thead>\n",
       "  <tbody>\n",
       "    <tr>\n",
       "      <td>0</td>\n",
       "      <td>IST 553</td>\n",
       "      <td>IM</td>\n",
       "      <td>3</td>\n",
       "      <td>Information Arch...</td>\n",
       "      <td>Building and man...</td>\n",
       "      <td>[building, and, ...</td>\n",
       "      <td>[building, manag...</td>\n",
       "      <td>(4.0, 2.0, 0.0, ...</td>\n",
       "      <td>(1.8572224325243...</td>\n",
       "      <td>[1.3929168243932...</td>\n",
       "      <td>[0.1387283323560...</td>\n",
       "      <td>2</td>\n",
       "      <td>[-0.675221334034...</td>\n",
       "    </tr>\n",
       "    <tr>\n",
       "      <td>1</td>\n",
       "      <td>IST 558</td>\n",
       "      <td>CAS</td>\n",
       "      <td>3</td>\n",
       "      <td>Technologies in ...</td>\n",
       "      <td>Concepts and tec...</td>\n",
       "      <td>[concepts, and, ...</td>\n",
       "      <td>[concepts, techn...</td>\n",
       "      <td>(0.0, 1.0, 1.0, ...</td>\n",
       "      <td>(0.0, 0.72213471...</td>\n",
       "      <td>[-0.464305608131...</td>\n",
       "      <td>[-0.036605311117...</td>\n",
       "      <td>4</td>\n",
       "      <td>[-1.056009219723...</td>\n",
       "    </tr>\n",
       "    <tr>\n",
       "      <td>2</td>\n",
       "      <td>IST 565</td>\n",
       "      <td>CAS</td>\n",
       "      <td>3</td>\n",
       "      <td>Data Mining</td>\n",
       "      <td>Introduction to ...</td>\n",
       "      <td>[introduction, t...</td>\n",
       "      <td>[introduction, d...</td>\n",
       "      <td>(0.0, 0.0, 1.0, ...</td>\n",
       "      <td>(0.0, 0.0, 1.252...</td>\n",
       "      <td>[-0.464305608131...</td>\n",
       "      <td>[-0.039878871417...</td>\n",
       "      <td>4</td>\n",
       "      <td>[0.1961821942253...</td>\n",
       "    </tr>\n",
       "    <tr>\n",
       "      <td>3</td>\n",
       "      <td>IST 601</td>\n",
       "      <td>IM</td>\n",
       "      <td>3</td>\n",
       "      <td>Information and ...</td>\n",
       "      <td>A broad overview...</td>\n",
       "      <td>[broad, overview...</td>\n",
       "      <td>[broad, overview...</td>\n",
       "      <td>(2.0, 0.0, 0.0, ...</td>\n",
       "      <td>(0.9286112162621...</td>\n",
       "      <td>[0.4643056081310...</td>\n",
       "      <td>[0.0515310315160...</td>\n",
       "      <td>4</td>\n",
       "      <td>[-0.682379184988...</td>\n",
       "    </tr>\n",
       "    <tr>\n",
       "      <td>4</td>\n",
       "      <td>IST 614</td>\n",
       "      <td>IM</td>\n",
       "      <td>3</td>\n",
       "      <td>Management Princ...</td>\n",
       "      <td>Basic ideas, con...</td>\n",
       "      <td>[basic, ideas, c...</td>\n",
       "      <td>[basic, ideas, c...</td>\n",
       "      <td>(1.0, 1.0, 0.0, ...</td>\n",
       "      <td>(0.4643056081310...</td>\n",
       "      <td>[-5.551115123125...</td>\n",
       "      <td>[-4.744008281734...</td>\n",
       "      <td>2</td>\n",
       "      <td>[-1.350818475779...</td>\n",
       "    </tr>\n",
       "  </tbody>\n",
       "</table>\n",
       "</div>"
      ],
      "text/plain": [
       "    course core  credits                title          description  \\\n",
       "0  IST 553   IM        3  Information Arch...  Building and man...   \n",
       "1  IST 558  CAS        3  Technologies in ...  Concepts and tec...   \n",
       "2  IST 565  CAS        3          Data Mining  Introduction to ...   \n",
       "3  IST 601   IM        3  Information and ...  A broad overview...   \n",
       "4  IST 614   IM        3  Management Princ...  Basic ideas, con...   \n",
       "\n",
       "                 words             filtered                   tf  \\\n",
       "0  [building, and, ...  [building, manag...  (4.0, 2.0, 0.0, ...   \n",
       "1  [concepts, and, ...  [concepts, techn...  (0.0, 1.0, 1.0, ...   \n",
       "2  [introduction, t...  [introduction, d...  (0.0, 0.0, 1.0, ...   \n",
       "3  [broad, overview...  [broad, overview...  (2.0, 0.0, 0.0, ...   \n",
       "4  [basic, ideas, c...  [basic, ideas, c...  (1.0, 1.0, 0.0, ...   \n",
       "\n",
       "                 tfidf       centered_tfidf           norm_tfidf  kmeans_feat  \\\n",
       "0  (1.8572224325243...  [1.3929168243932...  [0.1387283323560...            2   \n",
       "1  (0.0, 0.72213471...  [-0.464305608131...  [-0.036605311117...            4   \n",
       "2  (0.0, 0.0, 1.252...  [-0.464305608131...  [-0.039878871417...            4   \n",
       "3  (0.9286112162621...  [0.4643056081310...  [0.0515310315160...            4   \n",
       "4  (0.4643056081310...  [-5.551115123125...  [-4.744008281734...            2   \n",
       "\n",
       "                scores  \n",
       "0  [-0.675221334034...  \n",
       "1  [-1.056009219723...  \n",
       "2  [0.1961821942253...  \n",
       "3  [-0.682379184988...  \n",
       "4  [-1.350818475779...  "
      ]
     },
     "metadata": {},
     "output_type": "display_data"
    }
   ],
   "source": [
    "if is_databricks():\n",
    "  pipeline_model.transform(im_courses).show(5, 10)\n",
    "else:\n",
    "  pd.set_option('display.max_colwidth', 20)\n",
    "  display(pipeline_model.transform(im_courses).toPandas().head())"
   ]
  },
  {
   "cell_type": "code",
   "execution_count": 96,
   "metadata": {},
   "outputs": [
    {
     "name": "stdout",
     "output_type": "stream",
     "text": [
      "+------------------------------------------------------------+\n",
      "|                                                       tfidf|\n",
      "+------------------------------------------------------------+\n",
      "|(357,[0,1,8,12,13,18,36,41,52,111,119,130,202,219,330],[1...|\n",
      "|(357,[1,2,3,4,13,23,25,29,52,58,64,117,120,132,136,141,16...|\n",
      "|(357,[2,3,9,22,26,28,84,85,90,127,134,169,170,178,181,185...|\n",
      "|(357,[0,30,47,60,84,85,158,184,242,301,304],[0.9286112162...|\n",
      "|(357,[0,1,3,4,6,13,18,20,55,56,58,79,128,147,187,222,240,...|\n",
      "+------------------------------------------------------------+\n",
      "only showing top 5 rows\n",
      "\n"
     ]
    }
   ],
   "source": [
    "tfidf.transform(im_courses).select('tfidf').show(5, 60)"
   ]
  },
  {
   "cell_type": "code",
   "execution_count": 97,
   "metadata": {
    "scrolled": false
   },
   "outputs": [
    {
     "name": "stdout",
     "output_type": "stream",
     "text": [
      "+-------+------------------------------------------------------------+-----------+\n",
      "| course|                                                      scores|kmeans_feat|\n",
      "+-------+------------------------------------------------------------+-----------+\n",
      "|IST 553|[-0.675221334034273,0.5785435268413681,-0.073391305874534...|          2|\n",
      "|IST 558|[-1.0560092197231872,0.16173650604119408,1.76742656265281...|          4|\n",
      "|IST 565|[0.1961821942253016,0.3954758666709418,0.7454552052359821...|          4|\n",
      "|IST 601|[-0.682379184988886,0.07779816332342092,0.242940814663267...|          4|\n",
      "|IST 614|[-1.3508184757797241,0.2786365081125695,0.042220706401100...|          2|\n",
      "+-------+------------------------------------------------------------+-----------+\n",
      "only showing top 5 rows\n",
      "\n"
     ]
    }
   ],
   "source": [
    "# note: scores col is the PCA scores\n",
    "pipeline_model.transform(im_courses).select('course', 'scores', 'kmeans_feat').show(5, 60)"
   ]
  },
  {
   "cell_type": "markdown",
   "metadata": {},
   "source": [
    "# Interpretation\n",
    "\n",
    "We can examine the PCA loadings:"
   ]
  },
  {
   "cell_type": "code",
   "execution_count": 98,
   "metadata": {},
   "outputs": [],
   "source": [
    "import pandas as pd"
   ]
  },
  {
   "cell_type": "code",
   "execution_count": 99,
   "metadata": {},
   "outputs": [
    {
     "data": {
      "text/plain": [
       "[RegexTokenizer_68a53a2b5332,\n",
       " StopWordsRemover_54390fa04a4b,\n",
       " CountVectorizer_c1ffba166aca,\n",
       " IDF_0b3d83c48b3d,\n",
       " StandardScaler_d3909102358a,\n",
       " Normalizer_219d5bc23dbe,\n",
       " KMeans_083eecb03841,\n",
       " PCA_bd704a6c66d9]"
      ]
     },
     "execution_count": 99,
     "metadata": {},
     "output_type": "execute_result"
    }
   ],
   "source": [
    "pipeline_model.stages"
   ]
  },
  {
   "cell_type": "code",
   "execution_count": 100,
   "metadata": {},
   "outputs": [],
   "source": [
    "pca_model = pipeline_model.stages[-1]"
   ]
  },
  {
   "cell_type": "code",
   "execution_count": 101,
   "metadata": {},
   "outputs": [],
   "source": [
    "pc1 = pca_model.pc.toArray()[:, 0].tolist()\n",
    "pc2 = pca_model.pc.toArray()[:, 1].tolist()\n",
    "pc3 = pca_model.pc.toArray()[:, 2].tolist()"
   ]
  },
  {
   "cell_type": "code",
   "execution_count": 102,
   "metadata": {},
   "outputs": [],
   "source": [
    "vocabulary = pipeline_model.stages[2].vocabulary"
   ]
  },
  {
   "cell_type": "code",
   "execution_count": 103,
   "metadata": {
    "scrolled": true
   },
   "outputs": [
    {
     "name": "stdout",
     "output_type": "stream",
     "text": [
      "(357, 4)\n"
     ]
    }
   ],
   "source": [
    "pc_loadings = pd.DataFrame([vocabulary, pc1, pc2, pc3]).T.rename(columns={0: 'word', \n",
    "                                                                          1: 'load_pc1',\n",
    "                                                                          2: 'load_pc2',\n",
    "                                                                          3: 'load_pc3',})\n",
    "print(pc_loadings.shape)"
   ]
  },
  {
   "cell_type": "markdown",
   "metadata": {},
   "source": [
    "Show the smallest and largest loadings"
   ]
  },
  {
   "cell_type": "code",
   "execution_count": 104,
   "metadata": {},
   "outputs": [
    {
     "data": {
      "text/html": [
       "<div>\n",
       "<style scoped>\n",
       "    .dataframe tbody tr th:only-of-type {\n",
       "        vertical-align: middle;\n",
       "    }\n",
       "\n",
       "    .dataframe tbody tr th {\n",
       "        vertical-align: top;\n",
       "    }\n",
       "\n",
       "    .dataframe thead th {\n",
       "        text-align: right;\n",
       "    }\n",
       "</style>\n",
       "<table border=\"1\" class=\"dataframe\">\n",
       "  <thead>\n",
       "    <tr style=\"text-align: right;\">\n",
       "      <th></th>\n",
       "      <th>word</th>\n",
       "      <th>load_pc1</th>\n",
       "      <th>load_pc2</th>\n",
       "      <th>load_pc3</th>\n",
       "    </tr>\n",
       "  </thead>\n",
       "  <tbody>\n",
       "    <tr>\n",
       "      <td>60</td>\n",
       "      <td>required</td>\n",
       "      <td>-0.067063</td>\n",
       "      <td>0.0054385</td>\n",
       "      <td>0.0715218</td>\n",
       "    </tr>\n",
       "    <tr>\n",
       "      <td>40</td>\n",
       "      <td>processing</td>\n",
       "      <td>-0.0654304</td>\n",
       "      <td>0.00737648</td>\n",
       "      <td>0.0743025</td>\n",
       "    </tr>\n",
       "    <tr>\n",
       "      <td>111</td>\n",
       "      <td>computational</td>\n",
       "      <td>-0.0613542</td>\n",
       "      <td>0.00504601</td>\n",
       "      <td>0.0764562</td>\n",
       "    </tr>\n",
       "    <tr>\n",
       "      <td>67</td>\n",
       "      <td>linguistic</td>\n",
       "      <td>-0.0613542</td>\n",
       "      <td>0.00504601</td>\n",
       "      <td>0.0764562</td>\n",
       "    </tr>\n",
       "    <tr>\n",
       "      <td>7</td>\n",
       "      <td>students</td>\n",
       "      <td>-0.0579638</td>\n",
       "      <td>0.00405441</td>\n",
       "      <td>0.0680286</td>\n",
       "    </tr>\n",
       "    <tr>\n",
       "      <td>100</td>\n",
       "      <td>architecture</td>\n",
       "      <td>0.188491</td>\n",
       "      <td>-0.051103</td>\n",
       "      <td>0.00445523</td>\n",
       "    </tr>\n",
       "    <tr>\n",
       "      <td>80</td>\n",
       "      <td>complex</td>\n",
       "      <td>0.188491</td>\n",
       "      <td>-0.051103</td>\n",
       "      <td>0.00445523</td>\n",
       "    </tr>\n",
       "    <tr>\n",
       "      <td>35</td>\n",
       "      <td>enterprise</td>\n",
       "      <td>0.254813</td>\n",
       "      <td>-0.453853</td>\n",
       "      <td>-0.0290984</td>\n",
       "    </tr>\n",
       "    <tr>\n",
       "      <td>19</td>\n",
       "      <td>databases</td>\n",
       "      <td>0.275076</td>\n",
       "      <td>0.199085</td>\n",
       "      <td>0.0735311</td>\n",
       "    </tr>\n",
       "    <tr>\n",
       "      <td>24</td>\n",
       "      <td>database</td>\n",
       "      <td>0.538651</td>\n",
       "      <td>0.366988</td>\n",
       "      <td>0.0595601</td>\n",
       "    </tr>\n",
       "  </tbody>\n",
       "</table>\n",
       "</div>"
      ],
      "text/plain": [
       "              word   load_pc1    load_pc2    load_pc3\n",
       "60        required  -0.067063   0.0054385   0.0715218\n",
       "40      processing -0.0654304  0.00737648   0.0743025\n",
       "111  computational -0.0613542  0.00504601   0.0764562\n",
       "67      linguistic -0.0613542  0.00504601   0.0764562\n",
       "7         students -0.0579638  0.00405441   0.0680286\n",
       "100   architecture   0.188491   -0.051103  0.00445523\n",
       "80         complex   0.188491   -0.051103  0.00445523\n",
       "35      enterprise   0.254813   -0.453853  -0.0290984\n",
       "19       databases   0.275076    0.199085   0.0735311\n",
       "24        database   0.538651    0.366988   0.0595601"
      ]
     },
     "execution_count": 104,
     "metadata": {},
     "output_type": "execute_result"
    }
   ],
   "source": [
    "# smallest and biggest loadings of pc1\n",
    "pd.concat((pc_loadings.sort_values('load_pc1').head(), \n",
    "           pc_loadings.sort_values('load_pc1').tail()))"
   ]
  },
  {
   "cell_type": "code",
   "execution_count": 105,
   "metadata": {},
   "outputs": [
    {
     "data": {
      "text/html": [
       "<div>\n",
       "<style scoped>\n",
       "    .dataframe tbody tr th:only-of-type {\n",
       "        vertical-align: middle;\n",
       "    }\n",
       "\n",
       "    .dataframe tbody tr th {\n",
       "        vertical-align: top;\n",
       "    }\n",
       "\n",
       "    .dataframe thead th {\n",
       "        text-align: right;\n",
       "    }\n",
       "</style>\n",
       "<table border=\"1\" class=\"dataframe\">\n",
       "  <thead>\n",
       "    <tr style=\"text-align: right;\">\n",
       "      <th></th>\n",
       "      <th>word</th>\n",
       "      <th>load_pc1</th>\n",
       "      <th>load_pc2</th>\n",
       "      <th>load_pc3</th>\n",
       "    </tr>\n",
       "  </thead>\n",
       "  <tbody>\n",
       "    <tr>\n",
       "      <td>35</td>\n",
       "      <td>enterprise</td>\n",
       "      <td>0.254813</td>\n",
       "      <td>-0.453853</td>\n",
       "      <td>-0.0290984</td>\n",
       "    </tr>\n",
       "    <tr>\n",
       "      <td>127</td>\n",
       "      <td>computing</td>\n",
       "      <td>0.169875</td>\n",
       "      <td>-0.302568</td>\n",
       "      <td>-0.019399</td>\n",
       "    </tr>\n",
       "    <tr>\n",
       "      <td>39</td>\n",
       "      <td>large</td>\n",
       "      <td>0.144783</td>\n",
       "      <td>-0.263025</td>\n",
       "      <td>-0.0181318</td>\n",
       "    </tr>\n",
       "    <tr>\n",
       "      <td>5</td>\n",
       "      <td>systems</td>\n",
       "      <td>0.0903704</td>\n",
       "      <td>-0.160692</td>\n",
       "      <td>0.0276732</td>\n",
       "    </tr>\n",
       "    <tr>\n",
       "      <td>175</td>\n",
       "      <td>coverage</td>\n",
       "      <td>0.0849375</td>\n",
       "      <td>-0.151284</td>\n",
       "      <td>-0.00969948</td>\n",
       "    </tr>\n",
       "    <tr>\n",
       "      <td>356</td>\n",
       "      <td>implementing</td>\n",
       "      <td>0.134663</td>\n",
       "      <td>0.091747</td>\n",
       "      <td>0.01489</td>\n",
       "    </tr>\n",
       "    <tr>\n",
       "      <td>66</td>\n",
       "      <td>security</td>\n",
       "      <td>0.116207</td>\n",
       "      <td>0.094556</td>\n",
       "      <td>-0.129068</td>\n",
       "    </tr>\n",
       "    <tr>\n",
       "      <td>91</td>\n",
       "      <td>warehouses</td>\n",
       "      <td>0.116554</td>\n",
       "      <td>0.097372</td>\n",
       "      <td>0.0149755</td>\n",
       "    </tr>\n",
       "    <tr>\n",
       "      <td>19</td>\n",
       "      <td>databases</td>\n",
       "      <td>0.275076</td>\n",
       "      <td>0.199085</td>\n",
       "      <td>0.0735311</td>\n",
       "    </tr>\n",
       "    <tr>\n",
       "      <td>24</td>\n",
       "      <td>database</td>\n",
       "      <td>0.538651</td>\n",
       "      <td>0.366988</td>\n",
       "      <td>0.0595601</td>\n",
       "    </tr>\n",
       "  </tbody>\n",
       "</table>\n",
       "</div>"
      ],
      "text/plain": [
       "             word   load_pc1  load_pc2    load_pc3\n",
       "35     enterprise   0.254813 -0.453853  -0.0290984\n",
       "127     computing   0.169875 -0.302568   -0.019399\n",
       "39          large   0.144783 -0.263025  -0.0181318\n",
       "5         systems  0.0903704 -0.160692   0.0276732\n",
       "175      coverage  0.0849375 -0.151284 -0.00969948\n",
       "356  implementing   0.134663  0.091747     0.01489\n",
       "66       security   0.116207  0.094556   -0.129068\n",
       "91     warehouses   0.116554  0.097372   0.0149755\n",
       "19      databases   0.275076  0.199085   0.0735311\n",
       "24       database   0.538651  0.366988   0.0595601"
      ]
     },
     "execution_count": 105,
     "metadata": {},
     "output_type": "execute_result"
    }
   ],
   "source": [
    "# smallest and biggest loadings of pc2\n",
    "pd.concat((pc_loadings.sort_values('load_pc2').head(), \n",
    "           pc_loadings.sort_values('load_pc2').tail()))"
   ]
  },
  {
   "cell_type": "code",
   "execution_count": 106,
   "metadata": {
    "scrolled": false
   },
   "outputs": [
    {
     "data": {
      "text/html": [
       "<div>\n",
       "<style scoped>\n",
       "    .dataframe tbody tr th:only-of-type {\n",
       "        vertical-align: middle;\n",
       "    }\n",
       "\n",
       "    .dataframe tbody tr th {\n",
       "        vertical-align: top;\n",
       "    }\n",
       "\n",
       "    .dataframe thead th {\n",
       "        text-align: right;\n",
       "    }\n",
       "</style>\n",
       "<table border=\"1\" class=\"dataframe\">\n",
       "  <thead>\n",
       "    <tr style=\"text-align: right;\">\n",
       "      <th></th>\n",
       "      <th>word</th>\n",
       "      <th>load_pc1</th>\n",
       "      <th>load_pc2</th>\n",
       "      <th>load_pc3</th>\n",
       "    </tr>\n",
       "  </thead>\n",
       "  <tbody>\n",
       "    <tr>\n",
       "      <td>115</td>\n",
       "      <td>policy</td>\n",
       "      <td>0.00144676</td>\n",
       "      <td>0.0368293</td>\n",
       "      <td>-0.330519</td>\n",
       "    </tr>\n",
       "    <tr>\n",
       "      <td>78</td>\n",
       "      <td>public</td>\n",
       "      <td>0.00144676</td>\n",
       "      <td>0.0368293</td>\n",
       "      <td>-0.330519</td>\n",
       "    </tr>\n",
       "    <tr>\n",
       "      <td>42</td>\n",
       "      <td>economic</td>\n",
       "      <td>-0.0149275</td>\n",
       "      <td>0.0125956</td>\n",
       "      <td>-0.184823</td>\n",
       "    </tr>\n",
       "    <tr>\n",
       "      <td>254</td>\n",
       "      <td>library</td>\n",
       "      <td>0.000723382</td>\n",
       "      <td>0.0184146</td>\n",
       "      <td>-0.165259</td>\n",
       "    </tr>\n",
       "    <tr>\n",
       "      <td>312</td>\n",
       "      <td>freedom</td>\n",
       "      <td>0.000723382</td>\n",
       "      <td>0.0184146</td>\n",
       "      <td>-0.165259</td>\n",
       "    </tr>\n",
       "    <tr>\n",
       "      <td>88</td>\n",
       "      <td>administration</td>\n",
       "      <td>0.0155463</td>\n",
       "      <td>0.00854415</td>\n",
       "      <td>0.079552</td>\n",
       "    </tr>\n",
       "    <tr>\n",
       "      <td>22</td>\n",
       "      <td>modeling</td>\n",
       "      <td>0.00457799</td>\n",
       "      <td>0.00875369</td>\n",
       "      <td>0.0798089</td>\n",
       "    </tr>\n",
       "    <tr>\n",
       "      <td>52</td>\n",
       "      <td>projects</td>\n",
       "      <td>-0.0324584</td>\n",
       "      <td>-0.0187311</td>\n",
       "      <td>0.0871006</td>\n",
       "    </tr>\n",
       "    <tr>\n",
       "      <td>2</td>\n",
       "      <td>data</td>\n",
       "      <td>0.0864014</td>\n",
       "      <td>0.0851734</td>\n",
       "      <td>0.133236</td>\n",
       "    </tr>\n",
       "    <tr>\n",
       "      <td>57</td>\n",
       "      <td>metadata</td>\n",
       "      <td>-0.0223883</td>\n",
       "      <td>-0.0428104</td>\n",
       "      <td>0.194214</td>\n",
       "    </tr>\n",
       "  </tbody>\n",
       "</table>\n",
       "</div>"
      ],
      "text/plain": [
       "               word     load_pc1    load_pc2   load_pc3\n",
       "115          policy   0.00144676   0.0368293  -0.330519\n",
       "78           public   0.00144676   0.0368293  -0.330519\n",
       "42         economic   -0.0149275   0.0125956  -0.184823\n",
       "254         library  0.000723382   0.0184146  -0.165259\n",
       "312         freedom  0.000723382   0.0184146  -0.165259\n",
       "88   administration    0.0155463  0.00854415   0.079552\n",
       "22         modeling   0.00457799  0.00875369  0.0798089\n",
       "52         projects   -0.0324584  -0.0187311  0.0871006\n",
       "2              data    0.0864014   0.0851734   0.133236\n",
       "57         metadata   -0.0223883  -0.0428104   0.194214"
      ]
     },
     "execution_count": 106,
     "metadata": {},
     "output_type": "execute_result"
    }
   ],
   "source": [
    "# smallest and biggest loadings of pc3\n",
    "pd.concat((pc_loadings.sort_values('load_pc3').head(), \n",
    "           pc_loadings.sort_values('load_pc3').tail()))"
   ]
  },
  {
   "cell_type": "markdown",
   "metadata": {},
   "source": [
    "# Visualize fit with 2 dimensional PCA"
   ]
  },
  {
   "cell_type": "markdown",
   "metadata": {},
   "source": [
    "The cell below creates a new pipeline to compute PCA scores on the course descriptions."
   ]
  },
  {
   "cell_type": "code",
   "execution_count": 107,
   "metadata": {
    "scrolled": false
   },
   "outputs": [],
   "source": [
    "#pca2 = feature.PCA(k=2, inputCol='centered_tfidf', outputCol='scores')\n",
    "#pipeline2 = Pipeline(stages=[tokenizer, sw_filter, cv, idf, center, norm, kmeans, pca2]).fit(im_courses)"
   ]
  },
  {
   "cell_type": "code",
   "execution_count": 108,
   "metadata": {},
   "outputs": [],
   "source": [
    "pipeline2_model = Pipeline(stages=[tokenizer, sw_filter, cv, idf, \n",
    "                                   feature.Normalizer(inputCol='tfidf', outputCol='norm_tfidf'), \n",
    "                                   feature.StandardScaler(withMean=True, withStd=False, \n",
    "                                                          inputCol='norm_tfidf',\n",
    "                                                          outputCol='centered_tfidf'),\n",
    "                                   feature.PCA(k=2, inputCol='centered_tfidf', outputCol='scores')])\\\n",
    "    .fit(im_courses)"
   ]
  },
  {
   "cell_type": "markdown",
   "metadata": {},
   "source": [
    "The cell below extracts the PCA scores from the transformed pipeline2_model."
   ]
  },
  {
   "cell_type": "code",
   "execution_count": 109,
   "metadata": {
    "scrolled": false
   },
   "outputs": [
    {
     "name": "stdout",
     "output_type": "stream",
     "text": [
      "X.shape: (34, 2)\n"
     ]
    }
   ],
   "source": [
    "course_names = np.array(im_courses.select('course').rdd.map(lambda x: x['course']).collect())\n",
    "X = np.array(pipeline2_model.transform(im_courses).select('scores').rdd.map(lambda x: x['scores']).collect())\n",
    "print(\"X.shape:\", X.shape)"
   ]
  },
  {
   "cell_type": "markdown",
   "metadata": {},
   "source": [
    "Plot PCA2 scores against PCA1 scores"
   ]
  },
  {
   "cell_type": "code",
   "execution_count": 110,
   "metadata": {
    "scrolled": false
   },
   "outputs": [
    {
     "data": {
      "image/png": "[encoded data removed]",
      "text/plain": [
       "<Figure size 504x504 with 1 Axes>"
      ]
     },
     "metadata": {
      "needs_background": "light"
     },
     "output_type": "display_data"
    },
    {
     "data": {
      "text/plain": [
       "None"
      ]
     },
     "metadata": {},
     "output_type": "display_data"
    }
   ],
   "source": [
    "# now plot the data\n",
    "fig, ax = plt.subplots()\n",
    "fig.set_figheight(7)\n",
    "fig.set_figwidth(7)\n",
    "ax.scatter(X[:,0], X[:,1])\n",
    "fig.suptitle(\"Diabetes Data PC2 Scores vs. PC1 Scores\", y=.92)\n",
    "ax.set_xlabel(\"PC1\")\n",
    "ax.set_ylabel(\"PC2\")\n",
    "\n",
    "for i, txt in enumerate(course_names):\n",
    "    ax.annotate(txt, (X[i,0], X[i,1]))\n",
    "    \n",
    "display(plt.show())"
   ]
  },
  {
   "cell_type": "markdown",
   "metadata": {},
   "source": [
    "The cell below sets up to print a zoomed in plot by filtering by data less than 0.2"
   ]
  },
  {
   "cell_type": "code",
   "execution_count": 111,
   "metadata": {},
   "outputs": [],
   "source": [
    "idx = np.abs(X[:, 0]) < 0.2\n",
    "X = X[idx]\n",
    "course_names = course_names[idx]"
   ]
  },
  {
   "cell_type": "code",
   "execution_count": 112,
   "metadata": {},
   "outputs": [
    {
     "data": {
      "image/png": "[encoded data removed]",
      "text/plain": [
       "<Figure size 504x504 with 1 Axes>"
      ]
     },
     "metadata": {
      "needs_background": "light"
     },
     "output_type": "display_data"
    },
    {
     "data": {
      "text/plain": [
       "None"
      ]
     },
     "metadata": {},
     "output_type": "display_data"
    }
   ],
   "source": [
    "# now plot the zoomed data\n",
    "fig, ax = plt.subplots()\n",
    "fig.set_figheight(7)\n",
    "fig.set_figwidth(7)\n",
    "ax.scatter(X[:,0], X[:,1])\n",
    "fig.suptitle(\"Zoomed In Diabetes Data PC2 Scores vs. PC1 Scores\", y=.92)\n",
    "ax.set_xlabel(\"PC1\")\n",
    "ax.set_ylabel(\"PC2\")\n",
    "\n",
    "for i, txt in enumerate(course_names):\n",
    "    ax.annotate(txt, (X[i,0], X[i,1]))\n",
    "    \n",
    "display(plt.show())"
   ]
  },
  {
   "cell_type": "code",
   "execution_count": 113,
   "metadata": {},
   "outputs": [],
   "source": [
    "pca_model = pipeline2_model.stages[-1]"
   ]
  },
  {
   "cell_type": "code",
   "execution_count": 114,
   "metadata": {},
   "outputs": [],
   "source": [
    "pc1 = pca_model.pc.toArray()[:, 0].tolist()\n",
    "pc2 = pca_model.pc.toArray()[:, 1].tolist()"
   ]
  },
  {
   "cell_type": "code",
   "execution_count": 115,
   "metadata": {},
   "outputs": [],
   "source": [
    "vocabulary = pipeline2_model.stages[2].vocabulary"
   ]
  },
  {
   "cell_type": "code",
   "execution_count": 116,
   "metadata": {},
   "outputs": [],
   "source": [
    "pc_loadings = pd.DataFrame([vocabulary, pc1, pc2]).T.rename(columns={0: 'word', \n",
    "                                                                     1: 'load_pc1',\n",
    "                                                                     2: 'load_pc2'})"
   ]
  },
  {
   "cell_type": "code",
   "execution_count": 117,
   "metadata": {
    "scrolled": true
   },
   "outputs": [
    {
     "data": {
      "text/html": [
       "<div>\n",
       "<style scoped>\n",
       "    .dataframe tbody tr th:only-of-type {\n",
       "        vertical-align: middle;\n",
       "    }\n",
       "\n",
       "    .dataframe tbody tr th {\n",
       "        vertical-align: top;\n",
       "    }\n",
       "\n",
       "    .dataframe thead th {\n",
       "        text-align: right;\n",
       "    }\n",
       "</style>\n",
       "<table border=\"1\" class=\"dataframe\">\n",
       "  <thead>\n",
       "    <tr style=\"text-align: right;\">\n",
       "      <th></th>\n",
       "      <th>word</th>\n",
       "      <th>load_pc1</th>\n",
       "    </tr>\n",
       "  </thead>\n",
       "  <tbody>\n",
       "    <tr>\n",
       "      <td>15</td>\n",
       "      <td>research</td>\n",
       "      <td>0.11137</td>\n",
       "    </tr>\n",
       "    <tr>\n",
       "      <td>17</td>\n",
       "      <td>digital</td>\n",
       "      <td>0.0683895</td>\n",
       "    </tr>\n",
       "    <tr>\n",
       "      <td>7</td>\n",
       "      <td>design</td>\n",
       "      <td>0.0668912</td>\n",
       "    </tr>\n",
       "    <tr>\n",
       "      <td>11</td>\n",
       "      <td>issues</td>\n",
       "      <td>0.0572029</td>\n",
       "    </tr>\n",
       "    <tr>\n",
       "      <td>35</td>\n",
       "      <td>networks</td>\n",
       "      <td>0.0537774</td>\n",
       "    </tr>\n",
       "  </tbody>\n",
       "</table>\n",
       "</div>"
      ],
      "text/plain": [
       "        word   load_pc1\n",
       "15  research    0.11137\n",
       "17   digital  0.0683895\n",
       "7     design  0.0668912\n",
       "11    issues  0.0572029\n",
       "35  networks  0.0537774"
      ]
     },
     "execution_count": 117,
     "metadata": {},
     "output_type": "execute_result"
    }
   ],
   "source": [
    "pc_loadings.sort_values('load_pc1').\\\n",
    "    apply({'word': lambda x: x, 'load_pc1': np.abs}, axis=0).head(5)"
   ]
  },
  {
   "cell_type": "code",
   "execution_count": 118,
   "metadata": {
    "scrolled": true
   },
   "outputs": [
    {
     "data": {
      "text/html": [
       "<div>\n",
       "<style scoped>\n",
       "    .dataframe tbody tr th:only-of-type {\n",
       "        vertical-align: middle;\n",
       "    }\n",
       "\n",
       "    .dataframe tbody tr th {\n",
       "        vertical-align: top;\n",
       "    }\n",
       "\n",
       "    .dataframe thead th {\n",
       "        text-align: right;\n",
       "    }\n",
       "</style>\n",
       "<table border=\"1\" class=\"dataframe\">\n",
       "  <thead>\n",
       "    <tr style=\"text-align: right;\">\n",
       "      <th></th>\n",
       "      <th>word</th>\n",
       "      <th>load_pc2</th>\n",
       "    </tr>\n",
       "  </thead>\n",
       "  <tbody>\n",
       "    <tr>\n",
       "      <td>15</td>\n",
       "      <td>research</td>\n",
       "      <td>0.346353</td>\n",
       "    </tr>\n",
       "    <tr>\n",
       "      <td>40</td>\n",
       "      <td>user</td>\n",
       "      <td>0.175591</td>\n",
       "    </tr>\n",
       "    <tr>\n",
       "      <td>104</td>\n",
       "      <td>transfer</td>\n",
       "      <td>0.16139</td>\n",
       "    </tr>\n",
       "    <tr>\n",
       "      <td>87</td>\n",
       "      <td>procedures</td>\n",
       "      <td>0.154404</td>\n",
       "    </tr>\n",
       "    <tr>\n",
       "      <td>101</td>\n",
       "      <td>practices</td>\n",
       "      <td>0.141174</td>\n",
       "    </tr>\n",
       "  </tbody>\n",
       "</table>\n",
       "</div>"
      ],
      "text/plain": [
       "           word  load_pc2\n",
       "15     research  0.346353\n",
       "40         user  0.175591\n",
       "104    transfer   0.16139\n",
       "87   procedures  0.154404\n",
       "101   practices  0.141174"
      ]
     },
     "execution_count": 118,
     "metadata": {},
     "output_type": "execute_result"
    }
   ],
   "source": [
    "pc_loadings.sort_values('load_pc2').\\\n",
    "    apply({'word': lambda x: x, 'load_pc2': np.abs}, axis=0).head(5)"
   ]
  },
  {
   "cell_type": "markdown",
   "metadata": {},
   "source": [
    "# Examine K-means"
   ]
  },
  {
   "cell_type": "markdown",
   "metadata": {},
   "source": [
    "The cell below displays the im_courses dataframe, followed by a print out of the course"
   ]
  },
  {
   "cell_type": "code",
   "execution_count": 119,
   "metadata": {},
   "outputs": [
    {
     "data": {
      "text/plain": [
       "'im_courses head:'"
      ]
     },
     "metadata": {},
     "output_type": "display_data"
    },
    {
     "data": {
      "text/html": [
       "<div>\n",
       "<style scoped>\n",
       "    .dataframe tbody tr th:only-of-type {\n",
       "        vertical-align: middle;\n",
       "    }\n",
       "\n",
       "    .dataframe tbody tr th {\n",
       "        vertical-align: top;\n",
       "    }\n",
       "\n",
       "    .dataframe thead th {\n",
       "        text-align: right;\n",
       "    }\n",
       "</style>\n",
       "<table border=\"1\" class=\"dataframe\">\n",
       "  <thead>\n",
       "    <tr style=\"text-align: right;\">\n",
       "      <th></th>\n",
       "      <th>course</th>\n",
       "      <th>core</th>\n",
       "      <th>credits</th>\n",
       "      <th>title</th>\n",
       "      <th>description</th>\n",
       "    </tr>\n",
       "  </thead>\n",
       "  <tbody>\n",
       "    <tr>\n",
       "      <td>0</td>\n",
       "      <td>IST 553</td>\n",
       "      <td>IM</td>\n",
       "      <td>3</td>\n",
       "      <td>Information Architecture for Internet Services</td>\n",
       "      <td>Building and management of Internet information services, including information organization, information management, and information dissemination. Understanding of the use of Internet technologies within an organizational context. Practice with current technologies.</td>\n",
       "    </tr>\n",
       "    <tr>\n",
       "      <td>1</td>\n",
       "      <td>IST 558</td>\n",
       "      <td>CAS</td>\n",
       "      <td>3</td>\n",
       "      <td>Technologies in Web Content Management</td>\n",
       "      <td>Concepts and techniques in web content representation, organization, presentation, development, and management with the eXtensible Markup Language (XML), including basic XML syntax, vocabulary specification, data modeling, transformation, and Document Object Model (DOM).</td>\n",
       "    </tr>\n",
       "    <tr>\n",
       "      <td>2</td>\n",
       "      <td>IST 565</td>\n",
       "      <td>CAS</td>\n",
       "      <td>3</td>\n",
       "      <td>Data Mining</td>\n",
       "      <td>Introduction to data mining techniques, familiarity with particular real-world applications, challenges involved in these applications, and future directions of the field. Optional hands-on experience with commercially available software packages.</td>\n",
       "    </tr>\n",
       "    <tr>\n",
       "      <td>3</td>\n",
       "      <td>IST 601</td>\n",
       "      <td>IM</td>\n",
       "      <td>3</td>\n",
       "      <td>Information and Information Environments</td>\n",
       "      <td>A broad overview of the field and an orientation to the School of Information Studies. Describes the past, present, and future of information studies.</td>\n",
       "    </tr>\n",
       "    <tr>\n",
       "      <td>4</td>\n",
       "      <td>IST 614</td>\n",
       "      <td>IM</td>\n",
       "      <td>3</td>\n",
       "      <td>Management Principles for Information Professionals</td>\n",
       "      <td>Basic ideas, concepts and perspectives of management as they apply to the information professions. Students learn to understand and apply basic principles of organization theory and behavior and managerial techniques needed to improve organizational effectiveness.</td>\n",
       "    </tr>\n",
       "  </tbody>\n",
       "</table>\n",
       "</div>"
      ],
      "text/plain": [
       "    course core  credits                                                title  \\\n",
       "0  IST 553  IM   3        Information Architecture for Internet Services        \n",
       "1  IST 558  CAS  3        Technologies in Web Content Management                \n",
       "2  IST 565  CAS  3        Data Mining                                           \n",
       "3  IST 601  IM   3        Information and Information Environments              \n",
       "4  IST 614  IM   3        Management Principles for Information Professionals   \n",
       "\n",
       "                                                                                                                                                                                                                                                                       description  \n",
       "0  Building and management of Internet information services, including information organization, information management, and information dissemination. Understanding of the use of Internet technologies within an organizational context. Practice with current technologies.     \n",
       "1  Concepts and techniques in web content representation, organization, presentation, development, and management with the eXtensible Markup Language (XML), including basic XML syntax, vocabulary specification, data modeling, transformation, and Document Object Model (DOM).  \n",
       "2  Introduction to data mining techniques, familiarity with particular real-world applications, challenges involved in these applications, and future directions of the field. Optional hands-on experience with commercially available software packages.                          \n",
       "3  A broad overview of the field and an orientation to the School of Information Studies. Describes the past, present, and future of information studies.                                                                                                                           \n",
       "4  Basic ideas, concepts and perspectives of management as they apply to the information professions. Students learn to understand and apply basic principles of organization theory and behavior and managerial techniques needed to improve organizational effectiveness.         "
      ]
     },
     "metadata": {},
     "output_type": "display_data"
    },
    {
     "data": {
      "text/plain": [
       "'courses grouped by k-means group:'"
      ]
     },
     "metadata": {},
     "output_type": "display_data"
    },
    {
     "data": {
      "text/html": [
       "<div>\n",
       "<style scoped>\n",
       "    .dataframe tbody tr th:only-of-type {\n",
       "        vertical-align: middle;\n",
       "    }\n",
       "\n",
       "    .dataframe tbody tr th {\n",
       "        vertical-align: top;\n",
       "    }\n",
       "\n",
       "    .dataframe thead th {\n",
       "        text-align: right;\n",
       "    }\n",
       "</style>\n",
       "<table border=\"1\" class=\"dataframe\">\n",
       "  <thead>\n",
       "    <tr style=\"text-align: right;\">\n",
       "      <th></th>\n",
       "      <th>kmeans_feat</th>\n",
       "      <th>courses</th>\n",
       "    </tr>\n",
       "  </thead>\n",
       "  <tbody>\n",
       "    <tr>\n",
       "      <td>0</td>\n",
       "      <td>1</td>\n",
       "      <td>[IST 654-Information Systems Analysis, IST 657-Basics of Information Retrieval Systems, IST 659-Data Administration Concepts and Database Management, IST 769-Advanced Database Administration Concepts and Database Management]</td>\n",
       "    </tr>\n",
       "    <tr>\n",
       "      <td>1</td>\n",
       "      <td>3</td>\n",
       "      <td>[IST 617-Motivational Aspects of Information Use, IST 649-Human Interaction with Computers, IST 776-Research Methods in Information Science and Technology, IST 777-Statistical Methods in Information Science and Technology]</td>\n",
       "    </tr>\n",
       "    <tr>\n",
       "      <td>2</td>\n",
       "      <td>4</td>\n",
       "      <td>[IST 558-Technologies in Web Content Management, IST 565-Data Mining, IST 601-Information and Information Environments, IST 618-Information Policy, IST 619-Applied Economics for Information Managers, IST 621-Introduction to Information Management, IST 631-Theory of Classification and Subject Representation, IST 641-User-Based Design, IST 656-Telecommunications and Enterprise Network Management II, IST 662-Instructional Strategies and Techniques for Information Professionals, IST 664-Natural Language Processing, IST 676-Foundations of Digital Data, IST 677-Creating, Managing, and Preserving Digital Assets, IST 681-Metadata, IST 687-Applied Data Science, IST 718-Advanced Information Analytics, IST 719-Information Visualization, IST 722-Data Warehouse, IST 755-Strategic Management of Information Resources, IST 971-Internship in Information Studies]</td>\n",
       "    </tr>\n",
       "    <tr>\n",
       "      <td>3</td>\n",
       "      <td>2</td>\n",
       "      <td>[IST 553-Information Architecture for Internet Services, IST 614-Management Principles for Information Professionals, IST 645-Managing Information Systems Projects]</td>\n",
       "    </tr>\n",
       "    <tr>\n",
       "      <td>4</td>\n",
       "      <td>0</td>\n",
       "      <td>[IST 639-Enterprise Technologies, IST 653-Telecommunications and Enterprise Network Management I, IST 736-Text Mining]</td>\n",
       "    </tr>\n",
       "  </tbody>\n",
       "</table>\n",
       "</div>"
      ],
      "text/plain": [
       "   kmeans_feat  \\\n",
       "0  1             \n",
       "1  3             \n",
       "2  4             \n",
       "3  2             \n",
       "4  0             \n",
       "\n",
       "                                                                                                                                                                                                                                                                                                                                                                                                                                                                                                                                                                                                                                                                                                                                                                                                                                                                                     courses  \n",
       "0  [IST 654-Information Systems Analysis, IST 657-Basics of Information Retrieval Systems, IST 659-Data Administration Concepts and Database Management, IST 769-Advanced Database Administration Concepts and Database Management]                                                                                                                                                                                                                                                                                                                                                                                                                                                                                                                                                                                                                                                           \n",
       "1  [IST 617-Motivational Aspects of Information Use, IST 649-Human Interaction with Computers, IST 776-Research Methods in Information Science and Technology, IST 777-Statistical Methods in Information Science and Technology]                                                                                                                                                                                                                                                                                                                                                                                                                                                                                                                                                                                                                                                             \n",
       "2  [IST 558-Technologies in Web Content Management, IST 565-Data Mining, IST 601-Information and Information Environments, IST 618-Information Policy, IST 619-Applied Economics for Information Managers, IST 621-Introduction to Information Management, IST 631-Theory of Classification and Subject Representation, IST 641-User-Based Design, IST 656-Telecommunications and Enterprise Network Management II, IST 662-Instructional Strategies and Techniques for Information Professionals, IST 664-Natural Language Processing, IST 676-Foundations of Digital Data, IST 677-Creating, Managing, and Preserving Digital Assets, IST 681-Metadata, IST 687-Applied Data Science, IST 718-Advanced Information Analytics, IST 719-Information Visualization, IST 722-Data Warehouse, IST 755-Strategic Management of Information Resources, IST 971-Internship in Information Studies]  \n",
       "3  [IST 553-Information Architecture for Internet Services, IST 614-Management Principles for Information Professionals, IST 645-Managing Information Systems Projects]                                                                                                                                                                                                                                                                                                                                                                                                                                                                                                                                                                                                                                                                                                                       \n",
       "4  [IST 639-Enterprise Technologies, IST 653-Telecommunications and Enterprise Network Management I, IST 736-Text Mining]                                                                                                                                                                                                                                                                                                                                                                                                                                                                                                                                                                                                                                                                                                                                                                     "
      ]
     },
     "metadata": {},
     "output_type": "display_data"
    }
   ],
   "source": [
    "pd.set_option('display.max_colwidth', -1)\n",
    "if is_databricks(): \n",
    "  print(\"original im_courses:\")\n",
    "  im_courses.show(5, 80)\n",
    "  print(\"courses grouped by k-means group:\")\n",
    "  pipeline_model.transform(im_courses).\\\n",
    "           groupBy('kmeans_feat').agg(fn.collect_list(\n",
    "           fn.concat_ws('-', fn.col('course'), fn.col('title'))).alias('courses')).show(5, 80)\n",
    "else:\n",
    "  display(\"im_courses head:\", im_courses.toPandas().head())\n",
    "  display(\"courses grouped by k-means group:\", pipeline_model.transform(im_courses).\\\n",
    "          groupBy('kmeans_feat').agg(fn.collect_list(\n",
    "          fn.concat_ws('-', fn.col('course'), fn.col('title'))).alias('courses')).toPandas().head())"
   ]
  },
  {
   "cell_type": "markdown",
   "metadata": {},
   "source": [
    "# Make recommendations"
   ]
  },
  {
   "cell_type": "markdown",
   "metadata": {},
   "source": [
    "To make recommendations, we need compute the distance between a vector and all the other courses in our dataset. To do this, we need to define a User Defined Function (UDF) that takes as input two column vectors and returns the distance between them."
   ]
  },
  {
   "cell_type": "code",
   "execution_count": 120,
   "metadata": {},
   "outputs": [],
   "source": [
    "from pyspark.sql import types"
   ]
  },
  {
   "cell_type": "code",
   "execution_count": 121,
   "metadata": {},
   "outputs": [],
   "source": [
    "import numpy as np\n",
    "def l2_dist(c1, c2):    \n",
    "    return float(np.sqrt((c1 - c2).T.dot((c1 - c2))))"
   ]
  },
  {
   "cell_type": "markdown",
   "metadata": {},
   "source": [
    "Let's take the PCA features of IST 718."
   ]
  },
  {
   "cell_type": "code",
   "execution_count": 122,
   "metadata": {},
   "outputs": [],
   "source": [
    "l2_dist_udf = fn.udf(l2_dist, types.FloatType())"
   ]
  },
  {
   "cell_type": "markdown",
   "metadata": {},
   "source": [
    "Spark doesn't allow a cross join without a condition because it could be too computationally expensive. The command in the cell below triggers a cross join using the regular inner join syntax.  A cross join is used when you wish to create combination of every row from two tables. All row combinations are included in the result; this is commonly called cross product join. A common use for a cross join is to create obtain all combinations of items, such as colors and sizes."
   ]
  },
  {
   "cell_type": "code",
   "execution_count": 123,
   "metadata": {},
   "outputs": [
    {
     "name": "stdout",
     "output_type": "stream",
     "text": [
      "+--------------------+-----+\n",
      "|                 key|value|\n",
      "+--------------------+-----+\n",
      "|spark.sql.crossJo...| TRUE|\n",
      "+--------------------+-----+\n",
      "\n"
     ]
    }
   ],
   "source": [
    "spark.sql(\"SET spark.sql.crossJoin.enabled=TRUE\").show()"
   ]
  },
  {
   "cell_type": "code",
   "execution_count": 124,
   "metadata": {
    "scrolled": false
   },
   "outputs": [
    {
     "data": {
      "text/html": [
       "<div>\n",
       "<style scoped>\n",
       "    .dataframe tbody tr th:only-of-type {\n",
       "        vertical-align: middle;\n",
       "    }\n",
       "\n",
       "    .dataframe tbody tr th {\n",
       "        vertical-align: top;\n",
       "    }\n",
       "\n",
       "    .dataframe thead th {\n",
       "        text-align: right;\n",
       "    }\n",
       "</style>\n",
       "<table border=\"1\" class=\"dataframe\">\n",
       "  <thead>\n",
       "    <tr style=\"text-align: right;\">\n",
       "      <th></th>\n",
       "      <th>course</th>\n",
       "      <th>description</th>\n",
       "      <th>dist</th>\n",
       "    </tr>\n",
       "  </thead>\n",
       "  <tbody>\n",
       "    <tr>\n",
       "      <td>0</td>\n",
       "      <td>IST 718</td>\n",
       "      <td>A broad introduction to analytical processing tools and techniques for information professionals. Students will develop a portfolio of resources, demonstrations, recipes, and examples of various analytical techniques.</td>\n",
       "      <td>0.000000</td>\n",
       "    </tr>\n",
       "    <tr>\n",
       "      <td>1</td>\n",
       "      <td>IST 719</td>\n",
       "      <td>A broad introduction to data visualization for information professionals. Students will develop a portfolio of resources, demonstrations, recipes, and examples of various data visualization techniques.</td>\n",
       "      <td>1.466475</td>\n",
       "    </tr>\n",
       "    <tr>\n",
       "      <td>2</td>\n",
       "      <td>IST 565</td>\n",
       "      <td>Introduction to data mining techniques, familiarity with particular real-world applications, challenges involved in these applications, and future directions of the field. Optional hands-on experience with commercially available software packages.</td>\n",
       "      <td>4.206517</td>\n",
       "    </tr>\n",
       "    <tr>\n",
       "      <td>3</td>\n",
       "      <td>IST 662</td>\n",
       "      <td>Introduction to information literacy models for application to instruction in information organizations. Focus on strategies and techniques for designing, presenting, and evaluating information technology training and training materials for real clients.</td>\n",
       "      <td>4.281012</td>\n",
       "    </tr>\n",
       "    <tr>\n",
       "      <td>4</td>\n",
       "      <td>IST 601</td>\n",
       "      <td>A broad overview of the field and an orientation to the School of Information Studies. Describes the past, present, and future of information studies.</td>\n",
       "      <td>4.523474</td>\n",
       "    </tr>\n",
       "    <tr>\n",
       "      <td>5</td>\n",
       "      <td>IST 971</td>\n",
       "      <td>Fully supervised internship experience. Prereq: IST masters students only. Must meet GPA requirements and complete a learning agreement with site supervisor.</td>\n",
       "      <td>4.798213</td>\n",
       "    </tr>\n",
       "    <tr>\n",
       "      <td>6</td>\n",
       "      <td>IST 736</td>\n",
       "      <td>Introduces concepts and methods for knowledge discovery from large amount of text data, and the application of text mining techniques for business intelligence, digital humanities, and social behavior analysis.</td>\n",
       "      <td>5.518248</td>\n",
       "    </tr>\n",
       "    <tr>\n",
       "      <td>7</td>\n",
       "      <td>IST 755</td>\n",
       "      <td>Seminar. Integration of previous learning on the various components of management, user needs, and technologies. In-depth review and use of case studies on a range of critical information resources management areas.</td>\n",
       "      <td>5.552835</td>\n",
       "    </tr>\n",
       "    <tr>\n",
       "      <td>8</td>\n",
       "      <td>IST 621</td>\n",
       "      <td>Overview of general management concepts, IM implementation concerns and strategies, information life cycle management, and preparation for an IM career.</td>\n",
       "      <td>5.588045</td>\n",
       "    </tr>\n",
       "    <tr>\n",
       "      <td>9</td>\n",
       "      <td>IST 656</td>\n",
       "      <td>Hardware and software technologies in telecommunication and information networks. TCP/IP protocols. Design, maintenance and management.</td>\n",
       "      <td>5.759579</td>\n",
       "    </tr>\n",
       "  </tbody>\n",
       "</table>\n",
       "</div>"
      ],
      "text/plain": [
       "    course  \\\n",
       "0  IST 718   \n",
       "1  IST 719   \n",
       "2  IST 565   \n",
       "3  IST 662   \n",
       "4  IST 601   \n",
       "5  IST 971   \n",
       "6  IST 736   \n",
       "7  IST 755   \n",
       "8  IST 621   \n",
       "9  IST 656   \n",
       "\n",
       "                                                                                                                                                                                                                                                      description  \\\n",
       "0  A broad introduction to analytical processing tools and techniques for information professionals. Students will develop a portfolio of resources, demonstrations, recipes, and examples of various analytical techniques.                                        \n",
       "1  A broad introduction to data visualization for information professionals. Students will develop a portfolio of resources, demonstrations, recipes, and examples of various data visualization techniques.                                                        \n",
       "2  Introduction to data mining techniques, familiarity with particular real-world applications, challenges involved in these applications, and future directions of the field. Optional hands-on experience with commercially available software packages.          \n",
       "3  Introduction to information literacy models for application to instruction in information organizations. Focus on strategies and techniques for designing, presenting, and evaluating information technology training and training materials for real clients.   \n",
       "4  A broad overview of the field and an orientation to the School of Information Studies. Describes the past, present, and future of information studies.                                                                                                           \n",
       "5  Fully supervised internship experience. Prereq: IST masters students only. Must meet GPA requirements and complete a learning agreement with site supervisor.                                                                                                    \n",
       "6  Introduces concepts and methods for knowledge discovery from large amount of text data, and the application of text mining techniques for business intelligence, digital humanities, and social behavior analysis.                                               \n",
       "7  Seminar. Integration of previous learning on the various components of management, user needs, and technologies. In-depth review and use of case studies on a range of critical information resources management areas.                                          \n",
       "8  Overview of general management concepts, IM implementation concerns and strategies, information life cycle management, and preparation for an IM career.                                                                                                         \n",
       "9  Hardware and software technologies in telecommunication and information networks. TCP/IP protocols. Design, maintenance and management.                                                                                                                          \n",
       "\n",
       "       dist  \n",
       "0  0.000000  \n",
       "1  1.466475  \n",
       "2  4.206517  \n",
       "3  4.281012  \n",
       "4  4.523474  \n",
       "5  4.798213  \n",
       "6  5.518248  \n",
       "7  5.552835  \n",
       "8  5.588045  \n",
       "9  5.759579  "
      ]
     },
     "metadata": {},
     "output_type": "display_data"
    }
   ],
   "source": [
    "if is_databricks():\n",
    "  pipeline_model.transform(im_courses).\\\n",
    "        where('course == \"IST 718\"').\\\n",
    "        select(fn.col(\"scores\").alias('ist718_scores')).\\\n",
    "        join(pipeline_model.transform(im_courses)).\\\n",
    "        withColumn('dist', l2_dist_udf('scores', 'ist718_scores')).\\\n",
    "        select(\"course\", \"description\", \"dist\").\\\n",
    "        orderBy(fn.asc(\"dist\")).\\\n",
    "        show(5, 80)  \n",
    "else:\n",
    "  display(pipeline_model.transform(im_courses).\\\n",
    "          where('course == \"IST 718\"').\\\n",
    "          select(fn.col(\"scores\").alias('ist718_scores')).\\\n",
    "          join(pipeline_model.transform(im_courses)).\\\n",
    "          withColumn('dist', l2_dist_udf('scores', 'ist718_scores')).\\\n",
    "          select(\"course\", \"description\", \"dist\").\\\n",
    "          orderBy(fn.asc(\"dist\")).\\\n",
    "          limit(10).\\\n",
    "          toPandas())"
   ]
  },
  {
   "cell_type": "markdown",
   "metadata": {},
   "source": [
    "To Do:  Create a biplot"
   ]
  },
  {
   "cell_type": "code",
   "execution_count": 125,
   "metadata": {},
   "outputs": [],
   "source": [
    "def biplot(score, coeff, score_labels=None, col_labels=None):\n",
    "    xs = score[:,0]\n",
    "    ys = score[:,1]\n",
    "    n = coeff.shape[0]\n",
    "    scalex = 1.0/(xs.max() - xs.min())\n",
    "    scaley = 1.0/(ys.max() - ys.min())\n",
    "    \n",
    "    plt.scatter(xs * scalex, ys * scaley)\n",
    "    for i in range(n):\n",
    "        plt.arrow(0, 0, coeff[i,0], coeff[i,1],color = 'r',alpha = 0.5)\n",
    "        if col_labels is None:\n",
    "            plt.text(coeff[i,0]* 1.15, coeff[i,1] * 1.15, \"Var\"+str(i+1), color = 'g', ha = 'center', va = 'center')\n",
    "        else:\n",
    "            plt.text(coeff[i,0]* 1.15, coeff[i,1] * 1.15, col_labels[i], color = 'g', ha = 'center', va = 'center')\n",
    "    plt.xlim(-1,1)\n",
    "    plt.ylim(-1,1)\n",
    "    plt.xlabel(\"PC{}\".format(1))\n",
    "    plt.ylabel(\"PC{}\".format(2))\n",
    "    plt.grid()"
   ]
  },
  {
   "cell_type": "code",
   "execution_count": 126,
   "metadata": {},
   "outputs": [],
   "source": [
    "df = pipeline2_model.transform(im_courses)\n",
    "scores = np.array(df.select('scores').rdd.map(lambda x: x['scores']).collect())\n",
    "course_names = np.array(im_courses.select('course').rdd.map(lambda x: x['course']).collect())\n",
    "loadings = pipeline2_model.stages[-1].pc.toArray()"
   ]
  },
  {
   "cell_type": "code",
   "execution_count": 127,
   "metadata": {},
   "outputs": [
    {
     "name": "stdout",
     "output_type": "stream",
     "text": [
      "(34, 2)\n",
      "(34,)\n",
      "(357, 2)\n"
     ]
    }
   ],
   "source": [
    "print(scores.shape)\n",
    "print(course_names.shape)\n",
    "print(loadings.shape)\n",
    "#display(df.toPandas().head())"
   ]
  },
  {
   "cell_type": "code",
   "execution_count": 131,
   "metadata": {},
   "outputs": [
    {
     "data": {
      "application/javascript": [
       "/* Put everything inside the global mpl namespace */\n",
       "window.mpl = {};\n",
       "\n",
       "\n",
       "mpl.get_websocket_type = function() {\n",
       "    if (typeof(WebSocket) !== 'undefined') {\n",
       "        return WebSocket;\n",
       "    } else if (typeof(MozWebSocket) !== 'undefined') {\n",
       "        return MozWebSocket;\n",
       "    } else {\n",
       "        alert('Your browser does not have WebSocket support. ' +\n",
       "              'Please try Chrome, Safari or Firefox ≥ 6. ' +\n",
       "              'Firefox 4 and 5 are also supported but you ' +\n",
       "              'have to enable WebSockets in about:config.');\n",
       "    };\n",
       "}\n",
       "\n",
       "mpl.figure = function(figure_id, websocket, ondownload, parent_element) {\n",
       "    this.id = figure_id;\n",
       "\n",
       "    this.ws = websocket;\n",
       "\n",
       "    this.supports_binary = (this.ws.binaryType != undefined);\n",
       "\n",
       "    if (!this.supports_binary) {\n",
       "        var warnings = document.getElementById(\"mpl-warnings\");\n",
       "        if (warnings) {\n",
       "            warnings.style.display = 'block';\n",
       "            warnings.textContent = (\n",
       "                \"This browser does not support binary websocket messages. \" +\n",
       "                    \"Performance may be slow.\");\n",
       "        }\n",
       "    }\n",
       "\n",
       "    this.imageObj = new Image();\n",
       "\n",
       "    this.context = undefined;\n",
       "    this.message = undefined;\n",
       "    this.canvas = undefined;\n",
       "    this.rubberband_canvas = undefined;\n",
       "    this.rubberband_context = undefined;\n",
       "    this.format_dropdown = undefined;\n",
       "\n",
       "    this.image_mode = 'full';\n",
       "\n",
       "    this.root = $('<div/>');\n",
       "    this._root_extra_style(this.root)\n",
       "    this.root.attr('style', 'display: inline-block');\n",
       "\n",
       "    $(parent_element).append(this.root);\n",
       "\n",
       "    this._init_header(this);\n",
       "    this._init_canvas(this);\n",
       "    this._init_toolbar(this);\n",
       "\n",
       "    var fig = this;\n",
       "\n",
       "    this.waiting = false;\n",
       "\n",
       "    this.ws.onopen =  function () {\n",
       "            fig.send_message(\"supports_binary\", {value: fig.supports_binary});\n",
       "            fig.send_message(\"send_image_mode\", {});\n",
       "            if (mpl.ratio != 1) {\n",
       "                fig.send_message(\"set_dpi_ratio\", {'dpi_ratio': mpl.ratio});\n",
       "            }\n",
       "            fig.send_message(\"refresh\", {});\n",
       "        }\n",
       "\n",
       "    this.imageObj.onload = function() {\n",
       "            if (fig.image_mode == 'full') {\n",
       "                // Full images could contain transparency (where diff images\n",
       "                // almost always do), so we need to clear the canvas so that\n",
       "                // there is no ghosting.\n",
       "                fig.context.clearRect(0, 0, fig.canvas.width, fig.canvas.height);\n",
       "            }\n",
       "            fig.context.drawImage(fig.imageObj, 0, 0);\n",
       "        };\n",
       "\n",
       "    this.imageObj.onunload = function() {\n",
       "        fig.ws.close();\n",
       "    }\n",
       "\n",
       "    this.ws.onmessage = this._make_on_message_function(this);\n",
       "\n",
       "    this.ondownload = ondownload;\n",
       "}\n",
       "\n",
       "mpl.figure.prototype._init_header = function() {\n",
       "    var titlebar = $(\n",
       "        '<div class=\"ui-dialog-titlebar ui-widget-header ui-corner-all ' +\n",
       "        'ui-helper-clearfix\"/>');\n",
       "    var titletext = $(\n",
       "        '<div class=\"ui-dialog-title\" style=\"width: 100%; ' +\n",
       "        'text-align: center; padding: 3px;\"/>');\n",
       "    titlebar.append(titletext)\n",
       "    this.root.append(titlebar);\n",
       "    this.header = titletext[0];\n",
       "}\n",
       "\n",
       "\n",
       "\n",
       "mpl.figure.prototype._canvas_extra_style = function(canvas_div) {\n",
       "\n",
       "}\n",
       "\n",
       "\n",
       "mpl.figure.prototype._root_extra_style = function(canvas_div) {\n",
       "\n",
       "}\n",
       "\n",
       "mpl.figure.prototype._init_canvas = function() {\n",
       "    var fig = this;\n",
       "\n",
       "    var canvas_div = $('<div/>');\n",
       "\n",
       "    canvas_div.attr('style', 'position: relative; clear: both; outline: 0');\n",
       "\n",
       "    function canvas_keyboard_event(event) {\n",
       "        return fig.key_event(event, event['data']);\n",
       "    }\n",
       "\n",
       "    canvas_div.keydown('key_press', canvas_keyboard_event);\n",
       "    canvas_div.keyup('key_release', canvas_keyboard_event);\n",
       "    this.canvas_div = canvas_div\n",
       "    this._canvas_extra_style(canvas_div)\n",
       "    this.root.append(canvas_div);\n",
       "\n",
       "    var canvas = $('<canvas/>');\n",
       "    canvas.addClass('mpl-canvas');\n",
       "    canvas.attr('style', \"left: 0; top: 0; z-index: 0; outline: 0\")\n",
       "\n",
       "    this.canvas = canvas[0];\n",
       "    this.context = canvas[0].getContext(\"2d\");\n",
       "\n",
       "    var backingStore = this.context.backingStorePixelRatio ||\n",
       "\tthis.context.webkitBackingStorePixelRatio ||\n",
       "\tthis.context.mozBackingStorePixelRatio ||\n",
       "\tthis.context.msBackingStorePixelRatio ||\n",
       "\tthis.context.oBackingStorePixelRatio ||\n",
       "\tthis.context.backingStorePixelRatio || 1;\n",
       "\n",
       "    mpl.ratio = (window.devicePixelRatio || 1) / backingStore;\n",
       "\n",
       "    var rubberband = $('<canvas/>');\n",
       "    rubberband.attr('style', \"position: absolute; left: 0; top: 0; z-index: 1;\")\n",
       "\n",
       "    var pass_mouse_events = true;\n",
       "\n",
       "    canvas_div.resizable({\n",
       "        start: function(event, ui) {\n",
       "            pass_mouse_events = false;\n",
       "        },\n",
       "        resize: function(event, ui) {\n",
       "            fig.request_resize(ui.size.width, ui.size.height);\n",
       "        },\n",
       "        stop: function(event, ui) {\n",
       "            pass_mouse_events = true;\n",
       "            fig.request_resize(ui.size.width, ui.size.height);\n",
       "        },\n",
       "    });\n",
       "\n",
       "    function mouse_event_fn(event) {\n",
       "        if (pass_mouse_events)\n",
       "            return fig.mouse_event(event, event['data']);\n",
       "    }\n",
       "\n",
       "    rubberband.mousedown('button_press', mouse_event_fn);\n",
       "    rubberband.mouseup('button_release', mouse_event_fn);\n",
       "    // Throttle sequential mouse events to 1 every 20ms.\n",
       "    rubberband.mousemove('motion_notify', mouse_event_fn);\n",
       "\n",
       "    rubberband.mouseenter('figure_enter', mouse_event_fn);\n",
       "    rubberband.mouseleave('figure_leave', mouse_event_fn);\n",
       "\n",
       "    canvas_div.on(\"wheel\", function (event) {\n",
       "        event = event.originalEvent;\n",
       "        event['data'] = 'scroll'\n",
       "        if (event.deltaY < 0) {\n",
       "            event.step = 1;\n",
       "        } else {\n",
       "            event.step = -1;\n",
       "        }\n",
       "        mouse_event_fn(event);\n",
       "    });\n",
       "\n",
       "    canvas_div.append(canvas);\n",
       "    canvas_div.append(rubberband);\n",
       "\n",
       "    this.rubberband = rubberband;\n",
       "    this.rubberband_canvas = rubberband[0];\n",
       "    this.rubberband_context = rubberband[0].getContext(\"2d\");\n",
       "    this.rubberband_context.strokeStyle = \"#000000\";\n",
       "\n",
       "    this._resize_canvas = function(width, height) {\n",
       "        // Keep the size of the canvas, canvas container, and rubber band\n",
       "        // canvas in synch.\n",
       "        canvas_div.css('width', width)\n",
       "        canvas_div.css('height', height)\n",
       "\n",
       "        canvas.attr('width', width * mpl.ratio);\n",
       "        canvas.attr('height', height * mpl.ratio);\n",
       "        canvas.attr('style', 'width: ' + width + 'px; height: ' + height + 'px;');\n",
       "\n",
       "        rubberband.attr('width', width);\n",
       "        rubberband.attr('height', height);\n",
       "    }\n",
       "\n",
       "    // Set the figure to an initial 600x600px, this will subsequently be updated\n",
       "    // upon first draw.\n",
       "    this._resize_canvas(600, 600);\n",
       "\n",
       "    // Disable right mouse context menu.\n",
       "    $(this.rubberband_canvas).bind(\"contextmenu\",function(e){\n",
       "        return false;\n",
       "    });\n",
       "\n",
       "    function set_focus () {\n",
       "        canvas.focus();\n",
       "        canvas_div.focus();\n",
       "    }\n",
       "\n",
       "    window.setTimeout(set_focus, 100);\n",
       "}\n",
       "\n",
       "mpl.figure.prototype._init_toolbar = function() {\n",
       "    var fig = this;\n",
       "\n",
       "    var nav_element = $('<div/>');\n",
       "    nav_element.attr('style', 'width: 100%');\n",
       "    this.root.append(nav_element);\n",
       "\n",
       "    // Define a callback function for later on.\n",
       "    function toolbar_event(event) {\n",
       "        return fig.toolbar_button_onclick(event['data']);\n",
       "    }\n",
       "    function toolbar_mouse_event(event) {\n",
       "        return fig.toolbar_button_onmouseover(event['data']);\n",
       "    }\n",
       "\n",
       "    for(var toolbar_ind in mpl.toolbar_items) {\n",
       "        var name = mpl.toolbar_items[toolbar_ind][0];\n",
       "        var tooltip = mpl.toolbar_items[toolbar_ind][1];\n",
       "        var image = mpl.toolbar_items[toolbar_ind][2];\n",
       "        var method_name = mpl.toolbar_items[toolbar_ind][3];\n",
       "\n",
       "        if (!name) {\n",
       "            // put a spacer in here.\n",
       "            continue;\n",
       "        }\n",
       "        var button = $('<button/>');\n",
       "        button.addClass('ui-button ui-widget ui-state-default ui-corner-all ' +\n",
       "                        'ui-button-icon-only');\n",
       "        button.attr('role', 'button');\n",
       "        button.attr('aria-disabled', 'false');\n",
       "        button.click(method_name, toolbar_event);\n",
       "        button.mouseover(tooltip, toolbar_mouse_event);\n",
       "\n",
       "        var icon_img = $('<span/>');\n",
       "        icon_img.addClass('ui-button-icon-primary ui-icon');\n",
       "        icon_img.addClass(image);\n",
       "        icon_img.addClass('ui-corner-all');\n",
       "\n",
       "        var tooltip_span = $('<span/>');\n",
       "        tooltip_span.addClass('ui-button-text');\n",
       "        tooltip_span.html(tooltip);\n",
       "\n",
       "        button.append(icon_img);\n",
       "        button.append(tooltip_span);\n",
       "\n",
       "        nav_element.append(button);\n",
       "    }\n",
       "\n",
       "    var fmt_picker_span = $('<span/>');\n",
       "\n",
       "    var fmt_picker = $('<select/>');\n",
       "    fmt_picker.addClass('mpl-toolbar-option ui-widget ui-widget-content');\n",
       "    fmt_picker_span.append(fmt_picker);\n",
       "    nav_element.append(fmt_picker_span);\n",
       "    this.format_dropdown = fmt_picker[0];\n",
       "\n",
       "    for (var ind in mpl.extensions) {\n",
       "        var fmt = mpl.extensions[ind];\n",
       "        var option = $(\n",
       "            '<option/>', {selected: fmt === mpl.default_extension}).html(fmt);\n",
       "        fmt_picker.append(option);\n",
       "    }\n",
       "\n",
       "    // Add hover states to the ui-buttons\n",
       "    $( \".ui-button\" ).hover(\n",
       "        function() { $(this).addClass(\"ui-state-hover\");},\n",
       "        function() { $(this).removeClass(\"ui-state-hover\");}\n",
       "    );\n",
       "\n",
       "    var status_bar = $('<span class=\"mpl-message\"/>');\n",
       "    nav_element.append(status_bar);\n",
       "    this.message = status_bar[0];\n",
       "}\n",
       "\n",
       "mpl.figure.prototype.request_resize = function(x_pixels, y_pixels) {\n",
       "    // Request matplotlib to resize the figure. Matplotlib will then trigger a resize in the client,\n",
       "    // which will in turn request a refresh of the image.\n",
       "    this.send_message('resize', {'width': x_pixels, 'height': y_pixels});\n",
       "}\n",
       "\n",
       "mpl.figure.prototype.send_message = function(type, properties) {\n",
       "    properties['type'] = type;\n",
       "    properties['figure_id'] = this.id;\n",
       "    this.ws.send(JSON.stringify(properties));\n",
       "}\n",
       "\n",
       "mpl.figure.prototype.send_draw_message = function() {\n",
       "    if (!this.waiting) {\n",
       "        this.waiting = true;\n",
       "        this.ws.send(JSON.stringify({type: \"draw\", figure_id: this.id}));\n",
       "    }\n",
       "}\n",
       "\n",
       "\n",
       "mpl.figure.prototype.handle_save = function(fig, msg) {\n",
       "    var format_dropdown = fig.format_dropdown;\n",
       "    var format = format_dropdown.options[format_dropdown.selectedIndex].value;\n",
       "    fig.ondownload(fig, format);\n",
       "}\n",
       "\n",
       "\n",
       "mpl.figure.prototype.handle_resize = function(fig, msg) {\n",
       "    var size = msg['size'];\n",
       "    if (size[0] != fig.canvas.width || size[1] != fig.canvas.height) {\n",
       "        fig._resize_canvas(size[0], size[1]);\n",
       "        fig.send_message(\"refresh\", {});\n",
       "    };\n",
       "}\n",
       "\n",
       "mpl.figure.prototype.handle_rubberband = function(fig, msg) {\n",
       "    var x0 = msg['x0'] / mpl.ratio;\n",
       "    var y0 = (fig.canvas.height - msg['y0']) / mpl.ratio;\n",
       "    var x1 = msg['x1'] / mpl.ratio;\n",
       "    var y1 = (fig.canvas.height - msg['y1']) / mpl.ratio;\n",
       "    x0 = Math.floor(x0) + 0.5;\n",
       "    y0 = Math.floor(y0) + 0.5;\n",
       "    x1 = Math.floor(x1) + 0.5;\n",
       "    y1 = Math.floor(y1) + 0.5;\n",
       "    var min_x = Math.min(x0, x1);\n",
       "    var min_y = Math.min(y0, y1);\n",
       "    var width = Math.abs(x1 - x0);\n",
       "    var height = Math.abs(y1 - y0);\n",
       "\n",
       "    fig.rubberband_context.clearRect(\n",
       "        0, 0, fig.canvas.width / mpl.ratio, fig.canvas.height / mpl.ratio);\n",
       "\n",
       "    fig.rubberband_context.strokeRect(min_x, min_y, width, height);\n",
       "}\n",
       "\n",
       "mpl.figure.prototype.handle_figure_label = function(fig, msg) {\n",
       "    // Updates the figure title.\n",
       "    fig.header.textContent = msg['label'];\n",
       "}\n",
       "\n",
       "mpl.figure.prototype.handle_cursor = function(fig, msg) {\n",
       "    var cursor = msg['cursor'];\n",
       "    switch(cursor)\n",
       "    {\n",
       "    case 0:\n",
       "        cursor = 'pointer';\n",
       "        break;\n",
       "    case 1:\n",
       "        cursor = 'default';\n",
       "        break;\n",
       "    case 2:\n",
       "        cursor = 'crosshair';\n",
       "        break;\n",
       "    case 3:\n",
       "        cursor = 'move';\n",
       "        break;\n",
       "    }\n",
       "    fig.rubberband_canvas.style.cursor = cursor;\n",
       "}\n",
       "\n",
       "mpl.figure.prototype.handle_message = function(fig, msg) {\n",
       "    fig.message.textContent = msg['message'];\n",
       "}\n",
       "\n",
       "mpl.figure.prototype.handle_draw = function(fig, msg) {\n",
       "    // Request the server to send over a new figure.\n",
       "    fig.send_draw_message();\n",
       "}\n",
       "\n",
       "mpl.figure.prototype.handle_image_mode = function(fig, msg) {\n",
       "    fig.image_mode = msg['mode'];\n",
       "}\n",
       "\n",
       "mpl.figure.prototype.updated_canvas_event = function() {\n",
       "    // Called whenever the canvas gets updated.\n",
       "    this.send_message(\"ack\", {});\n",
       "}\n",
       "\n",
       "// A function to construct a web socket function for onmessage handling.\n",
       "// Called in the figure constructor.\n",
       "mpl.figure.prototype._make_on_message_function = function(fig) {\n",
       "    return function socket_on_message(evt) {\n",
       "        if (evt.data instanceof Blob) {\n",
       "            /* FIXME: We get \"Resource interpreted as Image but\n",
       "             * transferred with MIME type text/plain:\" errors on\n",
       "             * Chrome.  But how to set the MIME type?  It doesn't seem\n",
       "             * to be part of the websocket stream */\n",
       "            evt.data.type = \"image/png\";\n",
       "\n",
       "            /* Free the memory for the previous frames */\n",
       "            if (fig.imageObj.src) {\n",
       "                (window.URL || window.webkitURL).revokeObjectURL(\n",
       "                    fig.imageObj.src);\n",
       "            }\n",
       "\n",
       "            fig.imageObj.src = (window.URL || window.webkitURL).createObjectURL(\n",
       "                evt.data);\n",
       "            fig.updated_canvas_event();\n",
       "            fig.waiting = false;\n",
       "            return;\n",
       "        }\n",
       "        else if (typeof evt.data === 'string' && evt.data.slice(0, 21) == \"data:image/png;base64\") {\n",
       "            fig.imageObj.src = evt.data;\n",
       "            fig.updated_canvas_event();\n",
       "            fig.waiting = false;\n",
       "            return;\n",
       "        }\n",
       "\n",
       "        var msg = JSON.parse(evt.data);\n",
       "        var msg_type = msg['type'];\n",
       "\n",
       "        // Call the  \"handle_{type}\" callback, which takes\n",
       "        // the figure and JSON message as its only arguments.\n",
       "        try {\n",
       "            var callback = fig[\"handle_\" + msg_type];\n",
       "        } catch (e) {\n",
       "            console.log(\"No handler for the '\" + msg_type + \"' message type: \", msg);\n",
       "            return;\n",
       "        }\n",
       "\n",
       "        if (callback) {\n",
       "            try {\n",
       "                // console.log(\"Handling '\" + msg_type + \"' message: \", msg);\n",
       "                callback(fig, msg);\n",
       "            } catch (e) {\n",
       "                console.log(\"Exception inside the 'handler_\" + msg_type + \"' callback:\", e, e.stack, msg);\n",
       "            }\n",
       "        }\n",
       "    };\n",
       "}\n",
       "\n",
       "// from http://stackoverflow.com/questions/1114465/getting-mouse-location-in-canvas\n",
       "mpl.findpos = function(e) {\n",
       "    //this section is from http://www.quirksmode.org/js/events_properties.html\n",
       "    var targ;\n",
       "    if (!e)\n",
       "        e = window.event;\n",
       "    if (e.target)\n",
       "        targ = e.target;\n",
       "    else if (e.srcElement)\n",
       "        targ = e.srcElement;\n",
       "    if (targ.nodeType == 3) // defeat Safari bug\n",
       "        targ = targ.parentNode;\n",
       "\n",
       "    // jQuery normalizes the pageX and pageY\n",
       "    // pageX,Y are the mouse positions relative to the document\n",
       "    // offset() returns the position of the element relative to the document\n",
       "    var x = e.pageX - $(targ).offset().left;\n",
       "    var y = e.pageY - $(targ).offset().top;\n",
       "\n",
       "    return {\"x\": x, \"y\": y};\n",
       "};\n",
       "\n",
       "/*\n",
       " * return a copy of an object with only non-object keys\n",
       " * we need this to avoid circular references\n",
       " * http://stackoverflow.com/a/24161582/3208463\n",
       " */\n",
       "function simpleKeys (original) {\n",
       "  return Object.keys(original).reduce(function (obj, key) {\n",
       "    if (typeof original[key] !== 'object')\n",
       "        obj[key] = original[key]\n",
       "    return obj;\n",
       "  }, {});\n",
       "}\n",
       "\n",
       "mpl.figure.prototype.mouse_event = function(event, name) {\n",
       "    var canvas_pos = mpl.findpos(event)\n",
       "\n",
       "    if (name === 'button_press')\n",
       "    {\n",
       "        this.canvas.focus();\n",
       "        this.canvas_div.focus();\n",
       "    }\n",
       "\n",
       "    var x = canvas_pos.x * mpl.ratio;\n",
       "    var y = canvas_pos.y * mpl.ratio;\n",
       "\n",
       "    this.send_message(name, {x: x, y: y, button: event.button,\n",
       "                             step: event.step,\n",
       "                             guiEvent: simpleKeys(event)});\n",
       "\n",
       "    /* This prevents the web browser from automatically changing to\n",
       "     * the text insertion cursor when the button is pressed.  We want\n",
       "     * to control all of the cursor setting manually through the\n",
       "     * 'cursor' event from matplotlib */\n",
       "    event.preventDefault();\n",
       "    return false;\n",
       "}\n",
       "\n",
       "mpl.figure.prototype._key_event_extra = function(event, name) {\n",
       "    // Handle any extra behaviour associated with a key event\n",
       "}\n",
       "\n",
       "mpl.figure.prototype.key_event = function(event, name) {\n",
       "\n",
       "    // Prevent repeat events\n",
       "    if (name == 'key_press')\n",
       "    {\n",
       "        if (event.which === this._key)\n",
       "            return;\n",
       "        else\n",
       "            this._key = event.which;\n",
       "    }\n",
       "    if (name == 'key_release')\n",
       "        this._key = null;\n",
       "\n",
       "    var value = '';\n",
       "    if (event.ctrlKey && event.which != 17)\n",
       "        value += \"ctrl+\";\n",
       "    if (event.altKey && event.which != 18)\n",
       "        value += \"alt+\";\n",
       "    if (event.shiftKey && event.which != 16)\n",
       "        value += \"shift+\";\n",
       "\n",
       "    value += 'k';\n",
       "    value += event.which.toString();\n",
       "\n",
       "    this._key_event_extra(event, name);\n",
       "\n",
       "    this.send_message(name, {key: value,\n",
       "                             guiEvent: simpleKeys(event)});\n",
       "    return false;\n",
       "}\n",
       "\n",
       "mpl.figure.prototype.toolbar_button_onclick = function(name) {\n",
       "    if (name == 'download') {\n",
       "        this.handle_save(this, null);\n",
       "    } else {\n",
       "        this.send_message(\"toolbar_button\", {name: name});\n",
       "    }\n",
       "};\n",
       "\n",
       "mpl.figure.prototype.toolbar_button_onmouseover = function(tooltip) {\n",
       "    this.message.textContent = tooltip;\n",
       "};\n",
       "mpl.toolbar_items = [[\"Home\", \"Reset original view\", \"fa fa-home icon-home\", \"home\"], [\"Back\", \"Back to previous view\", \"fa fa-arrow-left icon-arrow-left\", \"back\"], [\"Forward\", \"Forward to next view\", \"fa fa-arrow-right icon-arrow-right\", \"forward\"], [\"\", \"\", \"\", \"\"], [\"Pan\", \"Pan axes with left mouse, zoom with right\", \"fa fa-arrows icon-move\", \"pan\"], [\"Zoom\", \"Zoom to rectangle\", \"fa fa-square-o icon-check-empty\", \"zoom\"], [\"\", \"\", \"\", \"\"], [\"Download\", \"Download plot\", \"fa fa-floppy-o icon-save\", \"download\"]];\n",
       "\n",
       "mpl.extensions = [\"eps\", \"jpeg\", \"pdf\", \"png\", \"ps\", \"raw\", \"svg\", \"tif\"];\n",
       "\n",
       "mpl.default_extension = \"png\";var comm_websocket_adapter = function(comm) {\n",
       "    // Create a \"websocket\"-like object which calls the given IPython comm\n",
       "    // object with the appropriate methods. Currently this is a non binary\n",
       "    // socket, so there is still some room for performance tuning.\n",
       "    var ws = {};\n",
       "\n",
       "    ws.close = function() {\n",
       "        comm.close()\n",
       "    };\n",
       "    ws.send = function(m) {\n",
       "        //console.log('sending', m);\n",
       "        comm.send(m);\n",
       "    };\n",
       "    // Register the callback with on_msg.\n",
       "    comm.on_msg(function(msg) {\n",
       "        //console.log('receiving', msg['content']['data'], msg);\n",
       "        // Pass the mpl event to the overridden (by mpl) onmessage function.\n",
       "        ws.onmessage(msg['content']['data'])\n",
       "    });\n",
       "    return ws;\n",
       "}\n",
       "\n",
       "mpl.mpl_figure_comm = function(comm, msg) {\n",
       "    // This is the function which gets called when the mpl process\n",
       "    // starts-up an IPython Comm through the \"matplotlib\" channel.\n",
       "\n",
       "    var id = msg.content.data.id;\n",
       "    // Get hold of the div created by the display call when the Comm\n",
       "    // socket was opened in Python.\n",
       "    var element = $(\"#\" + id);\n",
       "    var ws_proxy = comm_websocket_adapter(comm)\n",
       "\n",
       "    function ondownload(figure, format) {\n",
       "        window.open(figure.imageObj.src);\n",
       "    }\n",
       "\n",
       "    var fig = new mpl.figure(id, ws_proxy,\n",
       "                           ondownload,\n",
       "                           element.get(0));\n",
       "\n",
       "    // Call onopen now - mpl needs it, as it is assuming we've passed it a real\n",
       "    // web socket which is closed, not our websocket->open comm proxy.\n",
       "    ws_proxy.onopen();\n",
       "\n",
       "    fig.parent_element = element.get(0);\n",
       "    fig.cell_info = mpl.find_output_cell(\"<div id='\" + id + \"'></div>\");\n",
       "    if (!fig.cell_info) {\n",
       "        console.error(\"Failed to find cell for figure\", id, fig);\n",
       "        return;\n",
       "    }\n",
       "\n",
       "    var output_index = fig.cell_info[2]\n",
       "    var cell = fig.cell_info[0];\n",
       "\n",
       "};\n",
       "\n",
       "mpl.figure.prototype.handle_close = function(fig, msg) {\n",
       "    var width = fig.canvas.width/mpl.ratio\n",
       "    fig.root.unbind('remove')\n",
       "\n",
       "    // Update the output cell to use the data from the current canvas.\n",
       "    fig.push_to_output();\n",
       "    var dataURL = fig.canvas.toDataURL();\n",
       "    // Re-enable the keyboard manager in IPython - without this line, in FF,\n",
       "    // the notebook keyboard shortcuts fail.\n",
       "    IPython.keyboard_manager.enable()\n",
       "    $(fig.parent_element).html('<img src=\"' + dataURL + '\" width=\"' + width + '\">');\n",
       "    fig.close_ws(fig, msg);\n",
       "}\n",
       "\n",
       "mpl.figure.prototype.close_ws = function(fig, msg){\n",
       "    fig.send_message('closing', msg);\n",
       "    // fig.ws.close()\n",
       "}\n",
       "\n",
       "mpl.figure.prototype.push_to_output = function(remove_interactive) {\n",
       "    // Turn the data on the canvas into data in the output cell.\n",
       "    var width = this.canvas.width/mpl.ratio\n",
       "    var dataURL = this.canvas.toDataURL();\n",
       "    this.cell_info[1]['text/html'] = '<img src=\"' + dataURL + '\" width=\"' + width + '\">';\n",
       "}\n",
       "\n",
       "mpl.figure.prototype.updated_canvas_event = function() {\n",
       "    // Tell IPython that the notebook contents must change.\n",
       "    IPython.notebook.set_dirty(true);\n",
       "    this.send_message(\"ack\", {});\n",
       "    var fig = this;\n",
       "    // Wait a second, then push the new image to the DOM so\n",
       "    // that it is saved nicely (might be nice to debounce this).\n",
       "    setTimeout(function () { fig.push_to_output() }, 1000);\n",
       "}\n",
       "\n",
       "mpl.figure.prototype._init_toolbar = function() {\n",
       "    var fig = this;\n",
       "\n",
       "    var nav_element = $('<div/>');\n",
       "    nav_element.attr('style', 'width: 100%');\n",
       "    this.root.append(nav_element);\n",
       "\n",
       "    // Define a callback function for later on.\n",
       "    function toolbar_event(event) {\n",
       "        return fig.toolbar_button_onclick(event['data']);\n",
       "    }\n",
       "    function toolbar_mouse_event(event) {\n",
       "        return fig.toolbar_button_onmouseover(event['data']);\n",
       "    }\n",
       "\n",
       "    for(var toolbar_ind in mpl.toolbar_items){\n",
       "        var name = mpl.toolbar_items[toolbar_ind][0];\n",
       "        var tooltip = mpl.toolbar_items[toolbar_ind][1];\n",
       "        var image = mpl.toolbar_items[toolbar_ind][2];\n",
       "        var method_name = mpl.toolbar_items[toolbar_ind][3];\n",
       "\n",
       "        if (!name) { continue; };\n",
       "\n",
       "        var button = $('<button class=\"btn btn-default\" href=\"#\" title=\"' + name + '\"><i class=\"fa ' + image + ' fa-lg\"></i></button>');\n",
       "        button.click(method_name, toolbar_event);\n",
       "        button.mouseover(tooltip, toolbar_mouse_event);\n",
       "        nav_element.append(button);\n",
       "    }\n",
       "\n",
       "    // Add the status bar.\n",
       "    var status_bar = $('<span class=\"mpl-message\" style=\"text-align:right; float: right;\"/>');\n",
       "    nav_element.append(status_bar);\n",
       "    this.message = status_bar[0];\n",
       "\n",
       "    // Add the close button to the window.\n",
       "    var buttongrp = $('<div class=\"btn-group inline pull-right\"></div>');\n",
       "    var button = $('<button class=\"btn btn-mini btn-primary\" href=\"#\" title=\"Stop Interaction\"><i class=\"fa fa-power-off icon-remove icon-large\"></i></button>');\n",
       "    button.click(function (evt) { fig.handle_close(fig, {}); } );\n",
       "    button.mouseover('Stop Interaction', toolbar_mouse_event);\n",
       "    buttongrp.append(button);\n",
       "    var titlebar = this.root.find($('.ui-dialog-titlebar'));\n",
       "    titlebar.prepend(buttongrp);\n",
       "}\n",
       "\n",
       "mpl.figure.prototype._root_extra_style = function(el){\n",
       "    var fig = this\n",
       "    el.on(\"remove\", function(){\n",
       "\tfig.close_ws(fig, {});\n",
       "    });\n",
       "}\n",
       "\n",
       "mpl.figure.prototype._canvas_extra_style = function(el){\n",
       "    // this is important to make the div 'focusable\n",
       "    el.attr('tabindex', 0)\n",
       "    // reach out to IPython and tell the keyboard manager to turn it's self\n",
       "    // off when our div gets focus\n",
       "\n",
       "    // location in version 3\n",
       "    if (IPython.notebook.keyboard_manager) {\n",
       "        IPython.notebook.keyboard_manager.register_events(el);\n",
       "    }\n",
       "    else {\n",
       "        // location in version 2\n",
       "        IPython.keyboard_manager.register_events(el);\n",
       "    }\n",
       "\n",
       "}\n",
       "\n",
       "mpl.figure.prototype._key_event_extra = function(event, name) {\n",
       "    var manager = IPython.notebook.keyboard_manager;\n",
       "    if (!manager)\n",
       "        manager = IPython.keyboard_manager;\n",
       "\n",
       "    // Check for shift+enter\n",
       "    if (event.shiftKey && event.which == 13) {\n",
       "        this.canvas_div.blur();\n",
       "        event.shiftKey = false;\n",
       "        // Send a \"J\" for go to next cell\n",
       "        event.which = 74;\n",
       "        event.keyCode = 74;\n",
       "        manager.command_mode();\n",
       "        manager.handle_keydown(event);\n",
       "    }\n",
       "}\n",
       "\n",
       "mpl.figure.prototype.handle_save = function(fig, msg) {\n",
       "    fig.ondownload(fig, null);\n",
       "}\n",
       "\n",
       "\n",
       "mpl.find_output_cell = function(html_output) {\n",
       "    // Return the cell and output element which can be found *uniquely* in the notebook.\n",
       "    // Note - this is a bit hacky, but it is done because the \"notebook_saving.Notebook\"\n",
       "    // IPython event is triggered only after the cells have been serialised, which for\n",
       "    // our purposes (turning an active figure into a static one), is too late.\n",
       "    var cells = IPython.notebook.get_cells();\n",
       "    var ncells = cells.length;\n",
       "    for (var i=0; i<ncells; i++) {\n",
       "        var cell = cells[i];\n",
       "        if (cell.cell_type === 'code'){\n",
       "            for (var j=0; j<cell.output_area.outputs.length; j++) {\n",
       "                var data = cell.output_area.outputs[j];\n",
       "                if (data.data) {\n",
       "                    // IPython >= 3 moved mimebundle to data attribute of output\n",
       "                    data = data.data;\n",
       "                }\n",
       "                if (data['text/html'] == html_output) {\n",
       "                    return [cell, data, j];\n",
       "                }\n",
       "            }\n",
       "        }\n",
       "    }\n",
       "}\n",
       "\n",
       "// Register the function which deals with the matplotlib target/channel.\n",
       "// The kernel may be null if the page has been refreshed.\n",
       "if (IPython.notebook.kernel != null) {\n",
       "    IPython.notebook.kernel.comm_manager.register_target('matplotlib', mpl.mpl_figure_comm);\n",
       "}\n"
      ],
      "text/plain": [
       "<IPython.core.display.Javascript object>"
      ]
     },
     "metadata": {},
     "output_type": "display_data"
    },
    {
     "data": {
      "text/html": [
       "<img src=\"data:image/png;base64,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\" width=\"640\">"
      ],
      "text/plain": [
       "<IPython.core.display.HTML object>"
      ]
     },
     "metadata": {},
     "output_type": "display_data"
    }
   ],
   "source": [
    "#%matplotlib notebook\n",
    "#biplot(scores, loadings, score_labels=course_names)"
   ]
  }
 ],
 "metadata": {
  "anaconda-cloud": {},
  "kernelspec": {
   "display_name": "Python 3",
   "language": "python",
   "name": "python3"
  },
  "language_info": {
   "codemirror_mode": {
    "name": "ipython",
    "version": 3
   },
   "file_extension": ".py",
   "mimetype": "text/x-python",
   "name": "python",
   "nbconvert_exporter": "python",
   "pygments_lexer": "ipython3",
   "version": "3.7.4"
  },
  "name": "unit+08-unsupervised+learning",
  "notebookId": 1880941953554025,
  "toc": {
   "base_numbering": 1,
   "nav_menu": {},
   "number_sections": true,
   "sideBar": true,
   "skip_h1_title": false,
   "title_cell": "Table of Contents",
   "title_sidebar": "Contents",
   "toc_cell": false,
   "toc_position": {},
   "toc_section_display": true,
   "toc_window_display": false
  }
 },
 "nbformat": 4,
 "nbformat_minor": 1
}
