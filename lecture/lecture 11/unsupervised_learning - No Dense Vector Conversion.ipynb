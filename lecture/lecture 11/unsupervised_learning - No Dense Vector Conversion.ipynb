{
 "cells": [
  {
   "cell_type": "markdown",
   "metadata": {},
   "source": [
    "# Unsupervised learning"
   ]
  },
  {
   "cell_type": "code",
   "execution_count": 1,
   "metadata": {},
   "outputs": [],
   "source": [
    "from pyspark.ml import feature\n",
    "from pyspark.ml import clustering\n",
    "from pyspark.ml import Pipeline\n",
    "from pyspark.sql import functions as fn\n",
    "import numpy as np\n",
    "from pyspark.sql import SparkSession\n",
    "from pyspark.ml import feature, regression, evaluation, Pipeline\n",
    "from pyspark.sql import functions as fn, Row\n",
    "import matplotlib.pyplot as plt\n",
    "import pandas as pd\n",
    "\n",
    "# seting master(\"local[*]\") enables multicore processing on all available logical cores on your machine\n",
    "spark = SparkSession.builder.master(\"local[*]\").getOrCreate()\n",
    "sc = spark.sparkContext"
   ]
  },
  {
   "cell_type": "code",
   "execution_count": 2,
   "metadata": {},
   "outputs": [],
   "source": [
    "import os\n",
    "\n",
    "# Define a function to determine if we are running on data bricks\n",
    "# Return true if running in the data bricks environment, false otherwise\n",
    "def is_databricks():\n",
    "    # get the databricks runtime version\n",
    "    db_env = os.getenv(\"DATABRICKS_RUNTIME_VERSION\")\n",
    "    \n",
    "    # if running on data bricks\n",
    "    if db_env != None:\n",
    "        return True\n",
    "    else:\n",
    "        return False"
   ]
  },
  {
   "cell_type": "markdown",
   "metadata": {},
   "source": [
    "# PCA example with diabetes dataset"
   ]
  },
  {
   "cell_type": "code",
   "execution_count": 3,
   "metadata": {},
   "outputs": [],
   "source": [
    "# we will use pandas to display the data nicely\n",
    "datasource = pd.read_csv('http://www4.stat.ncsu.edu/~boos/var.select/diabetes.tab.txt', delimiter='\\t')\n",
    "datasource.columns = ['age', 'sex', 'bmi', 'map', 'tc', 'ldl', 'hdl', 'tch', 'ltg', 'glu', 'disease_progression']\n",
    "diabetes_df = spark.createDataFrame(datasource)"
   ]
  },
  {
   "cell_type": "code",
   "execution_count": 4,
   "metadata": {},
   "outputs": [
    {
     "name": "stdout",
     "output_type": "stream",
     "text": [
      "datasource: (442, 11)\n"
     ]
    },
    {
     "data": {
      "text/plain": [
       "DataFrame[age: bigint, sex: bigint, bmi: double, map: double, tc: bigint, ldl: double, hdl: double, tch: double, ltg: double, glu: bigint, disease_progression: bigint]"
      ]
     },
     "execution_count": 4,
     "metadata": {},
     "output_type": "execute_result"
    }
   ],
   "source": [
    "print(\"datasource:\", datasource.shape)\n",
    "diabetes_df"
   ]
  },
  {
   "cell_type": "markdown",
   "metadata": {},
   "source": [
    "## Build a pipeline"
   ]
  },
  {
   "cell_type": "code",
   "execution_count": 5,
   "metadata": {},
   "outputs": [],
   "source": [
    "pipeline_diabetes = Pipeline(stages=[\n",
    "    # vector assembler concatenates the specified input cols into vectors in the specified output col \n",
    "    feature.VectorAssembler(inputCols=['age', 'sex', 'bmi', 'map', 'tc', 'ldl', 'hdl', 'tch', 'ltg', 'glu'],\n",
    "                           outputCol='features'),\n",
    "    feature.StandardScaler(withMean=True,\n",
    "                           inputCol='features', outputCol='zfeatures'),\n",
    "    # build a principal component object with the same number of components as features (10)\n",
    "    feature.PCA(k=10, inputCol='zfeatures', outputCol='scores')\n",
    "]).fit(diabetes_df)"
   ]
  },
  {
   "cell_type": "markdown",
   "metadata": {},
   "source": [
    "The `loadings` array are the loadings in ISLR equation 10.1.  The loadings are the coefficients in equation 10.1 that are used to perform the linear combination of column vectors in the dataset.  The linear combination of column vectors forms a principal component where each principal component captures a degree of variance in the data.  The first principal component captures the highest degree of variance, the 2nd principal component captures the next highest degree of variance in an orthoganal direction, etc.  <br> <br>\n",
    "Each loading vector represents a specific direction in the data set's p dimensional space (where p is the number of features) which captures variance.  The direction of the loading vector associated with the first principal component represents the direction which captures the most variance in the data.  The loading vector associated with the 2nd principal component is orthogonal to the 1st component and captures the 2nd most varinace, etc."
   ]
  },
  {
   "cell_type": "code",
   "execution_count": 6,
   "metadata": {},
   "outputs": [],
   "source": [
    "loadings = pipeline_diabetes.stages[-1].pc.toArray()"
   ]
  },
  {
   "cell_type": "code",
   "execution_count": 7,
   "metadata": {
    "scrolled": true
   },
   "outputs": [
    {
     "name": "stdout",
     "output_type": "stream",
     "text": [
      "loadings.shape (10, 10)\n",
      "[-0.2164309  -0.18696688 -0.30316216 -0.27173773 -0.34325511 -0.35186068\n",
      "  0.28243681 -0.4288337  -0.37861802 -0.32218296]\n"
     ]
    }
   ],
   "source": [
    "print(\"loadings.shape\", loadings.shape)\n",
    "\n",
    "# print the first column of the loading matrix - the first principal component\n",
    "print(loadings[:,0])"
   ]
  },
  {
   "cell_type": "markdown",
   "metadata": {},
   "source": [
    "The proportion of explained variance associated with each of the principal components is found in the explainedVariance attribute of the PCA object.  The explained variance shows the percentage of variance captured by each of the principal components.  For example, the first component captures 40.24 percent of the total variance in the diabetes dataset.  The 2nd component captures 14.92 percent of the total variance."
   ]
  },
  {
   "cell_type": "code",
   "execution_count": 8,
   "metadata": {
    "scrolled": true
   },
   "outputs": [
    {
     "data": {
      "text/plain": [
       "DenseVector([0.4024, 0.1492, 0.1206, 0.0955, 0.0662, 0.0603, 0.0537, 0.0434, 0.0078, 0.0009])"
      ]
     },
     "execution_count": 8,
     "metadata": {},
     "output_type": "execute_result"
    }
   ],
   "source": [
    "pipeline_diabetes.stages[-1].explainedVariance"
   ]
  },
  {
   "cell_type": "markdown",
   "metadata": {},
   "source": [
    "Note that if we sum the explained variance vector that it sums to 1 (or 100%, or very very close to 100%)."
   ]
  },
  {
   "cell_type": "code",
   "execution_count": 9,
   "metadata": {},
   "outputs": [
    {
     "data": {
      "text/plain": [
       "1.0"
      ]
     },
     "execution_count": 9,
     "metadata": {},
     "output_type": "execute_result"
    }
   ],
   "source": [
    "sum(pipeline_diabetes.stages[-1].explainedVariance)"
   ]
  },
  {
   "cell_type": "markdown",
   "metadata": {},
   "source": [
    "The cell below generates a \"scree polot\" using the explainedVariance attribute.  See ISLR figure 10.4."
   ]
  },
  {
   "cell_type": "code",
   "execution_count": 10,
   "metadata": {},
   "outputs": [
    {
     "data": {
      "text/plain": [
       "Text(0, 0.5, 'Proportion Variance Explained')"
      ]
     },
     "execution_count": 10,
     "metadata": {},
     "output_type": "execute_result"
    },
    {
     "data": {
      "image/png": "[encoded data removed]",
      "text/plain": [
       "<Figure size 432x288 with 1 Axes>"
      ]
     },
     "metadata": {
      "needs_background": "light"
     },
     "output_type": "display_data"
    }
   ],
   "source": [
    "plt.figure()\n",
    "explained_var = pipeline_diabetes.stages[-1].explainedVariance\n",
    "plt.plot(np.arange(1, len(explained_var)+1), explained_var)\n",
    "plt.title(\"Diabetes Dataset Scree Plot\")\n",
    "plt.xlabel(\"Principal Component\")\n",
    "plt.ylabel(\"Proportion Variance Explained\")"
   ]
  },
  {
   "cell_type": "markdown",
   "metadata": {},
   "source": [
    "Here is another way of looking at the explained variance - plot the cumulative variance vs. the principal components.  See ISLR figure 10.4."
   ]
  },
  {
   "cell_type": "code",
   "execution_count": 11,
   "metadata": {},
   "outputs": [
    {
     "data": {
      "text/plain": [
       "Text(0, 0.5, 'Cumulative Sum of Variance Explained')"
      ]
     },
     "execution_count": 11,
     "metadata": {},
     "output_type": "execute_result"
    },
    {
     "data": {
      "image/png": "[encoded data removed]",
      "text/plain": [
       "<Figure size 432x288 with 1 Axes>"
      ]
     },
     "metadata": {
      "needs_background": "light"
     },
     "output_type": "display_data"
    }
   ],
   "source": [
    "cum_sum = np.cumsum(explained_var)\n",
    "plt.figure()\n",
    "plt.plot(np.arange(1, len(explained_var)+1), cum_sum)\n",
    "plt.title(\"Diabetes Dataset Cumulative Sum of Variance Explained\")\n",
    "plt.xlabel(\"Cumulative Components\")\n",
    "plt.ylabel(\"Cumulative Sum of Variance Explained\")"
   ]
  },
  {
   "cell_type": "markdown",
   "metadata": {},
   "source": [
    "Execute the diabetes pipeline and show the first row of standardized features and PCA scores.  The \"scores\" are like ISLR equation 10.2.  The scores are produced by projecting the data observations onto the loading vectors.  A projection is performed by multiplying the loading vector by the data observations which \"projects\" the observation in the direction of the loading vector."
   ]
  },
  {
   "cell_type": "code",
   "execution_count": 12,
   "metadata": {
    "scrolled": false
   },
   "outputs": [
    {
     "name": "stdout",
     "output_type": "stream",
     "text": [
      "[Row(zfeatures=DenseVector([0.7996, 1.0643, 1.2956, 0.4593, -0.9287, -0.7312, -0.9114, -0.0544, 0.4181, -0.3706]), scores=DenseVector([-0.5865, -1.9446, 0.5885, 0.0827, 0.2564, -1.0101, -0.1796, 0.7566, 0.1809, 0.0489]))]\n"
     ]
    },
    {
     "data": {
      "text/html": [
       "<div>\n",
       "<style scoped>\n",
       "    .dataframe tbody tr th:only-of-type {\n",
       "        vertical-align: middle;\n",
       "    }\n",
       "\n",
       "    .dataframe tbody tr th {\n",
       "        vertical-align: top;\n",
       "    }\n",
       "\n",
       "    .dataframe thead th {\n",
       "        text-align: right;\n",
       "    }\n",
       "</style>\n",
       "<table border=\"1\" class=\"dataframe\">\n",
       "  <thead>\n",
       "    <tr style=\"text-align: right;\">\n",
       "      <th></th>\n",
       "      <th>age</th>\n",
       "      <th>sex</th>\n",
       "      <th>bmi</th>\n",
       "      <th>map</th>\n",
       "      <th>tc</th>\n",
       "      <th>ldl</th>\n",
       "      <th>hdl</th>\n",
       "      <th>tch</th>\n",
       "      <th>ltg</th>\n",
       "      <th>glu</th>\n",
       "      <th>disease_progression</th>\n",
       "      <th>features</th>\n",
       "      <th>zfeatures</th>\n",
       "      <th>scores</th>\n",
       "    </tr>\n",
       "  </thead>\n",
       "  <tbody>\n",
       "    <tr>\n",
       "      <th>0</th>\n",
       "      <td>59</td>\n",
       "      <td>2</td>\n",
       "      <td>32.1</td>\n",
       "      <td>101.0</td>\n",
       "      <td>157</td>\n",
       "      <td>93.2</td>\n",
       "      <td>38.0</td>\n",
       "      <td>4.0</td>\n",
       "      <td>4.8598</td>\n",
       "      <td>87</td>\n",
       "      <td>151</td>\n",
       "      <td>[59.0, 2.0, 32.1, 101.0, 157.0, 93.2, 38.0, 4....</td>\n",
       "      <td>[0.7995940351018831, 1.0642824935361896, 1.295...</td>\n",
       "      <td>[-0.5865345004628001, -1.9446286568771187, 0.5...</td>\n",
       "    </tr>\n",
       "    <tr>\n",
       "      <th>1</th>\n",
       "      <td>48</td>\n",
       "      <td>1</td>\n",
       "      <td>21.6</td>\n",
       "      <td>87.0</td>\n",
       "      <td>183</td>\n",
       "      <td>103.2</td>\n",
       "      <td>70.0</td>\n",
       "      <td>3.0</td>\n",
       "      <td>3.8918</td>\n",
       "      <td>69</td>\n",
       "      <td>75</td>\n",
       "      <td>[48.0, 1.0, 21.6, 87.0, 183.0, 103.2, 70.0, 3....</td>\n",
       "      <td>[-0.03952234708360268, -0.9374743666467716, -1...</td>\n",
       "      <td>[2.828420372574019, 1.3705287266001895, 0.0278...</td>\n",
       "    </tr>\n",
       "    <tr>\n",
       "      <th>2</th>\n",
       "      <td>72</td>\n",
       "      <td>2</td>\n",
       "      <td>30.5</td>\n",
       "      <td>93.0</td>\n",
       "      <td>156</td>\n",
       "      <td>93.6</td>\n",
       "      <td>41.0</td>\n",
       "      <td>4.0</td>\n",
       "      <td>4.6728</td>\n",
       "      <td>85</td>\n",
       "      <td>141</td>\n",
       "      <td>[72.0, 2.0, 30.5, 93.0, 156.0, 93.6, 41.0, 4.0...</td>\n",
       "      <td>[1.7912770322301845, 1.0642824935361896, 0.933...</td>\n",
       "      <td>[-0.27182053685504337, -1.633050761291526, 0.7...</td>\n",
       "    </tr>\n",
       "    <tr>\n",
       "      <th>3</th>\n",
       "      <td>24</td>\n",
       "      <td>1</td>\n",
       "      <td>25.3</td>\n",
       "      <td>84.0</td>\n",
       "      <td>198</td>\n",
       "      <td>131.4</td>\n",
       "      <td>40.0</td>\n",
       "      <td>5.0</td>\n",
       "      <td>4.8903</td>\n",
       "      <td>89</td>\n",
       "      <td>206</td>\n",
       "      <td>[24.0, 1.0, 25.3, 84.0, 198.0, 131.4, 40.0, 5....</td>\n",
       "      <td>[-1.8703217263973897, -0.9374743666467716, -0....</td>\n",
       "      <td>[-0.04922536519991287, 0.38184534245406315, -2...</td>\n",
       "    </tr>\n",
       "    <tr>\n",
       "      <th>4</th>\n",
       "      <td>50</td>\n",
       "      <td>1</td>\n",
       "      <td>23.0</td>\n",
       "      <td>101.0</td>\n",
       "      <td>192</td>\n",
       "      <td>125.4</td>\n",
       "      <td>52.0</td>\n",
       "      <td>4.0</td>\n",
       "      <td>4.2905</td>\n",
       "      <td>80</td>\n",
       "      <td>135</td>\n",
       "      <td>[50.0, 1.0, 23.0, 101.0, 192.0, 125.4, 52.0, 4...</td>\n",
       "      <td>[0.11304426785921291, -0.9374743666467716, -0....</td>\n",
       "      <td>[0.7555651902794549, 0.8110412184450313, -0.05...</td>\n",
       "    </tr>\n",
       "  </tbody>\n",
       "</table>\n",
       "</div>"
      ],
      "text/plain": [
       "   age  sex   bmi    map   tc    ldl   hdl  tch     ltg  glu  \\\n",
       "0   59    2  32.1  101.0  157   93.2  38.0  4.0  4.8598   87   \n",
       "1   48    1  21.6   87.0  183  103.2  70.0  3.0  3.8918   69   \n",
       "2   72    2  30.5   93.0  156   93.6  41.0  4.0  4.6728   85   \n",
       "3   24    1  25.3   84.0  198  131.4  40.0  5.0  4.8903   89   \n",
       "4   50    1  23.0  101.0  192  125.4  52.0  4.0  4.2905   80   \n",
       "\n",
       "   disease_progression                                           features  \\\n",
       "0                  151  [59.0, 2.0, 32.1, 101.0, 157.0, 93.2, 38.0, 4....   \n",
       "1                   75  [48.0, 1.0, 21.6, 87.0, 183.0, 103.2, 70.0, 3....   \n",
       "2                  141  [72.0, 2.0, 30.5, 93.0, 156.0, 93.6, 41.0, 4.0...   \n",
       "3                  206  [24.0, 1.0, 25.3, 84.0, 198.0, 131.4, 40.0, 5....   \n",
       "4                  135  [50.0, 1.0, 23.0, 101.0, 192.0, 125.4, 52.0, 4...   \n",
       "\n",
       "                                           zfeatures  \\\n",
       "0  [0.7995940351018831, 1.0642824935361896, 1.295...   \n",
       "1  [-0.03952234708360268, -0.9374743666467716, -1...   \n",
       "2  [1.7912770322301845, 1.0642824935361896, 0.933...   \n",
       "3  [-1.8703217263973897, -0.9374743666467716, -0....   \n",
       "4  [0.11304426785921291, -0.9374743666467716, -0....   \n",
       "\n",
       "                                              scores  \n",
       "0  [-0.5865345004628001, -1.9446286568771187, 0.5...  \n",
       "1  [2.828420372574019, 1.3705287266001895, 0.0278...  \n",
       "2  [-0.27182053685504337, -1.633050761291526, 0.7...  \n",
       "3  [-0.04922536519991287, 0.38184534245406315, -2...  \n",
       "4  [0.7555651902794549, 0.8110412184450313, -0.05...  "
      ]
     },
     "metadata": {},
     "output_type": "display_data"
    }
   ],
   "source": [
    "first_row_scores = pipeline_diabetes.transform(diabetes_df).select('zfeatures', 'scores').take(1)\n",
    "print(first_row_scores)\n",
    "display(pipeline_diabetes.transform(diabetes_df).toPandas().head())"
   ]
  },
  {
   "cell_type": "markdown",
   "metadata": {},
   "source": [
    "Assign the first row of standardized features to the variable `z`."
   ]
  },
  {
   "cell_type": "code",
   "execution_count": 13,
   "metadata": {},
   "outputs": [
    {
     "name": "stdout",
     "output_type": "stream",
     "text": [
      "[0.7995940351018831,1.0642824935361896,1.2956203368923536,0.4593200957947719,-0.9286934669133665,-0.7312360195916785,-0.9114177586925235,-0.05443750196184884,0.41805720957971537,-0.3705686283558794]\n"
     ]
    }
   ],
   "source": [
    "z = pipeline_diabetes.transform(diabetes_df).select('zfeatures', 'scores').first()['zfeatures']\n",
    "print(z)"
   ]
  },
  {
   "cell_type": "markdown",
   "metadata": {},
   "source": [
    "The purpose of the next cell is to show that if we multiply the first loading vector by the first observation row we will obtain the same score which we extracted from the pipeline above.  The matrix dot product of a standardized observation with the loadings vector projects the observation onto the loading vector (see equation 10.2 in ISLR).  Also note that the resulting score is equal to the score for the first row computed by the pipeline above."
   ]
  },
  {
   "cell_type": "code",
   "execution_count": 14,
   "metadata": {
    "scrolled": false
   },
   "outputs": [
    {
     "name": "stdout",
     "output_type": "stream",
     "text": [
      "-0.5865345004628003\n"
     ]
    }
   ],
   "source": [
    "scores = z.dot(loadings[:,0])\n",
    "print(scores)"
   ]
  },
  {
   "cell_type": "markdown",
   "metadata": {},
   "source": [
    "In the next cell, we multiply the first observation row of the data by all of the loading vectors producing a score for each of the 10 principal components.  Note that the resulting array of scores is equal to the scores for the first row computed by the pipeline above."
   ]
  },
  {
   "cell_type": "code",
   "execution_count": 15,
   "metadata": {},
   "outputs": [
    {
     "name": "stdout",
     "output_type": "stream",
     "text": [
      "[-0.5865345  -1.94462866  0.58853858  0.08272184  0.25638973 -1.01006557\n",
      " -0.17964046  0.75657348  0.18087041  0.04889746]\n"
     ]
    }
   ],
   "source": [
    "scores = z.dot(loadings)\n",
    "print(scores)"
   ]
  },
  {
   "cell_type": "markdown",
   "metadata": {},
   "source": [
    "The purpose of the following cell is the show that we can do an inverse transform which transforms the scores from the projection space back to the original data.  The The dot product of the loading vectors with the scores produces an approximation of the original observation row held in variable `z` (see equation 10.5 in ISLR).  The more loadings we use for the inverse transform, the closer the approximation to the original observation row.  The cell below computes the original data using from between 4 and 10 loading vectors.  Notice how the resulting transformed data gets closer to the original data held in 'z' above as the number of loading vectors increases."
   ]
  },
  {
   "cell_type": "code",
   "execution_count": 16,
   "metadata": {
    "scrolled": false
   },
   "outputs": [
    {
     "name": "stdout",
     "output_type": "stream",
     "text": [
      "all loadings shape: (10, 10)\n",
      "all scores shape: (10,)\n",
      "\n",
      "num_loadings: 4\n",
      "loadings shape: (10, 4)\n",
      "scores shape: (4,)\n",
      "inverse xform shape: (10,)\n",
      "inverse_xform: [ 0.36604541  0.85469882  0.53897377  0.73214235 -0.94769719 -0.82510297\n",
      " -0.91662271  0.15941187  0.28857141  0.50989389]\n",
      "\n",
      "num_loadings: 5\n",
      "loadings shape: (10, 5)\n",
      "scores shape: (5,)\n",
      "inverse xform shape: (10,)\n",
      "inverse_xform: [ 0.54215325  0.75894648  0.5058142   0.60731275 -0.98081759 -0.85502933\n",
      " -0.97943845  0.19624122  0.32745007  0.50183738]\n",
      "\n",
      "num_loadings: 6\n",
      "loadings shape: (10, 6)\n",
      "scores shape: (6,)\n",
      "inverse xform shape: (10,)\n",
      "inverse_xform: [ 0.77024155  0.71682127  0.91302331  0.88284174 -0.98627012 -0.72042643\n",
      " -1.08686299  0.23051869  0.14692016 -0.31133202]\n",
      "\n",
      "num_loadings: 7\n",
      "loadings shape: (10, 7)\n",
      "scores shape: (7,)\n",
      "inverse xform shape: (10,)\n",
      "inverse_xform: [ 0.78991759  0.72896895  1.00641379  0.82523917 -0.99949948 -0.6790131\n",
      " -1.08550707  0.21772038  0.03063855 -0.24715244]\n",
      "\n",
      "num_loadings: 8\n",
      "loadings shape: (10, 8)\n",
      "scores shape: (8,)\n",
      "inverse xform shape: (10,)\n",
      "inverse_xform: [ 0.80121861  1.06408061  1.30368837  0.46408114 -0.90159063 -0.82376452\n",
      " -0.83989672  0.08109313  0.37085778 -0.37320364]\n",
      "\n",
      "num_loadings: 9\n",
      "loadings shape: (10, 9)\n",
      "scores shape: (9,)\n",
      "inverse xform shape: (10,)\n",
      "inverse_xform: [ 0.79975356  1.06446148  1.29602361  0.45916254 -0.89398727 -0.75877482\n",
      " -0.92694003 -0.05886742  0.40512549 -0.37044098]\n",
      "\n",
      "num_loadings: 10\n",
      "loadings shape: (10, 10)\n",
      "scores shape: (10,)\n",
      "inverse xform shape: (10,)\n",
      "inverse_xform: [ 0.79959404  1.06428249  1.29562034  0.4593201  -0.92869347 -0.73123602\n",
      " -0.91141776 -0.0544375   0.41805721 -0.37056863]\n",
      "\n"
     ]
    }
   ],
   "source": [
    "print(\"all loadings shape:\", loadings.shape)\n",
    "print(\"all scores shape:\", scores.shape)\n",
    "print()\n",
    "\n",
    "num_loadings = loadings.shape[1]\n",
    "for i in np.arange(4, num_loadings+1):\n",
    "    print(\"num_loadings:\", i)\n",
    "    print(\"loadings shape:\", loadings[:,:i].shape)\n",
    "    print(\"scores shape:\", scores[:i].shape)\n",
    "    inverse_xform = loadings[:,:i].dot(scores[:i])\n",
    "    print(\"inverse xform shape:\", inverse_xform.shape)\n",
    "    print(\"inverse_xform:\", inverse_xform)\n",
    "    print()"
   ]
  },
  {
   "cell_type": "markdown",
   "metadata": {},
   "source": [
    "The cell below prints the first row scores from the original transormation we did above.  Note that the zfeatures in the cell below match very closely with the inverse_xform in the cell above using 10 loadings.  Also note that as the number of loading vectors used in the inverse xform in the call above reduces from 10, the inverse xform becomes less and less accurate."
   ]
  },
  {
   "cell_type": "code",
   "execution_count": 17,
   "metadata": {},
   "outputs": [
    {
     "name": "stdout",
     "output_type": "stream",
     "text": [
      "first_row_scores from above:\n",
      " [Row(zfeatures=DenseVector([0.7996, 1.0643, 1.2956, 0.4593, -0.9287, -0.7312, -0.9114, -0.0544, 0.4181, -0.3706]), scores=DenseVector([-0.5865, -1.9446, 0.5885, 0.0827, 0.2564, -1.0101, -0.1796, 0.7566, 0.1809, 0.0489]))]\n"
     ]
    }
   ],
   "source": [
    "print(\"first_row_scores from above:\\n\", first_row_scores)"
   ]
  },
  {
   "cell_type": "markdown",
   "metadata": {},
   "source": [
    "Note that the sum of the squares of the loading columns equal 1 as per ISLR equation 10.3."
   ]
  },
  {
   "cell_type": "code",
   "execution_count": 18,
   "metadata": {},
   "outputs": [
    {
     "data": {
      "text/plain": [
       "array([1., 1., 1., 1., 1., 1., 1., 1., 1., 1.])"
      ]
     },
     "execution_count": 18,
     "metadata": {},
     "output_type": "execute_result"
    }
   ],
   "source": [
    "np.sum(np.square(loadings), axis=0)"
   ]
  },
  {
   "cell_type": "markdown",
   "metadata": {},
   "source": [
    "## Examine the principal components"
   ]
  },
  {
   "cell_type": "code",
   "execution_count": 19,
   "metadata": {
    "scrolled": true
   },
   "outputs": [
    {
     "data": {
      "text/plain": [
       "[('age', -0.2164308964889744, 0.044367212393232616),\n",
       " ('sex', -0.18696687908602572, -0.3865472038551626),\n",
       " ('bmi', -0.30316216313887756, -0.15628128429437502),\n",
       " ('map', -0.27173773048440564, -0.13826600177995582),\n",
       " ('tc', -0.3432551083789175, 0.5730269088415814),\n",
       " ('ldl', -0.3518606824177598, 0.4559418547240141),\n",
       " ('hdl', 0.28243681319974895, 0.5062390689011836),\n",
       " ('tch', -0.42883369801333127, -0.0681807160458888),\n",
       " ('ltg', -0.37861801599069905, -0.026186995954152713),\n",
       " ('glu', -0.3221829550849704, -0.08494884202867344)]"
      ]
     },
     "execution_count": 19,
     "metadata": {},
     "output_type": "execute_result"
    }
   ],
   "source": [
    "list(zip(['age', 'sex', 'bmi', 'map', 'tc', 'ldl', 'hdl', 'tch', 'ltg', 'glu'], \n",
    "         loadings[:, 0], loadings[:, 1]))"
   ]
  },
  {
   "cell_type": "markdown",
   "metadata": {},
   "source": [
    "# Analysis of IM courses"
   ]
  },
  {
   "cell_type": "code",
   "execution_count": 20,
   "metadata": {},
   "outputs": [],
   "source": [
    "im_courses = spark.createDataFrame(pd.read_csv('https://github.com/daniel-acuna/data_science_programs/raw/master/data/im_masters_ischool.csv'))"
   ]
  },
  {
   "cell_type": "code",
   "execution_count": 21,
   "metadata": {},
   "outputs": [
    {
     "name": "stdout",
     "output_type": "stream",
     "text": [
      "+-------+----+-------+--------------------+--------------------+\n",
      "| course|core|credits|               title|         description|\n",
      "+-------+----+-------+--------------------+--------------------+\n",
      "|IST 553|  IM|      3|Information Archi...|Building and mana...|\n",
      "|IST 558| CAS|      3|Technologies in W...|Concepts and tech...|\n",
      "|IST 565| CAS|      3|         Data Mining|Introduction to d...|\n",
      "|IST 601|  IM|      3|Information and I...|A broad overview ...|\n",
      "|IST 614|  IM|      3|Management Princi...|Basic ideas, conc...|\n",
      "|IST 617|  IM|      3|Motivational Aspe...|Theories of motiv...|\n",
      "|IST 618|  IM|      3|  Information Policy|Public policy iss...|\n",
      "|IST 619|  IM|      3|Applied Economics...|Economic principl...|\n",
      "|IST 621|  IM|      3|Introduction to I...|Overview of gener...|\n",
      "|IST 631|  IM|      3|Theory of Classif...|Classification is...|\n",
      "|IST 639|  IM|      3|Enterprise Techno...|Coverage of manag...|\n",
      "|IST 641|  IM|      3|   User-Based Design|System design bas...|\n",
      "|IST 645|  IM|      3|Managing Informat...|Project managemen...|\n",
      "|IST 649|  IM|      3|Human Interaction...|Human performance...|\n",
      "|IST 653|  IM|      3|Telecommunication...|A survey of telec...|\n",
      "|IST 654|  IM|      3|Information Syste...|Concepts and meth...|\n",
      "|IST 656|  IM|      3|Telecommunication...|Hardware and soft...|\n",
      "|IST 657| CAS|      3|Basics of Informa...|Design, developme...|\n",
      "|IST 659|  IM|      3|Data Administrati...|Definition, devel...|\n",
      "|IST 662|  IM|      3|Instructional Str...|Introduction to i...|\n",
      "+-------+----+-------+--------------------+--------------------+\n",
      "only showing top 20 rows\n",
      "\n"
     ]
    }
   ],
   "source": [
    "im_courses.show()"
   ]
  },
  {
   "cell_type": "code",
   "execution_count": 22,
   "metadata": {},
   "outputs": [
    {
     "data": {
      "text/plain": [
       "'Building and management of Internet information services, including information organization, information management, and information dissemination. Understanding of the use of Internet technologies within an organizational context. Practice with current technologies.'"
      ]
     },
     "execution_count": 22,
     "metadata": {},
     "output_type": "execute_result"
    }
   ],
   "source": [
    "im_courses.toPandas().description[0]"
   ]
  },
  {
   "cell_type": "markdown",
   "metadata": {},
   "source": [
    "## Let's transform course descriptions into vectors"
   ]
  },
  {
   "cell_type": "code",
   "execution_count": 23,
   "metadata": {},
   "outputs": [],
   "source": [
    "tokenizer = feature.RegexTokenizer(minTokenLength=2)\\\n",
    "  .setGaps(False)\\\n",
    "  .setPattern(\"\\\\p{L}+\")\\\n",
    "  .setInputCol(\"description\")\\\n",
    "  .setOutputCol(\"words\")\n",
    "\n",
    "import requests\n",
    "stop_words = requests.get('http://ir.dcs.gla.ac.uk/resources/linguistic_utils/stop_words').text.split()\n",
    "\n",
    "sw_filter = feature.StopWordsRemover()\\\n",
    "  .setStopWords(stop_words)\\\n",
    "  .setCaseSensitive(False)\\\n",
    "  .setInputCol(\"words\")\\\n",
    "  .setOutputCol(\"filtered\")\n",
    "\n",
    "cv = feature.CountVectorizer(inputCol='filtered', outputCol='tf')\n",
    "idf = feature.IDF(inputCol='tf', outputCol='tfidf')"
   ]
  },
  {
   "cell_type": "markdown",
   "metadata": {},
   "source": [
    "Let's create a pipeline that transforms descriptions into TFIDF:"
   ]
  },
  {
   "cell_type": "code",
   "execution_count": 24,
   "metadata": {},
   "outputs": [],
   "source": [
    "tfidf = Pipeline(stages=[tokenizer, sw_filter, cv, idf]).fit(im_courses)"
   ]
  },
  {
   "cell_type": "code",
   "execution_count": 25,
   "metadata": {},
   "outputs": [
    {
     "data": {
      "text/html": [
       "<div>\n",
       "<style scoped>\n",
       "    .dataframe tbody tr th:only-of-type {\n",
       "        vertical-align: middle;\n",
       "    }\n",
       "\n",
       "    .dataframe tbody tr th {\n",
       "        vertical-align: top;\n",
       "    }\n",
       "\n",
       "    .dataframe thead th {\n",
       "        text-align: right;\n",
       "    }\n",
       "</style>\n",
       "<table border=\"1\" class=\"dataframe\">\n",
       "  <thead>\n",
       "    <tr style=\"text-align: right;\">\n",
       "      <th></th>\n",
       "      <th>course</th>\n",
       "      <th>core</th>\n",
       "      <th>credits</th>\n",
       "      <th>title</th>\n",
       "      <th>description</th>\n",
       "      <th>words</th>\n",
       "      <th>filtered</th>\n",
       "      <th>tf</th>\n",
       "      <th>tfidf</th>\n",
       "    </tr>\n",
       "  </thead>\n",
       "  <tbody>\n",
       "    <tr>\n",
       "      <th>0</th>\n",
       "      <td>IST 553</td>\n",
       "      <td>IM</td>\n",
       "      <td>3</td>\n",
       "      <td>Information Architecture for Internet Services</td>\n",
       "      <td>Building and management of Internet informatio...</td>\n",
       "      <td>[building, and, management, of, internet, info...</td>\n",
       "      <td>[building, management, internet, information, ...</td>\n",
       "      <td>(4.0, 2.0, 0.0, 0.0, 0.0, 0.0, 0.0, 0.0, 2.0, ...</td>\n",
       "      <td>(1.8572224325243911, 1.444269434866395, 0.0, 0...</td>\n",
       "    </tr>\n",
       "    <tr>\n",
       "      <th>1</th>\n",
       "      <td>IST 558</td>\n",
       "      <td>CAS</td>\n",
       "      <td>3</td>\n",
       "      <td>Technologies in Web Content Management</td>\n",
       "      <td>Concepts and techniques in web content represe...</td>\n",
       "      <td>[concepts, and, techniques, in, web, content, ...</td>\n",
       "      <td>[concepts, techniques, web, content, represent...</td>\n",
       "      <td>(0.0, 1.0, 1.0, 1.0, 0.0, 1.0, 0.0, 0.0, 0.0, ...</td>\n",
       "      <td>(0.0, 0.7221347174331975, 1.252762968495368, 1...</td>\n",
       "    </tr>\n",
       "    <tr>\n",
       "      <th>2</th>\n",
       "      <td>IST 565</td>\n",
       "      <td>CAS</td>\n",
       "      <td>3</td>\n",
       "      <td>Data Mining</td>\n",
       "      <td>Introduction to data mining techniques, famili...</td>\n",
       "      <td>[introduction, to, data, mining, techniques, f...</td>\n",
       "      <td>[introduction, data, mining, techniques, famil...</td>\n",
       "      <td>(0.0, 0.0, 1.0, 1.0, 0.0, 0.0, 0.0, 0.0, 0.0, ...</td>\n",
       "      <td>(0.0, 0.0, 1.252762968495368, 1.07044141170141...</td>\n",
       "    </tr>\n",
       "    <tr>\n",
       "      <th>3</th>\n",
       "      <td>IST 601</td>\n",
       "      <td>IM</td>\n",
       "      <td>3</td>\n",
       "      <td>Information and Information Environments</td>\n",
       "      <td>A broad overview of the field and an orientati...</td>\n",
       "      <td>[broad, overview, of, the, field, and, an, ori...</td>\n",
       "      <td>[broad, overview, field, orientation, school, ...</td>\n",
       "      <td>(2.0, 0.0, 0.0, 0.0, 0.0, 0.0, 0.0, 0.0, 0.0, ...</td>\n",
       "      <td>(0.9286112162621956, 0.0, 0.0, 0.0, 0.0, 0.0, ...</td>\n",
       "    </tr>\n",
       "    <tr>\n",
       "      <th>4</th>\n",
       "      <td>IST 614</td>\n",
       "      <td>IM</td>\n",
       "      <td>3</td>\n",
       "      <td>Management Principles for Information Professi...</td>\n",
       "      <td>Basic ideas, concepts and perspectives of mana...</td>\n",
       "      <td>[basic, ideas, concepts, and, perspectives, of...</td>\n",
       "      <td>[basic, ideas, concepts, perspectives, managem...</td>\n",
       "      <td>(1.0, 1.0, 0.0, 1.0, 0.0, 1.0, 1.0, 0.0, 0.0, ...</td>\n",
       "      <td>(0.4643056081310978, 0.7221347174331975, 0.0, ...</td>\n",
       "    </tr>\n",
       "  </tbody>\n",
       "</table>\n",
       "</div>"
      ],
      "text/plain": [
       "    course core  credits                                              title  \\\n",
       "0  IST 553   IM        3     Information Architecture for Internet Services   \n",
       "1  IST 558  CAS        3             Technologies in Web Content Management   \n",
       "2  IST 565  CAS        3                                        Data Mining   \n",
       "3  IST 601   IM        3           Information and Information Environments   \n",
       "4  IST 614   IM        3  Management Principles for Information Professi...   \n",
       "\n",
       "                                         description  \\\n",
       "0  Building and management of Internet informatio...   \n",
       "1  Concepts and techniques in web content represe...   \n",
       "2  Introduction to data mining techniques, famili...   \n",
       "3  A broad overview of the field and an orientati...   \n",
       "4  Basic ideas, concepts and perspectives of mana...   \n",
       "\n",
       "                                               words  \\\n",
       "0  [building, and, management, of, internet, info...   \n",
       "1  [concepts, and, techniques, in, web, content, ...   \n",
       "2  [introduction, to, data, mining, techniques, f...   \n",
       "3  [broad, overview, of, the, field, and, an, ori...   \n",
       "4  [basic, ideas, concepts, and, perspectives, of...   \n",
       "\n",
       "                                            filtered  \\\n",
       "0  [building, management, internet, information, ...   \n",
       "1  [concepts, techniques, web, content, represent...   \n",
       "2  [introduction, data, mining, techniques, famil...   \n",
       "3  [broad, overview, field, orientation, school, ...   \n",
       "4  [basic, ideas, concepts, perspectives, managem...   \n",
       "\n",
       "                                                  tf  \\\n",
       "0  (4.0, 2.0, 0.0, 0.0, 0.0, 0.0, 0.0, 0.0, 2.0, ...   \n",
       "1  (0.0, 1.0, 1.0, 1.0, 0.0, 1.0, 0.0, 0.0, 0.0, ...   \n",
       "2  (0.0, 0.0, 1.0, 1.0, 0.0, 0.0, 0.0, 0.0, 0.0, ...   \n",
       "3  (2.0, 0.0, 0.0, 0.0, 0.0, 0.0, 0.0, 0.0, 0.0, ...   \n",
       "4  (1.0, 1.0, 0.0, 1.0, 0.0, 1.0, 1.0, 0.0, 0.0, ...   \n",
       "\n",
       "                                               tfidf  \n",
       "0  (1.8572224325243911, 1.444269434866395, 0.0, 0...  \n",
       "1  (0.0, 0.7221347174331975, 1.252762968495368, 1...  \n",
       "2  (0.0, 0.0, 1.252762968495368, 1.07044141170141...  \n",
       "3  (0.9286112162621956, 0.0, 0.0, 0.0, 0.0, 0.0, ...  \n",
       "4  (0.4643056081310978, 0.7221347174331975, 0.0, ...  "
      ]
     },
     "execution_count": 25,
     "metadata": {},
     "output_type": "execute_result"
    }
   ],
   "source": [
    "tfidf.transform(im_courses).toPandas().head()"
   ]
  },
  {
   "cell_type": "markdown",
   "metadata": {},
   "source": [
    "The cell below defines a standard scaler object which will be used to standardize data before applying unsupervised learning algorithms."
   ]
  },
  {
   "cell_type": "code",
   "execution_count": 26,
   "metadata": {},
   "outputs": [],
   "source": [
    "# standardize features\n",
    "center = feature.StandardScaler(withMean=True, withStd=False, inputCol='tfidf', outputCol='centered_tfidf')"
   ]
  },
  {
   "cell_type": "markdown",
   "metadata": {},
   "source": [
    "In the cell below we define a PCA transformer.  PCA needs the number of principal components to be learned `k`:"
   ]
  },
  {
   "cell_type": "code",
   "execution_count": 27,
   "metadata": {},
   "outputs": [],
   "source": [
    "pca = feature.PCA(k=10, inputCol='centered_tfidf', outputCol='scores')"
   ]
  },
  {
   "cell_type": "markdown",
   "metadata": {},
   "source": [
    "For KMeans, we need to provide the number of clusters, but we will normalize the vectors so that they have unit length.  The cell below defines a `Normalizer` transformer which will normalize vectors to unit length."
   ]
  },
  {
   "cell_type": "code",
   "execution_count": 28,
   "metadata": {},
   "outputs": [],
   "source": [
    "norm = feature.Normalizer(inputCol=\"centered_tfidf\", outputCol=\"norm_tfidf\", p=2.0)"
   ]
  },
  {
   "cell_type": "markdown",
   "metadata": {},
   "source": [
    "The cell below defines a Spark KMeans clustering object."
   ]
  },
  {
   "cell_type": "code",
   "execution_count": 29,
   "metadata": {},
   "outputs": [],
   "source": [
    "kmeans = clustering.KMeans(k=5, featuresCol='norm_tfidf', predictionCol='kmeans_feat')"
   ]
  },
  {
   "cell_type": "code",
   "execution_count": 30,
   "metadata": {},
   "outputs": [],
   "source": [
    "pipeline = Pipeline(stages=[tokenizer, sw_filter, cv, idf, center, norm, kmeans, pca])"
   ]
  },
  {
   "cell_type": "code",
   "execution_count": 31,
   "metadata": {},
   "outputs": [],
   "source": [
    "pipeline_model = pipeline.fit(im_courses)"
   ]
  },
  {
   "cell_type": "code",
   "execution_count": 32,
   "metadata": {
    "scrolled": false
   },
   "outputs": [
    {
     "data": {
      "text/html": [
       "<div>\n",
       "<style scoped>\n",
       "    .dataframe tbody tr th:only-of-type {\n",
       "        vertical-align: middle;\n",
       "    }\n",
       "\n",
       "    .dataframe tbody tr th {\n",
       "        vertical-align: top;\n",
       "    }\n",
       "\n",
       "    .dataframe thead th {\n",
       "        text-align: right;\n",
       "    }\n",
       "</style>\n",
       "<table border=\"1\" class=\"dataframe\">\n",
       "  <thead>\n",
       "    <tr style=\"text-align: right;\">\n",
       "      <th></th>\n",
       "      <th>course</th>\n",
       "      <th>core</th>\n",
       "      <th>credits</th>\n",
       "      <th>title</th>\n",
       "      <th>description</th>\n",
       "      <th>words</th>\n",
       "      <th>filtered</th>\n",
       "      <th>tf</th>\n",
       "      <th>tfidf</th>\n",
       "      <th>centered_tfidf</th>\n",
       "      <th>norm_tfidf</th>\n",
       "      <th>kmeans_feat</th>\n",
       "      <th>scores</th>\n",
       "    </tr>\n",
       "  </thead>\n",
       "  <tbody>\n",
       "    <tr>\n",
       "      <th>0</th>\n",
       "      <td>IST 553</td>\n",
       "      <td>IM</td>\n",
       "      <td>3</td>\n",
       "      <td>Information Arch...</td>\n",
       "      <td>Building and man...</td>\n",
       "      <td>[building, and, ...</td>\n",
       "      <td>[building, manag...</td>\n",
       "      <td>(4.0, 2.0, 0.0, ...</td>\n",
       "      <td>(1.8572224325243...</td>\n",
       "      <td>[1.3929168243932...</td>\n",
       "      <td>[0.1387283323560...</td>\n",
       "      <td>3</td>\n",
       "      <td>[-0.675221334034...</td>\n",
       "    </tr>\n",
       "    <tr>\n",
       "      <th>1</th>\n",
       "      <td>IST 558</td>\n",
       "      <td>CAS</td>\n",
       "      <td>3</td>\n",
       "      <td>Technologies in ...</td>\n",
       "      <td>Concepts and tec...</td>\n",
       "      <td>[concepts, and, ...</td>\n",
       "      <td>[concepts, techn...</td>\n",
       "      <td>(0.0, 1.0, 1.0, ...</td>\n",
       "      <td>(0.0, 0.72213471...</td>\n",
       "      <td>[-0.464305608131...</td>\n",
       "      <td>[-0.036605311117...</td>\n",
       "      <td>1</td>\n",
       "      <td>[-1.056009219723...</td>\n",
       "    </tr>\n",
       "    <tr>\n",
       "      <th>2</th>\n",
       "      <td>IST 565</td>\n",
       "      <td>CAS</td>\n",
       "      <td>3</td>\n",
       "      <td>Data Mining</td>\n",
       "      <td>Introduction to ...</td>\n",
       "      <td>[introduction, t...</td>\n",
       "      <td>[introduction, d...</td>\n",
       "      <td>(0.0, 0.0, 1.0, ...</td>\n",
       "      <td>(0.0, 0.0, 1.252...</td>\n",
       "      <td>[-0.464305608131...</td>\n",
       "      <td>[-0.039878871417...</td>\n",
       "      <td>1</td>\n",
       "      <td>[0.1961821942253...</td>\n",
       "    </tr>\n",
       "    <tr>\n",
       "      <th>3</th>\n",
       "      <td>IST 601</td>\n",
       "      <td>IM</td>\n",
       "      <td>3</td>\n",
       "      <td>Information and ...</td>\n",
       "      <td>A broad overview...</td>\n",
       "      <td>[broad, overview...</td>\n",
       "      <td>[broad, overview...</td>\n",
       "      <td>(2.0, 0.0, 0.0, ...</td>\n",
       "      <td>(0.9286112162621...</td>\n",
       "      <td>[0.4643056081310...</td>\n",
       "      <td>[0.0515310315160...</td>\n",
       "      <td>3</td>\n",
       "      <td>[-0.682379184988...</td>\n",
       "    </tr>\n",
       "    <tr>\n",
       "      <th>4</th>\n",
       "      <td>IST 614</td>\n",
       "      <td>IM</td>\n",
       "      <td>3</td>\n",
       "      <td>Management Princ...</td>\n",
       "      <td>Basic ideas, con...</td>\n",
       "      <td>[basic, ideas, c...</td>\n",
       "      <td>[basic, ideas, c...</td>\n",
       "      <td>(1.0, 1.0, 0.0, ...</td>\n",
       "      <td>(0.4643056081310...</td>\n",
       "      <td>[-5.551115123125...</td>\n",
       "      <td>[-4.744008281734...</td>\n",
       "      <td>1</td>\n",
       "      <td>[-1.350818475779...</td>\n",
       "    </tr>\n",
       "  </tbody>\n",
       "</table>\n",
       "</div>"
      ],
      "text/plain": [
       "    course core  credits                title          description  \\\n",
       "0  IST 553   IM        3  Information Arch...  Building and man...   \n",
       "1  IST 558  CAS        3  Technologies in ...  Concepts and tec...   \n",
       "2  IST 565  CAS        3          Data Mining  Introduction to ...   \n",
       "3  IST 601   IM        3  Information and ...  A broad overview...   \n",
       "4  IST 614   IM        3  Management Princ...  Basic ideas, con...   \n",
       "\n",
       "                 words             filtered                   tf  \\\n",
       "0  [building, and, ...  [building, manag...  (4.0, 2.0, 0.0, ...   \n",
       "1  [concepts, and, ...  [concepts, techn...  (0.0, 1.0, 1.0, ...   \n",
       "2  [introduction, t...  [introduction, d...  (0.0, 0.0, 1.0, ...   \n",
       "3  [broad, overview...  [broad, overview...  (2.0, 0.0, 0.0, ...   \n",
       "4  [basic, ideas, c...  [basic, ideas, c...  (1.0, 1.0, 0.0, ...   \n",
       "\n",
       "                 tfidf       centered_tfidf           norm_tfidf  kmeans_feat  \\\n",
       "0  (1.8572224325243...  [1.3929168243932...  [0.1387283323560...            3   \n",
       "1  (0.0, 0.72213471...  [-0.464305608131...  [-0.036605311117...            1   \n",
       "2  (0.0, 0.0, 1.252...  [-0.464305608131...  [-0.039878871417...            1   \n",
       "3  (0.9286112162621...  [0.4643056081310...  [0.0515310315160...            3   \n",
       "4  (0.4643056081310...  [-5.551115123125...  [-4.744008281734...            1   \n",
       "\n",
       "                scores  \n",
       "0  [-0.675221334034...  \n",
       "1  [-1.056009219723...  \n",
       "2  [0.1961821942253...  \n",
       "3  [-0.682379184988...  \n",
       "4  [-1.350818475779...  "
      ]
     },
     "metadata": {},
     "output_type": "display_data"
    }
   ],
   "source": [
    "if is_databricks():\n",
    "  pipeline_model.transform(im_courses).show(5, 10)\n",
    "else:\n",
    "  pd.set_option('display.max_colwidth', 20)\n",
    "  display(pipeline_model.transform(im_courses).toPandas().head())"
   ]
  },
  {
   "cell_type": "code",
   "execution_count": 33,
   "metadata": {},
   "outputs": [
    {
     "name": "stdout",
     "output_type": "stream",
     "text": [
      "+------------------------------------------------------------+\n",
      "|                                                       tfidf|\n",
      "+------------------------------------------------------------+\n",
      "|(357,[0,1,8,11,14,17,48,55,57,71,76,129,137,227,250],[1.8...|\n",
      "|(357,[1,2,3,5,14,24,28,30,48,58,75,92,104,107,148,173,174...|\n",
      "|(357,[2,3,9,21,25,27,65,74,88,96,102,179,189,209,211,219,...|\n",
      "|(357,[0,22,33,39,96,102,300,312,319,328,343],[0.928611216...|\n",
      "|(357,[0,1,3,5,6,14,17,20,31,43,58,79,98,168,183,262,279,2...|\n",
      "+------------------------------------------------------------+\n",
      "only showing top 5 rows\n",
      "\n"
     ]
    }
   ],
   "source": [
    "tfidf.transform(im_courses).select('tfidf').show(5, 60)"
   ]
  },
  {
   "cell_type": "code",
   "execution_count": 34,
   "metadata": {
    "scrolled": false
   },
   "outputs": [
    {
     "name": "stdout",
     "output_type": "stream",
     "text": [
      "+-------+------------------------------------------------------------+-----------+\n",
      "| course|                                                      scores|kmeans_feat|\n",
      "+-------+------------------------------------------------------------+-----------+\n",
      "|IST 553|[-0.675221334034272,0.5785435268413676,-0.073391305874529...|          3|\n",
      "|IST 558|[-1.0560092197231854,0.1617365060411996,1.767426562652822...|          1|\n",
      "|IST 565|[0.19618219422530167,0.3954758666709389,0.745455205235981...|          1|\n",
      "|IST 601|[-0.6823791849888855,0.07779816332342304,0.24294081466326...|          3|\n",
      "|IST 614|[-1.3508184757797215,0.2786365081125689,0.042220706401107...|          1|\n",
      "+-------+------------------------------------------------------------+-----------+\n",
      "only showing top 5 rows\n",
      "\n"
     ]
    }
   ],
   "source": [
    "# note: scores col is the PCA scores\n",
    "pipeline_model.transform(im_courses).select('course', 'scores', 'kmeans_feat').show(5, 60)"
   ]
  },
  {
   "cell_type": "markdown",
   "metadata": {},
   "source": [
    "# Interpretation\n",
    "\n",
    "We can examine the PCA loadings:"
   ]
  },
  {
   "cell_type": "code",
   "execution_count": 35,
   "metadata": {},
   "outputs": [],
   "source": [
    "import pandas as pd"
   ]
  },
  {
   "cell_type": "code",
   "execution_count": 36,
   "metadata": {},
   "outputs": [
    {
     "data": {
      "text/plain": [
       "[RegexTokenizer_a0e0c99566ec,\n",
       " StopWordsRemover_09f65e033d6b,\n",
       " CountVectorizer_4a481240de50,\n",
       " IDF_84af10ad07fc,\n",
       " StandardScaler_74aeaadd5c75,\n",
       " Normalizer_d8be4b1c272c,\n",
       " KMeans_c1819873a78a,\n",
       " PCA_173aec8d7c1e]"
      ]
     },
     "execution_count": 36,
     "metadata": {},
     "output_type": "execute_result"
    }
   ],
   "source": [
    "pipeline_model.stages"
   ]
  },
  {
   "cell_type": "code",
   "execution_count": 37,
   "metadata": {},
   "outputs": [],
   "source": [
    "pca_model = pipeline_model.stages[-1]"
   ]
  },
  {
   "cell_type": "code",
   "execution_count": 38,
   "metadata": {},
   "outputs": [],
   "source": [
    "pc1 = pca_model.pc.toArray()[:, 0].tolist()\n",
    "pc2 = pca_model.pc.toArray()[:, 1].tolist()\n",
    "pc3 = pca_model.pc.toArray()[:, 2].tolist()"
   ]
  },
  {
   "cell_type": "code",
   "execution_count": 39,
   "metadata": {},
   "outputs": [],
   "source": [
    "vocabulary = pipeline_model.stages[2].vocabulary"
   ]
  },
  {
   "cell_type": "code",
   "execution_count": 40,
   "metadata": {
    "scrolled": true
   },
   "outputs": [
    {
     "name": "stdout",
     "output_type": "stream",
     "text": [
      "(357, 4)\n"
     ]
    }
   ],
   "source": [
    "pc_loadings = pd.DataFrame([vocabulary, pc1, pc2, pc3]).T.rename(columns={0: 'word', \n",
    "                                                                          1: 'load_pc1',\n",
    "                                                                          2: 'load_pc2',\n",
    "                                                                          3: 'load_pc3',})\n",
    "print(pc_loadings.shape)"
   ]
  },
  {
   "cell_type": "markdown",
   "metadata": {},
   "source": [
    "Show the smallest and largest loadings"
   ]
  },
  {
   "cell_type": "code",
   "execution_count": 41,
   "metadata": {},
   "outputs": [
    {
     "data": {
      "text/html": [
       "<div>\n",
       "<style scoped>\n",
       "    .dataframe tbody tr th:only-of-type {\n",
       "        vertical-align: middle;\n",
       "    }\n",
       "\n",
       "    .dataframe tbody tr th {\n",
       "        vertical-align: top;\n",
       "    }\n",
       "\n",
       "    .dataframe thead th {\n",
       "        text-align: right;\n",
       "    }\n",
       "</style>\n",
       "<table border=\"1\" class=\"dataframe\">\n",
       "  <thead>\n",
       "    <tr style=\"text-align: right;\">\n",
       "      <th></th>\n",
       "      <th>word</th>\n",
       "      <th>load_pc1</th>\n",
       "      <th>load_pc2</th>\n",
       "      <th>load_pc3</th>\n",
       "    </tr>\n",
       "  </thead>\n",
       "  <tbody>\n",
       "    <tr>\n",
       "      <th>38</th>\n",
       "      <td>required</td>\n",
       "      <td>-0.067063</td>\n",
       "      <td>0.0054385</td>\n",
       "      <td>0.0715218</td>\n",
       "    </tr>\n",
       "    <tr>\n",
       "      <th>32</th>\n",
       "      <td>processing</td>\n",
       "      <td>-0.0654304</td>\n",
       "      <td>0.00737648</td>\n",
       "      <td>0.0743025</td>\n",
       "    </tr>\n",
       "    <tr>\n",
       "      <th>73</th>\n",
       "      <td>computational</td>\n",
       "      <td>-0.0613542</td>\n",
       "      <td>0.00504601</td>\n",
       "      <td>0.0764562</td>\n",
       "    </tr>\n",
       "    <tr>\n",
       "      <th>109</th>\n",
       "      <td>linguistic</td>\n",
       "      <td>-0.0613542</td>\n",
       "      <td>0.00504601</td>\n",
       "      <td>0.0764562</td>\n",
       "    </tr>\n",
       "    <tr>\n",
       "      <th>7</th>\n",
       "      <td>students</td>\n",
       "      <td>-0.0579638</td>\n",
       "      <td>0.00405441</td>\n",
       "      <td>0.0680286</td>\n",
       "    </tr>\n",
       "    <tr>\n",
       "      <th>82</th>\n",
       "      <td>complex</td>\n",
       "      <td>0.188491</td>\n",
       "      <td>-0.051103</td>\n",
       "      <td>0.00445523</td>\n",
       "    </tr>\n",
       "    <tr>\n",
       "      <th>77</th>\n",
       "      <td>architecture</td>\n",
       "      <td>0.188491</td>\n",
       "      <td>-0.051103</td>\n",
       "      <td>0.00445523</td>\n",
       "    </tr>\n",
       "    <tr>\n",
       "      <th>41</th>\n",
       "      <td>enterprise</td>\n",
       "      <td>0.254813</td>\n",
       "      <td>-0.453853</td>\n",
       "      <td>-0.0290984</td>\n",
       "    </tr>\n",
       "    <tr>\n",
       "      <th>24</th>\n",
       "      <td>databases</td>\n",
       "      <td>0.275076</td>\n",
       "      <td>0.199085</td>\n",
       "      <td>0.0735311</td>\n",
       "    </tr>\n",
       "    <tr>\n",
       "      <th>30</th>\n",
       "      <td>database</td>\n",
       "      <td>0.538651</td>\n",
       "      <td>0.366988</td>\n",
       "      <td>0.0595601</td>\n",
       "    </tr>\n",
       "  </tbody>\n",
       "</table>\n",
       "</div>"
      ],
      "text/plain": [
       "              word   load_pc1    load_pc2    load_pc3\n",
       "38        required  -0.067063   0.0054385   0.0715218\n",
       "32      processing -0.0654304  0.00737648   0.0743025\n",
       "73   computational -0.0613542  0.00504601   0.0764562\n",
       "109     linguistic -0.0613542  0.00504601   0.0764562\n",
       "7         students -0.0579638  0.00405441   0.0680286\n",
       "82         complex   0.188491   -0.051103  0.00445523\n",
       "77    architecture   0.188491   -0.051103  0.00445523\n",
       "41      enterprise   0.254813   -0.453853  -0.0290984\n",
       "24       databases   0.275076    0.199085   0.0735311\n",
       "30        database   0.538651    0.366988   0.0595601"
      ]
     },
     "execution_count": 41,
     "metadata": {},
     "output_type": "execute_result"
    }
   ],
   "source": [
    "# smallest and biggest loadings of pc1\n",
    "pd.concat((pc_loadings.sort_values('load_pc1').head(), \n",
    "           pc_loadings.sort_values('load_pc1').tail()))"
   ]
  },
  {
   "cell_type": "code",
   "execution_count": 42,
   "metadata": {},
   "outputs": [
    {
     "data": {
      "text/html": [
       "<div>\n",
       "<style scoped>\n",
       "    .dataframe tbody tr th:only-of-type {\n",
       "        vertical-align: middle;\n",
       "    }\n",
       "\n",
       "    .dataframe tbody tr th {\n",
       "        vertical-align: top;\n",
       "    }\n",
       "\n",
       "    .dataframe thead th {\n",
       "        text-align: right;\n",
       "    }\n",
       "</style>\n",
       "<table border=\"1\" class=\"dataframe\">\n",
       "  <thead>\n",
       "    <tr style=\"text-align: right;\">\n",
       "      <th></th>\n",
       "      <th>word</th>\n",
       "      <th>load_pc1</th>\n",
       "      <th>load_pc2</th>\n",
       "      <th>load_pc3</th>\n",
       "    </tr>\n",
       "  </thead>\n",
       "  <tbody>\n",
       "    <tr>\n",
       "      <th>41</th>\n",
       "      <td>enterprise</td>\n",
       "      <td>0.254813</td>\n",
       "      <td>-0.453853</td>\n",
       "      <td>-0.0290984</td>\n",
       "    </tr>\n",
       "    <tr>\n",
       "      <th>115</th>\n",
       "      <td>computing</td>\n",
       "      <td>0.169875</td>\n",
       "      <td>-0.302568</td>\n",
       "      <td>-0.019399</td>\n",
       "    </tr>\n",
       "    <tr>\n",
       "      <th>36</th>\n",
       "      <td>large</td>\n",
       "      <td>0.144783</td>\n",
       "      <td>-0.263025</td>\n",
       "      <td>-0.0181318</td>\n",
       "    </tr>\n",
       "    <tr>\n",
       "      <th>5</th>\n",
       "      <td>systems</td>\n",
       "      <td>0.0903704</td>\n",
       "      <td>-0.160692</td>\n",
       "      <td>0.0276732</td>\n",
       "    </tr>\n",
       "    <tr>\n",
       "      <th>205</th>\n",
       "      <td>problems</td>\n",
       "      <td>0.0849375</td>\n",
       "      <td>-0.151284</td>\n",
       "      <td>-0.00969948</td>\n",
       "    </tr>\n",
       "    <tr>\n",
       "      <th>314</th>\n",
       "      <td>forms</td>\n",
       "      <td>0.134663</td>\n",
       "      <td>0.091747</td>\n",
       "      <td>0.01489</td>\n",
       "    </tr>\n",
       "    <tr>\n",
       "      <th>83</th>\n",
       "      <td>security</td>\n",
       "      <td>0.116207</td>\n",
       "      <td>0.094556</td>\n",
       "      <td>-0.129068</td>\n",
       "    </tr>\n",
       "    <tr>\n",
       "      <th>80</th>\n",
       "      <td>warehouses</td>\n",
       "      <td>0.116554</td>\n",
       "      <td>0.097372</td>\n",
       "      <td>0.0149755</td>\n",
       "    </tr>\n",
       "    <tr>\n",
       "      <th>24</th>\n",
       "      <td>databases</td>\n",
       "      <td>0.275076</td>\n",
       "      <td>0.199085</td>\n",
       "      <td>0.0735311</td>\n",
       "    </tr>\n",
       "    <tr>\n",
       "      <th>30</th>\n",
       "      <td>database</td>\n",
       "      <td>0.538651</td>\n",
       "      <td>0.366988</td>\n",
       "      <td>0.0595601</td>\n",
       "    </tr>\n",
       "  </tbody>\n",
       "</table>\n",
       "</div>"
      ],
      "text/plain": [
       "           word   load_pc1  load_pc2    load_pc3\n",
       "41   enterprise   0.254813 -0.453853  -0.0290984\n",
       "115   computing   0.169875 -0.302568   -0.019399\n",
       "36        large   0.144783 -0.263025  -0.0181318\n",
       "5       systems  0.0903704 -0.160692   0.0276732\n",
       "205    problems  0.0849375 -0.151284 -0.00969948\n",
       "314       forms   0.134663  0.091747     0.01489\n",
       "83     security   0.116207  0.094556   -0.129068\n",
       "80   warehouses   0.116554  0.097372   0.0149755\n",
       "24    databases   0.275076  0.199085   0.0735311\n",
       "30     database   0.538651  0.366988   0.0595601"
      ]
     },
     "execution_count": 42,
     "metadata": {},
     "output_type": "execute_result"
    }
   ],
   "source": [
    "# smallest and biggest loadings of pc2\n",
    "pd.concat((pc_loadings.sort_values('load_pc2').head(), \n",
    "           pc_loadings.sort_values('load_pc2').tail()))"
   ]
  },
  {
   "cell_type": "code",
   "execution_count": 43,
   "metadata": {
    "scrolled": false
   },
   "outputs": [
    {
     "data": {
      "text/html": [
       "<div>\n",
       "<style scoped>\n",
       "    .dataframe tbody tr th:only-of-type {\n",
       "        vertical-align: middle;\n",
       "    }\n",
       "\n",
       "    .dataframe tbody tr th {\n",
       "        vertical-align: top;\n",
       "    }\n",
       "\n",
       "    .dataframe thead th {\n",
       "        text-align: right;\n",
       "    }\n",
       "</style>\n",
       "<table border=\"1\" class=\"dataframe\">\n",
       "  <thead>\n",
       "    <tr style=\"text-align: right;\">\n",
       "      <th></th>\n",
       "      <th>word</th>\n",
       "      <th>load_pc1</th>\n",
       "      <th>load_pc2</th>\n",
       "      <th>load_pc3</th>\n",
       "    </tr>\n",
       "  </thead>\n",
       "  <tbody>\n",
       "    <tr>\n",
       "      <th>120</th>\n",
       "      <td>public</td>\n",
       "      <td>0.00144676</td>\n",
       "      <td>0.0368293</td>\n",
       "      <td>-0.330519</td>\n",
       "    </tr>\n",
       "    <tr>\n",
       "      <th>123</th>\n",
       "      <td>policy</td>\n",
       "      <td>0.00144676</td>\n",
       "      <td>0.0368293</td>\n",
       "      <td>-0.330519</td>\n",
       "    </tr>\n",
       "    <tr>\n",
       "      <th>47</th>\n",
       "      <td>economic</td>\n",
       "      <td>-0.0149275</td>\n",
       "      <td>0.0125956</td>\n",
       "      <td>-0.184823</td>\n",
       "    </tr>\n",
       "    <tr>\n",
       "      <th>153</th>\n",
       "      <td>include</td>\n",
       "      <td>0.000723382</td>\n",
       "      <td>0.0184146</td>\n",
       "      <td>-0.165259</td>\n",
       "    </tr>\n",
       "    <tr>\n",
       "      <th>155</th>\n",
       "      <td>expression</td>\n",
       "      <td>0.000723382</td>\n",
       "      <td>0.0184146</td>\n",
       "      <td>-0.165259</td>\n",
       "    </tr>\n",
       "    <tr>\n",
       "      <th>106</th>\n",
       "      <td>administration</td>\n",
       "      <td>0.0155463</td>\n",
       "      <td>0.00854415</td>\n",
       "      <td>0.079552</td>\n",
       "    </tr>\n",
       "    <tr>\n",
       "      <th>27</th>\n",
       "      <td>modeling</td>\n",
       "      <td>0.00457799</td>\n",
       "      <td>0.00875369</td>\n",
       "      <td>0.0798089</td>\n",
       "    </tr>\n",
       "    <tr>\n",
       "      <th>53</th>\n",
       "      <td>projects</td>\n",
       "      <td>-0.0324584</td>\n",
       "      <td>-0.0187311</td>\n",
       "      <td>0.0871006</td>\n",
       "    </tr>\n",
       "    <tr>\n",
       "      <th>2</th>\n",
       "      <td>data</td>\n",
       "      <td>0.0864014</td>\n",
       "      <td>0.0851734</td>\n",
       "      <td>0.133236</td>\n",
       "    </tr>\n",
       "    <tr>\n",
       "      <th>37</th>\n",
       "      <td>metadata</td>\n",
       "      <td>-0.0223883</td>\n",
       "      <td>-0.0428104</td>\n",
       "      <td>0.194214</td>\n",
       "    </tr>\n",
       "  </tbody>\n",
       "</table>\n",
       "</div>"
      ],
      "text/plain": [
       "               word     load_pc1    load_pc2   load_pc3\n",
       "120          public   0.00144676   0.0368293  -0.330519\n",
       "123          policy   0.00144676   0.0368293  -0.330519\n",
       "47         economic   -0.0149275   0.0125956  -0.184823\n",
       "153         include  0.000723382   0.0184146  -0.165259\n",
       "155      expression  0.000723382   0.0184146  -0.165259\n",
       "106  administration    0.0155463  0.00854415   0.079552\n",
       "27         modeling   0.00457799  0.00875369  0.0798089\n",
       "53         projects   -0.0324584  -0.0187311  0.0871006\n",
       "2              data    0.0864014   0.0851734   0.133236\n",
       "37         metadata   -0.0223883  -0.0428104   0.194214"
      ]
     },
     "execution_count": 43,
     "metadata": {},
     "output_type": "execute_result"
    }
   ],
   "source": [
    "# smallest and biggest loadings of pc3\n",
    "pd.concat((pc_loadings.sort_values('load_pc3').head(), \n",
    "           pc_loadings.sort_values('load_pc3').tail()))"
   ]
  },
  {
   "cell_type": "markdown",
   "metadata": {},
   "source": [
    "# Visualize fit with 2 dimensional PCA"
   ]
  },
  {
   "cell_type": "markdown",
   "metadata": {},
   "source": [
    "The cell below creates a new pipeline to compute PCA scores on the course descriptions."
   ]
  },
  {
   "cell_type": "code",
   "execution_count": 44,
   "metadata": {
    "scrolled": false
   },
   "outputs": [],
   "source": [
    "#pca2 = feature.PCA(k=2, inputCol='centered_tfidf', outputCol='scores')\n",
    "#pipeline2 = Pipeline(stages=[tokenizer, sw_filter, cv, idf, center, norm, kmeans, pca2]).fit(im_courses)"
   ]
  },
  {
   "cell_type": "code",
   "execution_count": 45,
   "metadata": {},
   "outputs": [],
   "source": [
    "pipeline2_model = Pipeline(stages=[tokenizer, sw_filter, cv, idf, \n",
    "                                   feature.Normalizer(inputCol='tfidf', outputCol='norm_tfidf'), \n",
    "                                   feature.StandardScaler(withMean=True, withStd=False, \n",
    "                                                          inputCol='norm_tfidf',\n",
    "                                                          outputCol='centered_tfidf'),\n",
    "                                   feature.PCA(k=2, inputCol='centered_tfidf', outputCol='scores')])\\\n",
    "    .fit(im_courses)"
   ]
  },
  {
   "cell_type": "markdown",
   "metadata": {},
   "source": [
    "The cell below extracts the PCA scores from the transformed pipeline2_model."
   ]
  },
  {
   "cell_type": "code",
   "execution_count": 46,
   "metadata": {
    "scrolled": false
   },
   "outputs": [
    {
     "name": "stdout",
     "output_type": "stream",
     "text": [
      "X.shape: (34, 2)\n"
     ]
    }
   ],
   "source": [
    "course_names = np.array(im_courses.select('course').rdd.map(lambda x: x['course']).collect())\n",
    "X = np.array(pipeline2_model.transform(im_courses).select('scores').rdd.map(lambda x: x['scores']).collect())\n",
    "print(\"X.shape:\", X.shape)"
   ]
  },
  {
   "cell_type": "markdown",
   "metadata": {},
   "source": [
    "Plot PCA2 scores against PCA1 scores"
   ]
  },
  {
   "cell_type": "code",
   "execution_count": 47,
   "metadata": {
    "scrolled": false
   },
   "outputs": [
    {
     "data": {
      "image/png": "[encoded data removed]",
      "text/plain": [
       "<Figure size 504x504 with 1 Axes>"
      ]
     },
     "metadata": {
      "needs_background": "light"
     },
     "output_type": "display_data"
    },
    {
     "data": {
      "text/plain": [
       "None"
      ]
     },
     "metadata": {},
     "output_type": "display_data"
    }
   ],
   "source": [
    "# now plot the data\n",
    "fig, ax = plt.subplots()\n",
    "fig.set_figheight(7)\n",
    "fig.set_figwidth(7)\n",
    "ax.scatter(X[:,0], X[:,1])\n",
    "fig.suptitle(\"Diabetes Data PC2 Scores vs. PC1 Scores\", y=.92)\n",
    "ax.set_xlabel(\"PC1\")\n",
    "ax.set_ylabel(\"PC2\")\n",
    "\n",
    "for i, txt in enumerate(course_names):\n",
    "    ax.annotate(txt, (X[i,0], X[i,1]))\n",
    "    \n",
    "display(plt.show())"
   ]
  },
  {
   "cell_type": "markdown",
   "metadata": {},
   "source": [
    "The cell below sets up to print a zoomed in plot by filtering by data less than 0.2"
   ]
  },
  {
   "cell_type": "code",
   "execution_count": 48,
   "metadata": {},
   "outputs": [],
   "source": [
    "idx = np.abs(X[:, 0]) < 0.2\n",
    "X = X[idx]\n",
    "course_names = course_names[idx]"
   ]
  },
  {
   "cell_type": "code",
   "execution_count": 49,
   "metadata": {},
   "outputs": [
    {
     "data": {
      "image/png": "[encoded data removed]",
      "text/plain": [
       "<Figure size 504x504 with 1 Axes>"
      ]
     },
     "metadata": {
      "needs_background": "light"
     },
     "output_type": "display_data"
    },
    {
     "data": {
      "text/plain": [
       "None"
      ]
     },
     "metadata": {},
     "output_type": "display_data"
    }
   ],
   "source": [
    "# now plot the zoomed data\n",
    "fig, ax = plt.subplots()\n",
    "fig.set_figheight(7)\n",
    "fig.set_figwidth(7)\n",
    "ax.scatter(X[:,0], X[:,1])\n",
    "fig.suptitle(\"Zoomed In Diabetes Data PC2 Scores vs. PC1 Scores\", y=.92)\n",
    "ax.set_xlabel(\"PC1\")\n",
    "ax.set_ylabel(\"PC2\")\n",
    "\n",
    "for i, txt in enumerate(course_names):\n",
    "    ax.annotate(txt, (X[i,0], X[i,1]))\n",
    "    \n",
    "display(plt.show())"
   ]
  },
  {
   "cell_type": "code",
   "execution_count": 50,
   "metadata": {},
   "outputs": [],
   "source": [
    "pca_model = pipeline2_model.stages[-1]"
   ]
  },
  {
   "cell_type": "code",
   "execution_count": 51,
   "metadata": {},
   "outputs": [],
   "source": [
    "pc1 = pca_model.pc.toArray()[:, 0].tolist()\n",
    "pc2 = pca_model.pc.toArray()[:, 1].tolist()"
   ]
  },
  {
   "cell_type": "code",
   "execution_count": 52,
   "metadata": {},
   "outputs": [],
   "source": [
    "vocabulary = pipeline2_model.stages[2].vocabulary"
   ]
  },
  {
   "cell_type": "code",
   "execution_count": 53,
   "metadata": {},
   "outputs": [],
   "source": [
    "pc_loadings = pd.DataFrame([vocabulary, pc1, pc2]).T.rename(columns={0: 'word', \n",
    "                                                                     1: 'load_pc1',\n",
    "                                                                     2: 'load_pc2'})"
   ]
  },
  {
   "cell_type": "code",
   "execution_count": 54,
   "metadata": {
    "scrolled": true
   },
   "outputs": [
    {
     "data": {
      "text/html": [
       "<div>\n",
       "<style scoped>\n",
       "    .dataframe tbody tr th:only-of-type {\n",
       "        vertical-align: middle;\n",
       "    }\n",
       "\n",
       "    .dataframe tbody tr th {\n",
       "        vertical-align: top;\n",
       "    }\n",
       "\n",
       "    .dataframe thead th {\n",
       "        text-align: right;\n",
       "    }\n",
       "</style>\n",
       "<table border=\"1\" class=\"dataframe\">\n",
       "  <thead>\n",
       "    <tr style=\"text-align: right;\">\n",
       "      <th></th>\n",
       "      <th>word</th>\n",
       "      <th>load_pc1</th>\n",
       "    </tr>\n",
       "  </thead>\n",
       "  <tbody>\n",
       "    <tr>\n",
       "      <th>16</th>\n",
       "      <td>research</td>\n",
       "      <td>0.11137</td>\n",
       "    </tr>\n",
       "    <tr>\n",
       "      <th>17</th>\n",
       "      <td>digital</td>\n",
       "      <td>0.0683895</td>\n",
       "    </tr>\n",
       "    <tr>\n",
       "      <th>6</th>\n",
       "      <td>design</td>\n",
       "      <td>0.0668912</td>\n",
       "    </tr>\n",
       "    <tr>\n",
       "      <th>12</th>\n",
       "      <td>issues</td>\n",
       "      <td>0.0572029</td>\n",
       "    </tr>\n",
       "    <tr>\n",
       "      <th>45</th>\n",
       "      <td>networks</td>\n",
       "      <td>0.0537774</td>\n",
       "    </tr>\n",
       "  </tbody>\n",
       "</table>\n",
       "</div>"
      ],
      "text/plain": [
       "        word   load_pc1\n",
       "16  research    0.11137\n",
       "17   digital  0.0683895\n",
       "6     design  0.0668912\n",
       "12    issues  0.0572029\n",
       "45  networks  0.0537774"
      ]
     },
     "execution_count": 54,
     "metadata": {},
     "output_type": "execute_result"
    }
   ],
   "source": [
    "pc_loadings.sort_values('load_pc1').\\\n",
    "    apply({'word': lambda x: x, 'load_pc1': np.abs}, axis=0).head(5)"
   ]
  },
  {
   "cell_type": "code",
   "execution_count": 55,
   "metadata": {
    "scrolled": true
   },
   "outputs": [
    {
     "data": {
      "text/html": [
       "<div>\n",
       "<style scoped>\n",
       "    .dataframe tbody tr th:only-of-type {\n",
       "        vertical-align: middle;\n",
       "    }\n",
       "\n",
       "    .dataframe tbody tr th {\n",
       "        vertical-align: top;\n",
       "    }\n",
       "\n",
       "    .dataframe thead th {\n",
       "        text-align: right;\n",
       "    }\n",
       "</style>\n",
       "<table border=\"1\" class=\"dataframe\">\n",
       "  <thead>\n",
       "    <tr style=\"text-align: right;\">\n",
       "      <th></th>\n",
       "      <th>word</th>\n",
       "      <th>load_pc2</th>\n",
       "    </tr>\n",
       "  </thead>\n",
       "  <tbody>\n",
       "    <tr>\n",
       "      <th>16</th>\n",
       "      <td>research</td>\n",
       "      <td>0.346353</td>\n",
       "    </tr>\n",
       "    <tr>\n",
       "      <th>52</th>\n",
       "      <td>user</td>\n",
       "      <td>0.175591</td>\n",
       "    </tr>\n",
       "    <tr>\n",
       "      <th>96</th>\n",
       "      <td>transfer</td>\n",
       "      <td>0.16139</td>\n",
       "    </tr>\n",
       "    <tr>\n",
       "      <th>108</th>\n",
       "      <td>procedures</td>\n",
       "      <td>0.154404</td>\n",
       "    </tr>\n",
       "    <tr>\n",
       "      <th>116</th>\n",
       "      <td>practices</td>\n",
       "      <td>0.141174</td>\n",
       "    </tr>\n",
       "  </tbody>\n",
       "</table>\n",
       "</div>"
      ],
      "text/plain": [
       "           word  load_pc2\n",
       "16     research  0.346353\n",
       "52         user  0.175591\n",
       "96     transfer   0.16139\n",
       "108  procedures  0.154404\n",
       "116   practices  0.141174"
      ]
     },
     "execution_count": 55,
     "metadata": {},
     "output_type": "execute_result"
    }
   ],
   "source": [
    "pc_loadings.sort_values('load_pc2').\\\n",
    "    apply({'word': lambda x: x, 'load_pc2': np.abs}, axis=0).head(5)"
   ]
  },
  {
   "cell_type": "markdown",
   "metadata": {},
   "source": [
    "# Examine K-means"
   ]
  },
  {
   "cell_type": "markdown",
   "metadata": {},
   "source": [
    "The cell below displays the im_courses dataframe, followed by a print out of the course"
   ]
  },
  {
   "cell_type": "code",
   "execution_count": 56,
   "metadata": {},
   "outputs": [
    {
     "data": {
      "text/plain": [
       "'im_courses head:'"
      ]
     },
     "metadata": {},
     "output_type": "display_data"
    },
    {
     "data": {
      "text/html": [
       "<div>\n",
       "<style scoped>\n",
       "    .dataframe tbody tr th:only-of-type {\n",
       "        vertical-align: middle;\n",
       "    }\n",
       "\n",
       "    .dataframe tbody tr th {\n",
       "        vertical-align: top;\n",
       "    }\n",
       "\n",
       "    .dataframe thead th {\n",
       "        text-align: right;\n",
       "    }\n",
       "</style>\n",
       "<table border=\"1\" class=\"dataframe\">\n",
       "  <thead>\n",
       "    <tr style=\"text-align: right;\">\n",
       "      <th></th>\n",
       "      <th>course</th>\n",
       "      <th>core</th>\n",
       "      <th>credits</th>\n",
       "      <th>title</th>\n",
       "      <th>description</th>\n",
       "    </tr>\n",
       "  </thead>\n",
       "  <tbody>\n",
       "    <tr>\n",
       "      <th>0</th>\n",
       "      <td>IST 553</td>\n",
       "      <td>IM</td>\n",
       "      <td>3</td>\n",
       "      <td>Information Architecture for Internet Services</td>\n",
       "      <td>Building and management of Internet information services, including information organization, information management, and information dissemination. Understanding of the use of Internet technologies within an organizational context. Practice with current technologies.</td>\n",
       "    </tr>\n",
       "    <tr>\n",
       "      <th>1</th>\n",
       "      <td>IST 558</td>\n",
       "      <td>CAS</td>\n",
       "      <td>3</td>\n",
       "      <td>Technologies in Web Content Management</td>\n",
       "      <td>Concepts and techniques in web content representation, organization, presentation, development, and management with the eXtensible Markup Language (XML), including basic XML syntax, vocabulary specification, data modeling, transformation, and Document Object Model (DOM).</td>\n",
       "    </tr>\n",
       "    <tr>\n",
       "      <th>2</th>\n",
       "      <td>IST 565</td>\n",
       "      <td>CAS</td>\n",
       "      <td>3</td>\n",
       "      <td>Data Mining</td>\n",
       "      <td>Introduction to data mining techniques, familiarity with particular real-world applications, challenges involved in these applications, and future directions of the field. Optional hands-on experience with commercially available software packages.</td>\n",
       "    </tr>\n",
       "    <tr>\n",
       "      <th>3</th>\n",
       "      <td>IST 601</td>\n",
       "      <td>IM</td>\n",
       "      <td>3</td>\n",
       "      <td>Information and Information Environments</td>\n",
       "      <td>A broad overview of the field and an orientation to the School of Information Studies. Describes the past, present, and future of information studies.</td>\n",
       "    </tr>\n",
       "    <tr>\n",
       "      <th>4</th>\n",
       "      <td>IST 614</td>\n",
       "      <td>IM</td>\n",
       "      <td>3</td>\n",
       "      <td>Management Principles for Information Professionals</td>\n",
       "      <td>Basic ideas, concepts and perspectives of management as they apply to the information professions. Students learn to understand and apply basic principles of organization theory and behavior and managerial techniques needed to improve organizational effectiveness.</td>\n",
       "    </tr>\n",
       "  </tbody>\n",
       "</table>\n",
       "</div>"
      ],
      "text/plain": [
       "    course core  credits                                                title  \\\n",
       "0  IST 553  IM   3        Information Architecture for Internet Services        \n",
       "1  IST 558  CAS  3        Technologies in Web Content Management                \n",
       "2  IST 565  CAS  3        Data Mining                                           \n",
       "3  IST 601  IM   3        Information and Information Environments              \n",
       "4  IST 614  IM   3        Management Principles for Information Professionals   \n",
       "\n",
       "                                                                                                                                                                                                                                                                       description  \n",
       "0  Building and management of Internet information services, including information organization, information management, and information dissemination. Understanding of the use of Internet technologies within an organizational context. Practice with current technologies.     \n",
       "1  Concepts and techniques in web content representation, organization, presentation, development, and management with the eXtensible Markup Language (XML), including basic XML syntax, vocabulary specification, data modeling, transformation, and Document Object Model (DOM).  \n",
       "2  Introduction to data mining techniques, familiarity with particular real-world applications, challenges involved in these applications, and future directions of the field. Optional hands-on experience with commercially available software packages.                          \n",
       "3  A broad overview of the field and an orientation to the School of Information Studies. Describes the past, present, and future of information studies.                                                                                                                           \n",
       "4  Basic ideas, concepts and perspectives of management as they apply to the information professions. Students learn to understand and apply basic principles of organization theory and behavior and managerial techniques needed to improve organizational effectiveness.         "
      ]
     },
     "metadata": {},
     "output_type": "display_data"
    },
    {
     "data": {
      "text/plain": [
       "'courses grouped by k-means group:'"
      ]
     },
     "metadata": {},
     "output_type": "display_data"
    },
    {
     "data": {
      "text/html": [
       "<div>\n",
       "<style scoped>\n",
       "    .dataframe tbody tr th:only-of-type {\n",
       "        vertical-align: middle;\n",
       "    }\n",
       "\n",
       "    .dataframe tbody tr th {\n",
       "        vertical-align: top;\n",
       "    }\n",
       "\n",
       "    .dataframe thead th {\n",
       "        text-align: right;\n",
       "    }\n",
       "</style>\n",
       "<table border=\"1\" class=\"dataframe\">\n",
       "  <thead>\n",
       "    <tr style=\"text-align: right;\">\n",
       "      <th></th>\n",
       "      <th>kmeans_feat</th>\n",
       "      <th>courses</th>\n",
       "    </tr>\n",
       "  </thead>\n",
       "  <tbody>\n",
       "    <tr>\n",
       "      <th>0</th>\n",
       "      <td>1</td>\n",
       "      <td>[IST 558-Technologies in Web Content Management, IST 565-Data Mining, IST 614-Management Principles for Information Professionals, IST 618-Information Policy, IST 619-Applied Economics for Information Managers, IST 631-Theory of Classification and Subject Representation, IST 653-Telecommunications and Enterprise Network Management I, IST 654-Information Systems Analysis, IST 657-Basics of Information Retrieval Systems, IST 659-Data Administration Concepts and Database Management, IST 664-Natural Language Processing, IST 676-Foundations of Digital Data, IST 677-Creating, Managing, and Preserving Digital Assets, IST 722-Data Warehouse, IST 736-Text Mining]</td>\n",
       "    </tr>\n",
       "    <tr>\n",
       "      <th>1</th>\n",
       "      <td>3</td>\n",
       "      <td>[IST 553-Information Architecture for Internet Services, IST 601-Information and Information Environments, IST 617-Motivational Aspects of Information Use, IST 621-Introduction to Information Management, IST 641-User-Based Design, IST 645-Managing Information Systems Projects, IST 649-Human Interaction with Computers, IST 656-Telecommunications and Enterprise Network Management II, IST 662-Instructional Strategies and Techniques for Information Professionals, IST 681-Metadata, IST 755-Strategic Management of Information Resources, IST 769-Advanced Database Administration Concepts and Database Management, IST 776-Research Methods in Information Science and Technology, IST 777-Statistical Methods in Information Science and Technology, IST 971-Internship in Information Studies]</td>\n",
       "    </tr>\n",
       "    <tr>\n",
       "      <th>2</th>\n",
       "      <td>4</td>\n",
       "      <td>[IST 639-Enterprise Technologies]</td>\n",
       "    </tr>\n",
       "    <tr>\n",
       "      <th>3</th>\n",
       "      <td>2</td>\n",
       "      <td>[IST 687-Applied Data Science]</td>\n",
       "    </tr>\n",
       "    <tr>\n",
       "      <th>4</th>\n",
       "      <td>0</td>\n",
       "      <td>[IST 718-Advanced Information Analytics, IST 719-Information Visualization]</td>\n",
       "    </tr>\n",
       "  </tbody>\n",
       "</table>\n",
       "</div>"
      ],
      "text/plain": [
       "   kmeans_feat  \\\n",
       "0  1             \n",
       "1  3             \n",
       "2  4             \n",
       "3  2             \n",
       "4  0             \n",
       "\n",
       "                                                                                                                                                                                                                                                                                                                                                                                                                                                                                                                                                                                                                                                                                                                                                                                                             courses  \n",
       "0  [IST 558-Technologies in Web Content Management, IST 565-Data Mining, IST 614-Management Principles for Information Professionals, IST 618-Information Policy, IST 619-Applied Economics for Information Managers, IST 631-Theory of Classification and Subject Representation, IST 653-Telecommunications and Enterprise Network Management I, IST 654-Information Systems Analysis, IST 657-Basics of Information Retrieval Systems, IST 659-Data Administration Concepts and Database Management, IST 664-Natural Language Processing, IST 676-Foundations of Digital Data, IST 677-Creating, Managing, and Preserving Digital Assets, IST 722-Data Warehouse, IST 736-Text Mining]                                                                                                                             \n",
       "1  [IST 553-Information Architecture for Internet Services, IST 601-Information and Information Environments, IST 617-Motivational Aspects of Information Use, IST 621-Introduction to Information Management, IST 641-User-Based Design, IST 645-Managing Information Systems Projects, IST 649-Human Interaction with Computers, IST 656-Telecommunications and Enterprise Network Management II, IST 662-Instructional Strategies and Techniques for Information Professionals, IST 681-Metadata, IST 755-Strategic Management of Information Resources, IST 769-Advanced Database Administration Concepts and Database Management, IST 776-Research Methods in Information Science and Technology, IST 777-Statistical Methods in Information Science and Technology, IST 971-Internship in Information Studies]  \n",
       "2  [IST 639-Enterprise Technologies]                                                                                                                                                                                                                                                                                                                                                                                                                                                                                                                                                                                                                                                                                                                                                                                  \n",
       "3  [IST 687-Applied Data Science]                                                                                                                                                                                                                                                                                                                                                                                                                                                                                                                                                                                                                                                                                                                                                                                     \n",
       "4  [IST 718-Advanced Information Analytics, IST 719-Information Visualization]                                                                                                                                                                                                                                                                                                                                                                                                                                                                                                                                                                                                                                                                                                                                        "
      ]
     },
     "metadata": {},
     "output_type": "display_data"
    }
   ],
   "source": [
    "pd.set_option('display.max_colwidth', -1)\n",
    "if is_databricks(): \n",
    "  print(\"original im_courses:\")\n",
    "  im_courses.show(5, 80)\n",
    "  print(\"courses grouped by k-means group:\")\n",
    "  pipeline_model.transform(im_courses).\\\n",
    "           groupBy('kmeans_feat').agg(fn.collect_list(\n",
    "           fn.concat_ws('-', fn.col('course'), fn.col('title'))).alias('courses')).show(5, 80)\n",
    "else:\n",
    "  display(\"im_courses head:\", im_courses.toPandas().head())\n",
    "  display(\"courses grouped by k-means group:\", pipeline_model.transform(im_courses).\\\n",
    "          groupBy('kmeans_feat').agg(fn.collect_list(\n",
    "          fn.concat_ws('-', fn.col('course'), fn.col('title'))).alias('courses')).toPandas().head())"
   ]
  },
  {
   "cell_type": "markdown",
   "metadata": {},
   "source": [
    "# Make recommendations"
   ]
  },
  {
   "cell_type": "markdown",
   "metadata": {},
   "source": [
    "To make recommendations, we need compute the distance between a vector and all the other courses in our dataset. To do this, we need to define a User Defined Function (UDF) that takes as input two column vectors and returns the distance between them."
   ]
  },
  {
   "cell_type": "code",
   "execution_count": 57,
   "metadata": {},
   "outputs": [],
   "source": [
    "from pyspark.sql import types"
   ]
  },
  {
   "cell_type": "code",
   "execution_count": 58,
   "metadata": {},
   "outputs": [],
   "source": [
    "import numpy as np\n",
    "def l2_dist(c1, c2):    \n",
    "    return float(np.sqrt((c1 - c2).T.dot((c1 - c2))))"
   ]
  },
  {
   "cell_type": "markdown",
   "metadata": {},
   "source": [
    "Let's take the PCA features of IST 718."
   ]
  },
  {
   "cell_type": "code",
   "execution_count": 59,
   "metadata": {},
   "outputs": [],
   "source": [
    "l2_dist_udf = fn.udf(l2_dist, types.FloatType())"
   ]
  },
  {
   "cell_type": "markdown",
   "metadata": {},
   "source": [
    "Spark doesn't allow a cross join without a condition because it could be too computationally expensive. The command in the cell below triggers a cross join using the regular inner join syntax.  A cross join is used when you wish to create combination of every row from two tables. All row combinations are included in the result; this is commonly called cross product join. A common use for a cross join is to create obtain all combinations of items, such as colors and sizes."
   ]
  },
  {
   "cell_type": "code",
   "execution_count": 66,
   "metadata": {},
   "outputs": [
    {
     "name": "stdout",
     "output_type": "stream",
     "text": [
      "+--------------------+-----+\n",
      "|                 key|value|\n",
      "+--------------------+-----+\n",
      "|spark.sql.crossJo...| TRUE|\n",
      "+--------------------+-----+\n",
      "\n"
     ]
    }
   ],
   "source": [
    "spark.sql(\"SET spark.sql.crossJoin.enabled=TRUE\").show()"
   ]
  },
  {
   "cell_type": "code",
   "execution_count": 74,
   "metadata": {
    "scrolled": false
   },
   "outputs": [
    {
     "data": {
      "text/html": [
       "<div>\n",
       "<style scoped>\n",
       "    .dataframe tbody tr th:only-of-type {\n",
       "        vertical-align: middle;\n",
       "    }\n",
       "\n",
       "    .dataframe tbody tr th {\n",
       "        vertical-align: top;\n",
       "    }\n",
       "\n",
       "    .dataframe thead th {\n",
       "        text-align: right;\n",
       "    }\n",
       "</style>\n",
       "<table border=\"1\" class=\"dataframe\">\n",
       "  <thead>\n",
       "    <tr style=\"text-align: right;\">\n",
       "      <th></th>\n",
       "      <th>course</th>\n",
       "      <th>title</th>\n",
       "      <th>description</th>\n",
       "      <th>dist</th>\n",
       "    </tr>\n",
       "  </thead>\n",
       "  <tbody>\n",
       "    <tr>\n",
       "      <th>0</th>\n",
       "      <td>IST 719</td>\n",
       "      <td>Information Visualization</td>\n",
       "      <td>A broad introduction to data visualization for information professionals. Students will develop a portfolio of resources, demonstrations, recipes, and examples of various data visualization techniques.</td>\n",
       "      <td>0.000000</td>\n",
       "    </tr>\n",
       "    <tr>\n",
       "      <th>1</th>\n",
       "      <td>IST 718</td>\n",
       "      <td>Advanced Information Analytics</td>\n",
       "      <td>A broad introduction to analytical processing tools and techniques for information professionals. Students will develop a portfolio of resources, demonstrations, recipes, and examples of various analytical techniques.</td>\n",
       "      <td>1.466475</td>\n",
       "    </tr>\n",
       "    <tr>\n",
       "      <th>2</th>\n",
       "      <td>IST 565</td>\n",
       "      <td>Data Mining</td>\n",
       "      <td>Introduction to data mining techniques, familiarity with particular real-world applications, challenges involved in these applications, and future directions of the field. Optional hands-on experience with commercially available software packages.</td>\n",
       "      <td>3.563526</td>\n",
       "    </tr>\n",
       "    <tr>\n",
       "      <th>3</th>\n",
       "      <td>IST 662</td>\n",
       "      <td>Instructional Strategies and Techniques for Information Professionals</td>\n",
       "      <td>Introduction to information literacy models for application to instruction in information organizations. Focus on strategies and techniques for designing, presenting, and evaluating information technology training and training materials for real clients.</td>\n",
       "      <td>4.127892</td>\n",
       "    </tr>\n",
       "    <tr>\n",
       "      <th>4</th>\n",
       "      <td>IST 601</td>\n",
       "      <td>Information and Information Environments</td>\n",
       "      <td>A broad overview of the field and an orientation to the School of Information Studies. Describes the past, present, and future of information studies.</td>\n",
       "      <td>4.191719</td>\n",
       "    </tr>\n",
       "    <tr>\n",
       "      <th>5</th>\n",
       "      <td>IST 971</td>\n",
       "      <td>Internship in Information Studies</td>\n",
       "      <td>Fully supervised internship experience. Prereq: IST masters students only. Must meet GPA requirements and complete a learning agreement with site supervisor.</td>\n",
       "      <td>4.472921</td>\n",
       "    </tr>\n",
       "    <tr>\n",
       "      <th>6</th>\n",
       "      <td>IST 621</td>\n",
       "      <td>Introduction to Information Management</td>\n",
       "      <td>Overview of general management concepts, IM implementation concerns and strategies, information life cycle management, and preparation for an IM career.</td>\n",
       "      <td>5.313011</td>\n",
       "    </tr>\n",
       "    <tr>\n",
       "      <th>7</th>\n",
       "      <td>IST 755</td>\n",
       "      <td>Strategic Management of Information Resources</td>\n",
       "      <td>Seminar. Integration of previous learning on the various components of management, user needs, and technologies. In-depth review and use of case studies on a range of critical information resources management areas.</td>\n",
       "      <td>5.401162</td>\n",
       "    </tr>\n",
       "    <tr>\n",
       "      <th>8</th>\n",
       "      <td>IST 736</td>\n",
       "      <td>Text Mining</td>\n",
       "      <td>Introduces concepts and methods for knowledge discovery from large amount of text data, and the application of text mining techniques for business intelligence, digital humanities, and social behavior analysis.</td>\n",
       "      <td>5.437381</td>\n",
       "    </tr>\n",
       "    <tr>\n",
       "      <th>9</th>\n",
       "      <td>IST 656</td>\n",
       "      <td>Telecommunications and Enterprise Network Management II</td>\n",
       "      <td>Hardware and software technologies in telecommunication and information networks. TCP/IP protocols. Design, maintenance and management.</td>\n",
       "      <td>5.590914</td>\n",
       "    </tr>\n",
       "  </tbody>\n",
       "</table>\n",
       "</div>"
      ],
      "text/plain": [
       "    course  \\\n",
       "0  IST 719   \n",
       "1  IST 718   \n",
       "2  IST 565   \n",
       "3  IST 662   \n",
       "4  IST 601   \n",
       "5  IST 971   \n",
       "6  IST 621   \n",
       "7  IST 755   \n",
       "8  IST 736   \n",
       "9  IST 656   \n",
       "\n",
       "                                                                   title  \\\n",
       "0  Information Visualization                                               \n",
       "1  Advanced Information Analytics                                          \n",
       "2  Data Mining                                                             \n",
       "3  Instructional Strategies and Techniques for Information Professionals   \n",
       "4  Information and Information Environments                                \n",
       "5  Internship in Information Studies                                       \n",
       "6  Introduction to Information Management                                  \n",
       "7  Strategic Management of Information Resources                           \n",
       "8  Text Mining                                                             \n",
       "9  Telecommunications and Enterprise Network Management II                 \n",
       "\n",
       "                                                                                                                                                                                                                                                      description  \\\n",
       "0  A broad introduction to data visualization for information professionals. Students will develop a portfolio of resources, demonstrations, recipes, and examples of various data visualization techniques.                                                        \n",
       "1  A broad introduction to analytical processing tools and techniques for information professionals. Students will develop a portfolio of resources, demonstrations, recipes, and examples of various analytical techniques.                                        \n",
       "2  Introduction to data mining techniques, familiarity with particular real-world applications, challenges involved in these applications, and future directions of the field. Optional hands-on experience with commercially available software packages.          \n",
       "3  Introduction to information literacy models for application to instruction in information organizations. Focus on strategies and techniques for designing, presenting, and evaluating information technology training and training materials for real clients.   \n",
       "4  A broad overview of the field and an orientation to the School of Information Studies. Describes the past, present, and future of information studies.                                                                                                           \n",
       "5  Fully supervised internship experience. Prereq: IST masters students only. Must meet GPA requirements and complete a learning agreement with site supervisor.                                                                                                    \n",
       "6  Overview of general management concepts, IM implementation concerns and strategies, information life cycle management, and preparation for an IM career.                                                                                                         \n",
       "7  Seminar. Integration of previous learning on the various components of management, user needs, and technologies. In-depth review and use of case studies on a range of critical information resources management areas.                                          \n",
       "8  Introduces concepts and methods for knowledge discovery from large amount of text data, and the application of text mining techniques for business intelligence, digital humanities, and social behavior analysis.                                               \n",
       "9  Hardware and software technologies in telecommunication and information networks. TCP/IP protocols. Design, maintenance and management.                                                                                                                          \n",
       "\n",
       "       dist  \n",
       "0  0.000000  \n",
       "1  1.466475  \n",
       "2  3.563526  \n",
       "3  4.127892  \n",
       "4  4.191719  \n",
       "5  4.472921  \n",
       "6  5.313011  \n",
       "7  5.401162  \n",
       "8  5.437381  \n",
       "9  5.590914  "
      ]
     },
     "metadata": {},
     "output_type": "display_data"
    }
   ],
   "source": [
    "if is_databricks():\n",
    "  pipeline_model.transform(im_courses).\\\n",
    "        where('course == \"IST 718\"').\\\n",
    "        select(fn.col(\"scores\").alias('ist718_scores')).\\\n",
    "        join(pipeline_model.transform(im_courses)).\\\n",
    "        withColumn('dist', l2_dist_udf('scores', 'ist718_scores')).\\\n",
    "        select(\"course\", \"description\", \"dist\").\\\n",
    "        orderBy(fn.asc(\"dist\")).\\\n",
    "        show(5, 80)  \n",
    "else:\n",
    "  display(pipeline_model.transform(im_courses).\\\n",
    "          where('course == \"IST 719\"').\\\n",
    "          select(fn.col(\"scores\").alias('ist718_scores')).\\\n",
    "          join(pipeline_model.transform(im_courses)).\\\n",
    "          withColumn('dist', l2_dist_udf('scores', 'ist718_scores')).\\\n",
    "          select(\"course\", \"title\",\"description\", \"dist\").\\\n",
    "          orderBy(fn.asc(\"dist\")).\\\n",
    "          limit(10).\\\n",
    "          toPandas())"
   ]
  },
  {
   "cell_type": "markdown",
   "metadata": {},
   "source": [
    "To Do:  Create a biplot"
   ]
  },
  {
   "cell_type": "code",
   "execution_count": 62,
   "metadata": {},
   "outputs": [],
   "source": [
    "def biplot(score, coeff, score_labels=None, col_labels=None):\n",
    "    xs = score[:,0]\n",
    "    ys = score[:,1]\n",
    "    n = coeff.shape[0]\n",
    "    scalex = 1.0/(xs.max() - xs.min())\n",
    "    scaley = 1.0/(ys.max() - ys.min())\n",
    "    \n",
    "    plt.scatter(xs * scalex, ys * scaley)\n",
    "    for i in range(n):\n",
    "        plt.arrow(0, 0, coeff[i,0], coeff[i,1],color = 'r',alpha = 0.5)\n",
    "        if col_labels is None:\n",
    "            plt.text(coeff[i,0]* 1.15, coeff[i,1] * 1.15, \"Var\"+str(i+1), color = 'g', ha = 'center', va = 'center')\n",
    "        else:\n",
    "            plt.text(coeff[i,0]* 1.15, coeff[i,1] * 1.15, col_labels[i], color = 'g', ha = 'center', va = 'center')\n",
    "    plt.xlim(-1,1)\n",
    "    plt.ylim(-1,1)\n",
    "    plt.xlabel(\"PC{}\".format(1))\n",
    "    plt.ylabel(\"PC{}\".format(2))\n",
    "    plt.grid()"
   ]
  },
  {
   "cell_type": "code",
   "execution_count": 63,
   "metadata": {},
   "outputs": [],
   "source": [
    "df = pipeline2_model.transform(im_courses)\n",
    "scores = np.array(df.select('scores').rdd.map(lambda x: x['scores']).collect())\n",
    "course_names = np.array(im_courses.select('course').rdd.map(lambda x: x['course']).collect())\n",
    "loadings = pipeline2_model.stages[-1].pc.toArray()"
   ]
  },
  {
   "cell_type": "code",
   "execution_count": 64,
   "metadata": {},
   "outputs": [
    {
     "name": "stdout",
     "output_type": "stream",
     "text": [
      "(34, 2)\n",
      "(34,)\n",
      "(357, 2)\n"
     ]
    }
   ],
   "source": [
    "print(scores.shape)\n",
    "print(course_names.shape)\n",
    "print(loadings.shape)\n",
    "#display(df.toPandas().head())"
   ]
  },
  {
   "cell_type": "code",
   "execution_count": 65,
   "metadata": {},
   "outputs": [],
   "source": [
    "#%matplotlib notebook\n",
    "#biplot(scores, loadings, score_labels=course_names)"
   ]
  }
 ],
 "metadata": {
  "anaconda-cloud": {},
  "kernelspec": {
   "display_name": "Python 3",
   "language": "python",
   "name": "python3"
  },
  "language_info": {
   "codemirror_mode": {
    "name": "ipython",
    "version": 3
   },
   "file_extension": ".py",
   "mimetype": "text/x-python",
   "name": "python",
   "nbconvert_exporter": "python",
   "pygments_lexer": "ipython3",
   "version": "3.7.4"
  },
  "name": "unit+08-unsupervised+learning",
  "notebookId": 1880941953554025,
  "toc": {
   "base_numbering": 1,
   "nav_menu": {},
   "number_sections": true,
   "sideBar": true,
   "skip_h1_title": false,
   "title_cell": "Table of Contents",
   "title_sidebar": "Contents",
   "toc_cell": false,
   "toc_position": {},
   "toc_section_display": true,
   "toc_window_display": false
  }
 },
 "nbformat": 4,
 "nbformat_minor": 1
}
