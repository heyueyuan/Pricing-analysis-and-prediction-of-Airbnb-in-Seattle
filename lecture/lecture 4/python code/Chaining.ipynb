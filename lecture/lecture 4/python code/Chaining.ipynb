{
 "cells": [
  {
   "cell_type": "markdown",
   "metadata": {},
   "source": [
    "The goal of this notebook is to demonstrate how data is passed from map to filter when we chain together operations.  For example, how is data passed from map to filter in the following:  `rdd.map(square).filter(less_than_30)`.  Start out by defining custom square and filter functions."
   ]
  },
  {
   "cell_type": "code",
   "execution_count": 1,
   "metadata": {},
   "outputs": [],
   "source": [
    "def square(el):\n",
    "    return el * el\n",
    "    \n",
    "def less_than_30(el):\n",
    "    if el < 30:\n",
    "        return True\n",
    "    else:\n",
    "        return False"
   ]
  },
  {
   "cell_type": "markdown",
   "metadata": {},
   "source": [
    "In the next cell, we define our own rdd class and define map and filter methods."
   ]
  },
  {
   "cell_type": "code",
   "execution_count": 2,
   "metadata": {},
   "outputs": [],
   "source": [
    "import numpy as np\n",
    "\n",
    "# define our own simple as possible rdd class\n",
    "class rdd:\n",
    "    def __init__(self, arg_array):\n",
    "        self.local_array = arg_array\n",
    "    \n",
    "    # define our own map function\n",
    "    def my_map(self, fun):\n",
    "        if len(self.local_array) < 1:\n",
    "            raise Exception(\"my_map: len(local_array) < 1\")\n",
    "        \n",
    "        # create a new numpy array to hold the result\n",
    "        # remember that rdd's are supposed to be immutable\n",
    "        mapped = np.empty_like(self.local_array)\n",
    "        \n",
    "        # for each element in the local array\n",
    "        for i, el in enumerate(self.local_array):\n",
    "            # execute the user defined function on this element\n",
    "            mapped[i] = fun(self.local_array[i])\n",
    "        \n",
    "        # This is the key to how the data is passed.  The return value is another rdd object!\n",
    "        # The fact that we are returning a new rdd is the key to how chaining works\n",
    "        # create a new rdd using the array created by applying the user defined function\n",
    "        return rdd(mapped)\n",
    "    \n",
    "    def my_filter(self, fun):\n",
    "        # create a temporary list to store the filtered results\n",
    "        transformed = []\n",
    "\n",
    "        for el in self.local_array:\n",
    "            if fun(el):\n",
    "                transformed.append(el)\n",
    "                \n",
    "        return rdd(np.array(transformed))\n",
    "    \n",
    "    def collect(self):\n",
    "        return self.local_array"
   ]
  },
  {
   "cell_type": "code",
   "execution_count": 6,
   "metadata": {},
   "outputs": [
    {
     "name": "stdout",
     "output_type": "stream",
     "text": [
      "map only:\n",
      " [ 4 16 36 64]\n",
      "map and filter:\n",
      " [ 4 16]\n"
     ]
    }
   ],
   "source": [
    "# create a my_rdd variable with a short list of numbers\n",
    "my_rdd = rdd(np.array([2,4,6,8]))\n",
    "\n",
    "# execute map and filter\n",
    "# Note that my_rdd.my_map(square) returns a temporary rdd.  We then execute the my_filter function on \n",
    "# the temporary rdd returned by my_map.\n",
    "print(\"map only:\\n\", my_rdd.my_map(square).collect())\n",
    "print(\"map and filter:\\n\", my_rdd.my_map(square).my_filter(less_than_30).collect())"
   ]
  },
  {
   "cell_type": "code",
   "execution_count": null,
   "metadata": {},
   "outputs": [],
   "source": []
  }
 ],
 "metadata": {
  "kernelspec": {
   "display_name": "Python 3",
   "language": "python",
   "name": "python3"
  },
  "language_info": {
   "codemirror_mode": {
    "name": "ipython",
    "version": 3
   },
   "file_extension": ".py",
   "mimetype": "text/x-python",
   "name": "python",
   "nbconvert_exporter": "python",
   "pygments_lexer": "ipython3",
   "version": "3.7.4"
  }
 },
 "nbformat": 4,
 "nbformat_minor": 2
}
