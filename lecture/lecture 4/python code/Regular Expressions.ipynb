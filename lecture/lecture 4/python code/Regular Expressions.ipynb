{
 "cells": [
  {
   "cell_type": "markdown",
   "metadata": {},
   "source": [
    "The cell below shows one way to extract a customer ID out of a string like you might find in a homework assignment.  This is what I would call a \"brute force\" method that uses direct string manipulation."
   ]
  },
  {
   "cell_type": "code",
   "execution_count": 63,
   "metadata": {},
   "outputs": [
    {
     "name": "stdout",
     "output_type": "stream",
     "text": [
      "int_cust_number: 1234\n"
     ]
    }
   ],
   "source": [
    "import numpy as np\n",
    "\n",
    "# create a test string\n",
    "test_str=\"<customer_feature customer_id=01234 feature_id=0>-0.57</customer_feature>\"\n",
    "\n",
    "# find the index of the '='\n",
    "index = test_str.find(\"=\")\n",
    "\n",
    "# increment the index one past the equals\n",
    "# we are now pointing at the first digit in the customer ID\n",
    "index = index + 1\n",
    "\n",
    "#create an empty list to store the digits\n",
    "cust_id_list = []\n",
    "\n",
    "# while the character at index is a digit\n",
    "while test_str[index].isdigit():\n",
    "    # append the digit to the custumor ID list\n",
    "    cust_id_list.append(test_str[index])\n",
    "    \n",
    "    # advance the index digit in the number\n",
    "    # or advance to the space after the last digit\n",
    "    index = index + 1    \n",
    "\n",
    "# convert the list of characters to a string\n",
    "str_cust_number = ''.join(cust_id_list)\n",
    "\n",
    "# convert the string to an integer\n",
    "int_cust_number = int(str_cust_number)\n",
    "\n",
    "print(\"int_cust_number:\", int_cust_number)"
   ]
  },
  {
   "cell_type": "markdown",
   "metadata": {},
   "source": [
    "## The history of grep"
   ]
  },
  {
   "cell_type": "markdown",
   "metadata": {},
   "source": [
    "A more elegant method of extracting data from input text is regular espressions.  According to wikipedia, a [regular expression](https://en.wikipedia.org/wiki/Regular_expression) is a sequence of characters that defines a search pattern.  The Unix grep program was one of the first widely used programs that used regular expressions.  In his book Mastering Regular Expressions, Jeffery Friedl says that the Unix grep program's origins come from an early text editor called \"ed\".  The ed text editor had a \"global regular expression print\" function that was capable of searching through lines in the text file using regular expressions.  It turns out that the global regular expression print function was so useful and popular, it we ported from the ed text editor into the unix program called grep.  The ed text editor died a long time ago but grep lives on to this day."
   ]
  },
  {
   "cell_type": "markdown",
   "metadata": {},
   "source": [
    "## Introduction To grep"
   ]
  },
  {
   "cell_type": "markdown",
   "metadata": {},
   "source": [
    "The following cells show some simple examples of how to use regular expressions in Python.  Note that the specific regular expression syntax for python is easier to learn than Unix grep.  It turns out that all programs that implement grep have their own syntax variation but there is a lot of similarity between grep programs.  For example, if you understand python regular expressions then you will understand Unix grep; notwithstanding, the syntax will be a little different between the two programs.\n",
    "\n",
    "Here is a [regex tutorial](https://www.guru99.com/python-regular-expressions-complete-tutorial.html), and another [regex tutorial](https://www.tutorialspoint.com/python/python_reg_expressions.htm).  "
   ]
  },
  {
   "cell_type": "code",
   "execution_count": 48,
   "metadata": {
    "scrolled": true
   },
   "outputs": [
    {
     "name": "stdout",
     "output_type": "stream",
     "text": [
      "line: A string with the word ist718\n",
      "line: Another string with the word ist718\n"
     ]
    }
   ],
   "source": [
    "# import the regular expression package\n",
    "import re\n",
    "\n",
    "# create a list containing strings\n",
    "string_list = [\"A string with the word ist718\", \"Another string with the word ist718\", \"A string without our class name\"]\n",
    "\n",
    "# Find all strings in string list that contain ist718\n",
    "for line in string_list:\n",
    "    match = re.search(\"ist718\", line)\n",
    "    if match:\n",
    "        print(\"line:\", line)"
   ]
  },
  {
   "cell_type": "markdown",
   "metadata": {},
   "source": [
    "The following cells introduces the notion of metacharacters.  Metacharacters are used to perform more flexible matches.  The next cell introduces the dot metacharacter.  The dot metacharacter matches any one character."
   ]
  },
  {
   "cell_type": "code",
   "execution_count": 64,
   "metadata": {
    "scrolled": true
   },
   "outputs": [
    {
     "name": "stdout",
     "output_type": "stream",
     "text": [
      "line: A string with the word ist718\n",
      "line: A string with our class name isq718 mispelled\n"
     ]
    }
   ],
   "source": [
    "# import the regular expression package\n",
    "import re\n",
    "\n",
    "# create a list containing strings with our class name.  \n",
    "string_list = [\"A string with the word ist718\", \"A string with our class name isq718 mispelled\", \n",
    "               \"Another string with our class name is718 mispelled\", \"A string without our class name\"]\n",
    "\n",
    "# Find all strings in string list that contain ist718\n",
    "for line in string_list:\n",
    "    # The '.' means match any one character\n",
    "    match = re.search(\"is.718\", line)\n",
    "    if match:\n",
    "        print(\"line:\", line)"
   ]
  },
  {
   "cell_type": "markdown",
   "metadata": {},
   "source": [
    "The cell below introduces the star operator.  The star operator means any number of matches.  For example, dot followed by star means match any character any number of times includeing 0 times."
   ]
  },
  {
   "cell_type": "code",
   "execution_count": 50,
   "metadata": {},
   "outputs": [
    {
     "name": "stdout",
     "output_type": "stream",
     "text": [
      "line: A string with the word istpr718\n",
      "line: A string with our class name isqsplmR1_718 mispelled\n",
      "line: Another string with our class name is718 mispelled\n"
     ]
    }
   ],
   "source": [
    "# import the regular expression package\n",
    "import re\n",
    "\n",
    "# create a list containing strings with our class name.  \n",
    "string_list = [\"A string with the word istpr718\", \"A string with our class name isqsplmR1_718 mispelled\", \n",
    "               \"Another string with our class name is718 mispelled\", \"A string without our class name\"]\n",
    "\n",
    "# Find all strings in string list that contain ist718\n",
    "for line in string_list:\n",
    "    # The '.' means match any one character\n",
    "    match = re.search(\"is.*718\", line)\n",
    "    if match:\n",
    "        print(\"line:\", line)"
   ]
  },
  {
   "cell_type": "markdown",
   "metadata": {},
   "source": [
    "The following cell introduces the question mark metacharacter which is used to match zero or one occurrence of a character."
   ]
  },
  {
   "cell_type": "code",
   "execution_count": 52,
   "metadata": {},
   "outputs": [
    {
     "name": "stdout",
     "output_type": "stream",
     "text": [
      "line: A string with the word is718\n",
      "line: A string with our class name ist718 mispelled\n"
     ]
    }
   ],
   "source": [
    "# import the regular expression package\n",
    "import re\n",
    "\n",
    "# create a list containing strings with our class name.  \n",
    "string_list = [\"A string with the word is718\", \"A string with our class name ist718 mispelled\", \n",
    "               \"Another string with our class name istt718 mispelled\", \"A string without our class name\"]\n",
    "\n",
    "# Find all strings in string list that contain ist718\n",
    "for line in string_list:\n",
    "    match = re.search(\"ist?718\", line)\n",
    "    if match:\n",
    "        print(\"line:\", line)"
   ]
  },
  {
   "cell_type": "markdown",
   "metadata": {},
   "source": [
    "The cell below shows how to detect numbers using the \\d metacharacter which is used to detect digits."
   ]
  },
  {
   "cell_type": "code",
   "execution_count": 65,
   "metadata": {
    "scrolled": true
   },
   "outputs": [
    {
     "name": "stdout",
     "output_type": "stream",
     "text": [
      "line: A string with the word ist718\n",
      "line: A string with our class name ist818 mispelled\n",
      "line: Another string with our class name ist918 mispelled\n"
     ]
    }
   ],
   "source": [
    "# import the regular expression package\n",
    "import re\n",
    "\n",
    "# create a list containing strings with our class name.  \n",
    "string_list = [\"A string with the word ist718\", \"A string with our class name ist818 mispelled\", \n",
    "               \"Another string with our class name ist918 mispelled\", \"A string without our class name\"]\n",
    "\n",
    "# Find all strings in string list that contain ist718\n",
    "for line in string_list:\n",
    "    match = re.search(\"ist\\d\", line)\n",
    "    if match:\n",
    "        print(\"line:\", line)"
   ]
  },
  {
   "cell_type": "markdown",
   "metadata": {},
   "source": [
    "In python, curly braces can be used to specify the number of times you want to match a character.  The first number in the curly braces specifies the minimum number of expected matches, and the 2nd number in the curly braces specifies the maximum number of expected matches.  For example, {1,5} specifies a minimum of one, and a maximum of 5 matches.  Note that if the minimum is omitted, it defaults to 0, and if the maximum is omitted, it defaults to infinity.  The cell below shows an example with digits.  Note that you might be surprised that the expression below matches 'ist718' because we specify a maximum of 2 matches.  However, note that 'ist71' is matched in the 'ist718' line.  This is typical of the kind of unexpected results you might get and illustrates why experimentation is "
   ]
  },
  {
   "cell_type": "code",
   "execution_count": 54,
   "metadata": {},
   "outputs": [
    {
     "name": "stdout",
     "output_type": "stream",
     "text": [
      "line: A string with our class name ist7 mispelled\n",
      "line: Another string with our class name ist71 mispelled\n",
      "line: A string with ist718\n"
     ]
    }
   ],
   "source": [
    "# import the regular expression package\n",
    "import re\n",
    "\n",
    "# create a list containing strings with our class name.  \n",
    "string_list = [\"A string with the word ist\", \"A string with our class name ist7 mispelled\", \n",
    "               \"Another string with our class name ist71 mispelled\", \"A string with ist718\"]\n",
    "\n",
    "# Find all strings in string list that contain ist718\n",
    "for line in string_list:\n",
    "    match = re.search(\"ist\\d{1,2}\", line)\n",
    "    if match:\n",
    "        print(\"line:\", line)"
   ]
  },
  {
   "cell_type": "markdown",
   "metadata": {},
   "source": [
    "The plus metacharacter is used to match one or more characters.  In the example below, ist followed by one or more characters is matched."
   ]
  },
  {
   "cell_type": "code",
   "execution_count": 55,
   "metadata": {
    "scrolled": true
   },
   "outputs": [
    {
     "name": "stdout",
     "output_type": "stream",
     "text": [
      "line: A string with our class name ist7 mispelled\n",
      "line: Another string with our class name ist71 mispelled\n",
      "line: A string with ist718\n"
     ]
    }
   ],
   "source": [
    "# import the regular expression package\n",
    "import re\n",
    "\n",
    "# create a list containing strings with our class name.  \n",
    "# \n",
    "string_list = [\"A string with the word ist\", \"A string with our class name ist7 mispelled\", \n",
    "               \"Another string with our class name ist71 mispelled\", \"A string with ist718\"]\n",
    "\n",
    "# Find all strings in string list that contain ist718\n",
    "for line in string_list:\n",
    "    match = re.search(\"ist\\d+\", line)\n",
    "    if match:\n",
    "        print(\"line:\", line)"
   ]
  },
  {
   "cell_type": "markdown",
   "metadata": {},
   "source": [
    "The square bracket operator is used to specify a range of numbers or letters to match."
   ]
  },
  {
   "cell_type": "code",
   "execution_count": 56,
   "metadata": {
    "scrolled": true
   },
   "outputs": [
    {
     "name": "stdout",
     "output_type": "stream",
     "text": [
      "found lower case letter\n",
      "found upper case letter\n",
      "no match found\n"
     ]
    }
   ],
   "source": [
    "# import the regular expression package\n",
    "import re\n",
    "\n",
    "# create a list containing strings with our class name.  \n",
    "# \n",
    "test_string_1 = \"1234a56789\"\n",
    "test_string_2 = \"1234B56789\"\n",
    "test_string_3 = \"123456789\"\n",
    "\n",
    "match = re.search(\"[a-zA-Z]\", test_string_1)\n",
    "if match:\n",
    "    print(\"found lower case letter\")\n",
    "    \n",
    "match = re.search(\"[a-zA-Z]\", test_string_2)\n",
    "if match:\n",
    "    print(\"found upper case letter\")\n",
    "    \n",
    "match = re.search(\"[a-zA-Z]\", test_string_3)\n",
    "if match:\n",
    "    print(\"found a match\")\n",
    "else:\n",
    "    print(\"no match found\")"
   ]
  },
  {
   "cell_type": "markdown",
   "metadata": {},
   "source": [
    "The cell below shows how to capture matched items in groups.  A group is designated with a pair of parenthesis. A match inside parenthesis is saved and can be extracted from the match object later.  The matches are stored in the match object in the same order as the parenthesis.  "
   ]
  },
  {
   "cell_type": "code",
   "execution_count": 57,
   "metadata": {},
   "outputs": [
    {
     "name": "stdout",
     "output_type": "stream",
     "text": [
      "match.groups(): ('25', '2298', '22')\n",
      "match.group(0): tag1 25 tag2 2298 tag3 22\n",
      "match.group(1): 25\n",
      "match.group(2): 2298\n",
      "match.group(3): 22\n"
     ]
    }
   ],
   "source": [
    "# import the regular expression package\n",
    "import re\n",
    "\n",
    "# create a list containing strings with our class name.  \n",
    "\n",
    "test_string = \"tag1 25 tag2 2298 tag3 22\"\n",
    "\n",
    "match = re.search(\"tag1 (\\d+) tag2 (\\d+) tag3 (\\d+)\", test_string)\n",
    "\n",
    "if match:\n",
    "    print(\"match.groups():\", match.groups())\n",
    "    print(\"match.group(0):\", match.group(0))\n",
    "    print(\"match.group(1):\", match.group(1))\n",
    "    print(\"match.group(2):\", match.group(2))\n",
    "    print(\"match.group(3):\", match.group(3))\n",
    "else:\n",
    "    print(\"No match\")"
   ]
  },
  {
   "cell_type": "markdown",
   "metadata": {},
   "source": [
    "The following cell shows how to extract the customer ID out of a string from your homework using regular expressions.  Can you add code to match and access the '-0.57'?"
   ]
  },
  {
   "cell_type": "code",
   "execution_count": 61,
   "metadata": {},
   "outputs": [
    {
     "name": "stdout",
     "output_type": "stream",
     "text": [
      "group 0:\n",
      " <customer_feature customer_id=1 feature_id=1030010>-0.57\n",
      "group 1:\n",
      " 1\n",
      "group 2:\n",
      " 1030010\n",
      "group 3:\n",
      " -0.57\n"
     ]
    }
   ],
   "source": [
    "# import the regular expression package\n",
    "import re\n",
    "\n",
    "# create a test string\n",
    "test_str=\"<customer_feature customer_id=1 feature_id=1030010>-0.57</customer_feature>\"\n",
    "\n",
    "# create a regex match pattern for the customer ID\n",
    "# The leading dot means match any one character\n",
    "# The dot star '.*' means match any number of characters\n",
    "# The '.*customer_id=' means match any number of characters followed by customer_id=\n",
    "# In '(\\d{1,})', the \\d means match a digit.  The {1,} following \\d means match from 1 to infinite digits.\n",
    "# The enclosing parenthesis in '(\\d{1,})' means to store the match in a group.  Since this is the first\n",
    "# set of parenthesis, this will be group 1.\n",
    "match_str = \".*customer_id=(\\d{1,}).*feature_id=(\\d{1,}).*\"\n",
    "match = re.search(match_str, test_str)\n",
    "\n",
    "# if the match was successful\n",
    "if match:\n",
    "    # the entire match is always group 0\n",
    "    print(\"group 0:\\n\", match.group(0))\n",
    "    \n",
    "    # the match stored in the first set of parenthesis\n",
    "    print(\"group 1:\\n\", match.group(1))\n",
    "    \n",
    "    # the match stored in the 2nd set of parenthesis\n",
    "    print(\"group 2:\\n\", match.group(2))\n",
    "    \n",
    "    # the match stored in the 3rd set of parenthesis (added by you)\n",
    "    print(\"group 3:\\n\", match.group(3))\n",
    "else:\n",
    "    print(\"No match found\")"
   ]
  },
  {
   "cell_type": "markdown",
   "metadata": {},
   "source": [
    "Up until now we have been using the `re.search` function.  The cell below shows how to extract customer feature numbers using `re.findall` technique.  The findall method returns all strings that match the regular expression in a list.  Note that there is also a `re.match` funciton that will match starting at the very beginning of the string.  The `re.search` function will match anywhere in the string being searched.  "
   ]
  },
  {
   "cell_type": "code",
   "execution_count": 61,
   "metadata": {},
   "outputs": [
    {
     "name": "stdout",
     "output_type": "stream",
     "text": [
      "numbers[0]: customer\n",
      "numbers[1]: customer\n",
      "numbers[2]: -0.57\n"
     ]
    }
   ],
   "source": [
    "# create a test string - same test string as above\n",
    "test_str=\"<customer_feature customer_id=1 feature_id=1030010>-0.57</customer_feature>\"\n",
    "\n",
    "# the following expression uses the OR operator which is the pipe character ('|').\n",
    "# It searches for the word customer OR a floating point number\n",
    "# Note that the period '.' is a special operator in regular expressions and matches ANY character.  \n",
    "# So, to look for a period, we search for '\\.'.  The backslash in front of the period tells findall\n",
    "# to actually look for a period and don't interpret it as a special operator.\n",
    "# Notice how 2 'customer' words are returned.  Findall returns all matches found.\n",
    "# The string '-?\\d{0,}\\.\\d{1,}' says look for 0 or more negative signs (-?), followed by zero or more\n",
    "# digits (\\d{0,}), followed by a period ('\\.'), followed by one or more digits.\n",
    "# Can you modify the regex below to look for integers and floats?\n",
    "numbers = re.findall('customer|-?\\d{0,}\\.\\d{1,}', test_str) \n",
    "\n",
    "if match:\n",
    "    print(\"numbers[0]:\", numbers[0])\n",
    "    print(\"numbers[1]:\", numbers[1])\n",
    "    print(\"numbers[2]:\", numbers[2])\n",
    "else:\n",
    "    print(\"No matches found\")"
   ]
  },
  {
   "cell_type": "markdown",
   "metadata": {},
   "source": [
    "Here is a useful [stackoverflow post](https://stackoverflow.com/questions/4703390/how-to-extract-a-floating-number-from-a-string) on extracting floats and ints from data."
   ]
  }
 ],
 "metadata": {
  "kernelspec": {
   "display_name": "Python 3",
   "language": "python",
   "name": "python3"
  },
  "language_info": {
   "codemirror_mode": {
    "name": "ipython",
    "version": 3
   },
   "file_extension": ".py",
   "mimetype": "text/x-python",
   "name": "python",
   "nbconvert_exporter": "python",
   "pygments_lexer": "ipython3",
   "version": "3.7.4"
  }
 },
 "nbformat": 4,
 "nbformat_minor": 2
}
