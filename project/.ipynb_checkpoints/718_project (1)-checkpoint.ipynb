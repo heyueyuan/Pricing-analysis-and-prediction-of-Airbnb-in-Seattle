{
 "cells": [
  {
   "cell_type": "code",
   "execution_count": 6,
   "metadata": {},
   "outputs": [
    {
     "ename": "ImportError",
     "evalue": "cannot import name 'SparkSession' from 'pyspark' (/Users/mark/anaconda3/lib/python3.7/site-packages/pyspark/__init__.py)",
     "output_type": "error",
     "traceback": [
      "\u001b[0;31m---------------------------------------------------------------------------\u001b[0m",
      "\u001b[0;31mImportError\u001b[0m                               Traceback (most recent call last)",
      "\u001b[0;32m<ipython-input-6-5d680f4b4203>\u001b[0m in \u001b[0;36m<module>\u001b[0;34m\u001b[0m\n\u001b[0;32m----> 1\u001b[0;31m \u001b[0;32mfrom\u001b[0m \u001b[0mpyspark\u001b[0m \u001b[0;32mimport\u001b[0m \u001b[0mSparkConf\u001b[0m\u001b[0;34m,\u001b[0m \u001b[0mSparkContext\u001b[0m\u001b[0;34m,\u001b[0m\u001b[0mSparkSession\u001b[0m\u001b[0;34m\u001b[0m\u001b[0;34m\u001b[0m\u001b[0m\n\u001b[0m\u001b[1;32m      2\u001b[0m \u001b[0msc\u001b[0m \u001b[0;34m=\u001b[0m \u001b[0mSparkContext\u001b[0m\u001b[0;34m(\u001b[0m\u001b[0;34m'local'\u001b[0m\u001b[0;34m)\u001b[0m\u001b[0;34m\u001b[0m\u001b[0;34m\u001b[0m\u001b[0m\n\u001b[1;32m      3\u001b[0m \u001b[0mspark\u001b[0m \u001b[0;34m=\u001b[0m \u001b[0mSparkSession\u001b[0m\u001b[0;34m(\u001b[0m\u001b[0msc\u001b[0m\u001b[0;34m)\u001b[0m\u001b[0;34m\u001b[0m\u001b[0;34m\u001b[0m\u001b[0m\n",
      "\u001b[0;31mImportError\u001b[0m: cannot import name 'SparkSession' from 'pyspark' (/Users/mark/anaconda3/lib/python3.7/site-packages/pyspark/__init__.py)"
     ]
    }
   ],
   "source": [
    "from pyspark import SparkConf, SparkContext,SparkSession\n",
    "conf = SparkConf().setAppName(appName).setMaster(master)\n",
    "sc = SparkContext(conf=conf)"
   ]
  },
  {
   "cell_type": "markdown",
   "metadata": {
    "colab_type": "text",
    "id": "BcZmk0xfxLah"
   },
   "source": [
    "Load Module"
   ]
  },
  {
   "cell_type": "code",
   "execution_count": 1,
   "metadata": {
    "colab": {},
    "colab_type": "code",
    "id": "RaY1mvHzxCT2"
   },
   "outputs": [],
   "source": [
    "import numpy as np\n",
    "import pandas as pd\n",
    "import matplotlib.pyplot as plt\n",
    "import seaborn as sns\n",
    "from pyspark.sql.functions import isnan, isnull, when, count, col"
   ]
  },
  {
   "cell_type": "markdown",
   "metadata": {
    "colab_type": "text",
    "id": "NPF7YNEcndbX"
   },
   "source": [
    "Create data repository decorator"
   ]
  },
  {
   "cell_type": "code",
   "execution_count": 2,
   "metadata": {
    "colab": {},
    "colab_type": "code",
    "id": "a5_XK8zw0zem"
   },
   "outputs": [],
   "source": [
    "import csv\n",
    "import pandas as pd\n",
    "\n",
    "from collections.abc import Iterable\n",
    "import pyspark.sql.functions as fn\n",
    "\n",
    "def train_test_dataset_repository(path, target, features=None):\n",
    "  param_features = features\n",
    "  if target is None:\n",
    "    raise AttributeError(\"Parameter 'target' missing! \")\n",
    "  def build_dataset(func):\n",
    "    def wrapper_func(self):\n",
    "      # Raw data\n",
    "      raw_data = spark.read\\\n",
    "        .option(\"header\", \"true\")\\\n",
    "        .option(\"multiLine\", \"true\")\\\n",
    "        .option('inferSchema', 'true')\\\n",
    "        .option('escape', '\"')\\\n",
    "        .csv(path)\n",
    "      columns = raw_data.schema.names\n",
    "\n",
    "      # Select features\n",
    "      features = param_features\n",
    "      if features is None:\n",
    "        features = columns\n",
    "      if not isinstance(features, Iterable):\n",
    "        features = [features]\n",
    "      features.remove(target)\n",
    "\n",
    "      # Recording raw_data\n",
    "      self._raw_data = raw_data\n",
    "      # Recording configuration\n",
    "      self._config = dict({\n",
    "          'path': path,\n",
    "          'features': features,\n",
    "          'target': target,\n",
    "      })\n",
    "\n",
    "      # Build X, Y\n",
    "      return reset_dataset_from_raw(func)(self)\n",
    "    return wrapper_func\n",
    "  return build_dataset\n",
    "\n",
    "def reset_dataset_from_raw(func):\n",
    "  def wrapper_func(self):\n",
    "    raw_data = self._raw_data\n",
    "    # Restore config\n",
    "    features = self._config['features']\n",
    "    target = self._config['target']\n",
    "\n",
    "    \n",
    "    X = raw_data.select([fn.col(col_name) for col_name in features])\n",
    "    Y = raw_data.select(fn.col(target))\n",
    "    self._X = X\n",
    "    self._Y = Y\n",
    "\n",
    "    train_data, test_data = raw_data.randomSplit([0.7, 0.3])\n",
    "    self._train_X = train_data.select([fn.col(col_name) for col_name in features])\n",
    "    self._train_Y = train_data.select(fn.col(target))\n",
    "    self._test_X = test_data.select([fn.col(col_name) for col_name in features])\n",
    "    self._test_Y = test_data.select(fn.col(target))\n",
    "\n",
    "    return func(self)\n",
    "  return wrapper_func\n",
    "\n"
   ]
  },
  {
   "cell_type": "markdown",
   "metadata": {
    "colab_type": "text",
    "id": "L2ApdKLXnoed"
   },
   "source": [
    "Create data object, fill the raw/train/test data."
   ]
  },
  {
   "cell_type": "code",
   "execution_count": 3,
   "metadata": {
    "colab": {},
    "colab_type": "code",
    "id": "4QDlxabenti8"
   },
   "outputs": [],
   "source": [
    "def warning(msg):\n",
    "  flag = True\n",
    "  def inject(func):\n",
    "    def wrapper_func(self):\n",
    "      x = 'Y'\n",
    "      if flag:\n",
    "        x = input(f\"{func.__name__}是{msg}，确定要用？(Y/N)\")\n",
    "      if 'Y' == x:\n",
    "        return func(self)\n",
    "      raise PermissionError(f\"{func.__name__}是{msg}，不能随便用！\")\n",
    "    return wrapper_func\n",
    "  return inject\n",
    "\n",
    "class Data:\n",
    "  @train_test_dataset_repository('listings.csv', 'price')\n",
    "  def __init__(self):\n",
    "    pass\n",
    "  @property\n",
    "  @warning(\"原始未分割数据\")\n",
    "  def raw_data(self):\n",
    "    return self._raw_data\n",
    "  @property\n",
    "  @warning(\"原始自变量\")\n",
    "  def X(self):\n",
    "    return self._X\n",
    "  @property\n",
    "  @warning(\"原始应变量\")\n",
    "  def Y(self):\n",
    "    return self._Y\n",
    "  @property\n",
    "  def train_X(self):\n",
    "    return self._train_X\n",
    "  @property\n",
    "  def train_Y(self):\n",
    "    return self._train_Y\n",
    "  @property\n",
    "  @warning(\"测试自变量\")\n",
    "  def test_X(self):\n",
    "    return self._test_X\n",
    "  @property\n",
    "  @warning(\"测试应变量\")\n",
    "  def test_Y(self):\n",
    "    return self._test_Y\n",
    "\n"
   ]
  },
  {
   "cell_type": "markdown",
   "metadata": {
    "colab_type": "text",
    "id": "AkTfWj7V_5rQ"
   },
   "source": [
    "# EDA and Data Imputation"
   ]
  },
  {
   "cell_type": "markdown",
   "metadata": {
    "colab_type": "text",
    "id": "P6zcGsLil9My"
   },
   "source": [
    "We will explore the whole dataset during the EDA. "
   ]
  },
  {
   "cell_type": "code",
   "execution_count": 4,
   "metadata": {
    "colab": {},
    "colab_type": "code",
    "id": "icMTaZsEl9y1"
   },
   "outputs": [
    {
     "ename": "NameError",
     "evalue": "name 'spark' is not defined",
     "output_type": "error",
     "traceback": [
      "\u001b[0;31m---------------------------------------------------------------------------\u001b[0m",
      "\u001b[0;31mNameError\u001b[0m                                 Traceback (most recent call last)",
      "\u001b[0;32m<ipython-input-4-81708ccee485>\u001b[0m in \u001b[0;36m<module>\u001b[0;34m\u001b[0m\n\u001b[1;32m      1\u001b[0m \u001b[0;32mfrom\u001b[0m \u001b[0mpyspark\u001b[0m\u001b[0;34m.\u001b[0m\u001b[0msql\u001b[0m\u001b[0;34m.\u001b[0m\u001b[0mdataframe\u001b[0m \u001b[0;32mimport\u001b[0m \u001b[0mDataFrame\u001b[0m\u001b[0;34m\u001b[0m\u001b[0;34m\u001b[0m\u001b[0m\n\u001b[1;32m      2\u001b[0m \u001b[0;34m\u001b[0m\u001b[0m\n\u001b[0;32m----> 3\u001b[0;31m \u001b[0mdf\u001b[0m \u001b[0;34m=\u001b[0m \u001b[0mData\u001b[0m\u001b[0;34m(\u001b[0m\u001b[0;34m)\u001b[0m\u001b[0;34m.\u001b[0m\u001b[0mraw_data\u001b[0m\u001b[0;34m\u001b[0m\u001b[0;34m\u001b[0m\u001b[0m\n\u001b[0m",
      "\u001b[0;32m<ipython-input-2-0b7e21b39956>\u001b[0m in \u001b[0;36mwrapper_func\u001b[0;34m(self)\u001b[0m\n\u001b[1;32m     12\u001b[0m     \u001b[0;32mdef\u001b[0m \u001b[0mwrapper_func\u001b[0m\u001b[0;34m(\u001b[0m\u001b[0mself\u001b[0m\u001b[0;34m)\u001b[0m\u001b[0;34m:\u001b[0m\u001b[0;34m\u001b[0m\u001b[0;34m\u001b[0m\u001b[0m\n\u001b[1;32m     13\u001b[0m       \u001b[0;31m# Raw data\u001b[0m\u001b[0;34m\u001b[0m\u001b[0;34m\u001b[0m\u001b[0;34m\u001b[0m\u001b[0m\n\u001b[0;32m---> 14\u001b[0;31m       \u001b[0mraw_data\u001b[0m \u001b[0;34m=\u001b[0m \u001b[0mspark\u001b[0m\u001b[0;34m.\u001b[0m\u001b[0mread\u001b[0m\u001b[0;31m\\\u001b[0m\u001b[0;34m\u001b[0m\u001b[0;34m\u001b[0m\u001b[0m\n\u001b[0m\u001b[1;32m     15\u001b[0m         \u001b[0;34m.\u001b[0m\u001b[0moption\u001b[0m\u001b[0;34m(\u001b[0m\u001b[0;34m\"header\"\u001b[0m\u001b[0;34m,\u001b[0m \u001b[0;34m\"true\"\u001b[0m\u001b[0;34m)\u001b[0m\u001b[0;31m\\\u001b[0m\u001b[0;34m\u001b[0m\u001b[0;34m\u001b[0m\u001b[0m\n\u001b[1;32m     16\u001b[0m         \u001b[0;34m.\u001b[0m\u001b[0moption\u001b[0m\u001b[0;34m(\u001b[0m\u001b[0;34m\"multiLine\"\u001b[0m\u001b[0;34m,\u001b[0m \u001b[0;34m\"true\"\u001b[0m\u001b[0;34m)\u001b[0m\u001b[0;31m\\\u001b[0m\u001b[0;34m\u001b[0m\u001b[0;34m\u001b[0m\u001b[0m\n",
      "\u001b[0;31mNameError\u001b[0m: name 'spark' is not defined"
     ]
    }
   ],
   "source": [
    "from pyspark.sql.dataframe import DataFrame\n",
    "\n",
    "df = Data().raw_data"
   ]
  },
  {
   "cell_type": "markdown",
   "metadata": {
    "colab_type": "text",
    "id": "8hlwJ8OH4XVR"
   },
   "source": [
    "## Numerical Data Cleaning"
   ]
  },
  {
   "cell_type": "markdown",
   "metadata": {
    "colab_type": "text",
    "id": "X2AzLRdl5lmT"
   },
   "source": [
    "### Convert values in columns from string to number"
   ]
  },
  {
   "cell_type": "markdown",
   "metadata": {
    "colab_type": "text",
    "id": "HwoEvaeM5yoC"
   },
   "source": [
    "- Display the type of each column"
   ]
  },
  {
   "cell_type": "code",
   "execution_count": 19,
   "metadata": {
    "colab": {
     "base_uri": "https://localhost:8080/",
     "height": 1000
    },
    "colab_type": "code",
    "id": "vAfLBuhD4e5b",
    "outputId": "9cb11e25-5f73-4cd5-92f4-690f17477055"
   },
   "outputs": [
    {
     "name": "stdout",
     "output_type": "stream",
     "text": [
      "root\n",
      " |-- id: integer (nullable = true)\n",
      " |-- listing_url: string (nullable = true)\n",
      " |-- scrape_id: long (nullable = true)\n",
      " |-- last_scraped: timestamp (nullable = true)\n",
      " |-- name: string (nullable = true)\n",
      " |-- summary: string (nullable = true)\n",
      " |-- space: string (nullable = true)\n",
      " |-- description: string (nullable = true)\n",
      " |-- experiences_offered: string (nullable = true)\n",
      " |-- neighborhood_overview: string (nullable = true)\n",
      " |-- notes: string (nullable = true)\n",
      " |-- transit: string (nullable = true)\n",
      " |-- access: string (nullable = true)\n",
      " |-- interaction: string (nullable = true)\n",
      " |-- house_rules: string (nullable = true)\n",
      " |-- thumbnail_url: string (nullable = true)\n",
      " |-- medium_url: string (nullable = true)\n",
      " |-- picture_url: string (nullable = true)\n",
      " |-- xl_picture_url: string (nullable = true)\n",
      " |-- host_id: integer (nullable = true)\n",
      " |-- host_url: string (nullable = true)\n",
      " |-- host_name: string (nullable = true)\n",
      " |-- host_since: timestamp (nullable = true)\n",
      " |-- host_location: string (nullable = true)\n",
      " |-- host_about: string (nullable = true)\n",
      " |-- host_response_time: string (nullable = true)\n",
      " |-- host_response_rate: string (nullable = true)\n",
      " |-- host_acceptance_rate: string (nullable = true)\n",
      " |-- host_is_superhost: string (nullable = true)\n",
      " |-- host_thumbnail_url: string (nullable = true)\n",
      " |-- host_picture_url: string (nullable = true)\n",
      " |-- host_neighbourhood: string (nullable = true)\n",
      " |-- host_listings_count: integer (nullable = true)\n",
      " |-- host_total_listings_count: integer (nullable = true)\n",
      " |-- host_verifications: string (nullable = true)\n",
      " |-- host_has_profile_pic: string (nullable = true)\n",
      " |-- host_identity_verified: string (nullable = true)\n",
      " |-- street: string (nullable = true)\n",
      " |-- neighbourhood: string (nullable = true)\n",
      " |-- neighbourhood_cleansed: string (nullable = true)\n",
      " |-- neighbourhood_group_cleansed: string (nullable = true)\n",
      " |-- city: string (nullable = true)\n",
      " |-- state: string (nullable = true)\n",
      " |-- zipcode: string (nullable = true)\n",
      " |-- market: string (nullable = true)\n",
      " |-- smart_location: string (nullable = true)\n",
      " |-- country_code: string (nullable = true)\n",
      " |-- country: string (nullable = true)\n",
      " |-- latitude: double (nullable = true)\n",
      " |-- longitude: double (nullable = true)\n",
      " |-- is_location_exact: string (nullable = true)\n",
      " |-- property_type: string (nullable = true)\n",
      " |-- room_type: string (nullable = true)\n",
      " |-- accommodates: integer (nullable = true)\n",
      " |-- bathrooms: double (nullable = true)\n",
      " |-- bedrooms: integer (nullable = true)\n",
      " |-- beds: integer (nullable = true)\n",
      " |-- bed_type: string (nullable = true)\n",
      " |-- amenities: string (nullable = true)\n",
      " |-- square_feet: integer (nullable = true)\n",
      " |-- price: string (nullable = true)\n",
      " |-- weekly_price: string (nullable = true)\n",
      " |-- monthly_price: string (nullable = true)\n",
      " |-- security_deposit: string (nullable = true)\n",
      " |-- cleaning_fee: string (nullable = true)\n",
      " |-- guests_included: integer (nullable = true)\n",
      " |-- extra_people: string (nullable = true)\n",
      " |-- minimum_nights: integer (nullable = true)\n",
      " |-- maximum_nights: integer (nullable = true)\n",
      " |-- minimum_minimum_nights: integer (nullable = true)\n",
      " |-- maximum_minimum_nights: integer (nullable = true)\n",
      " |-- minimum_maximum_nights: integer (nullable = true)\n",
      " |-- maximum_maximum_nights: integer (nullable = true)\n",
      " |-- minimum_nights_avg_ntm: double (nullable = true)\n",
      " |-- maximum_nights_avg_ntm: double (nullable = true)\n",
      " |-- calendar_updated: string (nullable = true)\n",
      " |-- has_availability: string (nullable = true)\n",
      " |-- availability_30: integer (nullable = true)\n",
      " |-- availability_60: integer (nullable = true)\n",
      " |-- availability_90: integer (nullable = true)\n",
      " |-- availability_365: integer (nullable = true)\n",
      " |-- calendar_last_scraped: timestamp (nullable = true)\n",
      " |-- number_of_reviews: integer (nullable = true)\n",
      " |-- number_of_reviews_ltm: integer (nullable = true)\n",
      " |-- first_review: timestamp (nullable = true)\n",
      " |-- last_review: timestamp (nullable = true)\n",
      " |-- review_scores_rating: integer (nullable = true)\n",
      " |-- review_scores_accuracy: integer (nullable = true)\n",
      " |-- review_scores_cleanliness: integer (nullable = true)\n",
      " |-- review_scores_checkin: integer (nullable = true)\n",
      " |-- review_scores_communication: integer (nullable = true)\n",
      " |-- review_scores_location: integer (nullable = true)\n",
      " |-- review_scores_value: integer (nullable = true)\n",
      " |-- requires_license: string (nullable = true)\n",
      " |-- license: string (nullable = true)\n",
      " |-- jurisdiction_names: string (nullable = true)\n",
      " |-- instant_bookable: string (nullable = true)\n",
      " |-- is_business_travel_ready: string (nullable = true)\n",
      " |-- cancellation_policy: string (nullable = true)\n",
      " |-- require_guest_profile_picture: string (nullable = true)\n",
      " |-- require_guest_phone_verification: string (nullable = true)\n",
      " |-- calculated_host_listings_count: integer (nullable = true)\n",
      " |-- calculated_host_listings_count_entire_homes: integer (nullable = true)\n",
      " |-- calculated_host_listings_count_private_rooms: integer (nullable = true)\n",
      " |-- calculated_host_listings_count_shared_rooms: integer (nullable = true)\n",
      " |-- reviews_per_month: double (nullable = true)\n",
      "\n"
     ]
    }
   ],
   "source": [
    "df.printSchema()"
   ]
  },
  {
   "cell_type": "markdown",
   "metadata": {
    "colab_type": "text",
    "id": "hORW6ywl6LSz"
   },
   "source": [
    "- Select boolean columns"
   ]
  },
  {
   "cell_type": "code",
   "execution_count": 20,
   "metadata": {
    "colab": {
     "base_uri": "https://localhost:8080/",
     "height": 359
    },
    "colab_type": "code",
    "id": "CA6SxxOz6NbX",
    "outputId": "f318f6fd-7be0-4435-db5a-076ad845e79c"
   },
   "outputs": [
    {
     "data": {
      "text/html": [
       "<div>\n",
       "<style scoped>\n",
       "    .dataframe tbody tr th:only-of-type {\n",
       "        vertical-align: middle;\n",
       "    }\n",
       "\n",
       "    .dataframe tbody tr th {\n",
       "        vertical-align: top;\n",
       "    }\n",
       "\n",
       "    .dataframe thead th {\n",
       "        text-align: right;\n",
       "    }\n",
       "</style>\n",
       "<table border=\"1\" class=\"dataframe\">\n",
       "  <thead>\n",
       "    <tr style=\"text-align: right;\">\n",
       "      <th></th>\n",
       "      <th>0</th>\n",
       "      <th>1</th>\n",
       "      <th>2</th>\n",
       "      <th>3</th>\n",
       "      <th>4</th>\n",
       "    </tr>\n",
       "  </thead>\n",
       "  <tbody>\n",
       "    <tr>\n",
       "      <th>host_is_superhost</th>\n",
       "      <td>t</td>\n",
       "      <td>f</td>\n",
       "      <td>f</td>\n",
       "      <td>t</td>\n",
       "      <td>t</td>\n",
       "    </tr>\n",
       "    <tr>\n",
       "      <th>host_has_profile_pic</th>\n",
       "      <td>t</td>\n",
       "      <td>t</td>\n",
       "      <td>t</td>\n",
       "      <td>t</td>\n",
       "      <td>t</td>\n",
       "    </tr>\n",
       "    <tr>\n",
       "      <th>host_identity_verified</th>\n",
       "      <td>f</td>\n",
       "      <td>t</td>\n",
       "      <td>t</td>\n",
       "      <td>t</td>\n",
       "      <td>f</td>\n",
       "    </tr>\n",
       "    <tr>\n",
       "      <th>is_location_exact</th>\n",
       "      <td>t</td>\n",
       "      <td>t</td>\n",
       "      <td>t</td>\n",
       "      <td>t</td>\n",
       "      <td>t</td>\n",
       "    </tr>\n",
       "    <tr>\n",
       "      <th>has_availability</th>\n",
       "      <td>t</td>\n",
       "      <td>t</td>\n",
       "      <td>t</td>\n",
       "      <td>t</td>\n",
       "      <td>t</td>\n",
       "    </tr>\n",
       "    <tr>\n",
       "      <th>requires_license</th>\n",
       "      <td>t</td>\n",
       "      <td>t</td>\n",
       "      <td>t</td>\n",
       "      <td>t</td>\n",
       "      <td>t</td>\n",
       "    </tr>\n",
       "    <tr>\n",
       "      <th>instant_bookable</th>\n",
       "      <td>t</td>\n",
       "      <td>f</td>\n",
       "      <td>f</td>\n",
       "      <td>f</td>\n",
       "      <td>t</td>\n",
       "    </tr>\n",
       "    <tr>\n",
       "      <th>is_business_travel_ready</th>\n",
       "      <td>f</td>\n",
       "      <td>f</td>\n",
       "      <td>f</td>\n",
       "      <td>f</td>\n",
       "      <td>f</td>\n",
       "    </tr>\n",
       "    <tr>\n",
       "      <th>require_guest_profile_picture</th>\n",
       "      <td>f</td>\n",
       "      <td>f</td>\n",
       "      <td>f</td>\n",
       "      <td>t</td>\n",
       "      <td>f</td>\n",
       "    </tr>\n",
       "    <tr>\n",
       "      <th>require_guest_phone_verification</th>\n",
       "      <td>f</td>\n",
       "      <td>t</td>\n",
       "      <td>f</td>\n",
       "      <td>t</td>\n",
       "      <td>f</td>\n",
       "    </tr>\n",
       "  </tbody>\n",
       "</table>\n",
       "</div>"
      ],
      "text/plain": [
       "                                  0  1  2  3  4\n",
       "host_is_superhost                 t  f  f  t  t\n",
       "host_has_profile_pic              t  t  t  t  t\n",
       "host_identity_verified            f  t  t  t  f\n",
       "is_location_exact                 t  t  t  t  t\n",
       "has_availability                  t  t  t  t  t\n",
       "requires_license                  t  t  t  t  t\n",
       "instant_bookable                  t  f  f  f  t\n",
       "is_business_travel_ready          f  f  f  f  f\n",
       "require_guest_profile_picture     f  f  f  t  f\n",
       "require_guest_phone_verification  f  t  f  t  f"
      ]
     },
     "execution_count": 20,
     "metadata": {
      "tags": []
     },
     "output_type": "execute_result"
    }
   ],
   "source": [
    "bool_columns = ['host_is_superhost', \n",
    "                    'host_has_profile_pic', \n",
    "                    'host_identity_verified', \n",
    "                    'is_location_exact', \n",
    "                    'has_availability', \n",
    "                    'requires_license', \n",
    "                    'instant_bookable', \n",
    "                    'is_business_travel_ready', \n",
    "                    'require_guest_profile_picture', \n",
    "                    'require_guest_phone_verification']\n",
    "df_bool = df.select(bool_columns)\n",
    "df_bool.limit(5).toPandas().T"
   ]
  },
  {
   "cell_type": "markdown",
   "metadata": {
    "colab_type": "text",
    "id": "JlWlQqqRB09H"
   },
   "source": [
    "- Replace t to 1, and f to 0 respectively"
   ]
  },
  {
   "cell_type": "code",
   "execution_count": 22,
   "metadata": {
    "colab": {
     "base_uri": "https://localhost:8080/",
     "height": 359
    },
    "colab_type": "code",
    "id": "zWvZm7saB5-F",
    "outputId": "2a77e36d-f7f8-4ac6-f720-7ab4128a3024"
   },
   "outputs": [
    {
     "data": {
      "text/html": [
       "<div>\n",
       "<style scoped>\n",
       "    .dataframe tbody tr th:only-of-type {\n",
       "        vertical-align: middle;\n",
       "    }\n",
       "\n",
       "    .dataframe tbody tr th {\n",
       "        vertical-align: top;\n",
       "    }\n",
       "\n",
       "    .dataframe thead th {\n",
       "        text-align: right;\n",
       "    }\n",
       "</style>\n",
       "<table border=\"1\" class=\"dataframe\">\n",
       "  <thead>\n",
       "    <tr style=\"text-align: right;\">\n",
       "      <th></th>\n",
       "      <th>0</th>\n",
       "      <th>1</th>\n",
       "      <th>2</th>\n",
       "      <th>3</th>\n",
       "      <th>4</th>\n",
       "    </tr>\n",
       "  </thead>\n",
       "  <tbody>\n",
       "    <tr>\n",
       "      <th>host_is_superhost</th>\n",
       "      <td>1</td>\n",
       "      <td>0</td>\n",
       "      <td>0</td>\n",
       "      <td>1</td>\n",
       "      <td>1</td>\n",
       "    </tr>\n",
       "    <tr>\n",
       "      <th>host_has_profile_pic</th>\n",
       "      <td>1</td>\n",
       "      <td>1</td>\n",
       "      <td>1</td>\n",
       "      <td>1</td>\n",
       "      <td>1</td>\n",
       "    </tr>\n",
       "    <tr>\n",
       "      <th>host_identity_verified</th>\n",
       "      <td>0</td>\n",
       "      <td>1</td>\n",
       "      <td>1</td>\n",
       "      <td>1</td>\n",
       "      <td>0</td>\n",
       "    </tr>\n",
       "    <tr>\n",
       "      <th>is_location_exact</th>\n",
       "      <td>1</td>\n",
       "      <td>1</td>\n",
       "      <td>1</td>\n",
       "      <td>1</td>\n",
       "      <td>1</td>\n",
       "    </tr>\n",
       "    <tr>\n",
       "      <th>has_availability</th>\n",
       "      <td>1</td>\n",
       "      <td>1</td>\n",
       "      <td>1</td>\n",
       "      <td>1</td>\n",
       "      <td>1</td>\n",
       "    </tr>\n",
       "    <tr>\n",
       "      <th>requires_license</th>\n",
       "      <td>1</td>\n",
       "      <td>1</td>\n",
       "      <td>1</td>\n",
       "      <td>1</td>\n",
       "      <td>1</td>\n",
       "    </tr>\n",
       "    <tr>\n",
       "      <th>instant_bookable</th>\n",
       "      <td>1</td>\n",
       "      <td>0</td>\n",
       "      <td>0</td>\n",
       "      <td>0</td>\n",
       "      <td>1</td>\n",
       "    </tr>\n",
       "    <tr>\n",
       "      <th>is_business_travel_ready</th>\n",
       "      <td>0</td>\n",
       "      <td>0</td>\n",
       "      <td>0</td>\n",
       "      <td>0</td>\n",
       "      <td>0</td>\n",
       "    </tr>\n",
       "    <tr>\n",
       "      <th>require_guest_profile_picture</th>\n",
       "      <td>0</td>\n",
       "      <td>0</td>\n",
       "      <td>0</td>\n",
       "      <td>1</td>\n",
       "      <td>0</td>\n",
       "    </tr>\n",
       "    <tr>\n",
       "      <th>require_guest_phone_verification</th>\n",
       "      <td>0</td>\n",
       "      <td>1</td>\n",
       "      <td>0</td>\n",
       "      <td>1</td>\n",
       "      <td>0</td>\n",
       "    </tr>\n",
       "  </tbody>\n",
       "</table>\n",
       "</div>"
      ],
      "text/plain": [
       "                                  0  1  2  3  4\n",
       "host_is_superhost                 1  0  0  1  1\n",
       "host_has_profile_pic              1  1  1  1  1\n",
       "host_identity_verified            0  1  1  1  0\n",
       "is_location_exact                 1  1  1  1  1\n",
       "has_availability                  1  1  1  1  1\n",
       "requires_license                  1  1  1  1  1\n",
       "instant_bookable                  1  0  0  0  1\n",
       "is_business_travel_ready          0  0  0  0  0\n",
       "require_guest_profile_picture     0  0  0  1  0\n",
       "require_guest_phone_verification  0  1  0  1  0"
      ]
     },
     "execution_count": 22,
     "metadata": {
      "tags": []
     },
     "output_type": "execute_result"
    }
   ],
   "source": [
    "from pyspark.sql import functions as fn\n",
    "from pyspark.sql import types as t\n",
    "\n",
    "bool_dict = {'t': 1, 'f': 0}\n",
    "def bool_map(x):\n",
    "  if x in bool_dict.keys():\n",
    "    return bool_dict[x]\n",
    "  return x\n",
    "\n",
    "bool_encode_udf = fn.udf(bool_map, t.IntegerType())\n",
    "\n",
    "for col_name in bool_columns:\n",
    "  df = df.withColumn(col_name, bool_encode_udf(fn.col(col_name)))\n",
    "\n",
    "df.select([fn.col(col_name) for col_name in bool_columns]).limit(5).toPandas().T\n"
   ]
  },
  {
   "cell_type": "markdown",
   "metadata": {
    "colab_type": "text",
    "id": "NNA7pgs2O_gF"
   },
   "source": [
    "### Convert values in columns from formatted string to number"
   ]
  },
  {
   "cell_type": "markdown",
   "metadata": {
    "colab_type": "text",
    "id": "tUm23gfFFgDu"
   },
   "source": [
    "- Select price formatted columns"
   ]
  },
  {
   "cell_type": "code",
   "execution_count": 23,
   "metadata": {
    "colab": {
     "base_uri": "https://localhost:8080/",
     "height": 235
    },
    "colab_type": "code",
    "id": "FMfX7GY8Petn",
    "outputId": "21ecd708-81a3-42ff-f472-fa1a9db5e663"
   },
   "outputs": [
    {
     "data": {
      "text/html": [
       "<div>\n",
       "<style scoped>\n",
       "    .dataframe tbody tr th:only-of-type {\n",
       "        vertical-align: middle;\n",
       "    }\n",
       "\n",
       "    .dataframe tbody tr th {\n",
       "        vertical-align: top;\n",
       "    }\n",
       "\n",
       "    .dataframe thead th {\n",
       "        text-align: right;\n",
       "    }\n",
       "</style>\n",
       "<table border=\"1\" class=\"dataframe\">\n",
       "  <thead>\n",
       "    <tr style=\"text-align: right;\">\n",
       "      <th></th>\n",
       "      <th>0</th>\n",
       "      <th>1</th>\n",
       "      <th>2</th>\n",
       "      <th>3</th>\n",
       "      <th>4</th>\n",
       "    </tr>\n",
       "  </thead>\n",
       "  <tbody>\n",
       "    <tr>\n",
       "      <th>extra_people</th>\n",
       "      <td>$25.00</td>\n",
       "      <td>$5.00</td>\n",
       "      <td>$10.00</td>\n",
       "      <td>$15.00</td>\n",
       "      <td>$15.00</td>\n",
       "    </tr>\n",
       "    <tr>\n",
       "      <th>cleaning_fee</th>\n",
       "      <td>$250.00</td>\n",
       "      <td>$45.00</td>\n",
       "      <td>$40.00</td>\n",
       "      <td>$10.00</td>\n",
       "      <td>$45.00</td>\n",
       "    </tr>\n",
       "    <tr>\n",
       "      <th>security_deposit</th>\n",
       "      <td>$500.00</td>\n",
       "      <td>$120.00</td>\n",
       "      <td>$200.00</td>\n",
       "      <td>$100.00</td>\n",
       "      <td>$0.00</td>\n",
       "    </tr>\n",
       "    <tr>\n",
       "      <th>monthly_price</th>\n",
       "      <td>None</td>\n",
       "      <td>$1,250.00</td>\n",
       "      <td>None</td>\n",
       "      <td>$1,500.00</td>\n",
       "      <td>None</td>\n",
       "    </tr>\n",
       "    <tr>\n",
       "      <th>weekly_price</th>\n",
       "      <td>None</td>\n",
       "      <td>$400.00</td>\n",
       "      <td>$670.00</td>\n",
       "      <td>$580.00</td>\n",
       "      <td>None</td>\n",
       "    </tr>\n",
       "    <tr>\n",
       "      <th>price</th>\n",
       "      <td>$296.00</td>\n",
       "      <td>$48.00</td>\n",
       "      <td>$90.00</td>\n",
       "      <td>$62.00</td>\n",
       "      <td>$99.00</td>\n",
       "    </tr>\n",
       "  </tbody>\n",
       "</table>\n",
       "</div>"
      ],
      "text/plain": [
       "                        0          1        2          3       4\n",
       "extra_people       $25.00      $5.00   $10.00     $15.00  $15.00\n",
       "cleaning_fee      $250.00     $45.00   $40.00     $10.00  $45.00\n",
       "security_deposit  $500.00    $120.00  $200.00    $100.00   $0.00\n",
       "monthly_price        None  $1,250.00     None  $1,500.00    None\n",
       "weekly_price         None    $400.00  $670.00    $580.00    None\n",
       "price             $296.00     $48.00   $90.00     $62.00  $99.00"
      ]
     },
     "execution_count": 23,
     "metadata": {
      "tags": []
     },
     "output_type": "execute_result"
    }
   ],
   "source": [
    "price_columns = ['extra_people', \n",
    "                 'cleaning_fee', \n",
    "                 'security_deposit', \n",
    "                 'monthly_price', \n",
    "                 'weekly_price', \n",
    "                 'price']\n",
    "df_price = df.select(price_columns)\n",
    "df_price.limit(5).toPandas().T"
   ]
  },
  {
   "cell_type": "markdown",
   "metadata": {
    "colab_type": "text",
    "id": "RfgT5TAZRkDr"
   },
   "source": [
    " - Reformat the currency formattet to number"
   ]
  },
  {
   "cell_type": "code",
   "execution_count": 24,
   "metadata": {
    "colab": {
     "base_uri": "https://localhost:8080/",
     "height": 235
    },
    "colab_type": "code",
    "id": "fNEtgXuSRtT8",
    "outputId": "4f9b230a-196f-48da-85c1-ac2b331e8420"
   },
   "outputs": [
    {
     "data": {
      "text/html": [
       "<div>\n",
       "<style scoped>\n",
       "    .dataframe tbody tr th:only-of-type {\n",
       "        vertical-align: middle;\n",
       "    }\n",
       "\n",
       "    .dataframe tbody tr th {\n",
       "        vertical-align: top;\n",
       "    }\n",
       "\n",
       "    .dataframe thead th {\n",
       "        text-align: right;\n",
       "    }\n",
       "</style>\n",
       "<table border=\"1\" class=\"dataframe\">\n",
       "  <thead>\n",
       "    <tr style=\"text-align: right;\">\n",
       "      <th></th>\n",
       "      <th>0</th>\n",
       "      <th>1</th>\n",
       "      <th>2</th>\n",
       "      <th>3</th>\n",
       "      <th>4</th>\n",
       "    </tr>\n",
       "  </thead>\n",
       "  <tbody>\n",
       "    <tr>\n",
       "      <th>extra_people</th>\n",
       "      <td>25.00</td>\n",
       "      <td>5.00</td>\n",
       "      <td>10.00</td>\n",
       "      <td>15.00</td>\n",
       "      <td>15.00</td>\n",
       "    </tr>\n",
       "    <tr>\n",
       "      <th>cleaning_fee</th>\n",
       "      <td>250.00</td>\n",
       "      <td>45.00</td>\n",
       "      <td>40.00</td>\n",
       "      <td>10.00</td>\n",
       "      <td>45.00</td>\n",
       "    </tr>\n",
       "    <tr>\n",
       "      <th>security_deposit</th>\n",
       "      <td>500.00</td>\n",
       "      <td>120.00</td>\n",
       "      <td>200.00</td>\n",
       "      <td>100.00</td>\n",
       "      <td>0.00</td>\n",
       "    </tr>\n",
       "    <tr>\n",
       "      <th>monthly_price</th>\n",
       "      <td>None</td>\n",
       "      <td>1250.00</td>\n",
       "      <td>None</td>\n",
       "      <td>1500.00</td>\n",
       "      <td>None</td>\n",
       "    </tr>\n",
       "    <tr>\n",
       "      <th>weekly_price</th>\n",
       "      <td>None</td>\n",
       "      <td>400.00</td>\n",
       "      <td>670.00</td>\n",
       "      <td>580.00</td>\n",
       "      <td>None</td>\n",
       "    </tr>\n",
       "    <tr>\n",
       "      <th>price</th>\n",
       "      <td>296.00</td>\n",
       "      <td>48.00</td>\n",
       "      <td>90.00</td>\n",
       "      <td>62.00</td>\n",
       "      <td>99.00</td>\n",
       "    </tr>\n",
       "  </tbody>\n",
       "</table>\n",
       "</div>"
      ],
      "text/plain": [
       "                       0        1       2        3      4\n",
       "extra_people       25.00     5.00   10.00    15.00  15.00\n",
       "cleaning_fee      250.00    45.00   40.00    10.00  45.00\n",
       "security_deposit  500.00   120.00  200.00   100.00   0.00\n",
       "monthly_price       None  1250.00    None  1500.00   None\n",
       "weekly_price        None   400.00  670.00   580.00   None\n",
       "price             296.00    48.00   90.00    62.00  99.00"
      ]
     },
     "execution_count": 24,
     "metadata": {
      "tags": []
     },
     "output_type": "execute_result"
    }
   ],
   "source": [
    "for col_name in price_columns:\n",
    "  df = df.withColumn(col_name, fn.regexp_replace(fn.col(col_name), \"\\$|,\" , '' ))\n",
    "\n",
    "df.select([fn.col(col_name) for col_name in price_columns]).limit(5).toPandas().T"
   ]
  },
  {
   "cell_type": "markdown",
   "metadata": {
    "colab_type": "text",
    "id": "l4OV8u-A-P7P"
   },
   "source": [
    "## Zero Variance Variables Removal"
   ]
  },
  {
   "cell_type": "code",
   "execution_count": 25,
   "metadata": {
    "colab": {
     "base_uri": "https://localhost:8080/",
     "height": 156
    },
    "colab_type": "code",
    "id": "55QAsBIQ-TbI",
    "outputId": "6c734998-dc3f-456c-c33d-154fabd568ce"
   },
   "outputs": [
    {
     "name": "stdout",
     "output_type": "stream",
     "text": [
      "+----------------------------------+\n",
      "|variance(is_business_travel_ready)|\n",
      "+----------------------------------+\n",
      "|                               0.0|\n",
      "+----------------------------------+\n",
      "\n"
     ]
    },
    {
     "data": {
      "text/plain": [
       "DataFrame[id: int, listing_url: string, scrape_id: bigint, last_scraped: timestamp, name: string, summary: string, space: string, description: string, experiences_offered: string, neighborhood_overview: string, notes: string, transit: string, access: string, interaction: string, house_rules: string, thumbnail_url: string, medium_url: string, picture_url: string, xl_picture_url: string, host_id: int, host_url: string, host_name: string, host_since: timestamp, host_location: string, host_about: string, host_response_time: string, host_response_rate: string, host_acceptance_rate: string, host_is_superhost: int, host_thumbnail_url: string, host_picture_url: string, host_neighbourhood: string, host_listings_count: int, host_total_listings_count: int, host_verifications: string, host_has_profile_pic: int, host_identity_verified: int, street: string, neighbourhood: string, neighbourhood_cleansed: string, neighbourhood_group_cleansed: string, city: string, state: string, zipcode: string, market: string, smart_location: string, country_code: string, country: string, latitude: double, longitude: double, is_location_exact: int, property_type: string, room_type: string, accommodates: int, bathrooms: double, bedrooms: int, beds: int, bed_type: string, amenities: string, square_feet: int, price: string, weekly_price: string, monthly_price: string, security_deposit: string, cleaning_fee: string, guests_included: int, extra_people: string, minimum_nights: int, maximum_nights: int, minimum_minimum_nights: int, maximum_minimum_nights: int, minimum_maximum_nights: int, maximum_maximum_nights: int, minimum_nights_avg_ntm: double, maximum_nights_avg_ntm: double, calendar_updated: string, has_availability: int, availability_30: int, availability_60: int, availability_90: int, availability_365: int, calendar_last_scraped: timestamp, number_of_reviews: int, number_of_reviews_ltm: int, first_review: timestamp, last_review: timestamp, review_scores_rating: int, review_scores_accuracy: int, review_scores_cleanliness: int, review_scores_checkin: int, review_scores_communication: int, review_scores_location: int, review_scores_value: int, requires_license: int, license: string, jurisdiction_names: string, instant_bookable: int, cancellation_policy: string, require_guest_profile_picture: int, require_guest_phone_verification: int, calculated_host_listings_count: int, calculated_host_listings_count_entire_homes: int, calculated_host_listings_count_private_rooms: int, calculated_host_listings_count_shared_rooms: int, reviews_per_month: double]"
      ]
     },
     "execution_count": 25,
     "metadata": {
      "tags": []
     },
     "output_type": "execute_result"
    }
   ],
   "source": [
    "\n",
    "df.agg({'is_business_travel_ready': 'variance'}).show()\n",
    "df.drop('is_business_travel_ready')"
   ]
  },
  {
   "cell_type": "markdown",
   "metadata": {
    "colab_type": "text",
    "id": "L1bMFXVmmA_v"
   },
   "source": [
    "## Missing value exploratory"
   ]
  },
  {
   "cell_type": "markdown",
   "metadata": {
    "colab_type": "text",
    "id": "v_6dWZ3LmBR-"
   },
   "source": [
    "- Identify the number of missing value at each feature. "
   ]
  },
  {
   "cell_type": "code",
   "execution_count": 26,
   "metadata": {
    "colab": {
     "base_uri": "https://localhost:8080/",
     "height": 901
    },
    "colab_type": "code",
    "id": "I84RLe3hmEiL",
    "outputId": "b886a31e-55c1-4f03-f095-69acd978f9bd"
   },
   "outputs": [
    {
     "name": "stdout",
     "output_type": "stream",
     "text": [
      "                             Missing Value Ratio\n",
      "medium_url                              1.000000\n",
      "thumbnail_url                           1.000000\n",
      "xl_picture_url                          1.000000\n",
      "square_feet                             0.955336\n",
      "monthly_price                           0.916768\n",
      "weekly_price                            0.891500\n",
      "license                                 0.684362\n",
      "notes                                   0.425801\n",
      "access                                  0.353319\n",
      "transit                                 0.312645\n",
      "neighborhood_overview                   0.296575\n",
      "interaction                             0.271085\n",
      "host_about                              0.269533\n",
      "house_rules                             0.235177\n",
      "space                                   0.197163\n",
      "security_deposit                        0.170786\n",
      "review_scores_location                  0.146625\n",
      "review_scores_checkin                   0.146625\n",
      "review_scores_value                     0.146514\n",
      "review_scores_cleanliness               0.146514\n",
      "review_scores_accuracy                  0.146514\n",
      "review_scores_communication             0.146404\n",
      "review_scores_rating                    0.146293\n",
      "first_review                            0.139754\n",
      "last_review                             0.139754\n",
      "reviews_per_month                       0.139754\n",
      "host_neighbourhood                      0.093428\n",
      "cleaning_fee                            0.085227\n",
      "summary                                 0.019284\n",
      "zipcode                                 0.018730\n",
      "description                             0.007980\n",
      "market                                  0.002106\n",
      "host_location                           0.001441\n",
      "bedrooms                                0.000776\n",
      "host_picture_url                        0.000443\n",
      "host_is_superhost                       0.000443\n",
      "host_name                               0.000443\n",
      "host_since                              0.000443\n",
      "host_response_time                      0.000443\n",
      "host_response_rate                      0.000443\n",
      "host_acceptance_rate                    0.000443\n",
      "host_has_profile_pic                    0.000443\n",
      "host_thumbnail_url                      0.000443\n",
      "host_listings_count                     0.000443\n",
      "host_total_listings_count               0.000443\n",
      "host_identity_verified                  0.000443\n",
      "city                                    0.000332\n",
      "beds                                    0.000332\n",
      "bathrooms                               0.000222\n",
      "neighbourhood                           0.000111\n",
      "state                                   0.000111\n"
     ]
    }
   ],
   "source": [
    "def calc_missing_ratio(data_frame: DataFrame):\n",
    "  record_cnt = data_frame.count()\n",
    "  df_columns = data_frame.columns\n",
    "  \n",
    "  df_result = data_frame.select([fn.col(c).cast(t.StringType()) for c in data_frame.columns]) \\\n",
    "    .select([fn.sum(fn.when(fn.isnull(c), 1).otherwise(0)).alias(c) for c in data_frame.columns]) \\\n",
    "    .select([(col(c)/record_cnt).alias(c) for c in data_frame.columns]) \\\n",
    "    .toPandas().T\n",
    "\n",
    "  df_result = df_result.loc[(df_result != 0).all(axis=1), :]\n",
    "  df_result.columns = ['Missing Value Ratio']\n",
    "  df_result.sort_values(by=['Missing Value Ratio'], ascending=False, inplace=True)\n",
    "\n",
    "  return df_result\n",
    "\n",
    "missing_ratio = calc_missing_ratio(df)\n",
    "\n",
    "print(missing_ratio)"
   ]
  },
  {
   "cell_type": "markdown",
   "metadata": {
    "colab_type": "text",
    "id": "rCfDDb3OmGKK"
   },
   "source": [
    "- Drop columns that doesn't have value at all"
   ]
  },
  {
   "cell_type": "code",
   "execution_count": 27,
   "metadata": {
    "colab": {
     "base_uri": "https://localhost:8080/",
     "height": 34
    },
    "colab_type": "code",
    "id": "Kzz86OLUmIRU",
    "outputId": "df91efc6-f069-4afa-a004-8898c708097b"
   },
   "outputs": [
    {
     "data": {
      "text/plain": [
       "(9023, 103)"
      ]
     },
     "execution_count": 27,
     "metadata": {
      "tags": []
     },
     "output_type": "execute_result"
    }
   ],
   "source": [
    "def shape(data_frame: DataFrame):\n",
    "  return (data_frame.count(), len(data_frame.columns))\n",
    "\n",
    "empty_column = list(missing_ratio.loc[(missing_ratio == 1).all(axis=1), :].index)\n",
    "\n",
    "df = df.drop(*empty_column)\n",
    "shape(df)"
   ]
  },
  {
   "cell_type": "markdown",
   "metadata": {
    "colab_type": "text",
    "id": "Ge9TujRVmL9E"
   },
   "source": [
    "- Visualize the ratio of missing values using bar plot.<br>\n",
    "We will focus on the columns that has more than 2% of missing values."
   ]
  },
  {
   "cell_type": "code",
   "execution_count": 28,
   "metadata": {
    "colab": {
     "base_uri": "https://localhost:8080/",
     "height": 246
    },
    "colab_type": "code",
    "id": "8nj1AQqpmO-d",
    "outputId": "92bfd717-5880-40e0-9a71-57041fe02fb4"
   },
   "outputs": [
    {
     "data": {
      "text/plain": [
       "<Figure size 432x288 with 0 Axes>"
      ]
     },
     "metadata": {
      "tags": []
     },
     "output_type": "display_data"
    },
    {
     "data": {
      "image/png": "[encoded data removed]",
      "text/plain": [
       "<Figure size 1440x360 with 1 Axes>"
      ]
     },
     "metadata": {
      "tags": []
     },
     "output_type": "display_data"
    }
   ],
   "source": [
    "import math\n",
    "from matplotlib import gridspec\n",
    "import matplotlib.pyplot as plt\n",
    "import seaborn as sns; sns.set()\n",
    "import matplotlib.ticker as mtick\n",
    "\n",
    "\n",
    "def plot_missing_freq(df, xlab, ylab, title):\n",
    "  plt.clf()\n",
    "  plt.figure(figsize=(20, 5))\n",
    "  df = pd.Series(df.iloc[:, 0].values, index=list(df.index))\n",
    "\n",
    "  ax = sns.barplot(x=df.values * 100, y=df.index, orient='h')\n",
    "  \n",
    "  ax.set_xticklabels(df.values * 100, fontsize=15)\n",
    "  ax.set_yticklabels(df.index, fontsize=12)\n",
    "  ax.xaxis.set_major_formatter(mtick.PercentFormatter())\n",
    "\n",
    "  ax.set_xlabel(xlab, fontsize=15)\n",
    "  ax.set_ylabel(ylab, fontsize=35)\n",
    "\n",
    "  plt.title(title, fontsize=20)\n",
    "  # for bar in ax.patches:\n",
    "  #   bar.set_height(30)\n",
    "\n",
    "  display()\n",
    "\n",
    "missing_ratio_2 = calc_missing_ratio(df)\n",
    "missing_ratio_2 = missing_ratio_2.loc[(missing_ratio_2 > 0.02).all(axis=1), :]\n",
    "plot_missing_freq(missing_ratio_2, 'Feature', 'Missing Value Ratio', 'Airbnb Data Set Missing Value')"
   ]
  },
  {
   "cell_type": "code",
   "execution_count": 0,
   "metadata": {
    "colab": {},
    "colab_type": "code",
    "id": "qHhZ-cR1ot-L"
   },
   "outputs": [],
   "source": [
    "#Mark\n",
    "pred_list = ['id','host_is_superhost','neighbourhood_group_cleansed', 'property_type', \n",
    "             'room_type', 'latitude', 'longitude', 'guests_included', 'bathrooms', \n",
    "             'bedrooms', 'beds', 'bed_type', 'amenities', 'price', 'cleaning_fee', \n",
    "             'instant_bookable', 'cancellation_policy']"
   ]
  },
  {
   "cell_type": "code",
   "execution_count": 31,
   "metadata": {
    "colab": {
     "base_uri": "https://localhost:8080/",
     "height": 479
    },
    "colab_type": "code",
    "id": "3b9pe_6nPQcD",
    "outputId": "d4036af5-d5dc-4da0-c24b-f773760d9c9e"
   },
   "outputs": [
    {
     "name": "stdout",
     "output_type": "stream",
     "text": [
      "+-----+-----------------+----------------------------+-------------+---------------+--------+----------+---------------+---------+--------+----+--------+--------------------+------+------------+----------------+--------------------+\n",
      "|   id|host_is_superhost|neighbourhood_group_cleansed|property_type|      room_type|latitude| longitude|guests_included|bathrooms|bedrooms|beds|bed_type|           amenities| price|cleaning_fee|instant_bookable| cancellation_policy|\n",
      "+-----+-----------------+----------------------------+-------------+---------------+--------+----------+---------------+---------+--------+----+--------+--------------------+------+------------+----------------+--------------------+\n",
      "| 2318|                1|                Central Area|        House|Entire home/apt|47.61082|-122.29082|              8|      2.5|       4|   4|Real Bed|{Internet,Wifi,Ki...|296.00|      250.00|               1|strict_14_with_gr...|\n",
      "| 5682|                0|                    Delridge|  Guest suite|Entire home/apt|47.52398|-122.35989|              1|      1.0|       0|   1|Real Bed|{TV,Internet,Wifi...| 48.00|       45.00|               0|strict_14_with_gr...|\n",
      "| 6606|                0|         Other neighborhoods|   Guesthouse|Entire home/apt|47.65411|-122.33761|              2|      1.0|       1|   1|Real Bed|{TV,Internet,Wifi...| 90.00|       40.00|               0|strict_14_with_gr...|\n",
      "| 9419|                1|         Other neighborhoods|    Apartment|   Private room|47.55062|-122.32014|              1|      3.0|       1|   1|Real Bed|{Internet,Wifi,\"A...| 62.00|       10.00|               0|            moderate|\n",
      "| 9460|                1|                    Downtown|  Condominium|   Private room|47.61265|-122.32936|              1|      1.0|       1|   1|Real Bed|{TV,\"Cable TV\",Wi...| 99.00|       45.00|               1|            moderate|\n",
      "| 9531|                1|                West Seattle|        House|Entire home/apt|47.55539|-122.38474|              2|      1.0|       2|   3|Real Bed|{TV,\"Cable TV\",In...|165.00|      120.00|               0|strict_14_with_gr...|\n",
      "| 9534|                1|                West Seattle|  Guest suite|Entire home/apt|47.55624|-122.38598|              2|      1.0|       2|   2|Real Bed|{TV,\"Cable TV\",In...|125.00|       95.00|               0|strict_14_with_gr...|\n",
      "| 9596|                0|         Other neighborhoods|    Apartment|Entire home/apt|47.65479|-122.33652|              2|      1.0|       1|   4|Real Bed|{TV,\"Cable TV\",In...|120.00|       85.00|               0|strict_14_with_gr...|\n",
      "| 9909|                1|                West Seattle|        House|Entire home/apt|47.56521|-122.37375|              4|      1.0|       2|   2|Real Bed|{TV,\"Cable TV\",In...|125.00|      150.00|               1|strict_14_with_gr...|\n",
      "|11012|                0|         Other neighborhoods|        House|Entire home/apt|47.65448|-122.33646|              4|      2.0|       3|   3|Real Bed|{TV,\"Cable TV\",In...|299.00|      165.00|               0|strict_14_with_gr...|\n",
      "|14386|                0|         Other neighborhoods|        House|   Private room|47.68725| -122.3347|              1|      1.5|       1|   1|   Futon|{Internet,Wifi,Ki...| 40.00|        null|               0|strict_14_with_gr...|\n",
      "|15108|                0|         Other neighborhoods|        House|   Private room|47.68827|-122.33586|              1|      1.0|       3|   3|Real Bed|{Internet,Wifi,Ki...| 60.00|       10.00|               0|            moderate|\n",
      "|15749|                1|         Other neighborhoods|        House|   Private room|47.68407|-122.32649|              1|      1.0|       1|   1|Real Bed|{TV,Wifi,Kitchen,...| 32.00|       20.00|               0|strict_14_with_gr...|\n",
      "|17951|                1|                West Seattle|  Guest suite|Entire home/apt|47.55538|-122.38622|              2|      1.0|       0|   1|Real Bed|{TV,\"Cable TV\",In...|105.00|       50.00|               1|            moderate|\n",
      "|19619|                1|                    Downtown|  Condominium|Entire home/apt|47.61362|-122.34706|              1|      1.0|       1|   1|Real Bed|{TV,\"Cable TV\",In...|170.00|      107.00|               0|strict_14_with_gr...|\n",
      "|20927|                1|                     Ballard|   Guesthouse|Entire home/apt|47.67334|-122.39512|              2|      1.0|       1|   1|   Futon|{TV,\"Cable TV\",In...| 89.00|       20.00|               1|            moderate|\n",
      "|20928|                1|                     Ballard|  Guest suite|Entire home/apt|47.67361| -122.3938|              1|      1.0|       1|   1|   Futon|{Internet,Wifi,Ki...| 79.00|       20.00|               1|            moderate|\n",
      "|24212|                1|                    Downtown|  Condominium|Entire home/apt| 47.6154|-122.34866|              6|      1.0|       2|   2|Real Bed|{TV,\"Cable TV\",In...|206.00|      130.00|               0|strict_14_with_gr...|\n",
      "|25002|                1|                     Ballard|  Guest suite|Entire home/apt|47.67941|-122.37054|              2|      1.0|       1|   2|Real Bed|{TV,\"Cable TV\",In...| 70.00|       15.00|               1|            flexible|\n",
      "|26116|                0|                Capitol Hill|    Apartment|Entire home/apt|47.61743|-122.32676|              2|      1.0|       2|   2|Real Bed|{TV,\"Cable TV\",In...|259.00|      100.00|               0|strict_14_with_gr...|\n",
      "+-----+-----------------+----------------------------+-------------+---------------+--------+----------+---------------+---------+--------+----+--------+--------------------+------+------------+----------------+--------------------+\n",
      "only showing top 20 rows\n",
      "\n"
     ]
    }
   ],
   "source": [
    "df.select(pred_list).show()"
   ]
  },
  {
   "cell_type": "code",
   "execution_count": 39,
   "metadata": {
    "colab": {
     "base_uri": "https://localhost:8080/",
     "height": 391
    },
    "colab_type": "code",
    "id": "adMtwWUTQIIQ",
    "outputId": "2b68aa60-9519-449b-8913-ffd31942b846"
   },
   "outputs": [
    {
     "name": "stdout",
     "output_type": "stream",
     "text": [
      "<class 'pandas.core.frame.DataFrame'>\n",
      "RangeIndex: 3 entries, 0 to 2\n",
      "Data columns (total 17 columns):\n",
      "id                              3 non-null int32\n",
      "host_is_superhost               3 non-null int32\n",
      "neighbourhood_group_cleansed    3 non-null object\n",
      "property_type                   3 non-null object\n",
      "room_type                       3 non-null object\n",
      "latitude                        3 non-null float64\n",
      "longitude                       3 non-null float64\n",
      "guests_included                 3 non-null int32\n",
      "bathrooms                       3 non-null float64\n",
      "bedrooms                        3 non-null int32\n",
      "beds                            3 non-null int32\n",
      "bed_type                        3 non-null object\n",
      "amenities                       3 non-null object\n",
      "price                           3 non-null object\n",
      "cleaning_fee                    3 non-null object\n",
      "instant_bookable                3 non-null int32\n",
      "cancellation_policy             3 non-null object\n",
      "dtypes: float64(3), int32(6), object(8)\n",
      "memory usage: 464.0+ bytes\n"
     ]
    }
   ],
   "source": [
    "df.select(pred_list).toPandas().info()"
   ]
  },
  {
   "cell_type": "code",
   "execution_count": 41,
   "metadata": {
    "colab": {
     "base_uri": "https://localhost:8080/",
     "height": 701
    },
    "colab_type": "code",
    "id": "qIfRPkXKQIV8",
    "outputId": "6aab7e8d-9db3-48cf-e8a2-28ab7c813355"
   },
   "outputs": [
    {
     "ename": "KeyboardInterrupt",
     "evalue": "ignored",
     "output_type": "error",
     "traceback": [
      "\u001b[0;31m---------------------------------------------------------------------------\u001b[0m",
      "\u001b[0;31mKeyboardInterrupt\u001b[0m                         Traceback (most recent call last)",
      "\u001b[0;32m<ipython-input-41-8924b513d0ed>\u001b[0m in \u001b[0;36m<module>\u001b[0;34m()\u001b[0m\n\u001b[1;32m      1\u001b[0m \u001b[0mdf\u001b[0m \u001b[0;34m=\u001b[0m \u001b[0mdf\u001b[0m\u001b[0;34m.\u001b[0m\u001b[0mdropna\u001b[0m\u001b[0;34m(\u001b[0m\u001b[0mhow\u001b[0m\u001b[0;34m=\u001b[0m\u001b[0;34m'any'\u001b[0m\u001b[0;34m)\u001b[0m\u001b[0;34m\u001b[0m\u001b[0;34m\u001b[0m\u001b[0m\n\u001b[0;32m----> 2\u001b[0;31m \u001b[0mdf\u001b[0m\u001b[0;34m.\u001b[0m\u001b[0mselect\u001b[0m\u001b[0;34m(\u001b[0m\u001b[0mpred_list\u001b[0m\u001b[0;34m)\u001b[0m\u001b[0;34m.\u001b[0m\u001b[0mtoPandas\u001b[0m\u001b[0;34m(\u001b[0m\u001b[0;34m)\u001b[0m\u001b[0;34m\u001b[0m\u001b[0;34m\u001b[0m\u001b[0m\n\u001b[0m",
      "\u001b[0;32m/content/drive/Shared drives/718_project/dataset/spark-2.4.4-bin-hadoop2.7/python/pyspark/sql/dataframe.py\u001b[0m in \u001b[0;36mtoPandas\u001b[0;34m(self)\u001b[0m\n\u001b[1;32m   2141\u001b[0m \u001b[0;34m\u001b[0m\u001b[0m\n\u001b[1;32m   2142\u001b[0m         \u001b[0;31m# Below is toPandas without Arrow optimization.\u001b[0m\u001b[0;34m\u001b[0m\u001b[0;34m\u001b[0m\u001b[0;34m\u001b[0m\u001b[0m\n\u001b[0;32m-> 2143\u001b[0;31m         \u001b[0mpdf\u001b[0m \u001b[0;34m=\u001b[0m \u001b[0mpd\u001b[0m\u001b[0;34m.\u001b[0m\u001b[0mDataFrame\u001b[0m\u001b[0;34m.\u001b[0m\u001b[0mfrom_records\u001b[0m\u001b[0;34m(\u001b[0m\u001b[0mself\u001b[0m\u001b[0;34m.\u001b[0m\u001b[0mcollect\u001b[0m\u001b[0;34m(\u001b[0m\u001b[0;34m)\u001b[0m\u001b[0;34m,\u001b[0m \u001b[0mcolumns\u001b[0m\u001b[0;34m=\u001b[0m\u001b[0mself\u001b[0m\u001b[0;34m.\u001b[0m\u001b[0mcolumns\u001b[0m\u001b[0;34m)\u001b[0m\u001b[0;34m\u001b[0m\u001b[0;34m\u001b[0m\u001b[0m\n\u001b[0m\u001b[1;32m   2144\u001b[0m \u001b[0;34m\u001b[0m\u001b[0m\n\u001b[1;32m   2145\u001b[0m         \u001b[0mdtype\u001b[0m \u001b[0;34m=\u001b[0m \u001b[0;34m{\u001b[0m\u001b[0;34m}\u001b[0m\u001b[0;34m\u001b[0m\u001b[0;34m\u001b[0m\u001b[0m\n",
      "\u001b[0;32m/content/drive/Shared drives/718_project/dataset/spark-2.4.4-bin-hadoop2.7/python/pyspark/sql/dataframe.py\u001b[0m in \u001b[0;36mcollect\u001b[0;34m(self)\u001b[0m\n\u001b[1;32m    532\u001b[0m         \"\"\"\n\u001b[1;32m    533\u001b[0m         \u001b[0;32mwith\u001b[0m \u001b[0mSCCallSiteSync\u001b[0m\u001b[0;34m(\u001b[0m\u001b[0mself\u001b[0m\u001b[0;34m.\u001b[0m\u001b[0m_sc\u001b[0m\u001b[0;34m)\u001b[0m \u001b[0;32mas\u001b[0m \u001b[0mcss\u001b[0m\u001b[0;34m:\u001b[0m\u001b[0;34m\u001b[0m\u001b[0;34m\u001b[0m\u001b[0m\n\u001b[0;32m--> 534\u001b[0;31m             \u001b[0msock_info\u001b[0m \u001b[0;34m=\u001b[0m \u001b[0mself\u001b[0m\u001b[0;34m.\u001b[0m\u001b[0m_jdf\u001b[0m\u001b[0;34m.\u001b[0m\u001b[0mcollectToPython\u001b[0m\u001b[0;34m(\u001b[0m\u001b[0;34m)\u001b[0m\u001b[0;34m\u001b[0m\u001b[0;34m\u001b[0m\u001b[0m\n\u001b[0m\u001b[1;32m    535\u001b[0m         \u001b[0;32mreturn\u001b[0m \u001b[0mlist\u001b[0m\u001b[0;34m(\u001b[0m\u001b[0m_load_from_socket\u001b[0m\u001b[0;34m(\u001b[0m\u001b[0msock_info\u001b[0m\u001b[0;34m,\u001b[0m \u001b[0mBatchedSerializer\u001b[0m\u001b[0;34m(\u001b[0m\u001b[0mPickleSerializer\u001b[0m\u001b[0;34m(\u001b[0m\u001b[0;34m)\u001b[0m\u001b[0;34m)\u001b[0m\u001b[0;34m)\u001b[0m\u001b[0;34m)\u001b[0m\u001b[0;34m\u001b[0m\u001b[0;34m\u001b[0m\u001b[0m\n\u001b[1;32m    536\u001b[0m \u001b[0;34m\u001b[0m\u001b[0m\n",
      "\u001b[0;32mspark-2.4.4-bin-hadoop2.7/python/lib/py4j-0.10.7-src.zip/py4j/java_gateway.py\u001b[0m in \u001b[0;36m__call__\u001b[0;34m(self, *args)\u001b[0m\n\u001b[1;32m   1253\u001b[0m             \u001b[0mproto\u001b[0m\u001b[0;34m.\u001b[0m\u001b[0mEND_COMMAND_PART\u001b[0m\u001b[0;34m\u001b[0m\u001b[0;34m\u001b[0m\u001b[0m\n\u001b[1;32m   1254\u001b[0m \u001b[0;34m\u001b[0m\u001b[0m\n\u001b[0;32m-> 1255\u001b[0;31m         \u001b[0manswer\u001b[0m \u001b[0;34m=\u001b[0m \u001b[0mself\u001b[0m\u001b[0;34m.\u001b[0m\u001b[0mgateway_client\u001b[0m\u001b[0;34m.\u001b[0m\u001b[0msend_command\u001b[0m\u001b[0;34m(\u001b[0m\u001b[0mcommand\u001b[0m\u001b[0;34m)\u001b[0m\u001b[0;34m\u001b[0m\u001b[0;34m\u001b[0m\u001b[0m\n\u001b[0m\u001b[1;32m   1256\u001b[0m         return_value = get_return_value(\n\u001b[1;32m   1257\u001b[0m             answer, self.gateway_client, self.target_id, self.name)\n",
      "\u001b[0;32mspark-2.4.4-bin-hadoop2.7/python/lib/py4j-0.10.7-src.zip/py4j/java_gateway.py\u001b[0m in \u001b[0;36msend_command\u001b[0;34m(self, command, retry, binary)\u001b[0m\n\u001b[1;32m    983\u001b[0m         \u001b[0mconnection\u001b[0m \u001b[0;34m=\u001b[0m \u001b[0mself\u001b[0m\u001b[0;34m.\u001b[0m\u001b[0m_get_connection\u001b[0m\u001b[0;34m(\u001b[0m\u001b[0;34m)\u001b[0m\u001b[0;34m\u001b[0m\u001b[0;34m\u001b[0m\u001b[0m\n\u001b[1;32m    984\u001b[0m         \u001b[0;32mtry\u001b[0m\u001b[0;34m:\u001b[0m\u001b[0;34m\u001b[0m\u001b[0;34m\u001b[0m\u001b[0m\n\u001b[0;32m--> 985\u001b[0;31m             \u001b[0mresponse\u001b[0m \u001b[0;34m=\u001b[0m \u001b[0mconnection\u001b[0m\u001b[0;34m.\u001b[0m\u001b[0msend_command\u001b[0m\u001b[0;34m(\u001b[0m\u001b[0mcommand\u001b[0m\u001b[0;34m)\u001b[0m\u001b[0;34m\u001b[0m\u001b[0;34m\u001b[0m\u001b[0m\n\u001b[0m\u001b[1;32m    986\u001b[0m             \u001b[0;32mif\u001b[0m \u001b[0mbinary\u001b[0m\u001b[0;34m:\u001b[0m\u001b[0;34m\u001b[0m\u001b[0;34m\u001b[0m\u001b[0m\n\u001b[1;32m    987\u001b[0m                 \u001b[0;32mreturn\u001b[0m \u001b[0mresponse\u001b[0m\u001b[0;34m,\u001b[0m \u001b[0mself\u001b[0m\u001b[0;34m.\u001b[0m\u001b[0m_create_connection_guard\u001b[0m\u001b[0;34m(\u001b[0m\u001b[0mconnection\u001b[0m\u001b[0;34m)\u001b[0m\u001b[0;34m\u001b[0m\u001b[0;34m\u001b[0m\u001b[0m\n",
      "\u001b[0;32mspark-2.4.4-bin-hadoop2.7/python/lib/py4j-0.10.7-src.zip/py4j/java_gateway.py\u001b[0m in \u001b[0;36msend_command\u001b[0;34m(self, command)\u001b[0m\n\u001b[1;32m   1150\u001b[0m \u001b[0;34m\u001b[0m\u001b[0m\n\u001b[1;32m   1151\u001b[0m         \u001b[0;32mtry\u001b[0m\u001b[0;34m:\u001b[0m\u001b[0;34m\u001b[0m\u001b[0;34m\u001b[0m\u001b[0m\n\u001b[0;32m-> 1152\u001b[0;31m             \u001b[0manswer\u001b[0m \u001b[0;34m=\u001b[0m \u001b[0msmart_decode\u001b[0m\u001b[0;34m(\u001b[0m\u001b[0mself\u001b[0m\u001b[0;34m.\u001b[0m\u001b[0mstream\u001b[0m\u001b[0;34m.\u001b[0m\u001b[0mreadline\u001b[0m\u001b[0;34m(\u001b[0m\u001b[0;34m)\u001b[0m\u001b[0;34m[\u001b[0m\u001b[0;34m:\u001b[0m\u001b[0;34m-\u001b[0m\u001b[0;36m1\u001b[0m\u001b[0;34m]\u001b[0m\u001b[0;34m)\u001b[0m\u001b[0;34m\u001b[0m\u001b[0;34m\u001b[0m\u001b[0m\n\u001b[0m\u001b[1;32m   1153\u001b[0m             \u001b[0mlogger\u001b[0m\u001b[0;34m.\u001b[0m\u001b[0mdebug\u001b[0m\u001b[0;34m(\u001b[0m\u001b[0;34m\"Answer received: {0}\"\u001b[0m\u001b[0;34m.\u001b[0m\u001b[0mformat\u001b[0m\u001b[0;34m(\u001b[0m\u001b[0manswer\u001b[0m\u001b[0;34m)\u001b[0m\u001b[0;34m)\u001b[0m\u001b[0;34m\u001b[0m\u001b[0;34m\u001b[0m\u001b[0m\n\u001b[1;32m   1154\u001b[0m             \u001b[0;32mif\u001b[0m \u001b[0manswer\u001b[0m\u001b[0;34m.\u001b[0m\u001b[0mstartswith\u001b[0m\u001b[0;34m(\u001b[0m\u001b[0mproto\u001b[0m\u001b[0;34m.\u001b[0m\u001b[0mRETURN_MESSAGE\u001b[0m\u001b[0;34m)\u001b[0m\u001b[0;34m:\u001b[0m\u001b[0;34m\u001b[0m\u001b[0;34m\u001b[0m\u001b[0m\n",
      "\u001b[0;32m/usr/lib/python3.6/socket.py\u001b[0m in \u001b[0;36mreadinto\u001b[0;34m(self, b)\u001b[0m\n\u001b[1;32m    584\u001b[0m         \u001b[0;32mwhile\u001b[0m \u001b[0;32mTrue\u001b[0m\u001b[0;34m:\u001b[0m\u001b[0;34m\u001b[0m\u001b[0;34m\u001b[0m\u001b[0m\n\u001b[1;32m    585\u001b[0m             \u001b[0;32mtry\u001b[0m\u001b[0;34m:\u001b[0m\u001b[0;34m\u001b[0m\u001b[0;34m\u001b[0m\u001b[0m\n\u001b[0;32m--> 586\u001b[0;31m                 \u001b[0;32mreturn\u001b[0m \u001b[0mself\u001b[0m\u001b[0;34m.\u001b[0m\u001b[0m_sock\u001b[0m\u001b[0;34m.\u001b[0m\u001b[0mrecv_into\u001b[0m\u001b[0;34m(\u001b[0m\u001b[0mb\u001b[0m\u001b[0;34m)\u001b[0m\u001b[0;34m\u001b[0m\u001b[0;34m\u001b[0m\u001b[0m\n\u001b[0m\u001b[1;32m    587\u001b[0m             \u001b[0;32mexcept\u001b[0m \u001b[0mtimeout\u001b[0m\u001b[0;34m:\u001b[0m\u001b[0;34m\u001b[0m\u001b[0;34m\u001b[0m\u001b[0m\n\u001b[1;32m    588\u001b[0m                 \u001b[0mself\u001b[0m\u001b[0;34m.\u001b[0m\u001b[0m_timeout_occurred\u001b[0m \u001b[0;34m=\u001b[0m \u001b[0;32mTrue\u001b[0m\u001b[0;34m\u001b[0m\u001b[0;34m\u001b[0m\u001b[0m\n",
      "\u001b[0;31mKeyboardInterrupt\u001b[0m: "
     ]
    }
   ],
   "source": [
    "##\n",
    "df = df.na.drop()\n",
    "df.select(pred_list).toPandas()"
   ]
  },
  {
   "cell_type": "code",
   "execution_count": 0,
   "metadata": {
    "colab": {},
    "colab_type": "code",
    "id": "ZwuYS9DqQIcA"
   },
   "outputs": [],
   "source": []
  },
  {
   "cell_type": "code",
   "execution_count": 0,
   "metadata": {
    "colab": {
     "base_uri": "https://localhost:8080/",
     "height": 34
    },
    "colab_type": "code",
    "id": "S2-nsfUJ_dFh",
    "outputId": "a32811a0-f12b-4462-8d60-12c3f499e866"
   },
   "outputs": [
    {
     "name": "stdout",
     "output_type": "stream",
     "text": [
      "9023 83\n"
     ]
    }
   ],
   "source": [
    "#drop_list1是一些所有行或者大部分行都缺失的列和一些无用的列\n",
    "drop_list1 = ['license','listing_url', 'scrape_id','last_scraped'\n",
    "                ,'thumbnail_url','medium_url','xl_picture_url','host_acceptance_rate'\n",
    "                ,'square_feet','weekly_price','monthly_price','has_availability'\n",
    "                ,'calendar_last_scraped','requires_license','jurisdiction_names'\n",
    "                ,'is_business_travel_ready']\n",
    "\n",
    "# drop_list2中的列有大量缺失值,都是文字性信息\n",
    "drop_list2 = ['notes','access','transit','space','neighborhood_overview','interaction','house_rules','host_about']\n",
    "df = df.drop(*drop_list1)\n",
    "df = df.drop(*drop_list2)\n",
    "print(df.count(),len(df.columns))"
   ]
  },
  {
   "cell_type": "code",
   "execution_count": 0,
   "metadata": {
    "colab": {
     "base_uri": "https://localhost:8080/",
     "height": 955
    },
    "colab_type": "code",
    "id": "UyRWB64U_gEk",
    "outputId": "49ed10c1-9b7d-498e-fc4c-0e5d075820fa"
   },
   "outputs": [
    {
     "name": "stdout",
     "output_type": "stream",
     "text": [
      "+---+-----------+---------+----+-------+-----------+-------------------+-----------+-------+--------+\n",
      "| id|listing_url|scrape_id|name|summary|description|experiences_offered|picture_url|host_id|host_url|\n",
      "+---+-----------+---------+----+-------+-----------+-------------------+-----------+-------+--------+\n",
      "|  0|          0|        0|   0|    174|         72|                  0|          0|      0|       0|\n",
      "+---+-----------+---------+----+-------+-----------+-------------------+-----------+-------+--------+\n",
      "\n",
      "+---------+----------+-------------+------------------+------------------+-----------------+------------------+----------------+------------------+-------------------+\n",
      "|host_name|host_since|host_location|host_response_time|host_response_rate|host_is_superhost|host_thumbnail_url|host_picture_url|host_neighbourhood|host_listings_count|\n",
      "+---------+----------+-------------+------------------+------------------+-----------------+------------------+----------------+------------------+-------------------+\n",
      "|        4|         4|           13|                 4|                 4|                4|                 4|               4|               843|                  4|\n",
      "+---------+----------+-------------+------------------+------------------+-----------------+------------------+----------------+------------------+-------------------+\n",
      "\n",
      "+-------------------------+------------------+--------------------+----------------------+------+-------------+----------------------+----------------------------+----+-----+\n",
      "|host_total_listings_count|host_verifications|host_has_profile_pic|host_identity_verified|street|neighbourhood|neighbourhood_cleansed|neighbourhood_group_cleansed|city|state|\n",
      "+-------------------------+------------------+--------------------+----------------------+------+-------------+----------------------+----------------------------+----+-----+\n",
      "|                        4|                 0|                   4|                     4|     0|            1|                     0|                           0|   3|    1|\n",
      "+-------------------------+------------------+--------------------+----------------------+------+-------------+----------------------+----------------------------+----+-----+\n",
      "\n",
      "+-------+------+--------------+------------+-------+--------+---------+-----------------+-------------+---------+\n",
      "|zipcode|market|smart_location|country_code|country|latitude|longitude|is_location_exact|property_type|room_type|\n",
      "+-------+------+--------------+------------+-------+--------+---------+-----------------+-------------+---------+\n",
      "|    169|    19|             0|           0|      0|       0|        0|                0|            0|        0|\n",
      "+-------+------+--------------+------------+-------+--------+---------+-----------------+-------------+---------+\n",
      "\n",
      "+------------+---------+--------+----+--------+---------+----------------+------------+---------------+------------+\n",
      "|accommodates|bathrooms|bedrooms|beds|bed_type|amenities|security_deposit|cleaning_fee|guests_included|extra_people|\n",
      "+------------+---------+--------+----+--------+---------+----------------+------------+---------------+------------+\n",
      "|           0|        2|       7|   3|       0|        0|            1541|         769|              0|           0|\n",
      "+------------+---------+--------+----+--------+---------+----------------+------------+---------------+------------+\n",
      "\n",
      "+--------------+--------------+----------------------+----------------------+----------------------+----------------------+----------------------+----------------------+----------------+---------------+\n",
      "|minimum_nights|maximum_nights|minimum_minimum_nights|maximum_minimum_nights|minimum_maximum_nights|maximum_maximum_nights|minimum_nights_avg_ntm|maximum_nights_avg_ntm|calendar_updated|availability_30|\n",
      "+--------------+--------------+----------------------+----------------------+----------------------+----------------------+----------------------+----------------------+----------------+---------------+\n",
      "|             0|             0|                     0|                     0|                     0|                     0|                     0|                     0|               0|              0|\n",
      "+--------------+--------------+----------------------+----------------------+----------------------+----------------------+----------------------+----------------------+----------------+---------------+\n",
      "\n",
      "+---------------+---------------+----------------+-----------------+---------------------+------------+-----------+--------------------+----------------------+-------------------------+\n",
      "|availability_60|availability_90|availability_365|number_of_reviews|number_of_reviews_ltm|first_review|last_review|review_scores_rating|review_scores_accuracy|review_scores_cleanliness|\n",
      "+---------------+---------------+----------------+-----------------+---------------------+------------+-----------+--------------------+----------------------+-------------------------+\n",
      "|              0|              0|               0|                0|                    0|        1261|       1261|                1320|                  1322|                     1322|\n",
      "+---------------+---------------+----------------+-----------------+---------------------+------------+-----------+--------------------+----------------------+-------------------------+\n",
      "\n",
      "+---------------------+---------------------------+----------------------+-------------------+----------------+-------------------+-----------------------------+--------------------------------+------------------------------+-------------------------------------------+\n",
      "|review_scores_checkin|review_scores_communication|review_scores_location|review_scores_value|instant_bookable|cancellation_policy|require_guest_profile_picture|require_guest_phone_verification|calculated_host_listings_count|calculated_host_listings_count_entire_homes|\n",
      "+---------------------+---------------------------+----------------------+-------------------+----------------+-------------------+-----------------------------+--------------------------------+------------------------------+-------------------------------------------+\n",
      "|                 1323|                       1321|                  1323|               1322|               0|                  0|                            0|                               0|                             0|                                          0|\n",
      "+---------------------+---------------------------+----------------------+-------------------+----------------+-------------------+-----------------------------+--------------------------------+------------------------------+-------------------------------------------+\n",
      "\n",
      "+--------------------------------------------+-------------------------------------------+-----------------+\n",
      "|calculated_host_listings_count_private_rooms|calculated_host_listings_count_shared_rooms|reviews_per_month|\n",
      "+--------------------------------------------+-------------------------------------------+-----------------+\n",
      "|                                           0|                                          0|             1261|\n",
      "+--------------------------------------------+-------------------------------------------+-----------------+\n",
      "\n"
     ]
    }
   ],
   "source": [
    "#查看drop部分columns以后NA的情况\n",
    "i = 0\n",
    "j = 10\n",
    "for k in range(9):\n",
    "    df.select([count(when(isnull(c), c)).alias(c) for c in df.columns[i:j]]).show()\n",
    "    i +=10\n",
    "    j +=10"
   ]
  },
  {
   "cell_type": "code",
   "execution_count": 0,
   "metadata": {
    "colab": {
     "base_uri": "https://localhost:8080/",
     "height": 34
    },
    "colab_type": "code",
    "id": "31V-Sei0_oxC",
    "outputId": "d50ea85e-e4c3-4770-a984-392b7b90c815"
   },
   "outputs": [
    {
     "name": "stdout",
     "output_type": "stream",
     "text": [
      "7703 83\n"
     ]
    }
   ],
   "source": [
    "# subset中的列缺失值大于600个， drop掉这12列中缺失值数量大于等于7个的列（也就是超过一半都是NA的行）\n",
    "df = df.dropna(subset=[\"first_review\",\"last_review\",\"review_scores_rating\",\"review_scores_accuracy\"\n",
    "                    ,\"review_scores_cleanliness\",\"review_scores_checkin\",\"review_scores_communication\"\n",
    "                   ,\"review_scores_location\",\"review_scores_value\",'security_deposit'\n",
    "                    ,'host_neighbourhood','cleaning_fee'],thresh=7)\n",
    "print(df.count(),len(df.columns))"
   ]
  },
  {
   "cell_type": "code",
   "execution_count": 0,
   "metadata": {
    "colab": {
     "base_uri": "https://localhost:8080/",
     "height": 955
    },
    "colab_type": "code",
    "id": "seBgA3Jc_yfm",
    "outputId": "288739af-14db-41ea-e643-693b15519f35"
   },
   "outputs": [
    {
     "name": "stdout",
     "output_type": "stream",
     "text": [
      "+---+-----------+---------+----+-------+-----------+-------------------+-----------+-------+--------+\n",
      "| id|listing_url|scrape_id|name|summary|description|experiences_offered|picture_url|host_id|host_url|\n",
      "+---+-----------+---------+----+-------+-----------+-------------------+-----------+-------+--------+\n",
      "|  0|          0|        0|   0|    127|         40|                  0|          0|      0|       0|\n",
      "+---+-----------+---------+----+-------+-----------+-------------------+-----------+-------+--------+\n",
      "\n",
      "+---------+----------+-------------+------------------+------------------+-----------------+------------------+----------------+------------------+-------------------+\n",
      "|host_name|host_since|host_location|host_response_time|host_response_rate|host_is_superhost|host_thumbnail_url|host_picture_url|host_neighbourhood|host_listings_count|\n",
      "+---------+----------+-------------+------------------+------------------+-----------------+------------------+----------------+------------------+-------------------+\n",
      "|        4|         4|           12|                 4|                 4|                4|                 4|               4|               699|                  4|\n",
      "+---------+----------+-------------+------------------+------------------+-----------------+------------------+----------------+------------------+-------------------+\n",
      "\n",
      "+-------------------------+------------------+--------------------+----------------------+------+-------------+----------------------+----------------------------+----+-----+\n",
      "|host_total_listings_count|host_verifications|host_has_profile_pic|host_identity_verified|street|neighbourhood|neighbourhood_cleansed|neighbourhood_group_cleansed|city|state|\n",
      "+-------------------------+------------------+--------------------+----------------------+------+-------------+----------------------+----------------------------+----+-----+\n",
      "|                        4|                 0|                   4|                     4|     0|            0|                     0|                           0|   3|    1|\n",
      "+-------------------------+------------------+--------------------+----------------------+------+-------------+----------------------+----------------------------+----+-----+\n",
      "\n",
      "+-------+------+--------------+------------+-------+--------+---------+-----------------+-------------+---------+\n",
      "|zipcode|market|smart_location|country_code|country|latitude|longitude|is_location_exact|property_type|room_type|\n",
      "+-------+------+--------------+------------+-------+--------+---------+-----------------+-------------+---------+\n",
      "|     83|    14|             0|           0|      0|       0|        0|                0|            0|        0|\n",
      "+-------+------+--------------+------------+-------+--------+---------+-----------------+-------------+---------+\n",
      "\n",
      "+------------+---------+--------+----+--------+---------+----------------+------------+---------------+------------+\n",
      "|accommodates|bathrooms|bedrooms|beds|bed_type|amenities|security_deposit|cleaning_fee|guests_included|extra_people|\n",
      "+------------+---------+--------+----+--------+---------+----------------+------------+---------------+------------+\n",
      "|           0|        0|       4|   0|       0|        0|            1192|         505|              0|           0|\n",
      "+------------+---------+--------+----+--------+---------+----------------+------------+---------------+------------+\n",
      "\n",
      "+--------------+--------------+----------------------+----------------------+----------------------+----------------------+----------------------+----------------------+----------------+---------------+\n",
      "|minimum_nights|maximum_nights|minimum_minimum_nights|maximum_minimum_nights|minimum_maximum_nights|maximum_maximum_nights|minimum_nights_avg_ntm|maximum_nights_avg_ntm|calendar_updated|availability_30|\n",
      "+--------------+--------------+----------------------+----------------------+----------------------+----------------------+----------------------+----------------------+----------------+---------------+\n",
      "|             0|             0|                     0|                     0|                     0|                     0|                     0|                     0|               0|              0|\n",
      "+--------------+--------------+----------------------+----------------------+----------------------+----------------------+----------------------+----------------------+----------------+---------------+\n",
      "\n",
      "+---------------+---------------+----------------+-----------------+---------------------+------------+-----------+--------------------+----------------------+-------------------------+\n",
      "|availability_60|availability_90|availability_365|number_of_reviews|number_of_reviews_ltm|first_review|last_review|review_scores_rating|review_scores_accuracy|review_scores_cleanliness|\n",
      "+---------------+---------------+----------------+-----------------+---------------------+------------+-----------+--------------------+----------------------+-------------------------+\n",
      "|              0|              0|               0|                0|                    0|           0|          0|                   1|                     2|                        2|\n",
      "+---------------+---------------+----------------+-----------------+---------------------+------------+-----------+--------------------+----------------------+-------------------------+\n",
      "\n",
      "+---------------------+---------------------------+----------------------+-------------------+----------------+-------------------+-----------------------------+--------------------------------+------------------------------+-------------------------------------------+\n",
      "|review_scores_checkin|review_scores_communication|review_scores_location|review_scores_value|instant_bookable|cancellation_policy|require_guest_profile_picture|require_guest_phone_verification|calculated_host_listings_count|calculated_host_listings_count_entire_homes|\n",
      "+---------------------+---------------------------+----------------------+-------------------+----------------+-------------------+-----------------------------+--------------------------------+------------------------------+-------------------------------------------+\n",
      "|                    3|                          1|                     3|                  2|               0|                  0|                            0|                               0|                             0|                                          0|\n",
      "+---------------------+---------------------------+----------------------+-------------------+----------------+-------------------+-----------------------------+--------------------------------+------------------------------+-------------------------------------------+\n",
      "\n",
      "+--------------------------------------------+-------------------------------------------+-----------------+\n",
      "|calculated_host_listings_count_private_rooms|calculated_host_listings_count_shared_rooms|reviews_per_month|\n",
      "+--------------------------------------------+-------------------------------------------+-----------------+\n",
      "|                                           0|                                          0|                0|\n",
      "+--------------------------------------------+-------------------------------------------+-----------------+\n",
      "\n"
     ]
    }
   ],
   "source": [
    "#查看第二次drop后NA的情况\n",
    "i = 0\n",
    "j = 10\n",
    "for k in range(9):\n",
    "    df.select([count(when(isnull(c), c)).alias(c) for c in df.columns[i:j]]).show()\n",
    "    i +=10\n",
    "    j +=10"
   ]
  },
  {
   "cell_type": "markdown",
   "metadata": {
    "colab_type": "text",
    "id": "CerP2MTvAa5q"
   },
   "source": [
    "## Statistic description\n",
    "## According to the host_response_rate and host_response_time columns, They have 1906 NA, we need to delete them, and draw a histgram and barplot to see the distribution of rate, we find most of hosts reply after receive messages and the time of reply is less than one hour.The mean_response_rate is 98.09%.\n",
    "\n"
   ]
  },
  {
   "cell_type": "markdown",
   "metadata": {
    "colab_type": "text",
    "id": "ohF0U9faAGLd"
   },
   "source": [
    "## Outlier Visualization"
   ]
  },
  {
   "cell_type": "markdown",
   "metadata": {
    "colab_type": "text",
    "id": "VPsvHuJ6pCQD"
   },
   "source": [
    "## Map"
   ]
  },
  {
   "cell_type": "code",
   "execution_count": 0,
   "metadata": {
    "colab": {
     "base_uri": "https://localhost:8080/",
     "height": 788
    },
    "colab_type": "code",
    "id": "_xQnvZXYpGkl",
    "outputId": "c91d30bc-92c7-4dc7-fc07-b33309797d3c"
   },
   "outputs": [
    {
     "name": "stdout",
     "output_type": "stream",
     "text": [
      "test_X是测试自变量，确定要用？(Y/N)Y\n"
     ]
    },
    {
     "data": {
      "text/html": [
       "<div style=\"width:100%;\"><div style=\"position:relative;width:100%;height:0;padding-bottom:60%;\"><iframe src=\"about:blank\" style=\"position:absolute;width:100%;height:100%;left:0;top:0;border:none !important;\" data-html=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 onload=\"this.contentDocument.open();this.contentDocument.write(atob(this.getAttribute('data-html')));this.contentDocument.close();\" allowfullscreen webkitallowfullscreen mozallowfullscreen></iframe></div></div>"
      ],
      "text/plain": [
       "<folium.folium.Map at 0x7f558bf4fc88>"
      ]
     },
     "execution_count": 18,
     "metadata": {
      "tags": []
     },
     "output_type": "execute_result"
    }
   ],
   "source": [
    "import folium\n",
    "from folium import plugins\n",
    "\n",
    "data = Data().X.toPandas()\n",
    "\n",
    "incidents = folium.map.FeatureGroup()\n",
    "# for lat, lng in zip(data.latitude, data.longitude):\n",
    "#     incidents.add_child(\n",
    "#       folium.CircleMarker(\n",
    "#       [lat,lng],\n",
    "#       radius=3,\n",
    "#       color='yellow',\n",
    "#       fill= True,\n",
    "#       fill_color='red',\n",
    "#       fill_opacity=0.4\n",
    "#       )\n",
    "# )\n",
    "\n",
    "seattle_map = folium.Map(location=[data.latitude.mean(), data.longitude.mean()], zoom_start=12)\n",
    "# incidents = plugins.MarkerCluster().add_to(seattle_map)\n",
    "# for lat, lng, label in zip(data.latitude, data.longitude, data.price):\n",
    "#     folium.Marker(\n",
    "#         location=[lat, lng],\n",
    "#         icon=None,\n",
    "#         popup=label).add_to(incidents)\n",
    "\n",
    "seattle_map.add_child(incidents)\n",
    "seattle_map\n"
   ]
  },
  {
   "cell_type": "markdown",
   "metadata": {
    "colab_type": "text",
    "id": "v03iuh-9m1Qw"
   },
   "source": [
    "# BarPlot"
   ]
  },
  {
   "cell_type": "code",
   "execution_count": 0,
   "metadata": {
    "colab": {
     "base_uri": "https://localhost:8080/",
     "height": 692
    },
    "colab_type": "code",
    "id": "qkKtld65m_f1",
    "outputId": "07d8c28c-3dcd-4047-daab-aad4538e146a"
   },
   "outputs": [
    {
     "name": "stdout",
     "output_type": "stream",
     "text": [
      "within an hour        1855\n",
      "N/A                    572\n",
      "within a few hours     221\n",
      "within a day            69\n",
      "a few days or more      14\n",
      "Name: host_response_time, dtype: int64\n"
     ]
    },
    {
     "data": {
      "image/png": "[encoded data removed]",
      "text/plain": [
       "<Figure size 800x640 with 1 Axes>"
      ]
     },
     "metadata": {
      "tags": []
     },
     "output_type": "display_data"
    }
   ],
   "source": [
    "host_response_time = data['host_response_time'].dropna(axis=0,how='any')\n",
    "print(host_response_time.value_counts())\n",
    "x = ['within an hour', 'within a few hours','within a day', 'a few days or more']\n",
    "y = [6086,703,284,44]\n",
    "plt.figure(figsize=(10,8),dpi = 80)\n",
    "plt.xlabel('Time',fontsize = 18)\n",
    "plt.ylabel('Frequency',fontsize = 18)\n",
    "plt.title('Time of Response',fontsize = 20)\n",
    "plt.bar(range(len(x)),y,width=0.5,color = 'orange')\n",
    "plt.xticks(range(len(x)),x)\n",
    "plt.tick_params(labelsize=15)\n",
    "plt.show()"
   ]
  },
  {
   "cell_type": "code",
   "execution_count": 0,
   "metadata": {
    "colab": {
     "base_uri": "https://localhost:8080/",
     "height": 618
    },
    "colab_type": "code",
    "id": "r4xzSUn_jqUm",
    "outputId": "9f8fd22e-b1e1-48ef-8ce7-9de693ff63fa"
   },
   "outputs": [
    {
     "name": "stdout",
     "output_type": "stream",
     "text": [
      "f    1575\n",
      "t    1156\n",
      "Name: host_is_superhost, dtype: int64\n"
     ]
    },
    {
     "data": {
      "image/png": "[encoded data removed]",
      "text/plain": [
       "<Figure size 800x640 with 1 Axes>"
      ]
     },
     "metadata": {
      "tags": []
     },
     "output_type": "display_data"
    }
   ],
   "source": [
    "host_is_superhost = data['host_is_superhost'].dropna(axis=0, how = 'any')\n",
    "print(host_is_superhost.value_counts())\n",
    "x = ['Superhost','Not Superhost']\n",
    "y = [3745,5274]\n",
    "plt.figure(figsize=(10,8),dpi = 80)\n",
    "plt.ylabel('Frequency',fontsize = 18)\n",
    "plt.title('Whether the host is superhost',fontsize = 20)\n",
    "plt.bar(range(len(x)),y,width=0.2,color = 'orange')\n",
    "plt.xticks(range(len(x)),x)\n",
    "plt.tick_params(labelsize=15)\n",
    "plt.show()"
   ]
  },
  {
   "cell_type": "code",
   "execution_count": 0,
   "metadata": {
    "colab": {
     "base_uri": "https://localhost:8080/",
     "height": 668
    },
    "colab_type": "code",
    "id": "n3osJQ7enWOi",
    "outputId": "740cdbdf-15f6-49bd-d13c-38e6750468e9"
   },
   "outputs": [
    {
     "data": {
      "image/png": "[encoded data removed]",
      "text/plain": [
       "<Figure size 720x576 with 1 Axes>"
      ]
     },
     "metadata": {
      "tags": []
     },
     "output_type": "display_data"
    }
   ],
   "source": [
    "property_type = data['property_type'].dropna(axis=0,how='any')\n",
    "property_type = property_type.value_counts()\n",
    "property_type.plot(kind='bar',figsize=(10,8), color='orange',width = 0.8)\n",
    "plt.xlabel('Property Type',fontsize = 18)\n",
    "plt.ylabel('Frequency',fontsize = 18)\n",
    "plt.title('Distribution of Property Type', fontsize = 20)\n",
    "plt.tick_params(labelsize=15)\n",
    "plt.show()"
   ]
  },
  {
   "cell_type": "code",
   "execution_count": 0,
   "metadata": {
    "colab": {
     "base_uri": "https://localhost:8080/",
     "height": 533
    },
    "colab_type": "code",
    "id": "XqLoKVahZkPD",
    "outputId": "0a5dad13-fd12-4052-8ed7-d9ce0b4e2bf0"
   },
   "outputs": [
    {
     "data": {
      "image/png": "[encoded data removed]",
      "text/plain": [
       "<Figure size 720x576 with 1 Axes>"
      ]
     },
     "metadata": {
      "tags": []
     },
     "output_type": "display_data"
    }
   ],
   "source": [
    "room_type = data['room_type'].dropna(axis=0,how='any')\n",
    "room_type = room_type.value_counts()\n",
    "room_type.plot(kind='bar',figsize=(10,8), color='orange', width = 0.8)\n",
    "plt.xlabel('Room Type',fontsize = 18)\n",
    "plt.ylabel('Frequency',fontsize = 18)\n",
    "plt.title('Distribution of Room Type', fontsize = 20)\n",
    "plt.tick_params(labelsize=15)\n",
    "plt.xticks(rotation = 0)\n",
    "plt.show()"
   ]
  },
  {
   "cell_type": "markdown",
   "metadata": {
    "colab_type": "text",
    "id": "eFIwXJz4AKF1"
   },
   "source": [
    "### Histogram"
   ]
  },
  {
   "cell_type": "code",
   "execution_count": 0,
   "metadata": {
    "colab": {
     "base_uri": "https://localhost:8080/",
     "height": 443
    },
    "colab_type": "code",
    "id": "P-ri5RGBIuHm",
    "outputId": "49cbf0f8-7389-4c36-a506-18fe0d98223e"
   },
   "outputs": [
    {
     "name": "stdout",
     "output_type": "stream",
     "text": [
      "False    2731\n",
      "True        2\n",
      "Name: host_response_rate, dtype: int64\n",
      "The amount of Na in the host_response_rate column is : 2\n"
     ]
    },
    {
     "ename": "ValueError",
     "evalue": "ignored",
     "output_type": "error",
     "traceback": [
      "\u001b[0;31m---------------------------------------------------------------------------\u001b[0m",
      "\u001b[0;31mValueError\u001b[0m                                Traceback (most recent call last)",
      "\u001b[0;32m<ipython-input-23-ed871f1c1460>\u001b[0m in \u001b[0;36m<module>\u001b[0;34m()\u001b[0m\n\u001b[1;32m      3\u001b[0m \u001b[0mprint\u001b[0m\u001b[0;34m(\u001b[0m\u001b[0;34m'The amount of Na in the host_response_rate column is :'\u001b[0m\u001b[0;34m,\u001b[0m \u001b[0mNanAmount\u001b[0m\u001b[0;34m[\u001b[0m\u001b[0;36m1\u001b[0m\u001b[0;34m]\u001b[0m\u001b[0;34m)\u001b[0m\u001b[0;34m\u001b[0m\u001b[0;34m\u001b[0m\u001b[0m\n\u001b[1;32m      4\u001b[0m \u001b[0mhost_response_rate\u001b[0m \u001b[0;34m=\u001b[0m \u001b[0mdata\u001b[0m\u001b[0;34m[\u001b[0m\u001b[0;34m'host_response_rate'\u001b[0m\u001b[0;34m]\u001b[0m\u001b[0;34m.\u001b[0m\u001b[0mdropna\u001b[0m\u001b[0;34m(\u001b[0m\u001b[0maxis\u001b[0m\u001b[0;34m=\u001b[0m\u001b[0;36m0\u001b[0m\u001b[0;34m,\u001b[0m\u001b[0mhow\u001b[0m\u001b[0;34m=\u001b[0m\u001b[0;34m'any'\u001b[0m\u001b[0;34m)\u001b[0m\u001b[0;34m\u001b[0m\u001b[0;34m\u001b[0m\u001b[0m\n\u001b[0;32m----> 5\u001b[0;31m \u001b[0mhost_response_rate\u001b[0m \u001b[0;34m=\u001b[0m \u001b[0mhost_response_rate\u001b[0m\u001b[0;34m.\u001b[0m\u001b[0mstr\u001b[0m\u001b[0;34m.\u001b[0m\u001b[0mstrip\u001b[0m\u001b[0;34m(\u001b[0m\u001b[0;34m\"%\"\u001b[0m\u001b[0;34m)\u001b[0m\u001b[0;34m.\u001b[0m\u001b[0mastype\u001b[0m\u001b[0;34m(\u001b[0m\u001b[0mfloat\u001b[0m\u001b[0;34m)\u001b[0m\u001b[0;34m\u001b[0m\u001b[0;34m\u001b[0m\u001b[0m\n\u001b[0m\u001b[1;32m      6\u001b[0m \u001b[0mprint\u001b[0m\u001b[0;34m(\u001b[0m\u001b[0;34m'The average rate is :'\u001b[0m\u001b[0;34m,\u001b[0m\u001b[0mhost_response_rate\u001b[0m\u001b[0;34m.\u001b[0m\u001b[0mmean\u001b[0m\u001b[0;34m(\u001b[0m\u001b[0;34m)\u001b[0m\u001b[0;34m)\u001b[0m\u001b[0;34m\u001b[0m\u001b[0;34m\u001b[0m\u001b[0m\n\u001b[1;32m      7\u001b[0m \u001b[0mplt\u001b[0m\u001b[0;34m.\u001b[0m\u001b[0mfigure\u001b[0m\u001b[0;34m(\u001b[0m\u001b[0mfigsize\u001b[0m\u001b[0;34m=\u001b[0m\u001b[0;34m(\u001b[0m\u001b[0;36m10\u001b[0m\u001b[0;34m,\u001b[0m\u001b[0;36m8\u001b[0m\u001b[0;34m)\u001b[0m\u001b[0;34m,\u001b[0m\u001b[0mdpi\u001b[0m \u001b[0;34m=\u001b[0m \u001b[0;36m80\u001b[0m\u001b[0;34m)\u001b[0m\u001b[0;34m\u001b[0m\u001b[0;34m\u001b[0m\u001b[0m\n",
      "\u001b[0;32m/usr/local/lib/python3.6/dist-packages/pandas/core/generic.py\u001b[0m in \u001b[0;36mastype\u001b[0;34m(self, dtype, copy, errors, **kwargs)\u001b[0m\n\u001b[1;32m   5880\u001b[0m             \u001b[0;31m# else, only a single dtype is given\u001b[0m\u001b[0;34m\u001b[0m\u001b[0;34m\u001b[0m\u001b[0;34m\u001b[0m\u001b[0m\n\u001b[1;32m   5881\u001b[0m             new_data = self._data.astype(\n\u001b[0;32m-> 5882\u001b[0;31m                 \u001b[0mdtype\u001b[0m\u001b[0;34m=\u001b[0m\u001b[0mdtype\u001b[0m\u001b[0;34m,\u001b[0m \u001b[0mcopy\u001b[0m\u001b[0;34m=\u001b[0m\u001b[0mcopy\u001b[0m\u001b[0;34m,\u001b[0m \u001b[0merrors\u001b[0m\u001b[0;34m=\u001b[0m\u001b[0merrors\u001b[0m\u001b[0;34m,\u001b[0m \u001b[0;34m**\u001b[0m\u001b[0mkwargs\u001b[0m\u001b[0;34m\u001b[0m\u001b[0;34m\u001b[0m\u001b[0m\n\u001b[0m\u001b[1;32m   5883\u001b[0m             )\n\u001b[1;32m   5884\u001b[0m             \u001b[0;32mreturn\u001b[0m \u001b[0mself\u001b[0m\u001b[0;34m.\u001b[0m\u001b[0m_constructor\u001b[0m\u001b[0;34m(\u001b[0m\u001b[0mnew_data\u001b[0m\u001b[0;34m)\u001b[0m\u001b[0;34m.\u001b[0m\u001b[0m__finalize__\u001b[0m\u001b[0;34m(\u001b[0m\u001b[0mself\u001b[0m\u001b[0;34m)\u001b[0m\u001b[0;34m\u001b[0m\u001b[0;34m\u001b[0m\u001b[0m\n",
      "\u001b[0;32m/usr/local/lib/python3.6/dist-packages/pandas/core/internals/managers.py\u001b[0m in \u001b[0;36mastype\u001b[0;34m(self, dtype, **kwargs)\u001b[0m\n\u001b[1;32m    579\u001b[0m \u001b[0;34m\u001b[0m\u001b[0m\n\u001b[1;32m    580\u001b[0m     \u001b[0;32mdef\u001b[0m \u001b[0mastype\u001b[0m\u001b[0;34m(\u001b[0m\u001b[0mself\u001b[0m\u001b[0;34m,\u001b[0m \u001b[0mdtype\u001b[0m\u001b[0;34m,\u001b[0m \u001b[0;34m**\u001b[0m\u001b[0mkwargs\u001b[0m\u001b[0;34m)\u001b[0m\u001b[0;34m:\u001b[0m\u001b[0;34m\u001b[0m\u001b[0;34m\u001b[0m\u001b[0m\n\u001b[0;32m--> 581\u001b[0;31m         \u001b[0;32mreturn\u001b[0m \u001b[0mself\u001b[0m\u001b[0;34m.\u001b[0m\u001b[0mapply\u001b[0m\u001b[0;34m(\u001b[0m\u001b[0;34m\"astype\"\u001b[0m\u001b[0;34m,\u001b[0m \u001b[0mdtype\u001b[0m\u001b[0;34m=\u001b[0m\u001b[0mdtype\u001b[0m\u001b[0;34m,\u001b[0m \u001b[0;34m**\u001b[0m\u001b[0mkwargs\u001b[0m\u001b[0;34m)\u001b[0m\u001b[0;34m\u001b[0m\u001b[0;34m\u001b[0m\u001b[0m\n\u001b[0m\u001b[1;32m    582\u001b[0m \u001b[0;34m\u001b[0m\u001b[0m\n\u001b[1;32m    583\u001b[0m     \u001b[0;32mdef\u001b[0m \u001b[0mconvert\u001b[0m\u001b[0;34m(\u001b[0m\u001b[0mself\u001b[0m\u001b[0;34m,\u001b[0m \u001b[0;34m**\u001b[0m\u001b[0mkwargs\u001b[0m\u001b[0;34m)\u001b[0m\u001b[0;34m:\u001b[0m\u001b[0;34m\u001b[0m\u001b[0;34m\u001b[0m\u001b[0m\n",
      "\u001b[0;32m/usr/local/lib/python3.6/dist-packages/pandas/core/internals/managers.py\u001b[0m in \u001b[0;36mapply\u001b[0;34m(self, f, axes, filter, do_integrity_check, consolidate, **kwargs)\u001b[0m\n\u001b[1;32m    436\u001b[0m                     \u001b[0mkwargs\u001b[0m\u001b[0;34m[\u001b[0m\u001b[0mk\u001b[0m\u001b[0;34m]\u001b[0m \u001b[0;34m=\u001b[0m \u001b[0mobj\u001b[0m\u001b[0;34m.\u001b[0m\u001b[0mreindex\u001b[0m\u001b[0;34m(\u001b[0m\u001b[0mb_items\u001b[0m\u001b[0;34m,\u001b[0m \u001b[0maxis\u001b[0m\u001b[0;34m=\u001b[0m\u001b[0maxis\u001b[0m\u001b[0;34m,\u001b[0m \u001b[0mcopy\u001b[0m\u001b[0;34m=\u001b[0m\u001b[0malign_copy\u001b[0m\u001b[0;34m)\u001b[0m\u001b[0;34m\u001b[0m\u001b[0;34m\u001b[0m\u001b[0m\n\u001b[1;32m    437\u001b[0m \u001b[0;34m\u001b[0m\u001b[0m\n\u001b[0;32m--> 438\u001b[0;31m             \u001b[0mapplied\u001b[0m \u001b[0;34m=\u001b[0m \u001b[0mgetattr\u001b[0m\u001b[0;34m(\u001b[0m\u001b[0mb\u001b[0m\u001b[0;34m,\u001b[0m \u001b[0mf\u001b[0m\u001b[0;34m)\u001b[0m\u001b[0;34m(\u001b[0m\u001b[0;34m**\u001b[0m\u001b[0mkwargs\u001b[0m\u001b[0;34m)\u001b[0m\u001b[0;34m\u001b[0m\u001b[0;34m\u001b[0m\u001b[0m\n\u001b[0m\u001b[1;32m    439\u001b[0m             \u001b[0mresult_blocks\u001b[0m \u001b[0;34m=\u001b[0m \u001b[0m_extend_blocks\u001b[0m\u001b[0;34m(\u001b[0m\u001b[0mapplied\u001b[0m\u001b[0;34m,\u001b[0m \u001b[0mresult_blocks\u001b[0m\u001b[0;34m)\u001b[0m\u001b[0;34m\u001b[0m\u001b[0;34m\u001b[0m\u001b[0m\n\u001b[1;32m    440\u001b[0m \u001b[0;34m\u001b[0m\u001b[0m\n",
      "\u001b[0;32m/usr/local/lib/python3.6/dist-packages/pandas/core/internals/blocks.py\u001b[0m in \u001b[0;36mastype\u001b[0;34m(self, dtype, copy, errors, values, **kwargs)\u001b[0m\n\u001b[1;32m    557\u001b[0m \u001b[0;34m\u001b[0m\u001b[0m\n\u001b[1;32m    558\u001b[0m     \u001b[0;32mdef\u001b[0m \u001b[0mastype\u001b[0m\u001b[0;34m(\u001b[0m\u001b[0mself\u001b[0m\u001b[0;34m,\u001b[0m \u001b[0mdtype\u001b[0m\u001b[0;34m,\u001b[0m \u001b[0mcopy\u001b[0m\u001b[0;34m=\u001b[0m\u001b[0;32mFalse\u001b[0m\u001b[0;34m,\u001b[0m \u001b[0merrors\u001b[0m\u001b[0;34m=\u001b[0m\u001b[0;34m\"raise\"\u001b[0m\u001b[0;34m,\u001b[0m \u001b[0mvalues\u001b[0m\u001b[0;34m=\u001b[0m\u001b[0;32mNone\u001b[0m\u001b[0;34m,\u001b[0m \u001b[0;34m**\u001b[0m\u001b[0mkwargs\u001b[0m\u001b[0;34m)\u001b[0m\u001b[0;34m:\u001b[0m\u001b[0;34m\u001b[0m\u001b[0;34m\u001b[0m\u001b[0m\n\u001b[0;32m--> 559\u001b[0;31m         \u001b[0;32mreturn\u001b[0m \u001b[0mself\u001b[0m\u001b[0;34m.\u001b[0m\u001b[0m_astype\u001b[0m\u001b[0;34m(\u001b[0m\u001b[0mdtype\u001b[0m\u001b[0;34m,\u001b[0m \u001b[0mcopy\u001b[0m\u001b[0;34m=\u001b[0m\u001b[0mcopy\u001b[0m\u001b[0;34m,\u001b[0m \u001b[0merrors\u001b[0m\u001b[0;34m=\u001b[0m\u001b[0merrors\u001b[0m\u001b[0;34m,\u001b[0m \u001b[0mvalues\u001b[0m\u001b[0;34m=\u001b[0m\u001b[0mvalues\u001b[0m\u001b[0;34m,\u001b[0m \u001b[0;34m**\u001b[0m\u001b[0mkwargs\u001b[0m\u001b[0;34m)\u001b[0m\u001b[0;34m\u001b[0m\u001b[0;34m\u001b[0m\u001b[0m\n\u001b[0m\u001b[1;32m    560\u001b[0m \u001b[0;34m\u001b[0m\u001b[0m\n\u001b[1;32m    561\u001b[0m     \u001b[0;32mdef\u001b[0m \u001b[0m_astype\u001b[0m\u001b[0;34m(\u001b[0m\u001b[0mself\u001b[0m\u001b[0;34m,\u001b[0m \u001b[0mdtype\u001b[0m\u001b[0;34m,\u001b[0m \u001b[0mcopy\u001b[0m\u001b[0;34m=\u001b[0m\u001b[0;32mFalse\u001b[0m\u001b[0;34m,\u001b[0m \u001b[0merrors\u001b[0m\u001b[0;34m=\u001b[0m\u001b[0;34m\"raise\"\u001b[0m\u001b[0;34m,\u001b[0m \u001b[0mvalues\u001b[0m\u001b[0;34m=\u001b[0m\u001b[0;32mNone\u001b[0m\u001b[0;34m,\u001b[0m \u001b[0;34m**\u001b[0m\u001b[0mkwargs\u001b[0m\u001b[0;34m)\u001b[0m\u001b[0;34m:\u001b[0m\u001b[0;34m\u001b[0m\u001b[0;34m\u001b[0m\u001b[0m\n",
      "\u001b[0;32m/usr/local/lib/python3.6/dist-packages/pandas/core/internals/blocks.py\u001b[0m in \u001b[0;36m_astype\u001b[0;34m(self, dtype, copy, errors, values, **kwargs)\u001b[0m\n\u001b[1;32m    641\u001b[0m                     \u001b[0;31m# _astype_nansafe works fine with 1-d only\u001b[0m\u001b[0;34m\u001b[0m\u001b[0;34m\u001b[0m\u001b[0;34m\u001b[0m\u001b[0m\n\u001b[1;32m    642\u001b[0m                     \u001b[0mvals1d\u001b[0m \u001b[0;34m=\u001b[0m \u001b[0mvalues\u001b[0m\u001b[0;34m.\u001b[0m\u001b[0mravel\u001b[0m\u001b[0;34m(\u001b[0m\u001b[0;34m)\u001b[0m\u001b[0;34m\u001b[0m\u001b[0;34m\u001b[0m\u001b[0m\n\u001b[0;32m--> 643\u001b[0;31m                     \u001b[0mvalues\u001b[0m \u001b[0;34m=\u001b[0m \u001b[0mastype_nansafe\u001b[0m\u001b[0;34m(\u001b[0m\u001b[0mvals1d\u001b[0m\u001b[0;34m,\u001b[0m \u001b[0mdtype\u001b[0m\u001b[0;34m,\u001b[0m \u001b[0mcopy\u001b[0m\u001b[0;34m=\u001b[0m\u001b[0;32mTrue\u001b[0m\u001b[0;34m,\u001b[0m \u001b[0;34m**\u001b[0m\u001b[0mkwargs\u001b[0m\u001b[0;34m)\u001b[0m\u001b[0;34m\u001b[0m\u001b[0;34m\u001b[0m\u001b[0m\n\u001b[0m\u001b[1;32m    644\u001b[0m \u001b[0;34m\u001b[0m\u001b[0m\n\u001b[1;32m    645\u001b[0m                 \u001b[0;31m# TODO(extension)\u001b[0m\u001b[0;34m\u001b[0m\u001b[0;34m\u001b[0m\u001b[0;34m\u001b[0m\u001b[0m\n",
      "\u001b[0;32m/usr/local/lib/python3.6/dist-packages/pandas/core/dtypes/cast.py\u001b[0m in \u001b[0;36mastype_nansafe\u001b[0;34m(arr, dtype, copy, skipna)\u001b[0m\n\u001b[1;32m    727\u001b[0m     \u001b[0;32mif\u001b[0m \u001b[0mcopy\u001b[0m \u001b[0;32mor\u001b[0m \u001b[0mis_object_dtype\u001b[0m\u001b[0;34m(\u001b[0m\u001b[0marr\u001b[0m\u001b[0;34m)\u001b[0m \u001b[0;32mor\u001b[0m \u001b[0mis_object_dtype\u001b[0m\u001b[0;34m(\u001b[0m\u001b[0mdtype\u001b[0m\u001b[0;34m)\u001b[0m\u001b[0;34m:\u001b[0m\u001b[0;34m\u001b[0m\u001b[0;34m\u001b[0m\u001b[0m\n\u001b[1;32m    728\u001b[0m         \u001b[0;31m# Explicit copy, or required since NumPy can't view from / to object.\u001b[0m\u001b[0;34m\u001b[0m\u001b[0;34m\u001b[0m\u001b[0;34m\u001b[0m\u001b[0m\n\u001b[0;32m--> 729\u001b[0;31m         \u001b[0;32mreturn\u001b[0m \u001b[0marr\u001b[0m\u001b[0;34m.\u001b[0m\u001b[0mastype\u001b[0m\u001b[0;34m(\u001b[0m\u001b[0mdtype\u001b[0m\u001b[0;34m,\u001b[0m \u001b[0mcopy\u001b[0m\u001b[0;34m=\u001b[0m\u001b[0;32mTrue\u001b[0m\u001b[0;34m)\u001b[0m\u001b[0;34m\u001b[0m\u001b[0;34m\u001b[0m\u001b[0m\n\u001b[0m\u001b[1;32m    730\u001b[0m \u001b[0;34m\u001b[0m\u001b[0m\n\u001b[1;32m    731\u001b[0m     \u001b[0;32mreturn\u001b[0m \u001b[0marr\u001b[0m\u001b[0;34m.\u001b[0m\u001b[0mview\u001b[0m\u001b[0;34m(\u001b[0m\u001b[0mdtype\u001b[0m\u001b[0;34m)\u001b[0m\u001b[0;34m\u001b[0m\u001b[0;34m\u001b[0m\u001b[0m\n",
      "\u001b[0;31mValueError\u001b[0m: could not convert string to float: 'N/A'"
     ]
    }
   ],
   "source": [
    "NanAmount = data['host_response_rate'].isnull().value_counts()\n",
    "print(NanAmount)\n",
    "print('The amount of Na in the host_response_rate column is :', NanAmount[1])\n",
    "host_response_rate = data['host_response_rate'].dropna(axis=0,how='any')\n",
    "host_response_rate = host_response_rate.str.strip(\"%\").astype(float)\n",
    "print('The average rate is :',host_response_rate.mean())\n",
    "plt.figure(figsize=(10,8),dpi = 80)\n",
    "plt.hist(host_response_rate,10,color='orange')\n",
    "plt.xlabel('host_response_rate(%)',fontsize = 18)\n",
    "plt.ylabel('frequency',fontsize = 18)\n",
    "_xtick_labels = [i for i in range(0,101)]\n",
    "plt.xticks(_xtick_labels[::10])\n",
    "plt.title('Response rate of host',fontsize = 20)\n",
    "plt.tick_params(labelsize=15)\n",
    "plt.show()"
   ]
  },
  {
   "cell_type": "markdown",
   "metadata": {
    "colab_type": "text",
    "id": "IcQ_Qvv_APPj"
   },
   "source": [
    "### Boxplot"
   ]
  },
  {
   "cell_type": "code",
   "execution_count": 0,
   "metadata": {
    "colab": {
     "base_uri": "https://localhost:8080/",
     "height": 34
    },
    "colab_type": "code",
    "id": "okJwszvk7e6M",
    "outputId": "af661440-651b-494b-e6b2-48f79b91f2aa"
   },
   "outputs": [
    {
     "name": "stdout",
     "output_type": "stream",
     "text": [
      "raw_data是原始未分割数据，确定要用？(Y/N)Y\n"
     ]
    }
   ],
   "source": [
    "# Mark\n",
    "data = Data().raw_data.toPandas()"
   ]
  },
  {
   "cell_type": "code",
   "execution_count": 0,
   "metadata": {
    "colab": {
     "base_uri": "https://localhost:8080/",
     "height": 302
    },
    "colab_type": "code",
    "id": "TWJAJMs7Dlpv",
    "outputId": "42eff386-1e78-453b-d70d-4d1a4ba25dc1"
   },
   "outputs": [
    {
     "data": {
      "text/plain": [
       "<matplotlib.axes._subplots.AxesSubplot at 0x7f55871510f0>"
      ]
     },
     "execution_count": 26,
     "metadata": {
      "tags": []
     },
     "output_type": "execute_result"
    },
    {
     "data": {
      "image/png": "[encoded data removed]",
      "text/plain": [
       "<Figure size 432x288 with 1 Axes>"
      ]
     },
     "metadata": {
      "tags": []
     },
     "output_type": "display_data"
    }
   ],
   "source": [
    "data.price  = data.price.dropna(axis=0,how='any')\n",
    "data.price = data.price.str.replace(',','')\n",
    "data.price = data.price.str.replace('$','')\n",
    "data.price = pd.to_numeric(data.price)\n",
    "sns.set(style=\"whitegrid\")\n",
    "sns.boxplot(x=data.price )"
   ]
  },
  {
   "cell_type": "code",
   "execution_count": 0,
   "metadata": {
    "colab": {},
    "colab_type": "code",
    "id": "dtP0YY5NtGKy"
   },
   "outputs": [],
   "source": [
    "data.security_deposit  = data.security_deposit.dropna(axis=0,how='any')\n",
    "data.security_deposit = data.security_deposit.str.replace(',','')\n",
    "data.security_deposit = data.security_deposit.str.replace('$','')\n",
    "data.security_deposit = pd.to_numeric(data.security_deposit)\n",
    "sns.set(style=\"whitegrid\")\n",
    "sns.boxplot(x=data.security_deposit )"
   ]
  },
  {
   "cell_type": "code",
   "execution_count": 0,
   "metadata": {
    "colab": {},
    "colab_type": "code",
    "id": "-LrvgpvAtKvn"
   },
   "outputs": [],
   "source": [
    "data.cleaning_fee  = data.cleaning_fee.dropna(axis=0,how='any')\n",
    "data.cleaning_fee = data.cleaning_fee.str.replace(',','')\n",
    "data.cleaning_fee = data.cleaning_fee.str.replace('$','')\n",
    "data.cleaning_fee = pd.to_numeric(data.cleaning_fee)\n",
    "sns.set(style=\"whitegrid\")\n",
    "sns.boxplot(x=data.cleaning_fee )"
   ]
  },
  {
   "cell_type": "code",
   "execution_count": 0,
   "metadata": {
    "colab": {},
    "colab_type": "code",
    "id": "CELKt55iG6xM"
   },
   "outputs": [],
   "source": [
    "data = Data().raw_data.toPandas()"
   ]
  },
  {
   "cell_type": "code",
   "execution_count": 0,
   "metadata": {
    "colab": {},
    "colab_type": "code",
    "id": "EUYzPjILE_8K"
   },
   "outputs": [],
   "source": [
    "price_list = ['price', 'security_deposit', 'cleaning_fee']\n",
    "for i in price_list:\n",
    "  i  = data[i].dropna(axis=0,how='any')\n",
    "  i = i.str.replace(',','')\n",
    "  i = i.str.replace('$','')\n",
    "  i = pd.to_numeric(i)\n",
    "  sns.set(style=\"whitegrid\")\n",
    "  sns.boxplot(x=i)\n"
   ]
  },
  {
   "cell_type": "code",
   "execution_count": 0,
   "metadata": {
    "colab": {},
    "colab_type": "code",
    "id": "wwH9VVsuCr74"
   },
   "outputs": [],
   "source": [
    "list = ['host_listings_count', \n",
    " 'host_total_listings_count', \n",
    " 'accommodates',\n",
    " 'bathrooms',\n",
    " 'bedrooms',\n",
    " 'beds',\n",
    " 'guests_included',\n",
    " 'minimum_nights',\n",
    " 'maximum_nights',\n",
    " 'minimum_minimum_nights',\n",
    " 'maximum_minimum_nights',\n",
    " 'minimum_maximum_nights',\n",
    " 'maximum_maximum_nights',\n",
    " 'minimum_nights_avg_ntm',\n",
    " 'maximum_nights_avg_ntm',\n",
    " 'number_of_reviews',\n",
    " 'number_of_reviews_ltm',\n",
    " ]\n"
   ]
  },
  {
   "cell_type": "code",
   "execution_count": 0,
   "metadata": {
    "colab": {},
    "colab_type": "code",
    "id": "AdiW7s64KHn0"
   },
   "outputs": [],
   "source": [
    "for i in list:\n",
    "  title = i\n",
    "  i = data[i].dropna(axis=0,how='any')\n",
    "  sns.set(style=\"whitegrid\")\n",
    "  sns.boxplot(x=i)\n",
    "  plt.show()"
   ]
  },
  {
   "cell_type": "markdown",
   "metadata": {
    "colab_type": "text",
    "id": "Lh2jSQWyARMX"
   },
   "source": [
    "### PairPlot"
   ]
  },
  {
   "cell_type": "markdown",
   "metadata": {
    "colab_type": "text",
    "id": "GryukAScATeQ"
   },
   "source": [
    "## Correlation Visualization"
   ]
  },
  {
   "cell_type": "code",
   "execution_count": 0,
   "metadata": {
    "colab": {},
    "colab_type": "code",
    "id": "RGwLzUTVXDe5"
   },
   "outputs": [],
   "source": [
    "data = Data().raw_data.toPandas()"
   ]
  },
  {
   "cell_type": "code",
   "execution_count": 0,
   "metadata": {
    "colab": {},
    "colab_type": "code",
    "id": "g6PxTmYwWVJo"
   },
   "outputs": [],
   "source": [
    "#col_list = []\n",
    "sns.heatmap()"
   ]
  },
  {
   "cell_type": "markdown",
   "metadata": {
    "colab_type": "text",
    "id": "oxRCVKlfAaDj"
   },
   "source": [
    "## Domain knowledge, knowledge research"
   ]
  },
  {
   "cell_type": "markdown",
   "metadata": {
    "colab_type": "text",
    "id": "ptn_n9fR__13"
   },
   "source": [
    "# Data Wrangling"
   ]
  },
  {
   "cell_type": "markdown",
   "metadata": {
    "colab_type": "text",
    "id": "WX2u5cCUsd1K"
   },
   "source": [
    "Constructing analyzing pipeline"
   ]
  },
  {
   "cell_type": "code",
   "execution_count": 0,
   "metadata": {
    "colab": {},
    "colab_type": "code",
    "id": "smBu9IdIsW-Y"
   },
   "outputs": [],
   "source": [
    "from pyspark.ml import Pipeline, Transformer\n",
    "from pyspark.sql import DataFrame\n",
    "\n",
    "\n",
    "data = Data()\n",
    "train_X = data.train_X\n",
    "train_Y = data.test_Y\n",
    "print(train_Y)\n"
   ]
  },
  {
   "cell_type": "markdown",
   "metadata": {
    "colab_type": "text",
    "id": "D4tQuI0v9ngU"
   },
   "source": [
    "自定义管道，可用作验证时管道的复用"
   ]
  },
  {
   "cell_type": "code",
   "execution_count": 0,
   "metadata": {
    "colab": {},
    "colab_type": "code",
    "id": "hpA3ZTb-uApe"
   },
   "outputs": [],
   "source": [
    "# 这是个自定义管道的例子\n",
    "class CustomTransformer(Transformer):\n",
    "  def _transform(self, df: DataFrame) -> DataFrame:\n",
    "    return df\n"
   ]
  },
  {
   "cell_type": "markdown",
   "metadata": {
    "colab_type": "text",
    "id": "rhIRCVAs93JM"
   },
   "source": [
    "总体分析步骤，你们挑感兴趣的步骤写"
   ]
  },
  {
   "cell_type": "code",
   "execution_count": 0,
   "metadata": {
    "colab": {},
    "colab_type": "code",
    "id": "On-c8ZvipC4E"
   },
   "outputs": [],
   "source": [
    "class LowVarianceFilter(Transformer):\n",
    "  def _transform(self, df: DataFrame) -> DataFrame:\n",
    "    return df"
   ]
  },
  {
   "cell_type": "markdown",
   "metadata": {
    "colab_type": "text",
    "id": "jm1otRkJ-K-8"
   },
   "source": [
    "空值分析"
   ]
  },
  {
   "cell_type": "code",
   "execution_count": 0,
   "metadata": {
    "colab": {},
    "colab_type": "code",
    "id": "jsf0dUJj-Ihb"
   },
   "outputs": [],
   "source": [
    "class MissingValueTransformer(Transformer):\n",
    "  def _transform(self, df: DataFrame) -> DataFrame:\n",
    "    return df"
   ]
  },
  {
   "cell_type": "markdown",
   "metadata": {
    "colab_type": "text",
    "id": "3ek8TH_b-Xjg"
   },
   "source": [
    "字段筛选"
   ]
  },
  {
   "cell_type": "code",
   "execution_count": 0,
   "metadata": {
    "colab": {},
    "colab_type": "code",
    "id": "x_Kj6I_c-Jnr"
   },
   "outputs": [],
   "source": [
    "class DropColumnTransformer(Transformer):\n",
    "  def _transform(self, df: DataFrame) -> DataFrame:\n",
    "    return df"
   ]
  },
  {
   "cell_type": "markdown",
   "metadata": {
    "colab_type": "text",
    "id": "Bh1uuMqF-jh9"
   },
   "source": [
    "One-Hot Encoding"
   ]
  },
  {
   "cell_type": "code",
   "execution_count": 0,
   "metadata": {
    "colab": {},
    "colab_type": "code",
    "id": "zq3fjr-K-mxw"
   },
   "outputs": [],
   "source": [
    "# 这个其实官方库已经有了，只需要找到网上的例子搬过来\n",
    "class OneHotTransformer(Transformer):\n",
    "  def _transform(self, df: DataFrame) -> DataFrame:\n",
    "    return df"
   ]
  },
  {
   "cell_type": "markdown",
   "metadata": {
    "colab_type": "text",
    "id": "XmgzTn_q-vlk"
   },
   "source": [
    "Outlier Handling\n",
    "1. Drop"
   ]
  },
  {
   "cell_type": "code",
   "execution_count": 0,
   "metadata": {
    "colab": {},
    "colab_type": "code",
    "id": "QrlTmqP6_UvG"
   },
   "outputs": [],
   "source": [
    "class OutlierDropTransformer(Transformer):\n",
    "  def _transform(self, df: DataFrame) -> DataFrame:\n",
    "    return df"
   ]
  },
  {
   "cell_type": "markdown",
   "metadata": {
    "colab_type": "text",
    "id": "p857XERv-3tn"
   },
   "source": [
    "2. Replace with mean"
   ]
  },
  {
   "cell_type": "code",
   "execution_count": 0,
   "metadata": {
    "colab": {},
    "colab_type": "code",
    "id": "RP2L76BV_XZ7"
   },
   "outputs": [],
   "source": [
    "class OutlierReplaceMeanTransformer(Transformer):\n",
    "  def _transform(self, df: DataFrame) -> DataFrame:\n",
    "    return df"
   ]
  },
  {
   "cell_type": "markdown",
   "metadata": {
    "colab_type": "text",
    "id": "qzr7oRwJ-8SN"
   },
   "source": [
    "3. Replace with median"
   ]
  },
  {
   "cell_type": "code",
   "execution_count": 0,
   "metadata": {
    "colab": {},
    "colab_type": "code",
    "id": "LDnN8YB9_f6Z"
   },
   "outputs": [],
   "source": [
    "class OutlierReplaceMedianTransformer(Transformer):\n",
    "  def _transform(self, df: DataFrame) -> DataFrame:\n",
    "    return df"
   ]
  },
  {
   "cell_type": "markdown",
   "metadata": {
    "colab_type": "text",
    "id": "gGJR24zl_ATM"
   },
   "source": [
    "4. Randomly replae with new value(using normal distribution)"
   ]
  },
  {
   "cell_type": "markdown",
   "metadata": {
    "colab_type": "text",
    "id": "e-FEwTf6A1y0"
   },
   "source": [
    "5. Logarithm encoding"
   ]
  },
  {
   "cell_type": "code",
   "execution_count": 0,
   "metadata": {
    "colab": {},
    "colab_type": "code",
    "id": "DF6Gj7p0_iJw"
   },
   "outputs": [],
   "source": [
    "class OutlierReplaceRandomNormalDistTransformer(Transformer):\n",
    "  def _transform(self, df: DataFrame) -> DataFrame:\n",
    "    return df"
   ]
  },
  {
   "cell_type": "markdown",
   "metadata": {
    "colab_type": "text",
    "id": "db1NIP60_o9D"
   },
   "source": [
    "Scaling\n",
    "1. Min-max Scaling"
   ]
  },
  {
   "cell_type": "code",
   "execution_count": 0,
   "metadata": {
    "colab": {},
    "colab_type": "code",
    "id": "1CHSiKp6_swx"
   },
   "outputs": [],
   "source": [
    "#有现成的了"
   ]
  },
  {
   "cell_type": "markdown",
   "metadata": {
    "colab_type": "text",
    "id": "3xWuOpQ0_u4H"
   },
   "source": [
    "2. Standardize Scaling"
   ]
  },
  {
   "cell_type": "code",
   "execution_count": 0,
   "metadata": {
    "colab": {},
    "colab_type": "code",
    "id": "rmJr8q8M_xjV"
   },
   "outputs": [],
   "source": [
    "# 也有现成的了"
   ]
  },
  {
   "cell_type": "markdown",
   "metadata": {
    "colab_type": "text",
    "id": "jMil45m__THg"
   },
   "source": [
    "Build actual pipeline"
   ]
  },
  {
   "cell_type": "code",
   "execution_count": 0,
   "metadata": {
    "colab": {},
    "colab_type": "code",
    "id": "K-kVM38799aL"
   },
   "outputs": [],
   "source": [
    "trans_pipe = Pipeline(stages=[\n",
    "    LowVarianceFilter(),\n",
    "    # MissingValueTransformer(),\n",
    "    # feature.VectorAssembler(inputCols=['col1', 'col2', 'col3', 'col4'], outputCol='features'),\n",
    "    # regression.LinearRegression(featuresCol='features', labelCol='abc')\n",
    "])\n",
    "\n",
    "display(trans_pipe.fit(train_X).transform(train_X).count())\n"
   ]
  },
  {
   "cell_type": "code",
   "execution_count": 0,
   "metadata": {
    "colab": {},
    "colab_type": "code",
    "id": "8maFNWTuMPbQ"
   },
   "outputs": [],
   "source": [
    "train_X.show()"
   ]
  },
  {
   "cell_type": "code",
   "execution_count": 0,
   "metadata": {
    "colab": {},
    "colab_type": "code",
    "id": "0Wz95ql3K23d"
   },
   "outputs": [],
   "source": []
  },
  {
   "cell_type": "markdown",
   "metadata": {
    "colab_type": "text",
    "id": "FJSDpPiiBNH-"
   },
   "source": [
    "# Performance Evaluation"
   ]
  },
  {
   "cell_type": "markdown",
   "metadata": {
    "colab_type": "text",
    "id": "OeH6aPY8BT4K"
   },
   "source": [
    "# Concolusion"
   ]
  },
  {
   "cell_type": "markdown",
   "metadata": {
    "colab_type": "text",
    "id": "KsR_UvWfMKDy"
   },
   "source": [
    "\\begin{equation} L\\theta^{\\lambda}(p(X),Y) = -\\left( \\sum_i Y_i \\log p\\theta(Xi) + (1-Y_i)\\log(1-p\\theta(Xi)) \\right) + \\lambda \\sum{j>0} \\left| \\theta_j \\right| \\end{equation}"
   ]
  }
 ],
 "metadata": {
  "colab": {
   "collapsed_sections": [
    "OeH6aPY8BT4K"
   ],
   "name": "718_project",
   "provenance": [],
   "toc_visible": true
  },
  "kernelspec": {
   "display_name": "Python 3",
   "language": "python",
   "name": "python3"
  },
  "language_info": {
   "codemirror_mode": {
    "name": "ipython",
    "version": 3
   },
   "file_extension": ".py",
   "mimetype": "text/x-python",
   "name": "python",
   "nbconvert_exporter": "python",
   "pygments_lexer": "ipython3",
   "version": "3.7.4"
  },
  "toc": {
   "base_numbering": 1,
   "nav_menu": {},
   "number_sections": true,
   "sideBar": true,
   "skip_h1_title": false,
   "title_cell": "Table of Contents",
   "title_sidebar": "Contents",
   "toc_cell": false,
   "toc_position": {},
   "toc_section_display": true,
   "toc_window_display": false
  }
 },
 "nbformat": 4,
 "nbformat_minor": 1
}
