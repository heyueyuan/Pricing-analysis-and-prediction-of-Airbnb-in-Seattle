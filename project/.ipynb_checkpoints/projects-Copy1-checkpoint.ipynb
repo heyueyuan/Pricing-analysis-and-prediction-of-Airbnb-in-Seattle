{
 "cells": [
  {
   "cell_type": "markdown",
   "metadata": {},
   "source": [
    "# Businesss Question"
   ]
  },
  {
   "cell_type": "markdown",
   "metadata": {},
   "source": [
    "## Package import"
   ]
  },
  {
   "cell_type": "code",
   "execution_count": 148,
   "metadata": {},
   "outputs": [],
   "source": [
    "import numpy as np\n",
    "import pandas as pd\n",
    "import matplotlib.pyplot as plt\n",
    "import seaborn as sns\n",
    "\n",
    "from pyspark.sql.dataframe import DataFrame\n",
    "from pyspark.sql import SparkSession\n",
    "from pyspark.ml import feature\n",
    "from pyspark.ml import classification\n",
    "from pyspark.sql import functions as fn\n",
    "from pyspark.ml import Pipeline\n",
    "from pyspark.ml.evaluation import BinaryClassificationEvaluator, \\\n",
    "    MulticlassClassificationEvaluator, \\\n",
    "    RegressionEvaluator\n",
    "from pyspark.ml.tuning import CrossValidator, ParamGridBuilder\n",
    "from pyspark.sql.functions import regexp_replace\n",
    "from pyspark.sql.functions import isnan, isnull, when, count, col\n",
    "from pyspark.ml.feature import OneHotEncoderEstimator, OneHotEncoder, StringIndexer\n",
    "\n",
    "\n",
    "spark = SparkSession.builder.getOrCreate()\n",
    "sc = spark.sparkContext"
   ]
  },
  {
   "cell_type": "markdown",
   "metadata": {},
   "source": [
    "## Data import"
   ]
  },
  {
   "cell_type": "code",
   "execution_count": 42,
   "metadata": {},
   "outputs": [],
   "source": [
    "import csv\n",
    "import pandas as pd\n",
    "\n",
    "from collections.abc import Iterable\n",
    "import pyspark.sql.functions as fn\n",
    "\n",
    "def train_test_dataset_repository(path, target, features=None):\n",
    "    param_features = features\n",
    "    if target is None:\n",
    "        raise AttributeError(\"Parameter 'target' missing! \")\n",
    "    def build_dataset(func):\n",
    "        def wrapper_func(self):\n",
    "            raw_data = spark.read\\\n",
    "            .option(\"header\", \"true\")\\\n",
    "            .option(\"multiLine\", \"true\")\\\n",
    "            .option('inferSchema', 'true')\\\n",
    "            .option('escape', '\"')\\\n",
    "            .csv(path)\n",
    "            columns = raw_data.schema.names\n",
    "\n",
    "          # Select features\n",
    "            features = param_features\n",
    "            if features is None:\n",
    "                features = columns\n",
    "            if not isinstance(features, Iterable):\n",
    "                features = [features]\n",
    "                features.remove(target)\n",
    "\n",
    "          # Recording raw_data\n",
    "            self._raw_data = raw_data\n",
    "          # Recording configuration\n",
    "            self._config = dict({\n",
    "                'path': path,\n",
    "                'features': features,\n",
    "                'target': target,\n",
    "            })\n",
    "            return reset_dataset_from_raw(func)(self)\n",
    "        return wrapper_func\n",
    "    return build_dataset\n",
    "\n",
    "def reset_dataset_from_raw(func):\n",
    "    def wrapper_func(self):\n",
    "        raw_data = self._raw_data\n",
    "        # Restore config\n",
    "        features = self._config['features']\n",
    "        target = self._config['target']\n",
    "\n",
    "        # Build X, Y\n",
    "        X = raw_data.select([fn.col(col_name) for col_name in features])\n",
    "        Y = raw_data.select(fn.col(target))\n",
    "        self._X = X\n",
    "        self._Y = Y\n",
    "\n",
    "        train_data, test_data = raw_data.randomSplit([0.7, 0.3])\n",
    "        self._train_X = train_data.select([fn.col(col_name) for col_name in features])\n",
    "        self._train_Y = train_data.select(fn.col(target))\n",
    "        self._test_X = test_data.select([fn.col(col_name) for col_name in features])\n",
    "        self._test_Y = test_data.select(fn.col(target))\n",
    "        \n",
    "        return func(self)\n",
    "    return wrapper_func"
   ]
  },
  {
   "cell_type": "code",
   "execution_count": 43,
   "metadata": {},
   "outputs": [],
   "source": [
    "#Create data object, fill the raw/train/test data."
   ]
  },
  {
   "cell_type": "code",
   "execution_count": 44,
   "metadata": {},
   "outputs": [],
   "source": [
    "def warning(msg):\n",
    "    flag = True\n",
    "    def inject(func):\n",
    "        def wrapper_func(self):\n",
    "            x = 'Y'\n",
    "            if flag:\n",
    "                x = input(f\"{func.__name__}是{msg}，确定要用？(Y/N)\")\n",
    "            if 'Y' == x:\n",
    "                return func(self)\n",
    "            raise PermissionError(f\"{func.__name__}是{msg}，不能随便用！\")\n",
    "        return wrapper_func\n",
    "    return inject\n",
    "\n",
    "class Data:\n",
    "    @train_test_dataset_repository('./listings.csv', 'price')\n",
    "    def __init__(self):\n",
    "        pass\n",
    "    @property\n",
    "    @warning(\"原始未分割数据\")\n",
    "    def raw_data(self):\n",
    "        return self._raw_data\n",
    "    @property\n",
    "    @warning(\"原始自变量\")\n",
    "    def X(self):\n",
    "        return self._X\n",
    "    @property\n",
    "    @warning(\"原始应变量\")\n",
    "    def Y(self):\n",
    "        return self._Y\n",
    "    @property\n",
    "    def train_X(self):\n",
    "        return self._train_X\n",
    "    @property\n",
    "    def train_Y(self):\n",
    "        return self._train_Y\n",
    "    @property\n",
    "    @warning(\"测试自变量\")\n",
    "    def test_X(self):\n",
    "        return self._test_X\n",
    "    @property\n",
    "    @warning(\"测试应变量\")\n",
    "    def test_Y(self):\n",
    "        return self._test_Y"
   ]
  },
  {
   "cell_type": "markdown",
   "metadata": {},
   "source": [
    "# Exploration Data Analysis"
   ]
  },
  {
   "cell_type": "markdown",
   "metadata": {},
   "source": [
    "We will explore the whole dataset during the EDA."
   ]
  },
  {
   "cell_type": "code",
   "execution_count": 45,
   "metadata": {},
   "outputs": [
    {
     "name": "stdout",
     "output_type": "stream",
     "text": [
      "raw_data是原始未分割数据，确定要用？(Y/N)Y\n"
     ]
    }
   ],
   "source": [
    "from pyspark.sql.dataframe import DataFrame\n",
    "df = Data().raw_data"
   ]
  },
  {
   "cell_type": "code",
   "execution_count": 47,
   "metadata": {},
   "outputs": [
    {
     "name": "stdout",
     "output_type": "stream",
     "text": [
      "<class 'pandas.core.frame.DataFrame'>\n",
      "RangeIndex: 9023 entries, 0 to 9022\n",
      "Columns: 106 entries, id to reviews_per_month\n",
      "dtypes: datetime64[ns](5), float64(18), int32(20), int64(1), object(62)\n",
      "memory usage: 6.6+ MB\n"
     ]
    }
   ],
   "source": [
    "# Data information\n",
    "df_pd = df.toPandas()\n",
    "df_pd.info()"
   ]
  },
  {
   "cell_type": "markdown",
   "metadata": {},
   "source": [
    "## Data Cleaning"
   ]
  },
  {
   "cell_type": "markdown",
   "metadata": {},
   "source": [
    "### Numerical Data Cleaning\n",
    "#### Convert values in columns from string to number"
   ]
  },
  {
   "cell_type": "markdown",
   "metadata": {},
   "source": [
    "Display the type of each column"
   ]
  },
  {
   "cell_type": "code",
   "execution_count": 49,
   "metadata": {
    "collapsed": true
   },
   "outputs": [
    {
     "name": "stdout",
     "output_type": "stream",
     "text": [
      "root\n",
      " |-- id: integer (nullable = true)\n",
      " |-- listing_url: string (nullable = true)\n",
      " |-- scrape_id: long (nullable = true)\n",
      " |-- last_scraped: timestamp (nullable = true)\n",
      " |-- name: string (nullable = true)\n",
      " |-- summary: string (nullable = true)\n",
      " |-- space: string (nullable = true)\n",
      " |-- description: string (nullable = true)\n",
      " |-- experiences_offered: string (nullable = true)\n",
      " |-- neighborhood_overview: string (nullable = true)\n",
      " |-- notes: string (nullable = true)\n",
      " |-- transit: string (nullable = true)\n",
      " |-- access: string (nullable = true)\n",
      " |-- interaction: string (nullable = true)\n",
      " |-- house_rules: string (nullable = true)\n",
      " |-- thumbnail_url: string (nullable = true)\n",
      " |-- medium_url: string (nullable = true)\n",
      " |-- picture_url: string (nullable = true)\n",
      " |-- xl_picture_url: string (nullable = true)\n",
      " |-- host_id: integer (nullable = true)\n",
      " |-- host_url: string (nullable = true)\n",
      " |-- host_name: string (nullable = true)\n",
      " |-- host_since: timestamp (nullable = true)\n",
      " |-- host_location: string (nullable = true)\n",
      " |-- host_about: string (nullable = true)\n",
      " |-- host_response_time: string (nullable = true)\n",
      " |-- host_response_rate: string (nullable = true)\n",
      " |-- host_acceptance_rate: string (nullable = true)\n",
      " |-- host_is_superhost: string (nullable = true)\n",
      " |-- host_thumbnail_url: string (nullable = true)\n",
      " |-- host_picture_url: string (nullable = true)\n",
      " |-- host_neighbourhood: string (nullable = true)\n",
      " |-- host_listings_count: integer (nullable = true)\n",
      " |-- host_total_listings_count: integer (nullable = true)\n",
      " |-- host_verifications: string (nullable = true)\n",
      " |-- host_has_profile_pic: string (nullable = true)\n",
      " |-- host_identity_verified: string (nullable = true)\n",
      " |-- street: string (nullable = true)\n",
      " |-- neighbourhood: string (nullable = true)\n",
      " |-- neighbourhood_cleansed: string (nullable = true)\n",
      " |-- neighbourhood_group_cleansed: string (nullable = true)\n",
      " |-- city: string (nullable = true)\n",
      " |-- state: string (nullable = true)\n",
      " |-- zipcode: string (nullable = true)\n",
      " |-- market: string (nullable = true)\n",
      " |-- smart_location: string (nullable = true)\n",
      " |-- country_code: string (nullable = true)\n",
      " |-- country: string (nullable = true)\n",
      " |-- latitude: double (nullable = true)\n",
      " |-- longitude: double (nullable = true)\n",
      " |-- is_location_exact: string (nullable = true)\n",
      " |-- property_type: string (nullable = true)\n",
      " |-- room_type: string (nullable = true)\n",
      " |-- accommodates: integer (nullable = true)\n",
      " |-- bathrooms: double (nullable = true)\n",
      " |-- bedrooms: integer (nullable = true)\n",
      " |-- beds: integer (nullable = true)\n",
      " |-- bed_type: string (nullable = true)\n",
      " |-- amenities: string (nullable = true)\n",
      " |-- square_feet: integer (nullable = true)\n",
      " |-- price: string (nullable = true)\n",
      " |-- weekly_price: string (nullable = true)\n",
      " |-- monthly_price: string (nullable = true)\n",
      " |-- security_deposit: string (nullable = true)\n",
      " |-- cleaning_fee: string (nullable = true)\n",
      " |-- guests_included: integer (nullable = true)\n",
      " |-- extra_people: string (nullable = true)\n",
      " |-- minimum_nights: integer (nullable = true)\n",
      " |-- maximum_nights: integer (nullable = true)\n",
      " |-- minimum_minimum_nights: integer (nullable = true)\n",
      " |-- maximum_minimum_nights: integer (nullable = true)\n",
      " |-- minimum_maximum_nights: integer (nullable = true)\n",
      " |-- maximum_maximum_nights: integer (nullable = true)\n",
      " |-- minimum_nights_avg_ntm: double (nullable = true)\n",
      " |-- maximum_nights_avg_ntm: double (nullable = true)\n",
      " |-- calendar_updated: string (nullable = true)\n",
      " |-- has_availability: string (nullable = true)\n",
      " |-- availability_30: integer (nullable = true)\n",
      " |-- availability_60: integer (nullable = true)\n",
      " |-- availability_90: integer (nullable = true)\n",
      " |-- availability_365: integer (nullable = true)\n",
      " |-- calendar_last_scraped: timestamp (nullable = true)\n",
      " |-- number_of_reviews: integer (nullable = true)\n",
      " |-- number_of_reviews_ltm: integer (nullable = true)\n",
      " |-- first_review: timestamp (nullable = true)\n",
      " |-- last_review: timestamp (nullable = true)\n",
      " |-- review_scores_rating: integer (nullable = true)\n",
      " |-- review_scores_accuracy: integer (nullable = true)\n",
      " |-- review_scores_cleanliness: integer (nullable = true)\n",
      " |-- review_scores_checkin: integer (nullable = true)\n",
      " |-- review_scores_communication: integer (nullable = true)\n",
      " |-- review_scores_location: integer (nullable = true)\n",
      " |-- review_scores_value: integer (nullable = true)\n",
      " |-- requires_license: string (nullable = true)\n",
      " |-- license: string (nullable = true)\n",
      " |-- jurisdiction_names: string (nullable = true)\n",
      " |-- instant_bookable: string (nullable = true)\n",
      " |-- is_business_travel_ready: string (nullable = true)\n",
      " |-- cancellation_policy: string (nullable = true)\n",
      " |-- require_guest_profile_picture: string (nullable = true)\n",
      " |-- require_guest_phone_verification: string (nullable = true)\n",
      " |-- calculated_host_listings_count: integer (nullable = true)\n",
      " |-- calculated_host_listings_count_entire_homes: integer (nullable = true)\n",
      " |-- calculated_host_listings_count_private_rooms: integer (nullable = true)\n",
      " |-- calculated_host_listings_count_shared_rooms: integer (nullable = true)\n",
      " |-- reviews_per_month: double (nullable = true)\n",
      "\n"
     ]
    }
   ],
   "source": [
    "df.printSchema()"
   ]
  },
  {
   "cell_type": "markdown",
   "metadata": {},
   "source": [
    "Select boolean columns"
   ]
  },
  {
   "cell_type": "code",
   "execution_count": 51,
   "metadata": {},
   "outputs": [
    {
     "data": {
      "text/html": [
       "<div>\n",
       "<style scoped>\n",
       "    .dataframe tbody tr th:only-of-type {\n",
       "        vertical-align: middle;\n",
       "    }\n",
       "\n",
       "    .dataframe tbody tr th {\n",
       "        vertical-align: top;\n",
       "    }\n",
       "\n",
       "    .dataframe thead th {\n",
       "        text-align: right;\n",
       "    }\n",
       "</style>\n",
       "<table border=\"1\" class=\"dataframe\">\n",
       "  <thead>\n",
       "    <tr style=\"text-align: right;\">\n",
       "      <th></th>\n",
       "      <th>0</th>\n",
       "      <th>1</th>\n",
       "      <th>2</th>\n",
       "      <th>3</th>\n",
       "      <th>4</th>\n",
       "    </tr>\n",
       "  </thead>\n",
       "  <tbody>\n",
       "    <tr>\n",
       "      <th>host_is_superhost</th>\n",
       "      <td>t</td>\n",
       "      <td>f</td>\n",
       "      <td>f</td>\n",
       "      <td>t</td>\n",
       "      <td>t</td>\n",
       "    </tr>\n",
       "    <tr>\n",
       "      <th>host_has_profile_pic</th>\n",
       "      <td>t</td>\n",
       "      <td>t</td>\n",
       "      <td>t</td>\n",
       "      <td>t</td>\n",
       "      <td>t</td>\n",
       "    </tr>\n",
       "    <tr>\n",
       "      <th>host_identity_verified</th>\n",
       "      <td>f</td>\n",
       "      <td>t</td>\n",
       "      <td>t</td>\n",
       "      <td>t</td>\n",
       "      <td>f</td>\n",
       "    </tr>\n",
       "    <tr>\n",
       "      <th>is_location_exact</th>\n",
       "      <td>t</td>\n",
       "      <td>t</td>\n",
       "      <td>t</td>\n",
       "      <td>t</td>\n",
       "      <td>t</td>\n",
       "    </tr>\n",
       "    <tr>\n",
       "      <th>has_availability</th>\n",
       "      <td>t</td>\n",
       "      <td>t</td>\n",
       "      <td>t</td>\n",
       "      <td>t</td>\n",
       "      <td>t</td>\n",
       "    </tr>\n",
       "    <tr>\n",
       "      <th>requires_license</th>\n",
       "      <td>t</td>\n",
       "      <td>t</td>\n",
       "      <td>t</td>\n",
       "      <td>t</td>\n",
       "      <td>t</td>\n",
       "    </tr>\n",
       "    <tr>\n",
       "      <th>instant_bookable</th>\n",
       "      <td>t</td>\n",
       "      <td>f</td>\n",
       "      <td>f</td>\n",
       "      <td>f</td>\n",
       "      <td>t</td>\n",
       "    </tr>\n",
       "    <tr>\n",
       "      <th>is_business_travel_ready</th>\n",
       "      <td>f</td>\n",
       "      <td>f</td>\n",
       "      <td>f</td>\n",
       "      <td>f</td>\n",
       "      <td>f</td>\n",
       "    </tr>\n",
       "    <tr>\n",
       "      <th>require_guest_profile_picture</th>\n",
       "      <td>f</td>\n",
       "      <td>f</td>\n",
       "      <td>f</td>\n",
       "      <td>t</td>\n",
       "      <td>f</td>\n",
       "    </tr>\n",
       "    <tr>\n",
       "      <th>require_guest_phone_verification</th>\n",
       "      <td>f</td>\n",
       "      <td>t</td>\n",
       "      <td>f</td>\n",
       "      <td>t</td>\n",
       "      <td>f</td>\n",
       "    </tr>\n",
       "  </tbody>\n",
       "</table>\n",
       "</div>"
      ],
      "text/plain": [
       "                                  0  1  2  3  4\n",
       "host_is_superhost                 t  f  f  t  t\n",
       "host_has_profile_pic              t  t  t  t  t\n",
       "host_identity_verified            f  t  t  t  f\n",
       "is_location_exact                 t  t  t  t  t\n",
       "has_availability                  t  t  t  t  t\n",
       "requires_license                  t  t  t  t  t\n",
       "instant_bookable                  t  f  f  f  t\n",
       "is_business_travel_ready          f  f  f  f  f\n",
       "require_guest_profile_picture     f  f  f  t  f\n",
       "require_guest_phone_verification  f  t  f  t  f"
      ]
     },
     "execution_count": 51,
     "metadata": {},
     "output_type": "execute_result"
    }
   ],
   "source": [
    "bool_columns = ['host_is_superhost', \n",
    "                    'host_has_profile_pic', \n",
    "                    'host_identity_verified', \n",
    "                    'is_location_exact', \n",
    "                    'has_availability', \n",
    "                    'requires_license', \n",
    "                    'instant_bookable', \n",
    "                    'is_business_travel_ready', \n",
    "                    'require_guest_profile_picture', \n",
    "                    'require_guest_phone_verification']\n",
    "df_bool = df.select(bool_columns)\n",
    "df_bool.limit(5).toPandas().T"
   ]
  },
  {
   "cell_type": "markdown",
   "metadata": {},
   "source": [
    "Replace t to 1, and f to 0 respectively"
   ]
  },
  {
   "cell_type": "code",
   "execution_count": 52,
   "metadata": {},
   "outputs": [
    {
     "data": {
      "text/html": [
       "<div>\n",
       "<style scoped>\n",
       "    .dataframe tbody tr th:only-of-type {\n",
       "        vertical-align: middle;\n",
       "    }\n",
       "\n",
       "    .dataframe tbody tr th {\n",
       "        vertical-align: top;\n",
       "    }\n",
       "\n",
       "    .dataframe thead th {\n",
       "        text-align: right;\n",
       "    }\n",
       "</style>\n",
       "<table border=\"1\" class=\"dataframe\">\n",
       "  <thead>\n",
       "    <tr style=\"text-align: right;\">\n",
       "      <th></th>\n",
       "      <th>0</th>\n",
       "      <th>1</th>\n",
       "      <th>2</th>\n",
       "      <th>3</th>\n",
       "      <th>4</th>\n",
       "    </tr>\n",
       "  </thead>\n",
       "  <tbody>\n",
       "    <tr>\n",
       "      <th>host_is_superhost</th>\n",
       "      <td>1</td>\n",
       "      <td>0</td>\n",
       "      <td>0</td>\n",
       "      <td>1</td>\n",
       "      <td>1</td>\n",
       "    </tr>\n",
       "    <tr>\n",
       "      <th>host_has_profile_pic</th>\n",
       "      <td>1</td>\n",
       "      <td>1</td>\n",
       "      <td>1</td>\n",
       "      <td>1</td>\n",
       "      <td>1</td>\n",
       "    </tr>\n",
       "    <tr>\n",
       "      <th>host_identity_verified</th>\n",
       "      <td>0</td>\n",
       "      <td>1</td>\n",
       "      <td>1</td>\n",
       "      <td>1</td>\n",
       "      <td>0</td>\n",
       "    </tr>\n",
       "    <tr>\n",
       "      <th>is_location_exact</th>\n",
       "      <td>1</td>\n",
       "      <td>1</td>\n",
       "      <td>1</td>\n",
       "      <td>1</td>\n",
       "      <td>1</td>\n",
       "    </tr>\n",
       "    <tr>\n",
       "      <th>has_availability</th>\n",
       "      <td>1</td>\n",
       "      <td>1</td>\n",
       "      <td>1</td>\n",
       "      <td>1</td>\n",
       "      <td>1</td>\n",
       "    </tr>\n",
       "    <tr>\n",
       "      <th>requires_license</th>\n",
       "      <td>1</td>\n",
       "      <td>1</td>\n",
       "      <td>1</td>\n",
       "      <td>1</td>\n",
       "      <td>1</td>\n",
       "    </tr>\n",
       "    <tr>\n",
       "      <th>instant_bookable</th>\n",
       "      <td>1</td>\n",
       "      <td>0</td>\n",
       "      <td>0</td>\n",
       "      <td>0</td>\n",
       "      <td>1</td>\n",
       "    </tr>\n",
       "    <tr>\n",
       "      <th>is_business_travel_ready</th>\n",
       "      <td>0</td>\n",
       "      <td>0</td>\n",
       "      <td>0</td>\n",
       "      <td>0</td>\n",
       "      <td>0</td>\n",
       "    </tr>\n",
       "    <tr>\n",
       "      <th>require_guest_profile_picture</th>\n",
       "      <td>0</td>\n",
       "      <td>0</td>\n",
       "      <td>0</td>\n",
       "      <td>1</td>\n",
       "      <td>0</td>\n",
       "    </tr>\n",
       "    <tr>\n",
       "      <th>require_guest_phone_verification</th>\n",
       "      <td>0</td>\n",
       "      <td>1</td>\n",
       "      <td>0</td>\n",
       "      <td>1</td>\n",
       "      <td>0</td>\n",
       "    </tr>\n",
       "  </tbody>\n",
       "</table>\n",
       "</div>"
      ],
      "text/plain": [
       "                                  0  1  2  3  4\n",
       "host_is_superhost                 1  0  0  1  1\n",
       "host_has_profile_pic              1  1  1  1  1\n",
       "host_identity_verified            0  1  1  1  0\n",
       "is_location_exact                 1  1  1  1  1\n",
       "has_availability                  1  1  1  1  1\n",
       "requires_license                  1  1  1  1  1\n",
       "instant_bookable                  1  0  0  0  1\n",
       "is_business_travel_ready          0  0  0  0  0\n",
       "require_guest_profile_picture     0  0  0  1  0\n",
       "require_guest_phone_verification  0  1  0  1  0"
      ]
     },
     "execution_count": 52,
     "metadata": {},
     "output_type": "execute_result"
    }
   ],
   "source": [
    "from pyspark.sql import functions as fn\n",
    "from pyspark.sql import types as t\n",
    "\n",
    "bool_dict = {'t': 1, 'f': 0}\n",
    "def bool_map(x):\n",
    "  if x in bool_dict.keys():\n",
    "    return bool_dict[x]\n",
    "  return x\n",
    "\n",
    "bool_encode_udf = fn.udf(bool_map, t.IntegerType())\n",
    "\n",
    "for col_name in bool_columns:\n",
    "  df = df.withColumn(col_name, bool_encode_udf(fn.col(col_name)))\n",
    "\n",
    "df.select([fn.col(col_name) for col_name in bool_columns]).limit(5).toPandas().T\n"
   ]
  },
  {
   "cell_type": "markdown",
   "metadata": {},
   "source": [
    "#### Convert values in columns from formatted string to number"
   ]
  },
  {
   "cell_type": "markdown",
   "metadata": {},
   "source": [
    "Select price formatted columns"
   ]
  },
  {
   "cell_type": "code",
   "execution_count": 53,
   "metadata": {},
   "outputs": [
    {
     "data": {
      "text/html": [
       "<div>\n",
       "<style scoped>\n",
       "    .dataframe tbody tr th:only-of-type {\n",
       "        vertical-align: middle;\n",
       "    }\n",
       "\n",
       "    .dataframe tbody tr th {\n",
       "        vertical-align: top;\n",
       "    }\n",
       "\n",
       "    .dataframe thead th {\n",
       "        text-align: right;\n",
       "    }\n",
       "</style>\n",
       "<table border=\"1\" class=\"dataframe\">\n",
       "  <thead>\n",
       "    <tr style=\"text-align: right;\">\n",
       "      <th></th>\n",
       "      <th>0</th>\n",
       "      <th>1</th>\n",
       "      <th>2</th>\n",
       "      <th>3</th>\n",
       "      <th>4</th>\n",
       "    </tr>\n",
       "  </thead>\n",
       "  <tbody>\n",
       "    <tr>\n",
       "      <th>extra_people</th>\n",
       "      <td>$25.00</td>\n",
       "      <td>$5.00</td>\n",
       "      <td>$10.00</td>\n",
       "      <td>$15.00</td>\n",
       "      <td>$15.00</td>\n",
       "    </tr>\n",
       "    <tr>\n",
       "      <th>price</th>\n",
       "      <td>$296.00</td>\n",
       "      <td>$48.00</td>\n",
       "      <td>$90.00</td>\n",
       "      <td>$62.00</td>\n",
       "      <td>$99.00</td>\n",
       "    </tr>\n",
       "  </tbody>\n",
       "</table>\n",
       "</div>"
      ],
      "text/plain": [
       "                    0       1       2       3       4\n",
       "extra_people   $25.00   $5.00  $10.00  $15.00  $15.00\n",
       "price         $296.00  $48.00  $90.00  $62.00  $99.00"
      ]
     },
     "execution_count": 53,
     "metadata": {},
     "output_type": "execute_result"
    }
   ],
   "source": [
    "price_columns = ['extra_people', \n",
    "                 'price']\n",
    "df_price = df.select(price_columns)\n",
    "df_price.limit(5).toPandas().T"
   ]
  },
  {
   "cell_type": "markdown",
   "metadata": {},
   "source": [
    "Reformat the currency formattet to number"
   ]
  },
  {
   "cell_type": "code",
   "execution_count": 54,
   "metadata": {},
   "outputs": [
    {
     "data": {
      "text/html": [
       "<div>\n",
       "<style scoped>\n",
       "    .dataframe tbody tr th:only-of-type {\n",
       "        vertical-align: middle;\n",
       "    }\n",
       "\n",
       "    .dataframe tbody tr th {\n",
       "        vertical-align: top;\n",
       "    }\n",
       "\n",
       "    .dataframe thead th {\n",
       "        text-align: right;\n",
       "    }\n",
       "</style>\n",
       "<table border=\"1\" class=\"dataframe\">\n",
       "  <thead>\n",
       "    <tr style=\"text-align: right;\">\n",
       "      <th></th>\n",
       "      <th>0</th>\n",
       "      <th>1</th>\n",
       "      <th>2</th>\n",
       "      <th>3</th>\n",
       "      <th>4</th>\n",
       "    </tr>\n",
       "  </thead>\n",
       "  <tbody>\n",
       "    <tr>\n",
       "      <th>extra_people</th>\n",
       "      <td>25.00</td>\n",
       "      <td>5.00</td>\n",
       "      <td>10.00</td>\n",
       "      <td>15.00</td>\n",
       "      <td>15.00</td>\n",
       "    </tr>\n",
       "    <tr>\n",
       "      <th>price</th>\n",
       "      <td>296.00</td>\n",
       "      <td>48.00</td>\n",
       "      <td>90.00</td>\n",
       "      <td>62.00</td>\n",
       "      <td>99.00</td>\n",
       "    </tr>\n",
       "  </tbody>\n",
       "</table>\n",
       "</div>"
      ],
      "text/plain": [
       "                   0      1      2      3      4\n",
       "extra_people   25.00   5.00  10.00  15.00  15.00\n",
       "price         296.00  48.00  90.00  62.00  99.00"
      ]
     },
     "execution_count": 54,
     "metadata": {},
     "output_type": "execute_result"
    }
   ],
   "source": [
    "for col_name in price_columns:\n",
    "  df = df.withColumn(col_name, fn.regexp_replace(fn.col(col_name), \"\\$|,\" , '' ))\n",
    "\n",
    "df.select([fn.col(col_name) for col_name in price_columns]).limit(5).toPandas().T"
   ]
  },
  {
   "cell_type": "code",
   "execution_count": 55,
   "metadata": {},
   "outputs": [],
   "source": [
    "#Cth's code 将price 从string type 转变为 numeric type\n",
    "df = df.withColumn('price', df.price.cast('float'))"
   ]
  },
  {
   "cell_type": "code",
   "execution_count": 56,
   "metadata": {
    "collapsed": true
   },
   "outputs": [
    {
     "name": "stdout",
     "output_type": "stream",
     "text": [
      "root\n",
      " |-- id: integer (nullable = true)\n",
      " |-- listing_url: string (nullable = true)\n",
      " |-- scrape_id: long (nullable = true)\n",
      " |-- last_scraped: timestamp (nullable = true)\n",
      " |-- name: string (nullable = true)\n",
      " |-- summary: string (nullable = true)\n",
      " |-- space: string (nullable = true)\n",
      " |-- description: string (nullable = true)\n",
      " |-- experiences_offered: string (nullable = true)\n",
      " |-- neighborhood_overview: string (nullable = true)\n",
      " |-- notes: string (nullable = true)\n",
      " |-- transit: string (nullable = true)\n",
      " |-- access: string (nullable = true)\n",
      " |-- interaction: string (nullable = true)\n",
      " |-- house_rules: string (nullable = true)\n",
      " |-- thumbnail_url: string (nullable = true)\n",
      " |-- medium_url: string (nullable = true)\n",
      " |-- picture_url: string (nullable = true)\n",
      " |-- xl_picture_url: string (nullable = true)\n",
      " |-- host_id: integer (nullable = true)\n",
      " |-- host_url: string (nullable = true)\n",
      " |-- host_name: string (nullable = true)\n",
      " |-- host_since: timestamp (nullable = true)\n",
      " |-- host_location: string (nullable = true)\n",
      " |-- host_about: string (nullable = true)\n",
      " |-- host_response_time: string (nullable = true)\n",
      " |-- host_response_rate: string (nullable = true)\n",
      " |-- host_acceptance_rate: string (nullable = true)\n",
      " |-- host_is_superhost: integer (nullable = true)\n",
      " |-- host_thumbnail_url: string (nullable = true)\n",
      " |-- host_picture_url: string (nullable = true)\n",
      " |-- host_neighbourhood: string (nullable = true)\n",
      " |-- host_listings_count: integer (nullable = true)\n",
      " |-- host_total_listings_count: integer (nullable = true)\n",
      " |-- host_verifications: string (nullable = true)\n",
      " |-- host_has_profile_pic: integer (nullable = true)\n",
      " |-- host_identity_verified: integer (nullable = true)\n",
      " |-- street: string (nullable = true)\n",
      " |-- neighbourhood: string (nullable = true)\n",
      " |-- neighbourhood_cleansed: string (nullable = true)\n",
      " |-- neighbourhood_group_cleansed: string (nullable = true)\n",
      " |-- city: string (nullable = true)\n",
      " |-- state: string (nullable = true)\n",
      " |-- zipcode: string (nullable = true)\n",
      " |-- market: string (nullable = true)\n",
      " |-- smart_location: string (nullable = true)\n",
      " |-- country_code: string (nullable = true)\n",
      " |-- country: string (nullable = true)\n",
      " |-- latitude: double (nullable = true)\n",
      " |-- longitude: double (nullable = true)\n",
      " |-- is_location_exact: integer (nullable = true)\n",
      " |-- property_type: string (nullable = true)\n",
      " |-- room_type: string (nullable = true)\n",
      " |-- accommodates: integer (nullable = true)\n",
      " |-- bathrooms: double (nullable = true)\n",
      " |-- bedrooms: integer (nullable = true)\n",
      " |-- beds: integer (nullable = true)\n",
      " |-- bed_type: string (nullable = true)\n",
      " |-- amenities: string (nullable = true)\n",
      " |-- square_feet: integer (nullable = true)\n",
      " |-- price: float (nullable = true)\n",
      " |-- weekly_price: string (nullable = true)\n",
      " |-- monthly_price: string (nullable = true)\n",
      " |-- security_deposit: string (nullable = true)\n",
      " |-- cleaning_fee: string (nullable = true)\n",
      " |-- guests_included: integer (nullable = true)\n",
      " |-- extra_people: string (nullable = true)\n",
      " |-- minimum_nights: integer (nullable = true)\n",
      " |-- maximum_nights: integer (nullable = true)\n",
      " |-- minimum_minimum_nights: integer (nullable = true)\n",
      " |-- maximum_minimum_nights: integer (nullable = true)\n",
      " |-- minimum_maximum_nights: integer (nullable = true)\n",
      " |-- maximum_maximum_nights: integer (nullable = true)\n",
      " |-- minimum_nights_avg_ntm: double (nullable = true)\n",
      " |-- maximum_nights_avg_ntm: double (nullable = true)\n",
      " |-- calendar_updated: string (nullable = true)\n",
      " |-- has_availability: integer (nullable = true)\n",
      " |-- availability_30: integer (nullable = true)\n",
      " |-- availability_60: integer (nullable = true)\n",
      " |-- availability_90: integer (nullable = true)\n",
      " |-- availability_365: integer (nullable = true)\n",
      " |-- calendar_last_scraped: timestamp (nullable = true)\n",
      " |-- number_of_reviews: integer (nullable = true)\n",
      " |-- number_of_reviews_ltm: integer (nullable = true)\n",
      " |-- first_review: timestamp (nullable = true)\n",
      " |-- last_review: timestamp (nullable = true)\n",
      " |-- review_scores_rating: integer (nullable = true)\n",
      " |-- review_scores_accuracy: integer (nullable = true)\n",
      " |-- review_scores_cleanliness: integer (nullable = true)\n",
      " |-- review_scores_checkin: integer (nullable = true)\n",
      " |-- review_scores_communication: integer (nullable = true)\n",
      " |-- review_scores_location: integer (nullable = true)\n",
      " |-- review_scores_value: integer (nullable = true)\n",
      " |-- requires_license: integer (nullable = true)\n",
      " |-- license: string (nullable = true)\n",
      " |-- jurisdiction_names: string (nullable = true)\n",
      " |-- instant_bookable: integer (nullable = true)\n",
      " |-- is_business_travel_ready: integer (nullable = true)\n",
      " |-- cancellation_policy: string (nullable = true)\n",
      " |-- require_guest_profile_picture: integer (nullable = true)\n",
      " |-- require_guest_phone_verification: integer (nullable = true)\n",
      " |-- calculated_host_listings_count: integer (nullable = true)\n",
      " |-- calculated_host_listings_count_entire_homes: integer (nullable = true)\n",
      " |-- calculated_host_listings_count_private_rooms: integer (nullable = true)\n",
      " |-- calculated_host_listings_count_shared_rooms: integer (nullable = true)\n",
      " |-- reviews_per_month: double (nullable = true)\n",
      "\n"
     ]
    }
   ],
   "source": [
    "df.printSchema()"
   ]
  },
  {
   "cell_type": "markdown",
   "metadata": {},
   "source": [
    "### Zero Variance or low Variance Variables Removal"
   ]
  },
  {
   "cell_type": "code",
   "execution_count": 73,
   "metadata": {},
   "outputs": [
    {
     "name": "stdout",
     "output_type": "stream",
     "text": [
      "+------------------------------+\n",
      "|variance(host_has_profile_pic)|\n",
      "+------------------------------+\n",
      "|          0.001328901497740...|\n",
      "+------------------------------+\n",
      "\n",
      "+--------------------------+\n",
      "|variance(has_availability)|\n",
      "+--------------------------+\n",
      "|                       0.0|\n",
      "+--------------------------+\n",
      "\n",
      "+--------------------------+\n",
      "|variance(requires_license)|\n",
      "+--------------------------+\n",
      "|      0.001770297945202...|\n",
      "+--------------------------+\n",
      "\n",
      "+----------------------------------+\n",
      "|variance(is_business_travel_ready)|\n",
      "+----------------------------------+\n",
      "|                               0.0|\n",
      "+----------------------------------+\n",
      "\n"
     ]
    },
    {
     "data": {
      "text/plain": [
       "['host_has_profile_pic',\n",
       " 'has_availability',\n",
       " 'requires_license',\n",
       " 'is_business_travel_ready']"
      ]
     },
     "execution_count": 73,
     "metadata": {},
     "output_type": "execute_result"
    }
   ],
   "source": [
    "#CTH's code\n",
    "drop_list_low_variance = []\n",
    "def low_variance(col,df):\n",
    "    var = df.agg({col : 'variance'})\n",
    "    if var.collect()[0][0] < 0.005:\n",
    "        drop_list_low_variance.append(col)\n",
    "        return var.show()\n",
    "for i in bool_columns:\n",
    "    low_variance(i,df)\n",
    "drop_list_low_variance"
   ]
  },
  {
   "cell_type": "markdown",
   "metadata": {},
   "source": [
    "### Missing value exploratory"
   ]
  },
  {
   "cell_type": "markdown",
   "metadata": {},
   "source": [
    "Identify the number of missing value at each feature."
   ]
  },
  {
   "cell_type": "code",
   "execution_count": 63,
   "metadata": {
    "collapsed": true
   },
   "outputs": [
    {
     "name": "stdout",
     "output_type": "stream",
     "text": [
      "                             Missing Value Ratio\n",
      "medium_url                              1.000000\n",
      "thumbnail_url                           1.000000\n",
      "xl_picture_url                          1.000000\n",
      "square_feet                             0.955336\n",
      "monthly_price                           0.916768\n",
      "weekly_price                            0.891500\n",
      "license                                 0.684362\n",
      "notes                                   0.425801\n",
      "access                                  0.353319\n",
      "transit                                 0.312645\n",
      "neighborhood_overview                   0.296575\n",
      "interaction                             0.271085\n",
      "host_about                              0.269533\n",
      "house_rules                             0.235177\n",
      "space                                   0.197163\n",
      "security_deposit                        0.170786\n",
      "review_scores_location                  0.146625\n",
      "review_scores_checkin                   0.146625\n",
      "review_scores_value                     0.146514\n",
      "review_scores_cleanliness               0.146514\n",
      "review_scores_accuracy                  0.146514\n",
      "review_scores_communication             0.146404\n",
      "review_scores_rating                    0.146293\n",
      "first_review                            0.139754\n",
      "last_review                             0.139754\n",
      "reviews_per_month                       0.139754\n",
      "host_neighbourhood                      0.093428\n",
      "cleaning_fee                            0.085227\n",
      "summary                                 0.019284\n",
      "zipcode                                 0.018730\n",
      "description                             0.007980\n",
      "market                                  0.002106\n",
      "host_location                           0.001441\n",
      "bedrooms                                0.000776\n",
      "host_picture_url                        0.000443\n",
      "host_is_superhost                       0.000443\n",
      "host_name                               0.000443\n",
      "host_since                              0.000443\n",
      "host_response_time                      0.000443\n",
      "host_response_rate                      0.000443\n",
      "host_acceptance_rate                    0.000443\n",
      "host_has_profile_pic                    0.000443\n",
      "host_thumbnail_url                      0.000443\n",
      "host_listings_count                     0.000443\n",
      "host_total_listings_count               0.000443\n",
      "host_identity_verified                  0.000443\n",
      "city                                    0.000332\n",
      "beds                                    0.000332\n",
      "bathrooms                               0.000222\n",
      "neighbourhood                           0.000111\n",
      "state                                   0.000111\n"
     ]
    }
   ],
   "source": [
    "import pyspark.sql.functions as fn\n",
    "def calc_missing_ratio(data_frame: DataFrame):\n",
    "    record_cnt = data_frame.count()\n",
    "    df_columns = data_frame.columns\n",
    "  \n",
    "    df_result = data_frame.select([fn.col(c).cast(t.StringType()) for c in data_frame.columns]) \\\n",
    "        .select([fn.sum(fn.when(fn.isnull(c), 1).otherwise(0)).alias(c) for c in data_frame.columns]) \\\n",
    "        .select([(fn.col(c)/record_cnt).alias(c) for c in data_frame.columns]) \\\n",
    "        .toPandas().T\n",
    "\n",
    "    df_result = df_result.loc[(df_result != 0).all(axis=1), :]\n",
    "    df_result.columns = ['Missing Value Ratio']\n",
    "    df_result.sort_values(by=['Missing Value Ratio'], ascending=False, inplace=True)\n",
    "\n",
    "    return df_result\n",
    "\n",
    "missing_ratio = calc_missing_ratio(df)\n",
    "\n",
    "print(missing_ratio)"
   ]
  },
  {
   "cell_type": "markdown",
   "metadata": {},
   "source": [
    "Drop columns that doesn't have value at all"
   ]
  },
  {
   "cell_type": "code",
   "execution_count": 64,
   "metadata": {},
   "outputs": [
    {
     "data": {
      "text/plain": [
       "(9023, 103)"
      ]
     },
     "execution_count": 64,
     "metadata": {},
     "output_type": "execute_result"
    }
   ],
   "source": [
    "def shape(data_frame: DataFrame):\n",
    "    return (data_frame.count(), len(data_frame.columns))\n",
    "\n",
    "empty_column = list(missing_ratio.loc[(missing_ratio == 1).all(axis=1), :].index)\n",
    "\n",
    "df = df.drop(*empty_column)\n",
    "shape(df)"
   ]
  },
  {
   "cell_type": "markdown",
   "metadata": {},
   "source": [
    "Visualize the ratio of missing values using bar plot.\n",
    "We will focus on the columns that has more than 2% of missing values."
   ]
  },
  {
   "cell_type": "code",
   "execution_count": 66,
   "metadata": {},
   "outputs": [
    {
     "data": {
      "text/plain": [
       "<Figure size 432x288 with 0 Axes>"
      ]
     },
     "metadata": {},
     "output_type": "display_data"
    },
    {
     "data": {
      "image/png": "[encoded data removed]",
      "text/plain": [
       "<Figure size 1440x360 with 1 Axes>"
      ]
     },
     "metadata": {},
     "output_type": "display_data"
    }
   ],
   "source": [
    "import math\n",
    "from matplotlib import gridspec\n",
    "import matplotlib.pyplot as plt\n",
    "import seaborn as sns; sns.set()\n",
    "import matplotlib.ticker as mtick\n",
    "\n",
    "\n",
    "def plot_missing_freq(df, xlab, ylab, title):\n",
    "    plt.clf()\n",
    "    plt.figure(figsize=(20, 5))\n",
    "    df = pd.Series(df.iloc[:, 0].values, index=list(df.index))\n",
    "\n",
    "    ax = sns.barplot(x=df.values * 100, y=df.index, orient='h')\n",
    "  \n",
    "    ax.set_xticklabels(df.values * 100, fontsize=15)\n",
    "    ax.set_yticklabels(df.index, fontsize=12)\n",
    "    ax.xaxis.set_major_formatter(mtick.PercentFormatter())\n",
    "\n",
    "    ax.set_xlabel(xlab, fontsize=15)\n",
    "    ax.set_ylabel(ylab, fontsize=35)\n",
    "\n",
    "    plt.title(title, fontsize=20)\n",
    "    # for bar in ax.patches:\n",
    "    #   bar.set_height(30)\n",
    "\n",
    "    display()\n",
    "\n",
    "missing_ratio_2 = calc_missing_ratio(df)\n",
    "missing_ratio_2 = missing_ratio_2.loc[(missing_ratio_2 > 0.02).all(axis=1), :]\n",
    "plot_missing_freq(missing_ratio_2, 'Feature', 'Missing Value Ratio', 'Airbnb Data Set Missing Value')"
   ]
  },
  {
   "cell_type": "code",
   "execution_count": 91,
   "metadata": {
    "collapsed": true
   },
   "outputs": [
    {
     "name": "stdout",
     "output_type": "stream",
     "text": [
      "+----+--------------------+--------------------+--------------------+-------------------+--------------------+-------+--------------------+---------+-------------------+--------------------+------------------+------------------+-----------------+--------------------+--------------------+-------------------+-------------------------+--------------------+----------------------+--------------------+-------------+----------------------+----------------------------+-------+-----+-------+--------------+------------+-------------+--------+----------+-----------------+-------------+---------------+------------+---------+--------+----+--------+--------------------+-----+---------------+------------+--------------+--------------+----------------------+----------------------+----------------------+----------------------+----------------------+----------------------+----------------+---------------+---------------+---------------+----------------+---------------------+-----------------+---------------------+-------------------+-------------------+--------------------+----------------------+-------------------------+---------------------+---------------------------+----------------------+-------------------+--------------------+----------------+--------------------+-----------------------------+--------------------------------+------------------------------+-------------------------------------------+--------------------------------------------+-------------------------------------------+-----------------+--------------------------------+-----------------+-------------+------------+-----------------------+--------------------+\n",
      "|  id|         listing_url|                name|         description|experiences_offered|         picture_url|host_id|            host_url|host_name|         host_since|       host_location|host_response_time|host_response_rate|host_is_superhost|  host_thumbnail_url|    host_picture_url|host_listings_count|host_total_listings_count|  host_verifications|host_identity_verified|              street|neighbourhood|neighbourhood_cleansed|neighbourhood_group_cleansed|   city|state| market|smart_location|country_code|      country|latitude| longitude|is_location_exact|property_type|      room_type|accommodates|bathrooms|bedrooms|beds|bed_type|           amenities|price|guests_included|extra_people|minimum_nights|maximum_nights|minimum_minimum_nights|maximum_minimum_nights|minimum_maximum_nights|maximum_maximum_nights|minimum_nights_avg_ntm|maximum_nights_avg_ntm|calendar_updated|availability_30|availability_60|availability_90|availability_365|calendar_last_scraped|number_of_reviews|number_of_reviews_ltm|       first_review|        last_review|review_scores_rating|review_scores_accuracy|review_scores_cleanliness|review_scores_checkin|review_scores_communication|review_scores_location|review_scores_value|  jurisdiction_names|instant_bookable| cancellation_policy|require_guest_profile_picture|require_guest_phone_verification|calculated_host_listings_count|calculated_host_listings_count_entire_homes|calculated_host_listings_count_private_rooms|calculated_host_listings_count_shared_rooms|reviews_per_month|neighbourhood_group_cleansed_IDX|property_type_IDX|room_type_IDX|bed_type_IDX|cancellation_policy_IDX|calendar_updated_IDX|\n",
      "+----+--------------------+--------------------+--------------------+-------------------+--------------------+-------+--------------------+---------+-------------------+--------------------+------------------+------------------+-----------------+--------------------+--------------------+-------------------+-------------------------+--------------------+----------------------+--------------------+-------------+----------------------+----------------------------+-------+-----+-------+--------------+------------+-------------+--------+----------+-----------------+-------------+---------------+------------+---------+--------+----+--------+--------------------+-----+---------------+------------+--------------+--------------+----------------------+----------------------+----------------------+----------------------+----------------------+----------------------+----------------+---------------+---------------+---------------+----------------+---------------------+-----------------+---------------------+-------------------+-------------------+--------------------+----------------------+-------------------------+---------------------+---------------------------+----------------------+-------------------+--------------------+----------------+--------------------+-----------------------------+--------------------------------+------------------------------+-------------------------------------------+--------------------------------------------+-------------------------------------------+-----------------+--------------------------------+-----------------+-------------+------------+-----------------------+--------------------+\n",
      "|2318|https://www.airbn...|Casa Madrona - Ur...|Gorgeous, archite...|               none|https://a0.muscac...|   2536|https://www.airbn...|    Megan|2008-08-26 00:00:00|Seattle, Washingt...|    within an hour|             100.0|                1|https://a0.muscac...|https://a0.muscac...|                  2|                        2|[['email', 'phone...|                     0|Seattle, WA, Unit...|      Madrona|               Madrona|                Central Area|Seattle|   WA|Seattle|   Seattle, WA|          US|United States|47.61082|-122.29082|                1|        House|Entire home/apt|           9|      2.5|       4|   4|Real Bed|[{Internet,Wifi,K...|296.0|              8|       25.00|             7|          1000|                     7|                     7|                  1000|                  1000|                   7.0|                1000.0|      5 days ago|              6|             29|             59|              59|  2019-11-21 00:00:00|               29|                    9|2008-09-15 00:00:00|2019-10-31 00:00:00|                 100|                    10|                       10|                   10|                         10|                    10|                 10|{WASHINGTON,\" Sea...|               1|strict_14_with_gr...|                            0|                               0|                             2|                                          2|                                           0|                                          0|             0.21|                             3.0|              1.0|          0.0|         0.0|                    1.0|                11.0|\n",
      "+----+--------------------+--------------------+--------------------+-------------------+--------------------+-------+--------------------+---------+-------------------+--------------------+------------------+------------------+-----------------+--------------------+--------------------+-------------------+-------------------------+--------------------+----------------------+--------------------+-------------+----------------------+----------------------------+-------+-----+-------+--------------+------------+-------------+--------+----------+-----------------+-------------+---------------+------------+---------+--------+----+--------+--------------------+-----+---------------+------------+--------------+--------------+----------------------+----------------------+----------------------+----------------------+----------------------+----------------------+----------------+---------------+---------------+---------------+----------------+---------------------+-----------------+---------------------+-------------------+-------------------+--------------------+----------------------+-------------------------+---------------------+---------------------------+----------------------+-------------------+--------------------+----------------+--------------------+-----------------------------+--------------------------------+------------------------------+-------------------------------------------+--------------------------------------------+-------------------------------------------+-----------------+--------------------------------+-----------------+-------------+------------+-----------------------+--------------------+\n",
      "only showing top 1 row\n",
      "\n"
     ]
    }
   ],
   "source": [
    "#CTH's code\n",
    "categorical_cols = ['neighbourhood_group_cleansed',\n",
    "       'property_type', 'room_type', 'bed_type','cancellation_policy','calendar_updated']\n",
    "\n",
    "indexers = [StringIndexer(inputCol=col, outputCol = col + \"_IDX\")\\\n",
    "            .setHandleInvalid(\"keep\") for col in categorical_cols]\n",
    "indexer_pipeline = Pipeline(stages=indexers)\n",
    "#df_categorical = df.select(categorical_cols)\n",
    "df_c_transformed = indexer_pipeline.fit(df).transform(df)\n",
    "df_c_transformed.show(1)"
   ]
  },
  {
   "cell_type": "code",
   "execution_count": 92,
   "metadata": {},
   "outputs": [],
   "source": [
    "##CTH's code\n",
    "encoded = [OneHotEncoder(inputCol = col + \"_IDX\", outputCol = col + 'Vec') for col in categorical_cols]"
   ]
  },
  {
   "cell_type": "code",
   "execution_count": 93,
   "metadata": {
    "collapsed": true
   },
   "outputs": [
    {
     "name": "stdout",
     "output_type": "stream",
     "text": [
      "+----+--------------------+--------------------+--------------------+-------------------+--------------------+-------+--------------------+---------+-------------------+--------------------+------------------+------------------+-----------------+--------------------+--------------------+-------------------+-------------------------+--------------------+----------------------+--------------------+-------------+----------------------+----------------------------+-------+-----+-------+--------------+------------+-------------+--------+----------+-----------------+-------------+---------------+------------+---------+--------+----+--------+--------------------+-----+---------------+------------+--------------+--------------+----------------------+----------------------+----------------------+----------------------+----------------------+----------------------+----------------+---------------+---------------+---------------+----------------+---------------------+-----------------+---------------------+-------------------+-------------------+--------------------+----------------------+-------------------------+---------------------+---------------------------+----------------------+-------------------+--------------------+----------------+--------------------+-----------------------------+--------------------------------+------------------------------+-------------------------------------------+--------------------------------------------+-------------------------------------------+-----------------+--------------------------------+-----------------+-------------+------------+-----------------------+--------------------+-------------------------------+----------------+-------------+-------------+----------------------+-------------------+\n",
      "|  id|         listing_url|                name|         description|experiences_offered|         picture_url|host_id|            host_url|host_name|         host_since|       host_location|host_response_time|host_response_rate|host_is_superhost|  host_thumbnail_url|    host_picture_url|host_listings_count|host_total_listings_count|  host_verifications|host_identity_verified|              street|neighbourhood|neighbourhood_cleansed|neighbourhood_group_cleansed|   city|state| market|smart_location|country_code|      country|latitude| longitude|is_location_exact|property_type|      room_type|accommodates|bathrooms|bedrooms|beds|bed_type|           amenities|price|guests_included|extra_people|minimum_nights|maximum_nights|minimum_minimum_nights|maximum_minimum_nights|minimum_maximum_nights|maximum_maximum_nights|minimum_nights_avg_ntm|maximum_nights_avg_ntm|calendar_updated|availability_30|availability_60|availability_90|availability_365|calendar_last_scraped|number_of_reviews|number_of_reviews_ltm|       first_review|        last_review|review_scores_rating|review_scores_accuracy|review_scores_cleanliness|review_scores_checkin|review_scores_communication|review_scores_location|review_scores_value|  jurisdiction_names|instant_bookable| cancellation_policy|require_guest_profile_picture|require_guest_phone_verification|calculated_host_listings_count|calculated_host_listings_count_entire_homes|calculated_host_listings_count_private_rooms|calculated_host_listings_count_shared_rooms|reviews_per_month|neighbourhood_group_cleansed_IDX|property_type_IDX|room_type_IDX|bed_type_IDX|cancellation_policy_IDX|calendar_updated_IDX|neighbourhood_group_cleansedVec|property_typeVec| room_typeVec|  bed_typeVec|cancellation_policyVec|calendar_updatedVec|\n",
      "+----+--------------------+--------------------+--------------------+-------------------+--------------------+-------+--------------------+---------+-------------------+--------------------+------------------+------------------+-----------------+--------------------+--------------------+-------------------+-------------------------+--------------------+----------------------+--------------------+-------------+----------------------+----------------------------+-------+-----+-------+--------------+------------+-------------+--------+----------+-----------------+-------------+---------------+------------+---------+--------+----+--------+--------------------+-----+---------------+------------+--------------+--------------+----------------------+----------------------+----------------------+----------------------+----------------------+----------------------+----------------+---------------+---------------+---------------+----------------+---------------------+-----------------+---------------------+-------------------+-------------------+--------------------+----------------------+-------------------------+---------------------+---------------------------+----------------------+-------------------+--------------------+----------------+--------------------+-----------------------------+--------------------------------+------------------------------+-------------------------------------------+--------------------------------------------+-------------------------------------------+-----------------+--------------------------------+-----------------+-------------+------------+-----------------------+--------------------+-------------------------------+----------------+-------------+-------------+----------------------+-------------------+\n",
      "|2318|https://www.airbn...|Casa Madrona - Ur...|Gorgeous, archite...|               none|https://a0.muscac...|   2536|https://www.airbn...|    Megan|2008-08-26 00:00:00|Seattle, Washingt...|    within an hour|             100.0|                1|https://a0.muscac...|https://a0.muscac...|                  2|                        2|[['email', 'phone...|                     0|Seattle, WA, Unit...|      Madrona|               Madrona|                Central Area|Seattle|   WA|Seattle|   Seattle, WA|          US|United States|47.61082|-122.29082|                1|        House|Entire home/apt|           9|      2.5|       4|   4|Real Bed|[{Internet,Wifi,K...|296.0|              8|       25.00|             7|          1000|                     7|                     7|                  1000|                  1000|                   7.0|                1000.0|      5 days ago|              6|             29|             59|              59|  2019-11-21 00:00:00|               29|                    9|2008-09-15 00:00:00|2019-10-31 00:00:00|                 100|                    10|                       10|                   10|                         10|                    10|                 10|{WASHINGTON,\" Sea...|               1|strict_14_with_gr...|                            0|                               0|                             2|                                          2|                                           0|                                          0|             0.21|                             3.0|              1.0|          0.0|         0.0|                    1.0|                11.0|                 (17,[3],[1.0])|  (26,[1],[1.0])|(4,[0],[1.0])|(5,[0],[1.0])|         (6,[1],[1.0])|    (69,[11],[1.0])|\n",
      "+----+--------------------+--------------------+--------------------+-------------------+--------------------+-------+--------------------+---------+-------------------+--------------------+------------------+------------------+-----------------+--------------------+--------------------+-------------------+-------------------------+--------------------+----------------------+--------------------+-------------+----------------------+----------------------------+-------+-----+-------+--------------+------------+-------------+--------+----------+-----------------+-------------+---------------+------------+---------+--------+----+--------+--------------------+-----+---------------+------------+--------------+--------------+----------------------+----------------------+----------------------+----------------------+----------------------+----------------------+----------------+---------------+---------------+---------------+----------------+---------------------+-----------------+---------------------+-------------------+-------------------+--------------------+----------------------+-------------------------+---------------------+---------------------------+----------------------+-------------------+--------------------+----------------+--------------------+-----------------------------+--------------------------------+------------------------------+-------------------------------------------+--------------------------------------------+-------------------------------------------+-----------------+--------------------------------+-----------------+-------------+------------+-----------------------+--------------------+-------------------------------+----------------+-------------+-------------+----------------------+-------------------+\n",
      "only showing top 1 row\n",
      "\n"
     ]
    }
   ],
   "source": [
    "#CTH's code\n",
    "encoded_pipeline = Pipeline(stages = encoded)\n",
    "df_encoded = encoded_pipeline.fit(df_c_transformed).transform(df_c_transformed)\n",
    "df_encoded.show(1)"
   ]
  },
  {
   "cell_type": "code",
   "execution_count": 69,
   "metadata": {},
   "outputs": [],
   "source": [
    "#CTH's code 将一些字符串形式的数字中的N/A 用平均数代替 \n",
    "df = df.withColumn('host_response_rate', regexp_replace('host_response_rate', '%', ''))\n",
    "df = df.withColumn('host_response_rate', df['host_response_rate'].cast(\"double\"))\n",
    "mean = df.agg({'host_response_rate': 'mean'}).collect()[0][0]\n",
    "df = df.fillna({'host_response_rate': mean})"
   ]
  },
  {
   "cell_type": "code",
   "execution_count": 74,
   "metadata": {},
   "outputs": [
    {
     "name": "stdout",
     "output_type": "stream",
     "text": [
      "9023 79\n"
     ]
    }
   ],
   "source": [
    "# CTH's code\n",
    "# drop_list1是一些所有行或者大部分行都缺失的列和一些无用的列\n",
    "drop_list1 = ['license', 'scrape_id','last_scraped'\n",
    "                ,'host_acceptance_rate','thumbnail_url','medium_url','xl_picture_url'\n",
    "                ,'square_feet','weekly_price','monthly_price'\n",
    "                ,'host_neighbourhood','zipcode','security_deposit'\n",
    "                , 'cleaning_fee','summary',]\n",
    "\n",
    "# drop_list2中的列有大量缺失值,都是文字性信息\n",
    "drop_list2 = ['notes','access','transit','space','neighborhood_overview','interaction','house_rules','host_about']\n",
    "\n",
    "# drop_list_low_variance = ['host_has_profile_pic','has_availability','requires_license','is_business_travel_ready']\n",
    "# low variance 关于boolean的四个要删除的columns\n",
    "\n",
    "df = df.drop(*drop_list1)\n",
    "df = df.drop(*drop_list2)\n",
    "df = df.drop(*drop_list_low_variance)\n",
    "print(df.count(),len(df.columns))"
   ]
  },
  {
   "cell_type": "code",
   "execution_count": 75,
   "metadata": {},
   "outputs": [
    {
     "name": "stdout",
     "output_type": "stream",
     "text": [
      "+---+-----------+----+-----------+-------------------+-----------+-------+--------+---------+----------+\n",
      "| id|listing_url|name|description|experiences_offered|picture_url|host_id|host_url|host_name|host_since|\n",
      "+---+-----------+----+-----------+-------------------+-----------+-------+--------+---------+----------+\n",
      "|  0|          0|   0|         72|                  0|          0|      0|       0|        4|         4|\n",
      "+---+-----------+----+-----------+-------------------+-----------+-------+--------+---------+----------+\n",
      "\n",
      "+-------------+------------------+------------------+-----------------+------------------+----------------+-------------------+-------------------------+------------------+----------------------+\n",
      "|host_location|host_response_time|host_response_rate|host_is_superhost|host_thumbnail_url|host_picture_url|host_listings_count|host_total_listings_count|host_verifications|host_identity_verified|\n",
      "+-------------+------------------+------------------+-----------------+------------------+----------------+-------------------+-------------------------+------------------+----------------------+\n",
      "|           13|                 4|                 0|                4|                 4|               4|                  4|                        4|                 0|                     4|\n",
      "+-------------+------------------+------------------+-----------------+------------------+----------------+-------------------+-------------------------+------------------+----------------------+\n",
      "\n",
      "+------+-------------+----------------------+----------------------------+----+-----+------+--------------+------------+-------+\n",
      "|street|neighbourhood|neighbourhood_cleansed|neighbourhood_group_cleansed|city|state|market|smart_location|country_code|country|\n",
      "+------+-------------+----------------------+----------------------------+----+-----+------+--------------+------------+-------+\n",
      "|     0|            1|                     0|                           0|   3|    1|    19|             0|           0|      0|\n",
      "+------+-------------+----------------------+----------------------------+----+-----+------+--------------+------------+-------+\n",
      "\n",
      "+--------+---------+-----------------+-------------+---------+------------+---------+--------+----+--------+\n",
      "|latitude|longitude|is_location_exact|property_type|room_type|accommodates|bathrooms|bedrooms|beds|bed_type|\n",
      "+--------+---------+-----------------+-------------+---------+------------+---------+--------+----+--------+\n",
      "|       0|        0|                0|            0|        0|           0|        2|       7|   3|       0|\n",
      "+--------+---------+-----------------+-------------+---------+------------+---------+--------+----+--------+\n",
      "\n",
      "+---------+-----+---------------+------------+--------------+--------------+----------------------+----------------------+----------------------+----------------------+\n",
      "|amenities|price|guests_included|extra_people|minimum_nights|maximum_nights|minimum_minimum_nights|maximum_minimum_nights|minimum_maximum_nights|maximum_maximum_nights|\n",
      "+---------+-----+---------------+------------+--------------+--------------+----------------------+----------------------+----------------------+----------------------+\n",
      "|        0|    0|              0|           0|             0|             0|                     0|                     0|                     0|                     0|\n",
      "+---------+-----+---------------+------------+--------------+--------------+----------------------+----------------------+----------------------+----------------------+\n",
      "\n",
      "+----------------------+----------------------+----------------+---------------+---------------+---------------+----------------+---------------------+-----------------+---------------------+\n",
      "|minimum_nights_avg_ntm|maximum_nights_avg_ntm|calendar_updated|availability_30|availability_60|availability_90|availability_365|calendar_last_scraped|number_of_reviews|number_of_reviews_ltm|\n",
      "+----------------------+----------------------+----------------+---------------+---------------+---------------+----------------+---------------------+-----------------+---------------------+\n",
      "|                     0|                     0|               0|              0|              0|              0|               0|                    0|                0|                    0|\n",
      "+----------------------+----------------------+----------------+---------------+---------------+---------------+----------------+---------------------+-----------------+---------------------+\n",
      "\n",
      "+------------+-----------+--------------------+----------------------+-------------------------+---------------------+---------------------------+----------------------+-------------------+------------------+\n",
      "|first_review|last_review|review_scores_rating|review_scores_accuracy|review_scores_cleanliness|review_scores_checkin|review_scores_communication|review_scores_location|review_scores_value|jurisdiction_names|\n",
      "+------------+-----------+--------------------+----------------------+-------------------------+---------------------+---------------------------+----------------------+-------------------+------------------+\n",
      "|        1261|       1261|                1320|                  1322|                     1322|                 1323|                       1321|                  1323|               1322|                 0|\n",
      "+------------+-----------+--------------------+----------------------+-------------------------+---------------------+---------------------------+----------------------+-------------------+------------------+\n",
      "\n",
      "+----------------+-------------------+-----------------------------+--------------------------------+------------------------------+-------------------------------------------+--------------------------------------------+-------------------------------------------+-----------------+\n",
      "|instant_bookable|cancellation_policy|require_guest_profile_picture|require_guest_phone_verification|calculated_host_listings_count|calculated_host_listings_count_entire_homes|calculated_host_listings_count_private_rooms|calculated_host_listings_count_shared_rooms|reviews_per_month|\n",
      "+----------------+-------------------+-----------------------------+--------------------------------+------------------------------+-------------------------------------------+--------------------------------------------+-------------------------------------------+-----------------+\n",
      "|               0|                  0|                            0|                               0|                             0|                                          0|                                           0|                                          0|             1261|\n",
      "+----------------+-------------------+-----------------------------+--------------------------------+------------------------------+-------------------------------------------+--------------------------------------------+-------------------------------------------+-----------------+\n",
      "\n",
      "++\n",
      "||\n",
      "++\n",
      "||\n",
      "||\n",
      "||\n",
      "||\n",
      "||\n",
      "||\n",
      "||\n",
      "||\n",
      "||\n",
      "||\n",
      "||\n",
      "||\n",
      "||\n",
      "||\n",
      "||\n",
      "||\n",
      "||\n",
      "||\n",
      "||\n",
      "||\n",
      "++\n",
      "only showing top 20 rows\n",
      "\n"
     ]
    }
   ],
   "source": [
    "# CTH's code\n",
    "#查看drop部分columns以后NA的情况\n",
    "i = 0\n",
    "j = 10\n",
    "for k in range(9):\n",
    "    df.select([count(when(isnull(c), c)).alias(c) for c in df.columns[i:j]]).show()\n",
    "    i +=10\n",
    "    j +=10"
   ]
  },
  {
   "cell_type": "code",
   "execution_count": 76,
   "metadata": {},
   "outputs": [
    {
     "name": "stdout",
     "output_type": "stream",
     "text": [
      "7703 79\n"
     ]
    }
   ],
   "source": [
    "# CTH's code\n",
    "# subset中的列缺失值大于600个， drop掉这12列中缺失值数量大于等于7个的列（也就是超过一半都是NA的行）\n",
    "df = df.dropna(subset=[\"first_review\",\"last_review\",\"review_scores_rating\",\"review_scores_accuracy\"\n",
    "                    ,\"review_scores_cleanliness\",\"review_scores_checkin\",\"review_scores_communication\"\n",
    "                   ,\"review_scores_location\",\"review_scores_value\"\n",
    "                    ],thresh=5)\n",
    "print(df.count(),len(df.columns))"
   ]
  },
  {
   "cell_type": "code",
   "execution_count": 77,
   "metadata": {
    "scrolled": true
   },
   "outputs": [
    {
     "name": "stdout",
     "output_type": "stream",
     "text": [
      "+---+-----------+----+-----------+-------------------+-----------+-------+--------+---------+----------+\n",
      "| id|listing_url|name|description|experiences_offered|picture_url|host_id|host_url|host_name|host_since|\n",
      "+---+-----------+----+-----------+-------------------+-----------+-------+--------+---------+----------+\n",
      "|  0|          0|   0|         40|                  0|          0|      0|       0|        4|         4|\n",
      "+---+-----------+----+-----------+-------------------+-----------+-------+--------+---------+----------+\n",
      "\n",
      "+-------------+------------------+------------------+-----------------+------------------+----------------+-------------------+-------------------------+------------------+----------------------+\n",
      "|host_location|host_response_time|host_response_rate|host_is_superhost|host_thumbnail_url|host_picture_url|host_listings_count|host_total_listings_count|host_verifications|host_identity_verified|\n",
      "+-------------+------------------+------------------+-----------------+------------------+----------------+-------------------+-------------------------+------------------+----------------------+\n",
      "|           12|                 4|                 0|                4|                 4|               4|                  4|                        4|                 0|                     4|\n",
      "+-------------+------------------+------------------+-----------------+------------------+----------------+-------------------+-------------------------+------------------+----------------------+\n",
      "\n",
      "+------+-------------+----------------------+----------------------------+----+-----+------+--------------+------------+-------+\n",
      "|street|neighbourhood|neighbourhood_cleansed|neighbourhood_group_cleansed|city|state|market|smart_location|country_code|country|\n",
      "+------+-------------+----------------------+----------------------------+----+-----+------+--------------+------------+-------+\n",
      "|     0|            0|                     0|                           0|   3|    1|    14|             0|           0|      0|\n",
      "+------+-------------+----------------------+----------------------------+----+-----+------+--------------+------------+-------+\n",
      "\n",
      "+--------+---------+-----------------+-------------+---------+------------+---------+--------+----+--------+\n",
      "|latitude|longitude|is_location_exact|property_type|room_type|accommodates|bathrooms|bedrooms|beds|bed_type|\n",
      "+--------+---------+-----------------+-------------+---------+------------+---------+--------+----+--------+\n",
      "|       0|        0|                0|            0|        0|           0|        0|       4|   0|       0|\n",
      "+--------+---------+-----------------+-------------+---------+------------+---------+--------+----+--------+\n",
      "\n",
      "+---------+-----+---------------+------------+--------------+--------------+----------------------+----------------------+----------------------+----------------------+\n",
      "|amenities|price|guests_included|extra_people|minimum_nights|maximum_nights|minimum_minimum_nights|maximum_minimum_nights|minimum_maximum_nights|maximum_maximum_nights|\n",
      "+---------+-----+---------------+------------+--------------+--------------+----------------------+----------------------+----------------------+----------------------+\n",
      "|        0|    0|              0|           0|             0|             0|                     0|                     0|                     0|                     0|\n",
      "+---------+-----+---------------+------------+--------------+--------------+----------------------+----------------------+----------------------+----------------------+\n",
      "\n",
      "+----------------------+----------------------+----------------+---------------+---------------+---------------+----------------+---------------------+-----------------+---------------------+\n",
      "|minimum_nights_avg_ntm|maximum_nights_avg_ntm|calendar_updated|availability_30|availability_60|availability_90|availability_365|calendar_last_scraped|number_of_reviews|number_of_reviews_ltm|\n",
      "+----------------------+----------------------+----------------+---------------+---------------+---------------+----------------+---------------------+-----------------+---------------------+\n",
      "|                     0|                     0|               0|              0|              0|              0|               0|                    0|                0|                    0|\n",
      "+----------------------+----------------------+----------------+---------------+---------------+---------------+----------------+---------------------+-----------------+---------------------+\n",
      "\n",
      "+------------+-----------+--------------------+----------------------+-------------------------+---------------------+---------------------------+----------------------+-------------------+------------------+\n",
      "|first_review|last_review|review_scores_rating|review_scores_accuracy|review_scores_cleanliness|review_scores_checkin|review_scores_communication|review_scores_location|review_scores_value|jurisdiction_names|\n",
      "+------------+-----------+--------------------+----------------------+-------------------------+---------------------+---------------------------+----------------------+-------------------+------------------+\n",
      "|           0|          0|                   1|                     2|                        2|                    3|                          1|                     3|                  2|                 0|\n",
      "+------------+-----------+--------------------+----------------------+-------------------------+---------------------+---------------------------+----------------------+-------------------+------------------+\n",
      "\n",
      "+----------------+-------------------+-----------------------------+--------------------------------+------------------------------+-------------------------------------------+--------------------------------------------+-------------------------------------------+-----------------+\n",
      "|instant_bookable|cancellation_policy|require_guest_profile_picture|require_guest_phone_verification|calculated_host_listings_count|calculated_host_listings_count_entire_homes|calculated_host_listings_count_private_rooms|calculated_host_listings_count_shared_rooms|reviews_per_month|\n",
      "+----------------+-------------------+-----------------------------+--------------------------------+------------------------------+-------------------------------------------+--------------------------------------------+-------------------------------------------+-----------------+\n",
      "|               0|                  0|                            0|                               0|                             0|                                          0|                                           0|                                          0|                0|\n",
      "+----------------+-------------------+-----------------------------+--------------------------------+------------------------------+-------------------------------------------+--------------------------------------------+-------------------------------------------+-----------------+\n",
      "\n"
     ]
    }
   ],
   "source": [
    "# CTH's code\n",
    "#查看第二次drop后NA的情况\n",
    "i = 0\n",
    "j = 10\n",
    "for k in range(8):\n",
    "    df.select([count(when(isnull(c), c)).alias(c) for c in df.columns[i:j]]).show()\n",
    "    i +=10\n",
    "    j +=10"
   ]
  },
  {
   "cell_type": "code",
   "execution_count": 78,
   "metadata": {},
   "outputs": [],
   "source": [
    "# CTH's code\n",
    "# 第三次drop 将一些没有很少量缺失的值删除，得到一个干净的数据集\n",
    "df = df.dropna()"
   ]
  },
  {
   "cell_type": "code",
   "execution_count": 79,
   "metadata": {
    "scrolled": true
   },
   "outputs": [
    {
     "name": "stdout",
     "output_type": "stream",
     "text": [
      "+---+-----------+----+-----------+-------------------+-----------+-------+--------+---------+----------+\n",
      "| id|listing_url|name|description|experiences_offered|picture_url|host_id|host_url|host_name|host_since|\n",
      "+---+-----------+----+-----------+-------------------+-----------+-------+--------+---------+----------+\n",
      "|  0|          0|   0|          0|                  0|          0|      0|       0|        0|         0|\n",
      "+---+-----------+----+-----------+-------------------+-----------+-------+--------+---------+----------+\n",
      "\n",
      "+-------------+------------------+------------------+-----------------+------------------+----------------+-------------------+-------------------------+------------------+----------------------+\n",
      "|host_location|host_response_time|host_response_rate|host_is_superhost|host_thumbnail_url|host_picture_url|host_listings_count|host_total_listings_count|host_verifications|host_identity_verified|\n",
      "+-------------+------------------+------------------+-----------------+------------------+----------------+-------------------+-------------------------+------------------+----------------------+\n",
      "|            0|                 0|                 0|                0|                 0|               0|                  0|                        0|                 0|                     0|\n",
      "+-------------+------------------+------------------+-----------------+------------------+----------------+-------------------+-------------------------+------------------+----------------------+\n",
      "\n",
      "+------+-------------+----------------------+----------------------------+----+-----+------+--------------+------------+-------+\n",
      "|street|neighbourhood|neighbourhood_cleansed|neighbourhood_group_cleansed|city|state|market|smart_location|country_code|country|\n",
      "+------+-------------+----------------------+----------------------------+----+-----+------+--------------+------------+-------+\n",
      "|     0|            0|                     0|                           0|   0|    0|     0|             0|           0|      0|\n",
      "+------+-------------+----------------------+----------------------------+----+-----+------+--------------+------------+-------+\n",
      "\n",
      "+--------+---------+-----------------+-------------+---------+------------+---------+--------+----+--------+\n",
      "|latitude|longitude|is_location_exact|property_type|room_type|accommodates|bathrooms|bedrooms|beds|bed_type|\n",
      "+--------+---------+-----------------+-------------+---------+------------+---------+--------+----+--------+\n",
      "|       0|        0|                0|            0|        0|           0|        0|       0|   0|       0|\n",
      "+--------+---------+-----------------+-------------+---------+------------+---------+--------+----+--------+\n",
      "\n",
      "+---------+-----+---------------+------------+--------------+--------------+----------------------+----------------------+----------------------+----------------------+\n",
      "|amenities|price|guests_included|extra_people|minimum_nights|maximum_nights|minimum_minimum_nights|maximum_minimum_nights|minimum_maximum_nights|maximum_maximum_nights|\n",
      "+---------+-----+---------------+------------+--------------+--------------+----------------------+----------------------+----------------------+----------------------+\n",
      "|        0|    0|              0|           0|             0|             0|                     0|                     0|                     0|                     0|\n",
      "+---------+-----+---------------+------------+--------------+--------------+----------------------+----------------------+----------------------+----------------------+\n",
      "\n",
      "+----------------------+----------------------+----------------+---------------+---------------+---------------+----------------+---------------------+-----------------+---------------------+\n",
      "|minimum_nights_avg_ntm|maximum_nights_avg_ntm|calendar_updated|availability_30|availability_60|availability_90|availability_365|calendar_last_scraped|number_of_reviews|number_of_reviews_ltm|\n",
      "+----------------------+----------------------+----------------+---------------+---------------+---------------+----------------+---------------------+-----------------+---------------------+\n",
      "|                     0|                     0|               0|              0|              0|              0|               0|                    0|                0|                    0|\n",
      "+----------------------+----------------------+----------------+---------------+---------------+---------------+----------------+---------------------+-----------------+---------------------+\n",
      "\n",
      "+------------+-----------+--------------------+----------------------+-------------------------+---------------------+---------------------------+----------------------+-------------------+------------------+\n",
      "|first_review|last_review|review_scores_rating|review_scores_accuracy|review_scores_cleanliness|review_scores_checkin|review_scores_communication|review_scores_location|review_scores_value|jurisdiction_names|\n",
      "+------------+-----------+--------------------+----------------------+-------------------------+---------------------+---------------------------+----------------------+-------------------+------------------+\n",
      "|           0|          0|                   0|                     0|                        0|                    0|                          0|                     0|                  0|                 0|\n",
      "+------------+-----------+--------------------+----------------------+-------------------------+---------------------+---------------------------+----------------------+-------------------+------------------+\n",
      "\n",
      "+----------------+-------------------+-----------------------------+--------------------------------+------------------------------+-------------------------------------------+--------------------------------------------+-------------------------------------------+-----------------+\n",
      "|instant_bookable|cancellation_policy|require_guest_profile_picture|require_guest_phone_verification|calculated_host_listings_count|calculated_host_listings_count_entire_homes|calculated_host_listings_count_private_rooms|calculated_host_listings_count_shared_rooms|reviews_per_month|\n",
      "+----------------+-------------------+-----------------------------+--------------------------------+------------------------------+-------------------------------------------+--------------------------------------------+-------------------------------------------+-----------------+\n",
      "|               0|                  0|                            0|                               0|                             0|                                          0|                                           0|                                          0|                0|\n",
      "+----------------+-------------------+-----------------------------+--------------------------------+------------------------------+-------------------------------------------+--------------------------------------------+-------------------------------------------+-----------------+\n",
      "\n",
      "7628 79\n"
     ]
    }
   ],
   "source": [
    "# CTH's code\n",
    "#查看第三次drop后NA的情况\n",
    "i = 0\n",
    "j = 10\n",
    "for k in range(8):\n",
    "    df.select([count(when(isnull(c), c)).alias(c) for c in df.columns[i:j]]).show()\n",
    "    i +=10\n",
    "    j +=10\n",
    "print(df.count(),len(df.columns))"
   ]
  },
  {
   "cell_type": "code",
   "execution_count": 80,
   "metadata": {},
   "outputs": [],
   "source": [
    "# CTH's code  将清理后的输入以csv格式存储在指定的地址中\n",
    "df_pd = df.toPandas()"
   ]
  },
  {
   "cell_type": "code",
   "execution_count": 83,
   "metadata": {},
   "outputs": [],
   "source": [
    "#将清洗后的数据保存到指定路径中\n",
    "df_pd.to_csv(\"./listing_clean.csv\")"
   ]
  },
  {
   "cell_type": "markdown",
   "metadata": {},
   "source": [
    "### Natural Language Processing"
   ]
  },
  {
   "cell_type": "code",
   "execution_count": 84,
   "metadata": {},
   "outputs": [],
   "source": [
    "#文字性列的处理 CTH's code\n",
    "from pyspark.sql.functions import array\n",
    "\n",
    "df =df.withColumn('host_verifications', array(df['host_verifications']))\n",
    "df =df.withColumn('amenities', array(df['amenities']))"
   ]
  },
  {
   "cell_type": "code",
   "execution_count": 85,
   "metadata": {},
   "outputs": [],
   "source": [
    "#文字性列的处理 CTH's code\n",
    "from pyspark.ml import Pipeline\n",
    "from pyspark.ml.feature import HashingTF\n",
    "from pyspark.ml.feature import CountVectorizer\n",
    "from pyspark.ml.feature import IDF\n",
    "\n",
    "cv1 = CountVectorizer()\\\n",
    "    .setInputCol('host_verifications')\\\n",
    "    .setOutputCol('tf1')\n",
    "\n",
    "cv2 = CountVectorizer()\\\n",
    "    .setInputCol('amenities')\\\n",
    "    .setOutputCol('tf2')\n",
    "\n",
    "idf1 = IDF().\\\n",
    "    setInputCol(\"tf1\").\\\n",
    "    setOutputCol(\"tfidf1\")\n",
    "\n",
    "idf2 = IDF().\\\n",
    "    setInputCol(\"tf2\").\\\n",
    "    setOutputCol(\"tfidf2\")"
   ]
  },
  {
   "cell_type": "code",
   "execution_count": 86,
   "metadata": {},
   "outputs": [],
   "source": [
    "#CTH'code\n",
    "#创建随机森林回国模型\n",
    "from pyspark.ml.regression import RandomForestRegressor\n",
    "regression = RandomForestRegressor(labelCol='price')\n",
    "from pyspark.ml.regression import GBTRegressor\n",
    "gbt = GBTRegressor(labelCol='price')"
   ]
  },
  {
   "cell_type": "code",
   "execution_count": 87,
   "metadata": {},
   "outputs": [],
   "source": [
    "#cth's code\n",
    "#feature的集合\n",
    "from pyspark.ml.feature import VectorAssembler\n",
    "list_numeric = ['host_is_superhost','host_listings_count','tfidf1','tfidf2'\n",
    "                ,'host_identity_verified','accommodates','bathrooms','bedrooms'\n",
    "                ,'beds','guests_included','number_of_reviews','number_of_reviews_ltm'\n",
    "                ,'review_scores_rating','review_scores_accuracy','review_scores_cleanliness'\n",
    "                ,'review_scores_checkin','review_scores_communication','review_scores_location'\n",
    "                ,'review_scores_value','calculated_host_listings_count','calculated_host_listings_count_entire_homes'\n",
    "                ,'calculated_host_listings_count_private_rooms','calculated_host_listings_count_shared_rooms','reviews_per_month'\n",
    "                ,'neighbourhood_group_cleansedVec','property_typeVec', 'room_typeVec', 'bed_typeVec'\n",
    "                ,'cancellation_policyVec','calendar_updatedVec']\n",
    "assemble = VectorAssembler(inputCols=list_numeric,outputCol='features')"
   ]
  },
  {
   "cell_type": "markdown",
   "metadata": {},
   "source": [
    "## Data Visualization"
   ]
  },
  {
   "cell_type": "markdown",
   "metadata": {},
   "source": [
    "### BarPlot"
   ]
  },
  {
   "cell_type": "code",
   "execution_count": null,
   "metadata": {},
   "outputs": [],
   "source": [
    "#CTH's code\n",
    "host_response_time = df_pd['host_response_time']\n",
    "print(host_response_time.value_counts())\n",
    "col = ['#FF8247','#CD919E','#7EC0EE','#8B0000','#EEEE00',]\n",
    "x = ['within an hour', 'within a few hours','within a day', 'a few days or more','N/A']\n",
    "y = [5283,630,237,34,1444]  \n",
    "plt.figure(figsize=(10,8),dpi = 80)\n",
    "plt.xlabel('Time',fontsize = 18)\n",
    "plt.ylabel('Frequency',fontsize = 18)\n",
    "plt.title('Time of Response',fontsize = 20)\n",
    "plt.bar(range(len(x)),y,width=0.5,color = col)\n",
    "plt.xticks(range(len(x)),x)\n",
    "plt.tick_params(labelsize=13)\n",
    "plt.show()"
   ]
  },
  {
   "cell_type": "code",
   "execution_count": null,
   "metadata": {},
   "outputs": [],
   "source": [
    "#CTH's code\n",
    "host_is_superhost = df_pd['host_is_superhost']\n",
    "print(host_is_superhost.value_counts())\n",
    "x = ['Superhost','Not Superhost']\n",
    "y = [3745,5274]\n",
    "plt.figure(figsize=(10,8),dpi = 80)\n",
    "plt.ylabel('Frequency',fontsize = 18)\n",
    "plt.title('Whether the host is superhost',fontsize = 20)\n",
    "plt.bar(range(len(x)),y,width=0.2,color = 'orange')\n",
    "plt.xticks(range(len(x)),x)\n",
    "plt.tick_params(labelsize=15)\n",
    "plt.show()"
   ]
  },
  {
   "cell_type": "code",
   "execution_count": null,
   "metadata": {},
   "outputs": [],
   "source": [
    "#CTH's code\n",
    "property_type = df_pd['property_type'].dropna(axis=0,how='any')\n",
    "property_type = property_type.value_counts()\n",
    "property_type.plot(kind='bar',figsize=(10,8), color='orange',width = 0.8)\n",
    "plt.xlabel('Property Type',fontsize = 18)\n",
    "plt.ylabel('Frequency',fontsize = 18)\n",
    "plt.title('Distribution of Property Type', fontsize = 20)\n",
    "plt.tick_params(labelsize=15)\n",
    "plt.show()"
   ]
  },
  {
   "cell_type": "code",
   "execution_count": null,
   "metadata": {},
   "outputs": [],
   "source": [
    "#CTH's code\n",
    "room_type = df_pd['room_type'].dropna(axis=0,how='any')\n",
    "room_type = room_type.value_counts()\n",
    "room_type.plot(kind='bar',figsize=(10,8), color='orange', width = 0.8)\n",
    "plt.xlabel('Room Type',fontsize = 18)\n",
    "plt.ylabel('Frequency',fontsize = 18)\n",
    "plt.title('Distribution of Room Type', fontsize = 20)\n",
    "plt.tick_params(labelsize=15)\n",
    "plt.xticks(rotation = 0)\n",
    "plt.show()"
   ]
  },
  {
   "cell_type": "markdown",
   "metadata": {},
   "source": [
    "### Histogram"
   ]
  },
  {
   "cell_type": "code",
   "execution_count": null,
   "metadata": {},
   "outputs": [],
   "source": [
    "#CTH's code\n",
    "host_response_rate = df_pd['host_response_rate']\n",
    "plt.figure(figsize=(10,8),dpi = 80)\n",
    "plt.hist(host_response_rate,10,color='orange')\n",
    "plt.xlabel('host_response_rate(%)',fontsize = 18)\n",
    "plt.ylabel('frequency',fontsize = 18)\n",
    "_xtick_labels = [i for i in range(0,101)]\n",
    "plt.xticks(_xtick_labels[::10])\n",
    "plt.title('Response rate of host',fontsize = 20)\n",
    "plt.tick_params(labelsize=15)\n",
    "plt.show()"
   ]
  },
  {
   "cell_type": "code",
   "execution_count": null,
   "metadata": {},
   "outputs": [],
   "source": [
    "#get list of neighbourhoods\n",
    "neighbourhoods = df['neighbourhood_group_cleansed'].unique()\n",
    "\n",
    "#get prices by month and neighbourhood\n",
    "price_by_month_neighbourhood = df.groupby(['month','neighbourhood_group_cleansed']).mean().reset_index()\n",
    "\n",
    "#plot prices for each neighbourhood\n",
    "fig = plt.figure(figsize=(20,10))\n",
    "ax = plt.subplot(111)\n",
    "\n",
    "for neighbourhood in neighbourhoods:\n",
    "    ax.plot(price_by_month_neighbourhood[price_by_month_neighbourhood['neighbourhood_group_cleansed'] == neighbourhood]['month'],\n",
    "             price_by_month_neighbourhood[price_by_month_neighbourhood['neighbourhood_group_cleansed'] == neighbourhood]['price'],\n",
    "             label = neighbourhood)\n",
    "    \n",
    "box = ax.get_position()\n",
    "ax.set_position([box.x0, box.y0, box.width * 0.8, box.height])\n",
    "ax.legend(loc='center left', bbox_to_anchor=(1, 0.5))\n",
    "\n",
    "plt.ylabel('Average price, $')\n",
    "plt.xlabel('Month')\n",
    "plt.title('Average price for neighbourhood, $')\n",
    "\n",
    "plt.savefig('average price for neighbourhood')\n",
    "\n",
    "plt.show()\n"
   ]
  },
  {
   "cell_type": "markdown",
   "metadata": {},
   "source": [
    "### Boxplot"
   ]
  },
  {
   "cell_type": "code",
   "execution_count": null,
   "metadata": {},
   "outputs": [],
   "source": [
    "# Mark\n",
    "data = Data().raw_data.toPandas()"
   ]
  },
  {
   "cell_type": "code",
   "execution_count": null,
   "metadata": {},
   "outputs": [],
   "source": [
    "list = ['host_listings_count', \n",
    " 'host_total_listings_count', \n",
    " 'accommodates',\n",
    " 'bathrooms',\n",
    " 'bedrooms',\n",
    " 'beds',\n",
    " 'guests_included',\n",
    " 'minimum_nights',\n",
    " 'maximum_nights',\n",
    " 'minimum_minimum_nights',\n",
    " 'maximum_minimum_nights',\n",
    " 'minimum_maximum_nights',\n",
    " 'maximum_maximum_nights',\n",
    " 'minimum_nights_avg_ntm',\n",
    " 'maximum_nights_avg_ntm',\n",
    " 'number_of_reviews',\n",
    " 'number_of_reviews_ltm',\n",
    " ]\n",
    "for i in list:\n",
    "    title = i\n",
    "    i = data[i].dropna(axis=0,how='any')\n",
    "    sns.set(style=\"whitegrid\")\n",
    "    sns.boxplot(x=i)\n",
    "    plt.show()"
   ]
  },
  {
   "cell_type": "markdown",
   "metadata": {},
   "source": [
    "### Correlation Visualization"
   ]
  },
  {
   "cell_type": "code",
   "execution_count": null,
   "metadata": {},
   "outputs": [],
   "source": [
    "data = Data().raw_data.toPandas()"
   ]
  },
  {
   "cell_type": "code",
   "execution_count": null,
   "metadata": {},
   "outputs": [],
   "source": [
    "#col_list = []\n",
    "sns.heatmap()\n",
    "cols = ['accommodates','bathrooms','bedrooms','beds','host_since_year',\n",
    "        'host_listings_count', 'extra_people_fee',\n",
    "        'review_scores_rating', 'price']\n",
    "\n",
    "#Find out correlation between columns and plot\n",
    "corrs = np.corrcoef(df[cols].values.T)\n",
    "sns.set(font_scale=1)\n",
    "sns.set(rc={'figure.figsize':(7,7)})\n",
    "hm=sns.heatmap(corrs, cbar = True, annot=True, square = True, fmt = '.2f',\n",
    "              yticklabels = cols, xticklabels = cols).set_title('Correlations heatmap')\n",
    "\n",
    "fig = hm.get_figure()"
   ]
  },
  {
   "cell_type": "markdown",
   "metadata": {},
   "source": [
    "# Data Wrangling"
   ]
  },
  {
   "cell_type": "markdown",
   "metadata": {},
   "source": [
    "# Data Pipeline"
   ]
  },
  {
   "cell_type": "code",
   "execution_count": null,
   "metadata": {},
   "outputs": [],
   "source": [
    "transfomer1 = Pipeline(stages=indexers + encoded + [cv1,idf1,cv2,idf2,assemble,regression])\n",
    "transfomer2=  Pipeline(stages=indexers + encoded + [cv1,idf1,cv2,idf2,assemble,gbt])"
   ]
  },
  {
   "cell_type": "markdown",
   "metadata": {},
   "source": [
    "## Standardize Scaling"
   ]
  },
  {
   "cell_type": "code",
   "execution_count": null,
   "metadata": {},
   "outputs": [],
   "source": [
    "from pyspark.ml.feature import StandardScaler\n",
    "def scaler(list)\n",
    "#scaler = StandardScaler(inputCol=\"features\", outputCol=\"scaledFeatures\",\n",
    "#                       withStd=True, withMean=False)"
   ]
  },
  {
   "cell_type": "markdown",
   "metadata": {},
   "source": [
    "## OneHotEncoderEstimator"
   ]
  },
  {
   "cell_type": "code",
   "execution_count": 144,
   "metadata": {},
   "outputs": [],
   "source": [
    "def onehot(list_in):\n",
    "    list_out = []\n",
    "    for i in list_in:\n",
    "        list_out.append(i+'vec_'+str(list_in.index(i)))\n",
    "    encoder = OneHotEncoderEstimator(inputCols=list_in,\n",
    "                                 outputCols=list_out)\n",
    "    return encoder"
   ]
  },
  {
   "cell_type": "markdown",
   "metadata": {},
   "source": [
    "# Data Model"
   ]
  },
  {
   "cell_type": "markdown",
   "metadata": {},
   "source": [
    "## CTH"
   ]
  },
  {
   "cell_type": "code",
   "execution_count": 97,
   "metadata": {},
   "outputs": [],
   "source": [
    "#Cth's code\n",
    "#训练数据集，并预测价格\n",
    "df_train,df_test = df.randomSplit([0.8,0.2],seed=13)"
   ]
  },
  {
   "cell_type": "code",
   "execution_count": 98,
   "metadata": {},
   "outputs": [],
   "source": [
    "model_forest = transfomer1.fit(df_train).transform(df_test)\n",
    "model_gbt = transfomer2.fit(df_train).transform(df_test)"
   ]
  },
  {
   "cell_type": "code",
   "execution_count": 99,
   "metadata": {},
   "outputs": [
    {
     "name": "stdout",
     "output_type": "stream",
     "text": [
      "Gradient Boosted Trees RMSE: 78.41470390500861\n",
      "Gradient Boosted Trees R^2: 0.7633095588808593\n",
      "Random Forest Regression RMSE: 87.3771880238163\n",
      "Random Forest Regression R^2: 0.7061120134542108\n"
     ]
    }
   ],
   "source": [
    "from pyspark.ml.evaluation import RegressionEvaluator\n",
    "\n",
    "# Select columns to compute test error\n",
    "evaluator = RegressionEvaluator(labelCol='price')\n",
    "# Dictionary of model predictions to loop over\n",
    "models = {'Gradient Boosted Trees': model_gbt, 'Random Forest Regression': model_forest}\n",
    "for key, preds in models.items():\n",
    "  # Create evaluation metrics\n",
    "  rmse = evaluator.evaluate(preds, {evaluator.metricName: 'rmse'})\n",
    "  r2 = evaluator.evaluate(preds, {evaluator.metricName: 'r2'})\n",
    "  \n",
    "  # Print Model Metrics\n",
    "  print(key + ' RMSE: ' + str(rmse))\n",
    "  print(key + ' R^2: ' + str(r2))"
   ]
  },
  {
   "cell_type": "markdown",
   "metadata": {},
   "source": [
    "## 2"
   ]
  },
  {
   "cell_type": "code",
   "execution_count": 119,
   "metadata": {},
   "outputs": [],
   "source": [
    "#Mark\n",
    "pred_list = ['id','host_is_superhost','neighbourhood_group_cleansed', 'property_type', \n",
    "             'room_type','guests_included', 'bathrooms', \n",
    "             'bedrooms', 'beds', 'bed_type', 'amenities', 'price', 'cleaning_fee', \n",
    "             'instant_bookable', 'cancellation_policy']"
   ]
  },
  {
   "cell_type": "code",
   "execution_count": 120,
   "metadata": {},
   "outputs": [],
   "source": [
    "data = Data().train_X"
   ]
  },
  {
   "cell_type": "code",
   "execution_count": 121,
   "metadata": {},
   "outputs": [],
   "source": [
    "pred_data = data.select(pred_list).dropna()"
   ]
  },
  {
   "cell_type": "code",
   "execution_count": 122,
   "metadata": {},
   "outputs": [
    {
     "data": {
      "text/plain": [
       "id                              0\n",
       "host_is_superhost               0\n",
       "neighbourhood_group_cleansed    0\n",
       "property_type                   0\n",
       "room_type                       0\n",
       "guests_included                 0\n",
       "bathrooms                       0\n",
       "bedrooms                        0\n",
       "beds                            0\n",
       "bed_type                        0\n",
       "amenities                       0\n",
       "price                           0\n",
       "cleaning_fee                    0\n",
       "instant_bookable                0\n",
       "cancellation_policy             0\n",
       "dtype: int64"
      ]
     },
     "execution_count": 122,
     "metadata": {},
     "output_type": "execute_result"
    }
   ],
   "source": [
    "pred_data.toPandas().isnull().sum()"
   ]
  },
  {
   "cell_type": "code",
   "execution_count": 123,
   "metadata": {},
   "outputs": [
    {
     "data": {
      "text/html": [
       "<div>\n",
       "<style scoped>\n",
       "    .dataframe tbody tr th:only-of-type {\n",
       "        vertical-align: middle;\n",
       "    }\n",
       "\n",
       "    .dataframe tbody tr th {\n",
       "        vertical-align: top;\n",
       "    }\n",
       "\n",
       "    .dataframe thead th {\n",
       "        text-align: right;\n",
       "    }\n",
       "</style>\n",
       "<table border=\"1\" class=\"dataframe\">\n",
       "  <thead>\n",
       "    <tr style=\"text-align: right;\">\n",
       "      <th></th>\n",
       "      <th>id</th>\n",
       "      <th>host_is_superhost</th>\n",
       "      <th>neighbourhood_group_cleansed</th>\n",
       "      <th>property_type</th>\n",
       "      <th>room_type</th>\n",
       "      <th>guests_included</th>\n",
       "      <th>bathrooms</th>\n",
       "      <th>bedrooms</th>\n",
       "      <th>beds</th>\n",
       "      <th>bed_type</th>\n",
       "      <th>amenities</th>\n",
       "      <th>price</th>\n",
       "      <th>cleaning_fee</th>\n",
       "      <th>instant_bookable</th>\n",
       "      <th>cancellation_policy</th>\n",
       "    </tr>\n",
       "  </thead>\n",
       "  <tbody>\n",
       "    <tr>\n",
       "      <th>0</th>\n",
       "      <td>2318</td>\n",
       "      <td>t</td>\n",
       "      <td>Central Area</td>\n",
       "      <td>House</td>\n",
       "      <td>Entire home/apt</td>\n",
       "      <td>8</td>\n",
       "      <td>2.5</td>\n",
       "      <td>4</td>\n",
       "      <td>4</td>\n",
       "      <td>Real Bed</td>\n",
       "      <td>{Internet,Wifi,Kitchen,\"Free parking on premis...</td>\n",
       "      <td>$296.00</td>\n",
       "      <td>$250.00</td>\n",
       "      <td>t</td>\n",
       "      <td>strict_14_with_grace_period</td>\n",
       "    </tr>\n",
       "    <tr>\n",
       "      <th>1</th>\n",
       "      <td>5682</td>\n",
       "      <td>f</td>\n",
       "      <td>Delridge</td>\n",
       "      <td>Guest suite</td>\n",
       "      <td>Entire home/apt</td>\n",
       "      <td>1</td>\n",
       "      <td>1.0</td>\n",
       "      <td>0</td>\n",
       "      <td>1</td>\n",
       "      <td>Real Bed</td>\n",
       "      <td>{TV,Internet,Wifi,\"Free street parking\",Heatin...</td>\n",
       "      <td>$48.00</td>\n",
       "      <td>$45.00</td>\n",
       "      <td>f</td>\n",
       "      <td>strict_14_with_grace_period</td>\n",
       "    </tr>\n",
       "    <tr>\n",
       "      <th>2</th>\n",
       "      <td>6606</td>\n",
       "      <td>f</td>\n",
       "      <td>Other neighborhoods</td>\n",
       "      <td>Guesthouse</td>\n",
       "      <td>Entire home/apt</td>\n",
       "      <td>2</td>\n",
       "      <td>1.0</td>\n",
       "      <td>1</td>\n",
       "      <td>1</td>\n",
       "      <td>Real Bed</td>\n",
       "      <td>{TV,Internet,Wifi,\"Air conditioning\",Kitchen,\"...</td>\n",
       "      <td>$90.00</td>\n",
       "      <td>$40.00</td>\n",
       "      <td>f</td>\n",
       "      <td>strict_14_with_grace_period</td>\n",
       "    </tr>\n",
       "    <tr>\n",
       "      <th>3</th>\n",
       "      <td>9419</td>\n",
       "      <td>t</td>\n",
       "      <td>Other neighborhoods</td>\n",
       "      <td>Apartment</td>\n",
       "      <td>Private room</td>\n",
       "      <td>1</td>\n",
       "      <td>3.0</td>\n",
       "      <td>1</td>\n",
       "      <td>1</td>\n",
       "      <td>Real Bed</td>\n",
       "      <td>{Internet,Wifi,\"Air conditioning\",Kitchen,\"Fre...</td>\n",
       "      <td>$62.00</td>\n",
       "      <td>$10.00</td>\n",
       "      <td>f</td>\n",
       "      <td>moderate</td>\n",
       "    </tr>\n",
       "    <tr>\n",
       "      <th>4</th>\n",
       "      <td>9534</td>\n",
       "      <td>t</td>\n",
       "      <td>West Seattle</td>\n",
       "      <td>Guest suite</td>\n",
       "      <td>Entire home/apt</td>\n",
       "      <td>2</td>\n",
       "      <td>1.0</td>\n",
       "      <td>2</td>\n",
       "      <td>2</td>\n",
       "      <td>Real Bed</td>\n",
       "      <td>{TV,\"Cable TV\",Internet,Wifi,Kitchen,\"Free par...</td>\n",
       "      <td>$125.00</td>\n",
       "      <td>$95.00</td>\n",
       "      <td>f</td>\n",
       "      <td>strict_14_with_grace_period</td>\n",
       "    </tr>\n",
       "  </tbody>\n",
       "</table>\n",
       "</div>"
      ],
      "text/plain": [
       "     id host_is_superhost neighbourhood_group_cleansed property_type  \\\n",
       "0  2318                 t                 Central Area         House   \n",
       "1  5682                 f                     Delridge   Guest suite   \n",
       "2  6606                 f          Other neighborhoods    Guesthouse   \n",
       "3  9419                 t          Other neighborhoods     Apartment   \n",
       "4  9534                 t                 West Seattle   Guest suite   \n",
       "\n",
       "         room_type  guests_included  bathrooms  bedrooms  beds  bed_type  \\\n",
       "0  Entire home/apt                8        2.5         4     4  Real Bed   \n",
       "1  Entire home/apt                1        1.0         0     1  Real Bed   \n",
       "2  Entire home/apt                2        1.0         1     1  Real Bed   \n",
       "3     Private room                1        3.0         1     1  Real Bed   \n",
       "4  Entire home/apt                2        1.0         2     2  Real Bed   \n",
       "\n",
       "                                           amenities    price cleaning_fee  \\\n",
       "0  {Internet,Wifi,Kitchen,\"Free parking on premis...  $296.00      $250.00   \n",
       "1  {TV,Internet,Wifi,\"Free street parking\",Heatin...   $48.00       $45.00   \n",
       "2  {TV,Internet,Wifi,\"Air conditioning\",Kitchen,\"...   $90.00       $40.00   \n",
       "3  {Internet,Wifi,\"Air conditioning\",Kitchen,\"Fre...   $62.00       $10.00   \n",
       "4  {TV,\"Cable TV\",Internet,Wifi,Kitchen,\"Free par...  $125.00       $95.00   \n",
       "\n",
       "  instant_bookable          cancellation_policy  \n",
       "0                t  strict_14_with_grace_period  \n",
       "1                f  strict_14_with_grace_period  \n",
       "2                f  strict_14_with_grace_period  \n",
       "3                f                     moderate  \n",
       "4                f  strict_14_with_grace_period  "
      ]
     },
     "execution_count": 123,
     "metadata": {},
     "output_type": "execute_result"
    }
   ],
   "source": [
    "pred_data.toPandas().head(5)"
   ]
  },
  {
   "cell_type": "code",
   "execution_count": 139,
   "metadata": {
    "collapsed": true
   },
   "outputs": [
    {
     "data": {
      "text/plain": [
       "Index(['id', 'host_is_superhost', 'neighbourhood_group_cleansed',\n",
       "       'property_type', 'room_type', 'guests_included', 'bathrooms',\n",
       "       'bedrooms', 'beds', 'bed_type', 'amenities', 'price', 'cleaning_fee',\n",
       "       'instant_bookable', 'cancellation_policy'],\n",
       "      dtype='object')"
      ]
     },
     "execution_count": 139,
     "metadata": {},
     "output_type": "execute_result"
    }
   ],
   "source": [
    "def select_data(data,l):\n",
    "    "
   ]
  },
  {
   "cell_type": "code",
   "execution_count": 160,
   "metadata": {},
   "outputs": [],
   "source": [
    "pred_one = ['host_is_superhost', 'neighbourhood_group_cleansed',\n",
    "       'property_type', 'room_type','bed_type','cancellation_policy']"
   ]
  },
  {
   "cell_type": "code",
   "execution_count": 161,
   "metadata": {},
   "outputs": [
    {
     "data": {
      "text/plain": [
       "OneHotEncoderEstimator_6392103900ca"
      ]
     },
     "execution_count": 161,
     "metadata": {},
     "output_type": "execute_result"
    }
   ],
   "source": [
    "onehot(pred_one)"
   ]
  },
  {
   "cell_type": "code",
   "execution_count": 162,
   "metadata": {},
   "outputs": [],
   "source": [
    "from pyspark.ml.regression import RandomForestRegressor\n",
    "reg = RandomForestRegressor(labelCol='price')\n",
    "from pyspark.ml.regression import GBTRegressor\n",
    "gbt = GBTRegressor(labelCol='price')\n",
    "pip1 = Pipeline(stages=[onehot(pred_one),reg])\n",
    "pip2 = Pipeline(stages=[onehot(pred_one),gbt])"
   ]
  },
  {
   "cell_type": "code",
   "execution_count": 163,
   "metadata": {},
   "outputs": [
    {
     "ename": "IllegalArgumentException",
     "evalue": "'requirement failed: Column neighbourhood_group_cleansed must be of type numeric but was actually of type string.'",
     "output_type": "error",
     "traceback": [
      "\u001b[0;31m---------------------------------------------------------------------------\u001b[0m",
      "\u001b[0;31mPy4JJavaError\u001b[0m                             Traceback (most recent call last)",
      "\u001b[0;32m~/anaconda3/lib/python3.7/site-packages/pyspark/sql/utils.py\u001b[0m in \u001b[0;36mdeco\u001b[0;34m(*a, **kw)\u001b[0m\n\u001b[1;32m     62\u001b[0m         \u001b[0;32mtry\u001b[0m\u001b[0;34m:\u001b[0m\u001b[0;34m\u001b[0m\u001b[0;34m\u001b[0m\u001b[0m\n\u001b[0;32m---> 63\u001b[0;31m             \u001b[0;32mreturn\u001b[0m \u001b[0mf\u001b[0m\u001b[0;34m(\u001b[0m\u001b[0;34m*\u001b[0m\u001b[0ma\u001b[0m\u001b[0;34m,\u001b[0m \u001b[0;34m**\u001b[0m\u001b[0mkw\u001b[0m\u001b[0;34m)\u001b[0m\u001b[0;34m\u001b[0m\u001b[0;34m\u001b[0m\u001b[0m\n\u001b[0m\u001b[1;32m     64\u001b[0m         \u001b[0;32mexcept\u001b[0m \u001b[0mpy4j\u001b[0m\u001b[0;34m.\u001b[0m\u001b[0mprotocol\u001b[0m\u001b[0;34m.\u001b[0m\u001b[0mPy4JJavaError\u001b[0m \u001b[0;32mas\u001b[0m \u001b[0me\u001b[0m\u001b[0;34m:\u001b[0m\u001b[0;34m\u001b[0m\u001b[0;34m\u001b[0m\u001b[0m\n",
      "\u001b[0;32m~/anaconda3/lib/python3.7/site-packages/py4j/protocol.py\u001b[0m in \u001b[0;36mget_return_value\u001b[0;34m(answer, gateway_client, target_id, name)\u001b[0m\n\u001b[1;32m    327\u001b[0m                     \u001b[0;34m\"An error occurred while calling {0}{1}{2}.\\n\"\u001b[0m\u001b[0;34m.\u001b[0m\u001b[0;34m\u001b[0m\u001b[0;34m\u001b[0m\u001b[0m\n\u001b[0;32m--> 328\u001b[0;31m                     format(target_id, \".\", name), value)\n\u001b[0m\u001b[1;32m    329\u001b[0m             \u001b[0;32melse\u001b[0m\u001b[0;34m:\u001b[0m\u001b[0;34m\u001b[0m\u001b[0;34m\u001b[0m\u001b[0m\n",
      "\u001b[0;31mPy4JJavaError\u001b[0m: An error occurred while calling o13824.fit.\n: java.lang.IllegalArgumentException: requirement failed: Column neighbourhood_group_cleansed must be of type numeric but was actually of type string.\n\tat scala.Predef$.require(Predef.scala:224)\n\tat org.apache.spark.ml.util.SchemaUtils$.checkNumericType(SchemaUtils.scala:76)\n\tat org.apache.spark.ml.feature.OneHotEncoderBase$$anonfun$validateAndTransformSchema$2.apply(OneHotEncoderEstimator.scala:83)\n\tat org.apache.spark.ml.feature.OneHotEncoderBase$$anonfun$validateAndTransformSchema$2.apply(OneHotEncoderEstimator.scala:83)\n\tat scala.collection.IndexedSeqOptimized$class.foreach(IndexedSeqOptimized.scala:33)\n\tat scala.collection.mutable.ArrayOps$ofRef.foreach(ArrayOps.scala:186)\n\tat org.apache.spark.ml.feature.OneHotEncoderBase$class.validateAndTransformSchema(OneHotEncoderEstimator.scala:83)\n\tat org.apache.spark.ml.feature.OneHotEncoderEstimator.validateAndTransformSchema(OneHotEncoderEstimator.scala:120)\n\tat org.apache.spark.ml.feature.OneHotEncoderEstimator.transformSchema(OneHotEncoderEstimator.scala:145)\n\tat org.apache.spark.ml.feature.OneHotEncoderEstimator.fit(OneHotEncoderEstimator.scala:151)\n\tat sun.reflect.NativeMethodAccessorImpl.invoke0(Native Method)\n\tat sun.reflect.NativeMethodAccessorImpl.invoke(NativeMethodAccessorImpl.java:62)\n\tat sun.reflect.DelegatingMethodAccessorImpl.invoke(DelegatingMethodAccessorImpl.java:43)\n\tat java.lang.reflect.Method.invoke(Method.java:498)\n\tat py4j.reflection.MethodInvoker.invoke(MethodInvoker.java:244)\n\tat py4j.reflection.ReflectionEngine.invoke(ReflectionEngine.java:357)\n\tat py4j.Gateway.invoke(Gateway.java:282)\n\tat py4j.commands.AbstractCommand.invokeMethod(AbstractCommand.java:132)\n\tat py4j.commands.CallCommand.execute(CallCommand.java:79)\n\tat py4j.GatewayConnection.run(GatewayConnection.java:238)\n\tat java.lang.Thread.run(Thread.java:748)\n",
      "\nDuring handling of the above exception, another exception occurred:\n",
      "\u001b[0;31mIllegalArgumentException\u001b[0m                  Traceback (most recent call last)",
      "\u001b[0;32m<ipython-input-163-77a454009daf>\u001b[0m in \u001b[0;36m<module>\u001b[0;34m\u001b[0m\n\u001b[0;32m----> 1\u001b[0;31m \u001b[0mpip1\u001b[0m\u001b[0;34m.\u001b[0m\u001b[0mfit\u001b[0m\u001b[0;34m(\u001b[0m\u001b[0mpred_data\u001b[0m\u001b[0;34m)\u001b[0m\u001b[0;34m.\u001b[0m\u001b[0mtransform\u001b[0m\u001b[0;34m(\u001b[0m\u001b[0mpred_data\u001b[0m\u001b[0;34m)\u001b[0m\u001b[0;34m\u001b[0m\u001b[0;34m\u001b[0m\u001b[0m\n\u001b[0m",
      "\u001b[0;32m~/anaconda3/lib/python3.7/site-packages/pyspark/ml/base.py\u001b[0m in \u001b[0;36mfit\u001b[0;34m(self, dataset, params)\u001b[0m\n\u001b[1;32m    130\u001b[0m                 \u001b[0;32mreturn\u001b[0m \u001b[0mself\u001b[0m\u001b[0;34m.\u001b[0m\u001b[0mcopy\u001b[0m\u001b[0;34m(\u001b[0m\u001b[0mparams\u001b[0m\u001b[0;34m)\u001b[0m\u001b[0;34m.\u001b[0m\u001b[0m_fit\u001b[0m\u001b[0;34m(\u001b[0m\u001b[0mdataset\u001b[0m\u001b[0;34m)\u001b[0m\u001b[0;34m\u001b[0m\u001b[0;34m\u001b[0m\u001b[0m\n\u001b[1;32m    131\u001b[0m             \u001b[0;32melse\u001b[0m\u001b[0;34m:\u001b[0m\u001b[0;34m\u001b[0m\u001b[0;34m\u001b[0m\u001b[0m\n\u001b[0;32m--> 132\u001b[0;31m                 \u001b[0;32mreturn\u001b[0m \u001b[0mself\u001b[0m\u001b[0;34m.\u001b[0m\u001b[0m_fit\u001b[0m\u001b[0;34m(\u001b[0m\u001b[0mdataset\u001b[0m\u001b[0;34m)\u001b[0m\u001b[0;34m\u001b[0m\u001b[0;34m\u001b[0m\u001b[0m\n\u001b[0m\u001b[1;32m    133\u001b[0m         \u001b[0;32melse\u001b[0m\u001b[0;34m:\u001b[0m\u001b[0;34m\u001b[0m\u001b[0;34m\u001b[0m\u001b[0m\n\u001b[1;32m    134\u001b[0m             raise ValueError(\"Params must be either a param map or a list/tuple of param maps, \"\n",
      "\u001b[0;32m~/anaconda3/lib/python3.7/site-packages/pyspark/ml/pipeline.py\u001b[0m in \u001b[0;36m_fit\u001b[0;34m(self, dataset)\u001b[0m\n\u001b[1;32m    107\u001b[0m                     \u001b[0mdataset\u001b[0m \u001b[0;34m=\u001b[0m \u001b[0mstage\u001b[0m\u001b[0;34m.\u001b[0m\u001b[0mtransform\u001b[0m\u001b[0;34m(\u001b[0m\u001b[0mdataset\u001b[0m\u001b[0;34m)\u001b[0m\u001b[0;34m\u001b[0m\u001b[0;34m\u001b[0m\u001b[0m\n\u001b[1;32m    108\u001b[0m                 \u001b[0;32melse\u001b[0m\u001b[0;34m:\u001b[0m  \u001b[0;31m# must be an Estimator\u001b[0m\u001b[0;34m\u001b[0m\u001b[0;34m\u001b[0m\u001b[0m\n\u001b[0;32m--> 109\u001b[0;31m                     \u001b[0mmodel\u001b[0m \u001b[0;34m=\u001b[0m \u001b[0mstage\u001b[0m\u001b[0;34m.\u001b[0m\u001b[0mfit\u001b[0m\u001b[0;34m(\u001b[0m\u001b[0mdataset\u001b[0m\u001b[0;34m)\u001b[0m\u001b[0;34m\u001b[0m\u001b[0;34m\u001b[0m\u001b[0m\n\u001b[0m\u001b[1;32m    110\u001b[0m                     \u001b[0mtransformers\u001b[0m\u001b[0;34m.\u001b[0m\u001b[0mappend\u001b[0m\u001b[0;34m(\u001b[0m\u001b[0mmodel\u001b[0m\u001b[0;34m)\u001b[0m\u001b[0;34m\u001b[0m\u001b[0;34m\u001b[0m\u001b[0m\n\u001b[1;32m    111\u001b[0m                     \u001b[0;32mif\u001b[0m \u001b[0mi\u001b[0m \u001b[0;34m<\u001b[0m \u001b[0mindexOfLastEstimator\u001b[0m\u001b[0;34m:\u001b[0m\u001b[0;34m\u001b[0m\u001b[0;34m\u001b[0m\u001b[0m\n",
      "\u001b[0;32m~/anaconda3/lib/python3.7/site-packages/pyspark/ml/base.py\u001b[0m in \u001b[0;36mfit\u001b[0;34m(self, dataset, params)\u001b[0m\n\u001b[1;32m    130\u001b[0m                 \u001b[0;32mreturn\u001b[0m \u001b[0mself\u001b[0m\u001b[0;34m.\u001b[0m\u001b[0mcopy\u001b[0m\u001b[0;34m(\u001b[0m\u001b[0mparams\u001b[0m\u001b[0;34m)\u001b[0m\u001b[0;34m.\u001b[0m\u001b[0m_fit\u001b[0m\u001b[0;34m(\u001b[0m\u001b[0mdataset\u001b[0m\u001b[0;34m)\u001b[0m\u001b[0;34m\u001b[0m\u001b[0;34m\u001b[0m\u001b[0m\n\u001b[1;32m    131\u001b[0m             \u001b[0;32melse\u001b[0m\u001b[0;34m:\u001b[0m\u001b[0;34m\u001b[0m\u001b[0;34m\u001b[0m\u001b[0m\n\u001b[0;32m--> 132\u001b[0;31m                 \u001b[0;32mreturn\u001b[0m \u001b[0mself\u001b[0m\u001b[0;34m.\u001b[0m\u001b[0m_fit\u001b[0m\u001b[0;34m(\u001b[0m\u001b[0mdataset\u001b[0m\u001b[0;34m)\u001b[0m\u001b[0;34m\u001b[0m\u001b[0;34m\u001b[0m\u001b[0m\n\u001b[0m\u001b[1;32m    133\u001b[0m         \u001b[0;32melse\u001b[0m\u001b[0;34m:\u001b[0m\u001b[0;34m\u001b[0m\u001b[0;34m\u001b[0m\u001b[0m\n\u001b[1;32m    134\u001b[0m             raise ValueError(\"Params must be either a param map or a list/tuple of param maps, \"\n",
      "\u001b[0;32m~/anaconda3/lib/python3.7/site-packages/pyspark/ml/wrapper.py\u001b[0m in \u001b[0;36m_fit\u001b[0;34m(self, dataset)\u001b[0m\n\u001b[1;32m    293\u001b[0m \u001b[0;34m\u001b[0m\u001b[0m\n\u001b[1;32m    294\u001b[0m     \u001b[0;32mdef\u001b[0m \u001b[0m_fit\u001b[0m\u001b[0;34m(\u001b[0m\u001b[0mself\u001b[0m\u001b[0;34m,\u001b[0m \u001b[0mdataset\u001b[0m\u001b[0;34m)\u001b[0m\u001b[0;34m:\u001b[0m\u001b[0;34m\u001b[0m\u001b[0;34m\u001b[0m\u001b[0m\n\u001b[0;32m--> 295\u001b[0;31m         \u001b[0mjava_model\u001b[0m \u001b[0;34m=\u001b[0m \u001b[0mself\u001b[0m\u001b[0;34m.\u001b[0m\u001b[0m_fit_java\u001b[0m\u001b[0;34m(\u001b[0m\u001b[0mdataset\u001b[0m\u001b[0;34m)\u001b[0m\u001b[0;34m\u001b[0m\u001b[0;34m\u001b[0m\u001b[0m\n\u001b[0m\u001b[1;32m    296\u001b[0m         \u001b[0mmodel\u001b[0m \u001b[0;34m=\u001b[0m \u001b[0mself\u001b[0m\u001b[0;34m.\u001b[0m\u001b[0m_create_model\u001b[0m\u001b[0;34m(\u001b[0m\u001b[0mjava_model\u001b[0m\u001b[0;34m)\u001b[0m\u001b[0;34m\u001b[0m\u001b[0;34m\u001b[0m\u001b[0m\n\u001b[1;32m    297\u001b[0m         \u001b[0;32mreturn\u001b[0m \u001b[0mself\u001b[0m\u001b[0;34m.\u001b[0m\u001b[0m_copyValues\u001b[0m\u001b[0;34m(\u001b[0m\u001b[0mmodel\u001b[0m\u001b[0;34m)\u001b[0m\u001b[0;34m\u001b[0m\u001b[0;34m\u001b[0m\u001b[0m\n",
      "\u001b[0;32m~/anaconda3/lib/python3.7/site-packages/pyspark/ml/wrapper.py\u001b[0m in \u001b[0;36m_fit_java\u001b[0;34m(self, dataset)\u001b[0m\n\u001b[1;32m    290\u001b[0m         \"\"\"\n\u001b[1;32m    291\u001b[0m         \u001b[0mself\u001b[0m\u001b[0;34m.\u001b[0m\u001b[0m_transfer_params_to_java\u001b[0m\u001b[0;34m(\u001b[0m\u001b[0;34m)\u001b[0m\u001b[0;34m\u001b[0m\u001b[0;34m\u001b[0m\u001b[0m\n\u001b[0;32m--> 292\u001b[0;31m         \u001b[0;32mreturn\u001b[0m \u001b[0mself\u001b[0m\u001b[0;34m.\u001b[0m\u001b[0m_java_obj\u001b[0m\u001b[0;34m.\u001b[0m\u001b[0mfit\u001b[0m\u001b[0;34m(\u001b[0m\u001b[0mdataset\u001b[0m\u001b[0;34m.\u001b[0m\u001b[0m_jdf\u001b[0m\u001b[0;34m)\u001b[0m\u001b[0;34m\u001b[0m\u001b[0;34m\u001b[0m\u001b[0m\n\u001b[0m\u001b[1;32m    293\u001b[0m \u001b[0;34m\u001b[0m\u001b[0m\n\u001b[1;32m    294\u001b[0m     \u001b[0;32mdef\u001b[0m \u001b[0m_fit\u001b[0m\u001b[0;34m(\u001b[0m\u001b[0mself\u001b[0m\u001b[0;34m,\u001b[0m \u001b[0mdataset\u001b[0m\u001b[0;34m)\u001b[0m\u001b[0;34m:\u001b[0m\u001b[0;34m\u001b[0m\u001b[0;34m\u001b[0m\u001b[0m\n",
      "\u001b[0;32m~/anaconda3/lib/python3.7/site-packages/py4j/java_gateway.py\u001b[0m in \u001b[0;36m__call__\u001b[0;34m(self, *args)\u001b[0m\n\u001b[1;32m   1255\u001b[0m         \u001b[0manswer\u001b[0m \u001b[0;34m=\u001b[0m \u001b[0mself\u001b[0m\u001b[0;34m.\u001b[0m\u001b[0mgateway_client\u001b[0m\u001b[0;34m.\u001b[0m\u001b[0msend_command\u001b[0m\u001b[0;34m(\u001b[0m\u001b[0mcommand\u001b[0m\u001b[0;34m)\u001b[0m\u001b[0;34m\u001b[0m\u001b[0;34m\u001b[0m\u001b[0m\n\u001b[1;32m   1256\u001b[0m         return_value = get_return_value(\n\u001b[0;32m-> 1257\u001b[0;31m             answer, self.gateway_client, self.target_id, self.name)\n\u001b[0m\u001b[1;32m   1258\u001b[0m \u001b[0;34m\u001b[0m\u001b[0m\n\u001b[1;32m   1259\u001b[0m         \u001b[0;32mfor\u001b[0m \u001b[0mtemp_arg\u001b[0m \u001b[0;32min\u001b[0m \u001b[0mtemp_args\u001b[0m\u001b[0;34m:\u001b[0m\u001b[0;34m\u001b[0m\u001b[0;34m\u001b[0m\u001b[0m\n",
      "\u001b[0;32m~/anaconda3/lib/python3.7/site-packages/pyspark/sql/utils.py\u001b[0m in \u001b[0;36mdeco\u001b[0;34m(*a, **kw)\u001b[0m\n\u001b[1;32m     77\u001b[0m                 \u001b[0;32mraise\u001b[0m \u001b[0mQueryExecutionException\u001b[0m\u001b[0;34m(\u001b[0m\u001b[0ms\u001b[0m\u001b[0;34m.\u001b[0m\u001b[0msplit\u001b[0m\u001b[0;34m(\u001b[0m\u001b[0;34m': '\u001b[0m\u001b[0;34m,\u001b[0m \u001b[0;36m1\u001b[0m\u001b[0;34m)\u001b[0m\u001b[0;34m[\u001b[0m\u001b[0;36m1\u001b[0m\u001b[0;34m]\u001b[0m\u001b[0;34m,\u001b[0m \u001b[0mstackTrace\u001b[0m\u001b[0;34m)\u001b[0m\u001b[0;34m\u001b[0m\u001b[0;34m\u001b[0m\u001b[0m\n\u001b[1;32m     78\u001b[0m             \u001b[0;32mif\u001b[0m \u001b[0ms\u001b[0m\u001b[0;34m.\u001b[0m\u001b[0mstartswith\u001b[0m\u001b[0;34m(\u001b[0m\u001b[0;34m'java.lang.IllegalArgumentException: '\u001b[0m\u001b[0;34m)\u001b[0m\u001b[0;34m:\u001b[0m\u001b[0;34m\u001b[0m\u001b[0;34m\u001b[0m\u001b[0m\n\u001b[0;32m---> 79\u001b[0;31m                 \u001b[0;32mraise\u001b[0m \u001b[0mIllegalArgumentException\u001b[0m\u001b[0;34m(\u001b[0m\u001b[0ms\u001b[0m\u001b[0;34m.\u001b[0m\u001b[0msplit\u001b[0m\u001b[0;34m(\u001b[0m\u001b[0;34m': '\u001b[0m\u001b[0;34m,\u001b[0m \u001b[0;36m1\u001b[0m\u001b[0;34m)\u001b[0m\u001b[0;34m[\u001b[0m\u001b[0;36m1\u001b[0m\u001b[0;34m]\u001b[0m\u001b[0;34m,\u001b[0m \u001b[0mstackTrace\u001b[0m\u001b[0;34m)\u001b[0m\u001b[0;34m\u001b[0m\u001b[0;34m\u001b[0m\u001b[0m\n\u001b[0m\u001b[1;32m     80\u001b[0m             \u001b[0;32mraise\u001b[0m\u001b[0;34m\u001b[0m\u001b[0;34m\u001b[0m\u001b[0m\n\u001b[1;32m     81\u001b[0m     \u001b[0;32mreturn\u001b[0m \u001b[0mdeco\u001b[0m\u001b[0;34m\u001b[0m\u001b[0;34m\u001b[0m\u001b[0m\n",
      "\u001b[0;31mIllegalArgumentException\u001b[0m: 'requirement failed: Column neighbourhood_group_cleansed must be of type numeric but was actually of type string.'"
     ]
    }
   ],
   "source": [
    "pip1.fit(pred_data).transform(pred_data)"
   ]
  },
  {
   "cell_type": "code",
   "execution_count": null,
   "metadata": {},
   "outputs": [],
   "source": []
  },
  {
   "cell_type": "code",
   "execution_count": null,
   "metadata": {},
   "outputs": [],
   "source": []
  },
  {
   "cell_type": "code",
   "execution_count": null,
   "metadata": {},
   "outputs": [],
   "source": []
  },
  {
   "cell_type": "markdown",
   "metadata": {},
   "source": [
    "# Deep Learning"
   ]
  },
  {
   "cell_type": "code",
   "execution_count": 174,
   "metadata": {},
   "outputs": [
    {
     "name": "stderr",
     "output_type": "stream",
     "text": [
      "/Users/mark/anaconda3/lib/python3.7/site-packages/IPython/core/interactiveshell.py:3058: DtypeWarning: Columns (43,61,62) have mixed types.Specify dtype option on import or set low_memory=False.\n",
      "  interactivity=interactivity, compiler=compiler, result=result)\n"
     ]
    }
   ],
   "source": [
    "data = pd.read_csv('./listings.csv')"
   ]
  },
  {
   "cell_type": "code",
   "execution_count": 175,
   "metadata": {},
   "outputs": [],
   "source": [
    "#Mark\n",
    "pred_list = ['id','host_is_superhost','neighbourhood_group_cleansed', 'property_type', \n",
    "             'room_type','guests_included', 'bathrooms', \n",
    "             'bedrooms', 'beds', 'bed_type', 'amenities', 'price', 'cleaning_fee', \n",
    "             'instant_bookable', 'cancellation_policy']"
   ]
  },
  {
   "cell_type": "code",
   "execution_count": 176,
   "metadata": {},
   "outputs": [],
   "source": [
    "data = pd.DataFrame(data, columns=pred_list)"
   ]
  },
  {
   "cell_type": "code",
   "execution_count": 181,
   "metadata": {},
   "outputs": [],
   "source": [
    "data = data.dropna()"
   ]
  },
  {
   "cell_type": "code",
   "execution_count": 182,
   "metadata": {},
   "outputs": [
    {
     "data": {
      "text/html": [
       "<div>\n",
       "<style scoped>\n",
       "    .dataframe tbody tr th:only-of-type {\n",
       "        vertical-align: middle;\n",
       "    }\n",
       "\n",
       "    .dataframe tbody tr th {\n",
       "        vertical-align: top;\n",
       "    }\n",
       "\n",
       "    .dataframe thead th {\n",
       "        text-align: right;\n",
       "    }\n",
       "</style>\n",
       "<table border=\"1\" class=\"dataframe\">\n",
       "  <thead>\n",
       "    <tr style=\"text-align: right;\">\n",
       "      <th></th>\n",
       "      <th>id</th>\n",
       "      <th>host_is_superhost</th>\n",
       "      <th>neighbourhood_group_cleansed</th>\n",
       "      <th>property_type</th>\n",
       "      <th>room_type</th>\n",
       "      <th>guests_included</th>\n",
       "      <th>bathrooms</th>\n",
       "      <th>bedrooms</th>\n",
       "      <th>beds</th>\n",
       "      <th>bed_type</th>\n",
       "      <th>amenities</th>\n",
       "      <th>price</th>\n",
       "      <th>cleaning_fee</th>\n",
       "      <th>instant_bookable</th>\n",
       "      <th>cancellation_policy</th>\n",
       "    </tr>\n",
       "  </thead>\n",
       "  <tbody>\n",
       "    <tr>\n",
       "      <th>0</th>\n",
       "      <td>2318</td>\n",
       "      <td>t</td>\n",
       "      <td>Central Area</td>\n",
       "      <td>House</td>\n",
       "      <td>Entire home/apt</td>\n",
       "      <td>8</td>\n",
       "      <td>2.5</td>\n",
       "      <td>4.0</td>\n",
       "      <td>4.0</td>\n",
       "      <td>Real Bed</td>\n",
       "      <td>{Internet,Wifi,Kitchen,\"Free parking on premis...</td>\n",
       "      <td>$296.00</td>\n",
       "      <td>$250.00</td>\n",
       "      <td>t</td>\n",
       "      <td>strict_14_with_grace_period</td>\n",
       "    </tr>\n",
       "    <tr>\n",
       "      <th>1</th>\n",
       "      <td>5682</td>\n",
       "      <td>f</td>\n",
       "      <td>Delridge</td>\n",
       "      <td>Guest suite</td>\n",
       "      <td>Entire home/apt</td>\n",
       "      <td>1</td>\n",
       "      <td>1.0</td>\n",
       "      <td>0.0</td>\n",
       "      <td>1.0</td>\n",
       "      <td>Real Bed</td>\n",
       "      <td>{TV,Internet,Wifi,\"Free street parking\",Heatin...</td>\n",
       "      <td>$48.00</td>\n",
       "      <td>$45.00</td>\n",
       "      <td>f</td>\n",
       "      <td>strict_14_with_grace_period</td>\n",
       "    </tr>\n",
       "    <tr>\n",
       "      <th>2</th>\n",
       "      <td>6606</td>\n",
       "      <td>f</td>\n",
       "      <td>Other neighborhoods</td>\n",
       "      <td>Guesthouse</td>\n",
       "      <td>Entire home/apt</td>\n",
       "      <td>2</td>\n",
       "      <td>1.0</td>\n",
       "      <td>1.0</td>\n",
       "      <td>1.0</td>\n",
       "      <td>Real Bed</td>\n",
       "      <td>{TV,Internet,Wifi,\"Air conditioning\",Kitchen,\"...</td>\n",
       "      <td>$90.00</td>\n",
       "      <td>$40.00</td>\n",
       "      <td>f</td>\n",
       "      <td>strict_14_with_grace_period</td>\n",
       "    </tr>\n",
       "    <tr>\n",
       "      <th>3</th>\n",
       "      <td>9419</td>\n",
       "      <td>t</td>\n",
       "      <td>Other neighborhoods</td>\n",
       "      <td>Apartment</td>\n",
       "      <td>Private room</td>\n",
       "      <td>1</td>\n",
       "      <td>3.0</td>\n",
       "      <td>1.0</td>\n",
       "      <td>1.0</td>\n",
       "      <td>Real Bed</td>\n",
       "      <td>{Internet,Wifi,\"Air conditioning\",Kitchen,\"Fre...</td>\n",
       "      <td>$62.00</td>\n",
       "      <td>$10.00</td>\n",
       "      <td>f</td>\n",
       "      <td>moderate</td>\n",
       "    </tr>\n",
       "    <tr>\n",
       "      <th>4</th>\n",
       "      <td>9460</td>\n",
       "      <td>t</td>\n",
       "      <td>Downtown</td>\n",
       "      <td>Condominium</td>\n",
       "      <td>Private room</td>\n",
       "      <td>1</td>\n",
       "      <td>1.0</td>\n",
       "      <td>1.0</td>\n",
       "      <td>1.0</td>\n",
       "      <td>Real Bed</td>\n",
       "      <td>{TV,\"Cable TV\",Wifi,\"Air conditioning\",Kitchen...</td>\n",
       "      <td>$99.00</td>\n",
       "      <td>$45.00</td>\n",
       "      <td>t</td>\n",
       "      <td>moderate</td>\n",
       "    </tr>\n",
       "    <tr>\n",
       "      <th>...</th>\n",
       "      <td>...</td>\n",
       "      <td>...</td>\n",
       "      <td>...</td>\n",
       "      <td>...</td>\n",
       "      <td>...</td>\n",
       "      <td>...</td>\n",
       "      <td>...</td>\n",
       "      <td>...</td>\n",
       "      <td>...</td>\n",
       "      <td>...</td>\n",
       "      <td>...</td>\n",
       "      <td>...</td>\n",
       "      <td>...</td>\n",
       "      <td>...</td>\n",
       "      <td>...</td>\n",
       "    </tr>\n",
       "    <tr>\n",
       "      <th>9016</th>\n",
       "      <td>40174107</td>\n",
       "      <td>t</td>\n",
       "      <td>Downtown</td>\n",
       "      <td>Apartment</td>\n",
       "      <td>Entire home/apt</td>\n",
       "      <td>2</td>\n",
       "      <td>1.0</td>\n",
       "      <td>1.0</td>\n",
       "      <td>2.0</td>\n",
       "      <td>Real Bed</td>\n",
       "      <td>{TV,Wifi,Kitchen,Gym,Elevator,Heating,Washer,D...</td>\n",
       "      <td>$115.00</td>\n",
       "      <td>$60.00</td>\n",
       "      <td>t</td>\n",
       "      <td>flexible</td>\n",
       "    </tr>\n",
       "    <tr>\n",
       "      <th>9017</th>\n",
       "      <td>40175430</td>\n",
       "      <td>f</td>\n",
       "      <td>Northgate</td>\n",
       "      <td>House</td>\n",
       "      <td>Private room</td>\n",
       "      <td>1</td>\n",
       "      <td>1.0</td>\n",
       "      <td>1.0</td>\n",
       "      <td>1.0</td>\n",
       "      <td>Real Bed</td>\n",
       "      <td>{Wifi,Kitchen,\"Free parking on premises\",Break...</td>\n",
       "      <td>$40.00</td>\n",
       "      <td>$50.00</td>\n",
       "      <td>t</td>\n",
       "      <td>moderate</td>\n",
       "    </tr>\n",
       "    <tr>\n",
       "      <th>9018</th>\n",
       "      <td>40176359</td>\n",
       "      <td>f</td>\n",
       "      <td>Northgate</td>\n",
       "      <td>House</td>\n",
       "      <td>Private room</td>\n",
       "      <td>1</td>\n",
       "      <td>1.0</td>\n",
       "      <td>2.0</td>\n",
       "      <td>2.0</td>\n",
       "      <td>Real Bed</td>\n",
       "      <td>{Wifi,\"Free parking on premises\",Breakfast,\"Fr...</td>\n",
       "      <td>$80.00</td>\n",
       "      <td>$90.00</td>\n",
       "      <td>t</td>\n",
       "      <td>moderate</td>\n",
       "    </tr>\n",
       "    <tr>\n",
       "      <th>9020</th>\n",
       "      <td>40183377</td>\n",
       "      <td>f</td>\n",
       "      <td>Rainier Valley</td>\n",
       "      <td>House</td>\n",
       "      <td>Entire home/apt</td>\n",
       "      <td>1</td>\n",
       "      <td>1.0</td>\n",
       "      <td>1.0</td>\n",
       "      <td>2.0</td>\n",
       "      <td>Real Bed</td>\n",
       "      <td>{Wifi,Kitchen,Heating,\"Suitable for events\",Wa...</td>\n",
       "      <td>$89.00</td>\n",
       "      <td>$49.00</td>\n",
       "      <td>t</td>\n",
       "      <td>flexible</td>\n",
       "    </tr>\n",
       "    <tr>\n",
       "      <th>9021</th>\n",
       "      <td>40197071</td>\n",
       "      <td>f</td>\n",
       "      <td>Downtown</td>\n",
       "      <td>Apartment</td>\n",
       "      <td>Entire home/apt</td>\n",
       "      <td>1</td>\n",
       "      <td>1.0</td>\n",
       "      <td>0.0</td>\n",
       "      <td>1.0</td>\n",
       "      <td>Real Bed</td>\n",
       "      <td>{TV,Wifi,Kitchen,Elevator,Heating,Washer,Dryer...</td>\n",
       "      <td>$107.00</td>\n",
       "      <td>$65.00</td>\n",
       "      <td>t</td>\n",
       "      <td>strict_14_with_grace_period</td>\n",
       "    </tr>\n",
       "  </tbody>\n",
       "</table>\n",
       "<p>8245 rows × 15 columns</p>\n",
       "</div>"
      ],
      "text/plain": [
       "            id host_is_superhost neighbourhood_group_cleansed property_type  \\\n",
       "0         2318                 t                 Central Area         House   \n",
       "1         5682                 f                     Delridge   Guest suite   \n",
       "2         6606                 f          Other neighborhoods    Guesthouse   \n",
       "3         9419                 t          Other neighborhoods     Apartment   \n",
       "4         9460                 t                     Downtown   Condominium   \n",
       "...        ...               ...                          ...           ...   \n",
       "9016  40174107                 t                     Downtown     Apartment   \n",
       "9017  40175430                 f                    Northgate         House   \n",
       "9018  40176359                 f                    Northgate         House   \n",
       "9020  40183377                 f               Rainier Valley         House   \n",
       "9021  40197071                 f                     Downtown     Apartment   \n",
       "\n",
       "            room_type  guests_included  bathrooms  bedrooms  beds  bed_type  \\\n",
       "0     Entire home/apt                8        2.5       4.0   4.0  Real Bed   \n",
       "1     Entire home/apt                1        1.0       0.0   1.0  Real Bed   \n",
       "2     Entire home/apt                2        1.0       1.0   1.0  Real Bed   \n",
       "3        Private room                1        3.0       1.0   1.0  Real Bed   \n",
       "4        Private room                1        1.0       1.0   1.0  Real Bed   \n",
       "...               ...              ...        ...       ...   ...       ...   \n",
       "9016  Entire home/apt                2        1.0       1.0   2.0  Real Bed   \n",
       "9017     Private room                1        1.0       1.0   1.0  Real Bed   \n",
       "9018     Private room                1        1.0       2.0   2.0  Real Bed   \n",
       "9020  Entire home/apt                1        1.0       1.0   2.0  Real Bed   \n",
       "9021  Entire home/apt                1        1.0       0.0   1.0  Real Bed   \n",
       "\n",
       "                                              amenities    price cleaning_fee  \\\n",
       "0     {Internet,Wifi,Kitchen,\"Free parking on premis...  $296.00      $250.00   \n",
       "1     {TV,Internet,Wifi,\"Free street parking\",Heatin...   $48.00       $45.00   \n",
       "2     {TV,Internet,Wifi,\"Air conditioning\",Kitchen,\"...   $90.00       $40.00   \n",
       "3     {Internet,Wifi,\"Air conditioning\",Kitchen,\"Fre...   $62.00       $10.00   \n",
       "4     {TV,\"Cable TV\",Wifi,\"Air conditioning\",Kitchen...   $99.00       $45.00   \n",
       "...                                                 ...      ...          ...   \n",
       "9016  {TV,Wifi,Kitchen,Gym,Elevator,Heating,Washer,D...  $115.00       $60.00   \n",
       "9017  {Wifi,Kitchen,\"Free parking on premises\",Break...   $40.00       $50.00   \n",
       "9018  {Wifi,\"Free parking on premises\",Breakfast,\"Fr...   $80.00       $90.00   \n",
       "9020  {Wifi,Kitchen,Heating,\"Suitable for events\",Wa...   $89.00       $49.00   \n",
       "9021  {TV,Wifi,Kitchen,Elevator,Heating,Washer,Dryer...  $107.00       $65.00   \n",
       "\n",
       "     instant_bookable          cancellation_policy  \n",
       "0                   t  strict_14_with_grace_period  \n",
       "1                   f  strict_14_with_grace_period  \n",
       "2                   f  strict_14_with_grace_period  \n",
       "3                   f                     moderate  \n",
       "4                   t                     moderate  \n",
       "...               ...                          ...  \n",
       "9016                t                     flexible  \n",
       "9017                t                     moderate  \n",
       "9018                t                     moderate  \n",
       "9020                t                     flexible  \n",
       "9021                t  strict_14_with_grace_period  \n",
       "\n",
       "[8245 rows x 15 columns]"
      ]
     },
     "execution_count": 182,
     "metadata": {},
     "output_type": "execute_result"
    }
   ],
   "source": [
    "data"
   ]
  },
  {
   "cell_type": "code",
   "execution_count": 186,
   "metadata": {},
   "outputs": [],
   "source": [
    "onehot_list = ['host_is_superhost', 'neighbourhood_group_cleansed',\n",
    "       'property_type', 'room_type', 'bed_type','instant_bookable', 'cancellation_policy']\n",
    "num_list = ['guests_included','bathrooms','bedrooms','beds','cleaning_fee','price']"
   ]
  },
  {
   "cell_type": "code",
   "execution_count": 187,
   "metadata": {},
   "outputs": [],
   "source": [
    "data_onehot = pd.DataFrame(data, columns=onehot_list)\n",
    "data_num = pd.DataFrame(data, columns=num_list)"
   ]
  },
  {
   "cell_type": "code",
   "execution_count": 189,
   "metadata": {},
   "outputs": [],
   "source": [
    "data = pd.get_dummies(data_onehot).join(data_num)"
   ]
  },
  {
   "cell_type": "code",
   "execution_count": 192,
   "metadata": {},
   "outputs": [],
   "source": [
    "data['price'] = data['price'].replace('[\\$,]', '', regex=True).astype(float)"
   ]
  },
  {
   "cell_type": "code",
   "execution_count": 193,
   "metadata": {},
   "outputs": [],
   "source": [
    "data['cleaning_fee'] = data['cleaning_fee'].replace('[\\$,]', '', regex=True).astype(float)"
   ]
  },
  {
   "cell_type": "code",
   "execution_count": 202,
   "metadata": {},
   "outputs": [],
   "source": [
    "X = data.drop(['price'], axis=1)"
   ]
  },
  {
   "cell_type": "code",
   "execution_count": 204,
   "metadata": {},
   "outputs": [],
   "source": [
    "y = data.price"
   ]
  },
  {
   "cell_type": "code",
   "execution_count": 207,
   "metadata": {},
   "outputs": [
    {
     "name": "stdout",
     "output_type": "stream",
     "text": [
      "1.15.0\n"
     ]
    }
   ],
   "source": [
    "import tensorflow as tf\n",
    "\n",
    "from tensorflow import keras\n",
    "from tensorflow.keras import layers\n",
    "\n",
    "print(tf.__version__)"
   ]
  },
  {
   "cell_type": "code",
   "execution_count": 209,
   "metadata": {},
   "outputs": [],
   "source": [
    "from sklearn.model_selection import train_test_split\n",
    "X_train, X_test, y_train, y_test = train_test_split(X, y, test_size=0.3, random_state = 43)"
   ]
  },
  {
   "cell_type": "code",
   "execution_count": 215,
   "metadata": {},
   "outputs": [],
   "source": [
    "from sklearn.preprocessing import StandardScaler\n",
    "scaler = StandardScaler()\n",
    "scaler.fit(X_train)\n",
    "X_train = scaler.transform(X_train)\n",
    "X_test = scaler.transform(X_test)"
   ]
  },
  {
   "cell_type": "code",
   "execution_count": 231,
   "metadata": {},
   "outputs": [],
   "source": [
    "def build_model():\n",
    "    model = keras.Sequential([\n",
    "      layers.Dense(64, activation='relu', input_shape=[len(X_train[0])]),\n",
    "      layers.Dense(64, activation='relu'),\n",
    "      layers.Dense(1)\n",
    "    ])\n",
    "\n",
    "    optimizer = tf.keras.optimizers.RMSprop(0.001)\n",
    "\n",
    "    model.compile(loss='mse',\n",
    "                optimizer=optimizer,\n",
    "                metrics=['mae', 'mse'])\n",
    "    return model"
   ]
  },
  {
   "cell_type": "code",
   "execution_count": 232,
   "metadata": {},
   "outputs": [],
   "source": [
    "model = build_model()"
   ]
  },
  {
   "cell_type": "code",
   "execution_count": 233,
   "metadata": {},
   "outputs": [
    {
     "name": "stdout",
     "output_type": "stream",
     "text": [
      "Model: \"sequential_1\"\n",
      "_________________________________________________________________\n",
      "Layer (type)                 Output Shape              Param #   \n",
      "=================================================================\n",
      "dense_3 (Dense)              (None, 64)                4480      \n",
      "_________________________________________________________________\n",
      "dense_4 (Dense)              (None, 64)                4160      \n",
      "_________________________________________________________________\n",
      "dense_5 (Dense)              (None, 1)                 65        \n",
      "=================================================================\n",
      "Total params: 8,705\n",
      "Trainable params: 8,705\n",
      "Non-trainable params: 0\n",
      "_________________________________________________________________\n"
     ]
    }
   ],
   "source": [
    "model.summary()"
   ]
  },
  {
   "cell_type": "code",
   "execution_count": 234,
   "metadata": {},
   "outputs": [],
   "source": [
    "import tensorflow_docs as tfdocs\n",
    "import tensorflow_docs.plots\n",
    "import tensorflow_docs.modeling"
   ]
  },
  {
   "cell_type": "code",
   "execution_count": 235,
   "metadata": {},
   "outputs": [
    {
     "name": "stdout",
     "output_type": "stream",
     "text": [
      "\n",
      "Epoch: 0, loss:54909.0040,  mean_absolute_error:143.5272,  mean_squared_error:54909.0000,  val_loss:67739.9522,  val_mean_absolute_error:107.5047,  val_mean_squared_error:67739.9453,  \n",
      "....................................................................................................\n",
      "Epoch: 100, loss:13946.2951,  mean_absolute_error:52.3025,  mean_squared_error:13946.2959,  val_loss:48248.8600,  val_mean_absolute_error:73.2320,  val_mean_squared_error:48248.8594,  \n",
      "....................................................................................................\n",
      "Epoch: 200, loss:9843.9541,  mean_absolute_error:39.5680,  mean_squared_error:9843.9531,  val_loss:55152.6797,  val_mean_absolute_error:73.1066,  val_mean_squared_error:55152.6797,  \n",
      "....................................................................................................\n",
      "Epoch: 300, loss:8428.6499,  mean_absolute_error:35.4976,  mean_squared_error:8428.6494,  val_loss:59630.2478,  val_mean_absolute_error:73.9230,  val_mean_squared_error:59630.2461,  \n",
      "....................................................................................................\n",
      "Epoch: 400, loss:7451.6210,  mean_absolute_error:33.7038,  mean_squared_error:7451.6211,  val_loss:63933.5655,  val_mean_absolute_error:77.2337,  val_mean_squared_error:63933.5625,  \n",
      "....................................................................................................\n",
      "Epoch: 500, loss:6785.8392,  mean_absolute_error:31.8406,  mean_squared_error:6785.8384,  val_loss:62433.1323,  val_mean_absolute_error:78.8457,  val_mean_squared_error:62433.1367,  \n",
      "....................................................................................................\n",
      "Epoch: 600, loss:5882.6247,  mean_absolute_error:30.5762,  mean_squared_error:5882.6250,  val_loss:66285.6887,  val_mean_absolute_error:81.6919,  val_mean_squared_error:66285.6719,  \n",
      "....................................................................................................\n",
      "Epoch: 700, loss:5265.9569,  mean_absolute_error:29.4751,  mean_squared_error:5265.9570,  val_loss:68403.4995,  val_mean_absolute_error:82.6992,  val_mean_squared_error:68403.5078,  \n",
      "....................................................................................................\n",
      "Epoch: 800, loss:4558.5595,  mean_absolute_error:28.7758,  mean_squared_error:4558.5596,  val_loss:73964.9400,  val_mean_absolute_error:86.9235,  val_mean_squared_error:73964.9531,  \n",
      "....................................................................................................\n",
      "Epoch: 900, loss:4053.0077,  mean_absolute_error:28.4983,  mean_squared_error:4053.0083,  val_loss:83860.3308,  val_mean_absolute_error:90.2937,  val_mean_squared_error:83860.3359,  \n",
      "...................................................................................................."
     ]
    }
   ],
   "source": [
    "EPOCHS = 1000\n",
    "\n",
    "history = model.fit(\n",
    "  X_train, y_train,\n",
    "  epochs=EPOCHS, validation_split = 0.2, verbose=0,\n",
    "  callbacks=[tfdocs.modeling.EpochDots()])"
   ]
  },
  {
   "cell_type": "code",
   "execution_count": null,
   "metadata": {},
   "outputs": [],
   "source": []
  }
 ],
 "metadata": {
  "kernelspec": {
   "display_name": "Python 3",
   "language": "python",
   "name": "python3"
  },
  "language_info": {
   "codemirror_mode": {
    "name": "ipython",
    "version": 3
   },
   "file_extension": ".py",
   "mimetype": "text/x-python",
   "name": "python",
   "nbconvert_exporter": "python",
   "pygments_lexer": "ipython3",
   "version": "3.7.4"
  },
  "toc": {
   "base_numbering": 1,
   "nav_menu": {},
   "number_sections": true,
   "sideBar": true,
   "skip_h1_title": false,
   "title_cell": "Table of Contents",
   "title_sidebar": "Contents",
   "toc_cell": false,
   "toc_position": {
    "height": "calc(100% - 180px)",
    "left": "10px",
    "top": "150px",
    "width": "152px"
   },
   "toc_section_display": true,
   "toc_window_display": true
  }
 },
 "nbformat": 4,
 "nbformat_minor": 2
}
